{
 "cells": [
  {
   "cell_type": "code",
   "execution_count": 2,
   "metadata": {},
   "outputs": [],
   "source": [
    "import networkx as nx\n",
    "import pandas as pd\n",
    "import seaborn as sns\n",
    "%matplotlib inline"
   ]
  },
  {
   "cell_type": "code",
   "execution_count": 6,
   "metadata": {},
   "outputs": [
    {
     "data": {
      "text/plain": [
       "['A', 'B', 'C', ' D']"
      ]
     },
     "execution_count": 6,
     "metadata": {},
     "output_type": "execute_result"
    }
   ],
   "source": [
    "import ast\n",
    "x = u'[ \"A\",\"B\",\"C\" , \" D\"]'\n",
    "x = ast.literal_eval(x)\n",
    "x"
   ]
  },
  {
   "cell_type": "code",
   "execution_count": 31,
   "metadata": {},
   "outputs": [],
   "source": [
    "def process_states(x):\n",
    "    out = []\n",
    "    for i in x:\n",
    "        i = ast.literal_eval(i)\n",
    "        print (i[0])\n",
    "        my_dict = {}\n",
    "        for j in i:\n",
    "            if not j in my_dict:\n",
    "                my_dict[j] = 1\n",
    "            else:\n",
    "                my_dict[j] += 1\n",
    "        line = \"\"\n",
    "        for y in my_dict:\n",
    "            if y == \".\":\n",
    "                continue\n",
    "            line += states[y] + \":\"+str(my_dict[y])+\", \"\n",
    "        out.append(line)\n",
    "    return out"
   ]
  },
  {
   "cell_type": "code",
   "execution_count": 20,
   "metadata": {},
   "outputs": [],
   "source": [
    "states={}\n",
    "states['E1'] = 'Insulator'\n",
    "states['E2'] = 'Intergenic Region'\n",
    "states['E3'] = 'Heterochromatin'\n",
    "states['E4'] = 'Enhancer'\n",
    "states['E5'] = 'Repressed Region'\n",
    "states['E6'] = 'Bivalent Promoter'\n",
    "states['E7'] = 'Active Promoter'\n",
    "states['E8'] = 'Strong Enhancer'\n",
    "states['E9'] = 'Transcriptional Transition'\n",
    "states['E10'] = 'Transcriptional Elongation'\n",
    "states['E11'] = 'Poised Enhancer'\n"
   ]
  },
  {
   "cell_type": "code",
   "execution_count": 15,
   "metadata": {},
   "outputs": [
    {
     "data": {
      "text/plain": [
       "['E5', 'E1', 'E4', 'E1', 'E3']"
      ]
     },
     "execution_count": 15,
     "metadata": {},
     "output_type": "execute_result"
    }
   ],
   "source": []
  },
  {
   "cell_type": "code",
   "execution_count": 29,
   "metadata": {},
   "outputs": [
    {
     "name": "stdout",
     "output_type": "stream",
     "text": [
      "E5\n",
      "E1\n",
      "E4\n",
      "E1\n",
      "E3\n"
     ]
    }
   ],
   "source": [
    "df = pd.read_csv(\"HiC_Hist1/HiC_C2/HiC_HIST1_degree_df_annotation.csv\",index_col=0)\n",
    "df = df[['Number of contacts','Overlap-Genes','gene_expression','Overlap-LAD','Contained-States']]\n",
    "df.columns = ['Number of contacts','Genes','gene_expression','LAD','Functional Elements']\n",
    "df = df.head(n=5)\n",
    "df['Functional Elements'] = process_states(df['Functional Elements'].tolist())\n",
    "df = df.replace(states)\n",
    "df.head()\n",
    "df.to_csv(\"HiC_annotated_hubs.csv\")"
   ]
  },
  {
   "cell_type": "code",
   "execution_count": 32,
   "metadata": {},
   "outputs": [
    {
     "name": "stdout",
     "output_type": "stream",
     "text": [
      "E3\n",
      "E2\n",
      "E2\n",
      ".\n",
      "E5\n",
      "E5\n",
      "E5\n",
      "E6\n",
      "E6\n",
      "E7\n"
     ]
    }
   ],
   "source": [
    "df = pd.read_csv(\"SLICE_Hist1/SLICE_C2/SLICE_HIST1_degree_df_annotation.csv\",index_col=0)\n",
    "df = df[['Number of contacts','Overlap-Genes','gene_expression','Overlap-LAD','Contained-States']]\n",
    "df.columns = ['Number of contacts','Genes','gene_expression','LAD','Functional Elements']\n",
    "df = df.head(n=5)\n",
    "df['Functional Elements'] = process_states(df['Functional Elements'].tolist())\n",
    "df = df.replace(states)\n",
    "df.head()\n",
    "df.to_csv(\"SLICE_annotated_hubs.csv\")\n",
    "\n",
    "df = pd.read_csv(\"SPRITE_Hist1/SPRITE_C2/SPRITE_HIST1_degree_df_annotation.csv\",index_col=0)\n",
    "df = df[['Number of contacts','Overlap-Genes','gene_expression','Overlap-LAD','Contained-States']]\n",
    "df.columns = ['Number of contacts','Genes','gene_expression','LAD','Functional Elements']\n",
    "df = df.head(n=5)\n",
    "df['Functional Elements'] = process_states(df['Functional Elements'].tolist())\n",
    "df = df.replace(states)\n",
    "df.head()\n",
    "df.to_csv(\"SPRITE_annotated_hubs.csv\")"
   ]
  },
  {
   "cell_type": "code",
   "execution_count": 4,
   "metadata": {},
   "outputs": [
    {
     "data": {
      "text/html": [
       "<div>\n",
       "<style scoped>\n",
       "    .dataframe tbody tr th:only-of-type {\n",
       "        vertical-align: middle;\n",
       "    }\n",
       "\n",
       "    .dataframe tbody tr th {\n",
       "        vertical-align: top;\n",
       "    }\n",
       "\n",
       "    .dataframe thead th {\n",
       "        text-align: right;\n",
       "    }\n",
       "</style>\n",
       "<table border=\"1\" class=\"dataframe\">\n",
       "  <thead>\n",
       "    <tr style=\"text-align: right;\">\n",
       "      <th></th>\n",
       "      <th>Number of contacts</th>\n",
       "      <th>Overlap-Genes</th>\n",
       "      <th>gene_expression</th>\n",
       "      <th>Overlap-LAD</th>\n",
       "      <th>Contained-States</th>\n",
       "    </tr>\n",
       "    <tr>\n",
       "      <th>Genomic coordinates</th>\n",
       "      <th></th>\n",
       "      <th></th>\n",
       "      <th></th>\n",
       "      <th></th>\n",
       "      <th></th>\n",
       "    </tr>\n",
       "  </thead>\n",
       "  <tbody>\n",
       "    <tr>\n",
       "      <th>chr13:23480814-23520814</th>\n",
       "      <td>37</td>\n",
       "      <td>C230035I16Rik,Abt1</td>\n",
       "      <td>{'Abt1': 12.84, 'C230035I16Rik': 1.87}</td>\n",
       "      <td>False</td>\n",
       "      <td>['E5', 'E6', 'E5', 'E7', 'E8', 'E7', 'E4', 'E2...</td>\n",
       "    </tr>\n",
       "    <tr>\n",
       "      <th>chr13:22135581-22175581</th>\n",
       "      <td>31</td>\n",
       "      <td>.</td>\n",
       "      <td>.</td>\n",
       "      <td>True</td>\n",
       "      <td>['E1', 'E2', 'E4', 'E8', 'E7', 'E5']</td>\n",
       "    </tr>\n",
       "    <tr>\n",
       "      <th>chr13:23870490-23910490</th>\n",
       "      <td>30</td>\n",
       "      <td>Trim38,Slc17a2</td>\n",
       "      <td>{'Trim38': 0.21, 'Slc17a2': 0.0}</td>\n",
       "      <td>False</td>\n",
       "      <td>['E4', 'E8', 'E5', 'E2', 'E1', 'E2']</td>\n",
       "    </tr>\n",
       "    <tr>\n",
       "      <th>chr13:23902235-23942235</th>\n",
       "      <td>25</td>\n",
       "      <td>Slc17a2,Slc17a3,Slc17a3</td>\n",
       "      <td>{'Slc17a2': 0.0, 'Slc17a3': 0.0}</td>\n",
       "      <td>False</td>\n",
       "      <td>['E1']</td>\n",
       "    </tr>\n",
       "    <tr>\n",
       "      <th>chr13:23353920-23393920</th>\n",
       "      <td>23</td>\n",
       "      <td>4933404K08Rik</td>\n",
       "      <td>{'4933404K08Rik': 0.0}</td>\n",
       "      <td>False</td>\n",
       "      <td>['E3', 'E2', 'E7', 'E5', 'E2', 'E5', 'E6', 'E7...</td>\n",
       "    </tr>\n",
       "  </tbody>\n",
       "</table>\n",
       "</div>"
      ],
      "text/plain": [
       "                         Number of contacts            Overlap-Genes  \\\n",
       "Genomic coordinates                                                    \n",
       "chr13:23480814-23520814                  37       C230035I16Rik,Abt1   \n",
       "chr13:22135581-22175581                  31                        .   \n",
       "chr13:23870490-23910490                  30           Trim38,Slc17a2   \n",
       "chr13:23902235-23942235                  25  Slc17a2,Slc17a3,Slc17a3   \n",
       "chr13:23353920-23393920                  23            4933404K08Rik   \n",
       "\n",
       "                                                gene_expression  Overlap-LAD  \\\n",
       "Genomic coordinates                                                            \n",
       "chr13:23480814-23520814  {'Abt1': 12.84, 'C230035I16Rik': 1.87}        False   \n",
       "chr13:22135581-22175581                                       .         True   \n",
       "chr13:23870490-23910490        {'Trim38': 0.21, 'Slc17a2': 0.0}        False   \n",
       "chr13:23902235-23942235        {'Slc17a2': 0.0, 'Slc17a3': 0.0}        False   \n",
       "chr13:23353920-23393920                  {'4933404K08Rik': 0.0}        False   \n",
       "\n",
       "                                                          Contained-States  \n",
       "Genomic coordinates                                                         \n",
       "chr13:23480814-23520814  ['E5', 'E6', 'E5', 'E7', 'E8', 'E7', 'E4', 'E2...  \n",
       "chr13:22135581-22175581               ['E1', 'E2', 'E4', 'E8', 'E7', 'E5']  \n",
       "chr13:23870490-23910490               ['E4', 'E8', 'E5', 'E2', 'E1', 'E2']  \n",
       "chr13:23902235-23942235                                             ['E1']  \n",
       "chr13:23353920-23393920  ['E3', 'E2', 'E7', 'E5', 'E2', 'E5', 'E6', 'E7...  "
      ]
     },
     "execution_count": 4,
     "metadata": {},
     "output_type": "execute_result"
    }
   ],
   "source": []
  }
 ],
 "metadata": {
  "kernelspec": {
   "display_name": "Python 3",
   "language": "python",
   "name": "python3"
  },
  "language_info": {
   "codemirror_mode": {
    "name": "ipython",
    "version": 3
   },
   "file_extension": ".py",
   "mimetype": "text/x-python",
   "name": "python",
   "nbconvert_exporter": "python",
   "pygments_lexer": "ipython3",
   "version": "3.6.4"
  }
 },
 "nbformat": 4,
 "nbformat_minor": 2
}
