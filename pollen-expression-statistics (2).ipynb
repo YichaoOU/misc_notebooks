{
 "cells": [
  {
   "cell_type": "code",
   "execution_count": 1,
   "metadata": {
    "collapsed": true
   },
   "outputs": [],
   "source": [
    "import pandas as pd\n",
    "data = pd.read_csv(\"Table S1. 33602 gene expression profiles.tsv\",sep=\"\\t\",index_col=0)"
   ]
  },
  {
   "cell_type": "code",
   "execution_count": 2,
   "metadata": {},
   "outputs": [
    {
     "data": {
      "text/html": [
       "<div>\n",
       "<style>\n",
       "    .dataframe thead tr:only-child th {\n",
       "        text-align: right;\n",
       "    }\n",
       "\n",
       "    .dataframe thead th {\n",
       "        text-align: left;\n",
       "    }\n",
       "\n",
       "    .dataframe tbody tr th {\n",
       "        vertical-align: top;\n",
       "    }\n",
       "</style>\n",
       "<table border=\"1\" class=\"dataframe\">\n",
       "  <thead>\n",
       "    <tr style=\"text-align: right;\">\n",
       "      <th></th>\n",
       "      <th>SRR949989-shoot apical meristem</th>\n",
       "      <th>SRR949988-shoot apical meristem</th>\n",
       "      <th>SRR949965-shoot apical meristem</th>\n",
       "      <th>SRR949956-shoot apical meristem</th>\n",
       "      <th>SRR942022-leaf</th>\n",
       "      <th>SRR934391-leaf</th>\n",
       "      <th>SRR924656-leaf</th>\n",
       "      <th>SRR847506-aerial</th>\n",
       "      <th>SRR847505-aerial</th>\n",
       "      <th>SRR847504-aerial</th>\n",
       "      <th>...</th>\n",
       "      <th>SRR1046909-root</th>\n",
       "      <th>SRR1019437-dark-grown seedling</th>\n",
       "      <th>SRR1019436-dark-grown seedling</th>\n",
       "      <th>SRR1019221-light-grown seedling</th>\n",
       "      <th>SRR1001910-light-grown seedling</th>\n",
       "      <th>SRR1001909-light-grown seedling</th>\n",
       "      <th>SRR070571-light-grown seedling</th>\n",
       "      <th>SRR070570-light-grown seedling</th>\n",
       "      <th>ERR274310-aerial</th>\n",
       "      <th>ERR274309-root</th>\n",
       "    </tr>\n",
       "  </thead>\n",
       "  <tbody>\n",
       "    <tr>\n",
       "      <th>AT1G01010</th>\n",
       "      <td>2.12</td>\n",
       "      <td>1.88</td>\n",
       "      <td>1.52</td>\n",
       "      <td>1.90</td>\n",
       "      <td>5.88</td>\n",
       "      <td>5.81</td>\n",
       "      <td>2.21</td>\n",
       "      <td>4.57</td>\n",
       "      <td>3.60</td>\n",
       "      <td>4.07</td>\n",
       "      <td>...</td>\n",
       "      <td>22.98</td>\n",
       "      <td>24.55</td>\n",
       "      <td>24.15</td>\n",
       "      <td>9.98</td>\n",
       "      <td>6.37</td>\n",
       "      <td>5.31</td>\n",
       "      <td>0.77</td>\n",
       "      <td>0.12</td>\n",
       "      <td>3.53</td>\n",
       "      <td>35.89</td>\n",
       "    </tr>\n",
       "    <tr>\n",
       "      <th>AT1G01020</th>\n",
       "      <td>16.22</td>\n",
       "      <td>10.99</td>\n",
       "      <td>11.71</td>\n",
       "      <td>16.48</td>\n",
       "      <td>10.01</td>\n",
       "      <td>10.28</td>\n",
       "      <td>6.48</td>\n",
       "      <td>10.95</td>\n",
       "      <td>9.38</td>\n",
       "      <td>8.79</td>\n",
       "      <td>...</td>\n",
       "      <td>10.95</td>\n",
       "      <td>27.33</td>\n",
       "      <td>31.18</td>\n",
       "      <td>1.59</td>\n",
       "      <td>9.66</td>\n",
       "      <td>11.45</td>\n",
       "      <td>2.81</td>\n",
       "      <td>3.68</td>\n",
       "      <td>25.92</td>\n",
       "      <td>27.00</td>\n",
       "    </tr>\n",
       "    <tr>\n",
       "      <th>AT1G01030</th>\n",
       "      <td>4.98</td>\n",
       "      <td>3.69</td>\n",
       "      <td>3.65</td>\n",
       "      <td>2.20</td>\n",
       "      <td>1.39</td>\n",
       "      <td>0.71</td>\n",
       "      <td>2.11</td>\n",
       "      <td>1.65</td>\n",
       "      <td>1.39</td>\n",
       "      <td>0.82</td>\n",
       "      <td>...</td>\n",
       "      <td>0.23</td>\n",
       "      <td>3.92</td>\n",
       "      <td>4.46</td>\n",
       "      <td>5.29</td>\n",
       "      <td>2.26</td>\n",
       "      <td>3.06</td>\n",
       "      <td>0.21</td>\n",
       "      <td>0.37</td>\n",
       "      <td>2.33</td>\n",
       "      <td>0.87</td>\n",
       "    </tr>\n",
       "    <tr>\n",
       "      <th>AT1G01040</th>\n",
       "      <td>6.37</td>\n",
       "      <td>9.20</td>\n",
       "      <td>8.03</td>\n",
       "      <td>7.01</td>\n",
       "      <td>9.18</td>\n",
       "      <td>7.30</td>\n",
       "      <td>6.85</td>\n",
       "      <td>10.33</td>\n",
       "      <td>10.18</td>\n",
       "      <td>8.10</td>\n",
       "      <td>...</td>\n",
       "      <td>6.19</td>\n",
       "      <td>18.70</td>\n",
       "      <td>20.44</td>\n",
       "      <td>5.65</td>\n",
       "      <td>6.58</td>\n",
       "      <td>7.32</td>\n",
       "      <td>0.38</td>\n",
       "      <td>0.33</td>\n",
       "      <td>14.95</td>\n",
       "      <td>13.99</td>\n",
       "    </tr>\n",
       "    <tr>\n",
       "      <th>AT1G01046</th>\n",
       "      <td>0.00</td>\n",
       "      <td>0.00</td>\n",
       "      <td>0.00</td>\n",
       "      <td>0.00</td>\n",
       "      <td>0.00</td>\n",
       "      <td>0.00</td>\n",
       "      <td>0.00</td>\n",
       "      <td>0.00</td>\n",
       "      <td>0.00</td>\n",
       "      <td>0.00</td>\n",
       "      <td>...</td>\n",
       "      <td>0.00</td>\n",
       "      <td>0.00</td>\n",
       "      <td>0.00</td>\n",
       "      <td>0.00</td>\n",
       "      <td>0.00</td>\n",
       "      <td>0.00</td>\n",
       "      <td>0.00</td>\n",
       "      <td>0.00</td>\n",
       "      <td>0.00</td>\n",
       "      <td>0.00</td>\n",
       "    </tr>\n",
       "  </tbody>\n",
       "</table>\n",
       "<p>5 rows × 113 columns</p>\n",
       "</div>"
      ],
      "text/plain": [
       "           SRR949989-shoot apical meristem  SRR949988-shoot apical meristem  \\\n",
       "AT1G01010                             2.12                             1.88   \n",
       "AT1G01020                            16.22                            10.99   \n",
       "AT1G01030                             4.98                             3.69   \n",
       "AT1G01040                             6.37                             9.20   \n",
       "AT1G01046                             0.00                             0.00   \n",
       "\n",
       "           SRR949965-shoot apical meristem  SRR949956-shoot apical meristem  \\\n",
       "AT1G01010                             1.52                             1.90   \n",
       "AT1G01020                            11.71                            16.48   \n",
       "AT1G01030                             3.65                             2.20   \n",
       "AT1G01040                             8.03                             7.01   \n",
       "AT1G01046                             0.00                             0.00   \n",
       "\n",
       "           SRR942022-leaf  SRR934391-leaf  SRR924656-leaf  SRR847506-aerial  \\\n",
       "AT1G01010            5.88            5.81            2.21              4.57   \n",
       "AT1G01020           10.01           10.28            6.48             10.95   \n",
       "AT1G01030            1.39            0.71            2.11              1.65   \n",
       "AT1G01040            9.18            7.30            6.85             10.33   \n",
       "AT1G01046            0.00            0.00            0.00              0.00   \n",
       "\n",
       "           SRR847505-aerial  SRR847504-aerial       ...        \\\n",
       "AT1G01010              3.60              4.07       ...         \n",
       "AT1G01020              9.38              8.79       ...         \n",
       "AT1G01030              1.39              0.82       ...         \n",
       "AT1G01040             10.18              8.10       ...         \n",
       "AT1G01046              0.00              0.00       ...         \n",
       "\n",
       "           SRR1046909-root  SRR1019437-dark-grown seedling  \\\n",
       "AT1G01010            22.98                           24.55   \n",
       "AT1G01020            10.95                           27.33   \n",
       "AT1G01030             0.23                            3.92   \n",
       "AT1G01040             6.19                           18.70   \n",
       "AT1G01046             0.00                            0.00   \n",
       "\n",
       "           SRR1019436-dark-grown seedling  SRR1019221-light-grown seedling  \\\n",
       "AT1G01010                           24.15                             9.98   \n",
       "AT1G01020                           31.18                             1.59   \n",
       "AT1G01030                            4.46                             5.29   \n",
       "AT1G01040                           20.44                             5.65   \n",
       "AT1G01046                            0.00                             0.00   \n",
       "\n",
       "           SRR1001910-light-grown seedling  SRR1001909-light-grown seedling  \\\n",
       "AT1G01010                             6.37                             5.31   \n",
       "AT1G01020                             9.66                            11.45   \n",
       "AT1G01030                             2.26                             3.06   \n",
       "AT1G01040                             6.58                             7.32   \n",
       "AT1G01046                             0.00                             0.00   \n",
       "\n",
       "           SRR070571-light-grown seedling  SRR070570-light-grown seedling  \\\n",
       "AT1G01010                            0.77                            0.12   \n",
       "AT1G01020                            2.81                            3.68   \n",
       "AT1G01030                            0.21                            0.37   \n",
       "AT1G01040                            0.38                            0.33   \n",
       "AT1G01046                            0.00                            0.00   \n",
       "\n",
       "           ERR274310-aerial  ERR274309-root  \n",
       "AT1G01010              3.53           35.89  \n",
       "AT1G01020             25.92           27.00  \n",
       "AT1G01030              2.33            0.87  \n",
       "AT1G01040             14.95           13.99  \n",
       "AT1G01046              0.00            0.00  \n",
       "\n",
       "[5 rows x 113 columns]"
      ]
     },
     "execution_count": 2,
     "metadata": {},
     "output_type": "execute_result"
    }
   ],
   "source": [
    "data.head()"
   ]
  },
  {
   "cell_type": "code",
   "execution_count": 9,
   "metadata": {},
   "outputs": [
    {
     "data": {
      "text/plain": [
       "AT1G01010     0.10\n",
       "AT1G01020     0.99\n",
       "AT1G01030     0.03\n",
       "AT1G01040     0.83\n",
       "AT1G01046     0.00\n",
       "AT1G01050    16.59\n",
       "AT1G01060     1.13\n",
       "AT1G01070     0.00\n",
       "AT1G01073     0.00\n",
       "AT1G01080     0.00\n",
       "Name: SRR847502-pollen, dtype: float64"
      ]
     },
     "execution_count": 9,
     "metadata": {},
     "output_type": "execute_result"
    }
   ],
   "source": [
    "import numpy as np\n",
    "def trans(x):\n",
    "    if x <=1:\n",
    "        return 0\n",
    "    else:\n",
    "        return np.log2(x)/2\n",
    "data[\"SRR847502-pollen\"].head(10)"
   ]
  },
  {
   "cell_type": "code",
   "execution_count": 12,
   "metadata": {},
   "outputs": [],
   "source": [
    "pollen = data[\"SRR847502-pollen\"].apply(trans) + data[\"SRR847501-pollen\"].apply(trans)"
   ]
  },
  {
   "cell_type": "code",
   "execution_count": 15,
   "metadata": {},
   "outputs": [
    {
     "data": {
      "text/plain": [
       "count    33602.000000\n",
       "mean         0.670941\n",
       "std          1.762086\n",
       "min          0.000000\n",
       "25%          0.000000\n",
       "50%          0.000000\n",
       "75%          0.000000\n",
       "max         14.260541\n",
       "dtype: float64"
      ]
     },
     "execution_count": 15,
     "metadata": {},
     "output_type": "execute_result"
    }
   ],
   "source": [
    "pollen.describe()"
   ]
  },
  {
   "cell_type": "code",
   "execution_count": 19,
   "metadata": {},
   "outputs": [
    {
     "data": {
      "text/plain": [
       "<matplotlib.axes._subplots.AxesSubplot at 0xd0ce0f0>"
      ]
     },
     "execution_count": 19,
     "metadata": {},
     "output_type": "execute_result"
    },
    {
     "data": {
      "image/png": "[encoded data removed]",
      "text/plain": [
       "<matplotlib.figure.Figure at 0x8f0c748>"
      ]
     },
     "metadata": {},
     "output_type": "display_data"
    }
   ],
   "source": [
    "import matplotlib\n",
    "import numpy as np\n",
    "import matplotlib.pyplot as plt\n",
    "%matplotlib inline \n",
    "import seaborn as sns\n",
    "sns.distplot(pollen)"
   ]
  }
 ],
 "metadata": {
  "kernelspec": {
   "display_name": "Python 2",
   "language": "python",
   "name": "python2"
  },
  "language_info": {
   "codemirror_mode": {
    "name": "ipython",
    "version": 2
   },
   "file_extension": ".py",
   "mimetype": "text/x-python",
   "name": "python",
   "nbconvert_exporter": "python",
   "pygments_lexer": "ipython2",
   "version": "2.7.13"
  }
 },
 "nbformat": 4,
 "nbformat_minor": 2
}
