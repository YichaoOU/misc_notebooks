{
 "metadata": {
  "name": "",
  "signature": "sha256:6ebe84bee384d807e6e2160d10526e9ba025fe2e70294fc19d116dd975b85cff"
 },
 "nbformat": 3,
 "nbformat_minor": 0,
 "worksheets": [
  {
   "cells": [
    {
     "cell_type": "code",
     "collapsed": false,
     "input": [
      "import numpy as np\n",
      "import warnings\n",
      "import numerical_methods as num\n",
      "import parameters as para"
     ],
     "language": "python",
     "metadata": {},
     "outputs": [],
     "prompt_number": 1
    },
    {
     "cell_type": "markdown",
     "metadata": {},
     "source": [
      "##Parameterized mean curve as $e^a + expb \\times (j - c)^2 + \\lambda_j$"
     ]
    },
    {
     "cell_type": "markdown",
     "metadata": {},
     "source": [
      "where $expb = e^b$. $c$ is always set to 0 here."
     ]
    },
    {
     "cell_type": "code",
     "collapsed": false,
     "input": [
      "def dnase_asinh_normalLogLik_quadmean_expa_with_oscillation(\n",
      "        a, dnase_asinh, oscillation, expb = 0, c = 0, k = 1):\n",
      "    '''parameterized mean curve as exp(a) + expb*(j - c)^2 + lambda_j\n",
      "    dnase_asinh: a n x (2J+1) matrix\n",
      "    '''\n",
      "    \n",
      "    J = (dnase_asinh.shape[1] - 1)/2\n",
      "    j2 = ((np.arange(-J, J + 1) - c) ** 2).reshape(1, -1)\n",
      "    mu =  np.exp(a) + expb * j2 + oscillation\n",
      "    \n",
      "    if(np.sum(mu < 0) > 0):\n",
      "        print 'a mu is < 0'\n",
      "        \n",
      "    var = k * mu\n",
      "    sd = np.sqrt(var)\n",
      "\n",
      "    return num.matrix_normal_logpdf(dnase_asinh, mu, sd)"
     ],
     "language": "python",
     "metadata": {},
     "outputs": []
    },
    {
     "cell_type": "markdown",
     "metadata": {},
     "source": [
      "##Use the same likelihood function as above, but with $a$ integrated out"
     ]
    },
    {
     "cell_type": "code",
     "collapsed": false,
     "input": [
      "def dnase_asinh_normalLogLik_quadmean_expa_marginala_with_oscillation_integrand(\n",
      "        a, dnase_asinh, oscillation, expb = 0, c = 0, k = 1, mu_a = 0, sd_a = 1,\n",
      "        adjustment = 0, log = False, sign = 1):\n",
      "    '''dnase_asinh: a n x (2J+1) matrix\n",
      "    '''\n",
      "\n",
      "    log_integrand1 = dnase_asinh_normalLogLik_quadmean_expa_with_oscillation(a, dnase_asinh, oscillation, \n",
      "                                                                             expb = expb, c = c, k = k)\n",
      "    log_integrand2 = num.normal_logpdf(a, mu_a, sd_a)\n",
      "    log_integrand = log_integrand1 + log_integrand2 \n",
      "    \n",
      "    \n",
      "    if log:\n",
      "        return sign * (log_integrand - adjustment)\n",
      "    else:\n",
      "        return sign * np.exp(log_integrand - adjustment)\n",
      "\n",
      "\n",
      "    \n",
      "def dnase_asinh_normalLogLik_quadmean_expa_marginal_overa_with_oscillation(\n",
      "        dnase_asinh, oscillation,expb = 0, c = 0, k = 1, mu_a = 0, sd_a = 1):\n",
      "    '''normal likelihood function for a asinh transformed DNase data window. \n",
      "    the mean curve is modelled as exp(a) + expb*(j - c)^2 + lambda_j, \n",
      "    where lambda_j is the detrended oscillation series. The parameter a is integrated over a normal\n",
      "    prior with mean mu_a and standard deviation sd_a.\n",
      "    \n",
      "    dnase_asinh -- a nx(2J+1) matrix\n",
      "    '''\n",
      "    \n",
      "    # integration range for a\n",
      "    bounds = [mu_a - 5 * sd_a, mu_a + 5 * sd_a]\n",
      "    \n",
      "    if bounds[0] < np.log(np.max(-oscillation)):\n",
      "        # make sure the mean is bounded larger than 0 because the variance is proportional to the mean\n",
      "        bounds[0] = np.log(np.max(-oscillation)) \n",
      "        \n",
      "    int_res = num.calculate_marginal_likelihood_quadature_integration_scalar(\n",
      "                    dnase_asinh_normalLogLik_quadmean_expa_marginala_with_oscillation_integrand, bounds, \n",
      "                    dnase_asinh, oscillation, expb, c, k, mu_a, sd_a) \n",
      "    \n",
      "    if int_res[1][0] / int_res[1][1] < 1e4:\n",
      "        warnings.warn('integration relative error larger than 1e-4')\n",
      "    \n",
      "    return int_res[0]"
     ],
     "language": "python",
     "metadata": {},
     "outputs": []
    },
    {
     "cell_type": "heading",
     "level": 1,
     "metadata": {},
     "source": [
      "Use the same likelihood function as above, but with both $a$ and $b$ integrated out"
     ]
    },
    {
     "cell_type": "markdown",
     "metadata": {},
     "source": [
      "This requires the [cubature](https://github.com/saullocastro/cubature) package."
     ]
    },
    {
     "cell_type": "code",
     "collapsed": false,
     "input": [
      "# integrand for the cubature package\n",
      "def dnase_asinh_normalLogLik_quadmean_expab_marginalab_integrand(theta, dnase_asinh, adjustment = 0, c = 0, k = 1, \n",
      "                                                               mu_a = 0, sd_a = 1, mu_b = 0, sd_b = 1,\n",
      "                                                               log = False):\n",
      "    '''\n",
      "    dnase_asinh: n x (2J+1) matrix\n",
      "    theta = [a,b]\n",
      "    '''\n",
      "\n",
      "    aa = theta[0]; bb = theta[1]\n",
      "    log_integrand1 = dnase_asinh_normalLogLik_quadmean_expab(theta, dnase_asinh, c = c, k = k)\n",
      "    log_integrand2 = num.normal_logpdf(aa, mu_a, sd_a)\n",
      "    log_integrand3 = num.normal_logpdf(bb, mu_b, sd_b)\n",
      "    log_integrand = log_integrand1 + log_integrand2 + log_integrand3 - adjustment\n",
      "    \n",
      "    if log:\n",
      "        return np.array([log_integrand])\n",
      "    else:\n",
      "        return np.array([np.exp(log_integrand)])\n",
      "\n",
      "\n",
      "def dnase_asinh_normalLogLik_quadmean_expab_marginal_overab(dnase_asinh, c = 0, k = 1, \n",
      "                                                            mu_a = 0, sd_a = 1, mu_b = 0, sd_b = 1\n",
      "                                                            ):\n",
      "    \n",
      "    import cubature as cuba\n",
      "        \n",
      "    # integration rectangle for a and b\n",
      "    xmin = np.array([mu_a - 5*sd_a, mu_b - 5 * sd_b], float); xmax = np.array([mu_a + 5*sd_a, mu_b + 5*sd_b], float)\n",
      "    \n",
      "    int_res = cuba.cubature(2, dnase_asinh_normalLogLik_quadmean_expab_marginalab_integrand, xmin = xmin, xmax = xmax, \n",
      "                  adaptive = 'h', abserr = 0.0, relerr = 1e-5, args = tuple([dnase_asinh, 0, c, k, mu_a, sd_a, mu_b, sd_b]))\n",
      "    \n",
      "    \n",
      "    if int_res[0][0] / int_res[1][0] < 1e4:\n",
      "        warnings.warn('integration relative error larger than 1e-4')\n",
      "    \n",
      "    return np.log(int_res[0][0])"
     ],
     "language": "python",
     "metadata": {},
     "outputs": []
    },
    {
     "cell_type": "markdown",
     "metadata": {},
     "source": [
      "##Bayes factor"
     ]
    },
    {
     "cell_type": "markdown",
     "metadata": {},
     "source": [
      "A function to facilitate the calculation of Bayes factor, using the following:\n",
      "  * Default parameters from Crawford data in ***```parameters.py```***.\n",
      "  * The likelihood is ***```dnase_asinh_normalLogLik_quadmean_expa_marginal_overa_with_oscillation```*** (defined above). Mean curve is parameterized as $e^a + expb \\times j^2 + \\lambda_j$, where $a$ is integrated out, $expb$ is fixed at MLE and $\\lambda_j$ is the detrended oscillation pattern.\n",
      "  "
     ]
    },
    {
     "cell_type": "code",
     "collapsed": false,
     "input": [
      "def bayes_factor_marginal_over_a(dnase_asinh):\n",
      "    \n",
      "    likelihood = dnase_asinh_normalLogLik_quadmean_expa_marginal_overa_with_oscillation    \n",
      "        \n",
      "    nuc_likelihood = likelihood(\n",
      "        dnase_asinh, oscillation = para.crawford_detrend_nuc_oscillation, expb = para.crawford_nuc_expb, \n",
      "        c = 0, k = para.crawford_nuc_k, mu_a = para.crawford_nuc_a_mu, sd_a = para.crawford_nuc_a_sd\n",
      "        )\n",
      "    \n",
      "    background_likelihood = likelihood(\n",
      "        dnase_asinh, oscillation = para.crawford_detrend_background_oscillation, expb = para.crawford_background_expb, \n",
      "        c = 0, k = para.crawford_background_k, mu_a = para.crawford_background_a_mu, sd_a = para.crawford_background_a_sd\n",
      "        )\n",
      "    \n",
      "    return nuc_likelihood - background_likelihood"
     ],
     "language": "python",
     "metadata": {},
     "outputs": [],
     "prompt_number": 4
    }
   ],
   "metadata": {}
  }
 ]
}