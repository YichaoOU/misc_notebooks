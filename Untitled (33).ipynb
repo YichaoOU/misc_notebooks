{
 "cells": [
  {
   "cell_type": "code",
   "execution_count": 1,
   "metadata": {
    "collapsed": true
   },
   "outputs": [],
   "source": [
    "import pandas as pd\n",
    "df = pd.read_csv(\"subset_pairs.csv\")"
   ]
  },
  {
   "cell_type": "code",
   "execution_count": 1,
   "metadata": {
    "collapsed": true
   },
   "outputs": [],
   "source": [
    "def motifToKmer(m):\n",
    "\tmotif = {}\n",
    "\tfor i in range(len(m)):\n",
    "\t\tmotif[i] = m[i]\n",
    "\treturn [\"\".join(kmer) for kmer in it.product(*(motif[Nuc] for Nuc in motif.keys()))]\n"
   ]
  },
  {
   "cell_type": "code",
   "execution_count": 14,
   "metadata": {},
   "outputs": [
    {
     "data": {
      "text/html": [
       "<div>\n",
       "<style>\n",
       "    .dataframe thead tr:only-child th {\n",
       "        text-align: right;\n",
       "    }\n",
       "\n",
       "    .dataframe thead th {\n",
       "        text-align: left;\n",
       "    }\n",
       "\n",
       "    .dataframe tbody tr th {\n",
       "        vertical-align: top;\n",
       "    }\n",
       "</style>\n",
       "<table border=\"1\" class=\"dataframe\">\n",
       "  <thead>\n",
       "    <tr style=\"text-align: right;\">\n",
       "      <th></th>\n",
       "      <th>a</th>\n",
       "      <th>b</th>\n",
       "    </tr>\n",
       "  </thead>\n",
       "  <tbody>\n",
       "    <tr>\n",
       "      <th>0</th>\n",
       "      <td>1</td>\n",
       "      <td>2</td>\n",
       "    </tr>\n",
       "    <tr>\n",
       "      <th>1</th>\n",
       "      <td>1</td>\n",
       "      <td>2</td>\n",
       "    </tr>\n",
       "  </tbody>\n",
       "</table>\n",
       "</div>"
      ],
      "text/plain": [
       "   a  b\n",
       "0  1  2\n",
       "1  1  2"
      ]
     },
     "execution_count": 14,
     "metadata": {},
     "output_type": "execute_result"
    }
   ],
   "source": [
    "a=pd.DataFrame(columns=['a','b'])\n",
    "a.loc[0] = [1,2]\n",
    "b=pd.DataFrame(columns=['a','b'])\n",
    "b.loc[0] = [1,2]\n",
    "c=pd.concat([a,b])\n",
    "c.index = range(c.shape[0])\n",
    "c"
   ]
  },
  {
   "cell_type": "code",
   "execution_count": 9,
   "metadata": {},
   "outputs": [
    {
     "data": {
      "text/html": [
       "<div>\n",
       "<style>\n",
       "    .dataframe thead tr:only-child th {\n",
       "        text-align: right;\n",
       "    }\n",
       "\n",
       "    .dataframe thead th {\n",
       "        text-align: left;\n",
       "    }\n",
       "\n",
       "    .dataframe tbody tr th {\n",
       "        vertical-align: top;\n",
       "    }\n",
       "</style>\n",
       "<table border=\"1\" class=\"dataframe\">\n",
       "  <thead>\n",
       "    <tr style=\"text-align: right;\">\n",
       "      <th></th>\n",
       "      <th>a</th>\n",
       "      <th>b</th>\n",
       "    </tr>\n",
       "  </thead>\n",
       "  <tbody>\n",
       "  </tbody>\n",
       "</table>\n",
       "</div>"
      ],
      "text/plain": [
       "Empty DataFrame\n",
       "Columns: [a, b]\n",
       "Index: []"
      ]
     },
     "execution_count": 9,
     "metadata": {},
     "output_type": "execute_result"
    }
   ],
   "source": []
  },
  {
   "cell_type": "code",
   "execution_count": 12,
   "metadata": {},
   "outputs": [
    {
     "data": {
      "text/html": [
       "<div>\n",
       "<style>\n",
       "    .dataframe thead tr:only-child th {\n",
       "        text-align: right;\n",
       "    }\n",
       "\n",
       "    .dataframe thead th {\n",
       "        text-align: left;\n",
       "    }\n",
       "\n",
       "    .dataframe tbody tr th {\n",
       "        vertical-align: top;\n",
       "    }\n",
       "</style>\n",
       "<table border=\"1\" class=\"dataframe\">\n",
       "  <thead>\n",
       "    <tr style=\"text-align: right;\">\n",
       "      <th></th>\n",
       "      <th>a</th>\n",
       "      <th>b</th>\n",
       "    </tr>\n",
       "  </thead>\n",
       "  <tbody>\n",
       "  </tbody>\n",
       "</table>\n",
       "</div>"
      ],
      "text/plain": [
       "Empty DataFrame\n",
       "Columns: [a, b]\n",
       "Index: []"
      ]
     },
     "execution_count": 12,
     "metadata": {},
     "output_type": "execute_result"
    }
   ],
   "source": [
    "a"
   ]
  },
  {
   "cell_type": "code",
   "execution_count": null,
   "metadata": {
    "collapsed": true
   },
   "outputs": [],
   "source": []
  },
  {
   "cell_type": "code",
   "execution_count": 6,
   "metadata": {},
   "outputs": [
    {
     "data": {
      "text/plain": [
       "[]"
      ]
     },
     "execution_count": 6,
     "metadata": {},
     "output_type": "execute_result"
    }
   ],
   "source": [
    "import random\n",
    "from random import randint\n",
    "import numpy as np\n",
    "import itertools as it\n",
    "from sklearn.metrics import f1_score\n",
    "from sklearn.metrics import confusion_matrix\n",
    "import pandas as pd\n",
    "import multiprocessing\t\t\n",
    "motifToKmer(\"A|AG|AC|A|A|C|A|A|\".split(\"|\"))"
   ]
  },
  {
   "cell_type": "code",
   "execution_count": 7,
   "metadata": {},
   "outputs": [
    {
     "data": {
      "text/plain": [
       "[0,\n",
       " 6,\n",
       " 12,\n",
       " 18,\n",
       " 24,\n",
       " 30,\n",
       " 36,\n",
       " 42,\n",
       " 48,\n",
       " 54,\n",
       " 60,\n",
       " 66,\n",
       " 72,\n",
       " 78,\n",
       " 84,\n",
       " 90,\n",
       " 96,\n",
       " 102,\n",
       " 108,\n",
       " 114,\n",
       " 120,\n",
       " 126,\n",
       " 132,\n",
       " 138,\n",
       " 144,\n",
       " 150,\n",
       " 156,\n",
       " 162,\n",
       " 168,\n",
       " 174,\n",
       " 180,\n",
       " 186,\n",
       " 192,\n",
       " 198,\n",
       " 204,\n",
       " 210,\n",
       " 216,\n",
       " 222,\n",
       " 228,\n",
       " 234,\n",
       " 240,\n",
       " 246,\n",
       " 252,\n",
       " 258,\n",
       " 264,\n",
       " 270,\n",
       " 276,\n",
       " 282,\n",
       " 288,\n",
       " 294,\n",
       " 300,\n",
       " 306,\n",
       " 312,\n",
       " 318,\n",
       " 324,\n",
       " 330,\n",
       " 336,\n",
       " 342,\n",
       " 348,\n",
       " 354,\n",
       " 360,\n",
       " 366,\n",
       " 372,\n",
       " 378,\n",
       " 384,\n",
       " 390,\n",
       " 396,\n",
       " 402,\n",
       " 408,\n",
       " 414,\n",
       " 420,\n",
       " 426,\n",
       " 432,\n",
       " 438,\n",
       " 444,\n",
       " 450,\n",
       " 456,\n",
       " 462,\n",
       " 468,\n",
       " 474,\n",
       " 480,\n",
       " 486,\n",
       " 492,\n",
       " 498,\n",
       " 504,\n",
       " 510,\n",
       " 516,\n",
       " 522,\n",
       " 528,\n",
       " 534,\n",
       " 540,\n",
       " 546,\n",
       " 552,\n",
       " 558,\n",
       " 564,\n",
       " 570,\n",
       " 576,\n",
       " 582,\n",
       " 588,\n",
       " 594]"
      ]
     },
     "execution_count": 7,
     "metadata": {},
     "output_type": "execute_result"
    }
   ],
   "source": [
    "range(0,599,6)"
   ]
  },
  {
   "cell_type": "code",
   "execution_count": 2,
   "metadata": {},
   "outputs": [
    {
     "data": {
      "text/html": [
       "<div>\n",
       "<style>\n",
       "    .dataframe thead tr:only-child th {\n",
       "        text-align: right;\n",
       "    }\n",
       "\n",
       "    .dataframe thead th {\n",
       "        text-align: left;\n",
       "    }\n",
       "\n",
       "    .dataframe tbody tr th {\n",
       "        vertical-align: top;\n",
       "    }\n",
       "</style>\n",
       "<table border=\"1\" class=\"dataframe\">\n",
       "  <thead>\n",
       "    <tr style=\"text-align: right;\">\n",
       "      <th></th>\n",
       "      <th>enhancer_name</th>\n",
       "      <th>promoter_name</th>\n",
       "      <th>label</th>\n",
       "    </tr>\n",
       "  </thead>\n",
       "  <tbody>\n",
       "    <tr>\n",
       "      <th>0</th>\n",
       "      <td>GM12878|chr12:47054800-47055000</td>\n",
       "      <td>GM12878|chr12:46764725-46767522</td>\n",
       "      <td>1</td>\n",
       "    </tr>\n",
       "    <tr>\n",
       "      <th>1</th>\n",
       "      <td>GM12878|chr17:38756400-38756801</td>\n",
       "      <td>GM12878|chr17:38715408-38722200</td>\n",
       "      <td>1</td>\n",
       "    </tr>\n",
       "    <tr>\n",
       "      <th>2</th>\n",
       "      <td>GM12878|chr1:110070600-110070652</td>\n",
       "      <td>GM12878|chr1:110036611-110037524</td>\n",
       "      <td>1</td>\n",
       "    </tr>\n",
       "    <tr>\n",
       "      <th>3</th>\n",
       "      <td>GM12878|chr11:33850633-33851114</td>\n",
       "      <td>GM12878|chr11:34378274-34380867</td>\n",
       "      <td>1</td>\n",
       "    </tr>\n",
       "    <tr>\n",
       "      <th>4</th>\n",
       "      <td>GM12878|chr20:56055309-56055600</td>\n",
       "      <td>GM12878|chr20:57578645-57583400</td>\n",
       "      <td>1</td>\n",
       "    </tr>\n",
       "  </tbody>\n",
       "</table>\n",
       "</div>"
      ],
      "text/plain": [
       "                      enhancer_name                     promoter_name  label\n",
       "0   GM12878|chr12:47054800-47055000   GM12878|chr12:46764725-46767522      1\n",
       "1   GM12878|chr17:38756400-38756801   GM12878|chr17:38715408-38722200      1\n",
       "2  GM12878|chr1:110070600-110070652  GM12878|chr1:110036611-110037524      1\n",
       "3   GM12878|chr11:33850633-33851114   GM12878|chr11:34378274-34380867      1\n",
       "4   GM12878|chr20:56055309-56055600   GM12878|chr20:57578645-57583400      1"
      ]
     },
     "execution_count": 2,
     "metadata": {},
     "output_type": "execute_result"
    }
   ],
   "source": [
    "df.head()"
   ]
  },
  {
   "cell_type": "code",
   "execution_count": 5,
   "metadata": {},
   "outputs": [
    {
     "data": {
      "text/plain": [
       "(1600, 3)"
      ]
     },
     "execution_count": 5,
     "metadata": {},
     "output_type": "execute_result"
    }
   ],
   "source": [
    "df.shape"
   ]
  },
  {
   "cell_type": "code",
   "execution_count": 16,
   "metadata": {
    "collapsed": true
   },
   "outputs": [],
   "source": []
  },
  {
   "cell_type": "code",
   "execution_count": 3,
   "metadata": {
    "collapsed": true
   },
   "outputs": [],
   "source": [
    "pos = df[df.label == 1]\n",
    "my_pos_list = []\n",
    "for x in pos.index:\n",
    "    my_pos_list.append([pos.at[x,'enhancer_name'].replace(\"GM12878|\",\"\"),pos.at[x,'promoter_name'].replace(\"GM12878|\",\"\")])\n",
    "out = open(\"subset_pos_pairs.list\",\"wb\")\n",
    "for i in my_pos_list:\n",
    "    print >>out,\",\".join(i)"
   ]
  },
  {
   "cell_type": "code",
   "execution_count": 4,
   "metadata": {
    "collapsed": true
   },
   "outputs": [],
   "source": [
    "pos = df[df.label == 0]\n",
    "my_pos_list = []\n",
    "for x in pos.index:\n",
    "    my_pos_list.append([pos.at[x,'enhancer_name'].replace(\"GM12878|\",\"\"),pos.at[x,'promoter_name'].replace(\"GM12878|\",\"\")])\n",
    "out = open(\"subset_neg_pairs.list\",\"wb\")\n",
    "for i in my_pos_list:\n",
    "    print >>out,\",\".join(i)"
   ]
  },
  {
   "cell_type": "code",
   "execution_count": 8,
   "metadata": {
    "collapsed": true
   },
   "outputs": [],
   "source": [
    "a=pd.read_csv(\"result.csv\",index_col=0,nrows=5)"
   ]
  },
  {
   "cell_type": "code",
   "execution_count": 9,
   "metadata": {},
   "outputs": [
    {
     "data": {
      "text/plain": [
       "(5, 2765)"
      ]
     },
     "execution_count": 9,
     "metadata": {},
     "output_type": "execute_result"
    }
   ],
   "source": [
    "a.shape"
   ]
  }
 ],
 "metadata": {
  "kernelspec": {
   "display_name": "Python 2",
   "language": "python",
   "name": "python2"
  },
  "language_info": {
   "codemirror_mode": {
    "name": "ipython",
    "version": 2
   },
   "file_extension": ".py",
   "mimetype": "text/x-python",
   "name": "python",
   "nbconvert_exporter": "python",
   "pygments_lexer": "ipython2",
   "version": "2.7.6"
  }
 },
 "nbformat": 4,
 "nbformat_minor": 2
}
