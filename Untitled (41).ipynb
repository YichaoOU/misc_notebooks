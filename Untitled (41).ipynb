{
 "cells": [
  {
   "cell_type": "code",
   "execution_count": 7,
   "metadata": {},
   "outputs": [],
   "source": [
    "from random import sample\n",
    "from math import ceil\n",
    "\n",
    "my_group_number = {}\n",
    "my_group_number[2] = [7,7]\n",
    "my_group_number[3] = [5,5,4]\n",
    "my_group_number[4] = [4,3,3,4]\n",
    "my_group_number[5] = [3,3,3,3,2]\n",
    "my_group_number[6] = [2,2,3,3,2,2]\n",
    "my_group_number[7] = [2,2,2,2,2,2,2]\n",
    "my_group_number[8] = [2,2,2,2,2,2,1,1]\n",
    "my_group_number[9] = [2,2,2,2,2,1,1,1,1]\n",
    "my_group_number[10] = [2,2,2,2,1,1,1,1,1,1]\n",
    "my_group_number[11] = [2,2,2,1,1,1,1,1,1,1,1]\n",
    "my_group_number[12] = [2,2,1,1,1,1,1,1,1,1,1,1]\n",
    "my_group_number[13] = [2,1,1,1,1,1,1,1,1,1,1,1,1]\n",
    "\n",
    "def random_group_classes(Y,num_class):\n",
    "\tmy_classes = range(1,15)\n",
    "\tmy_new_classes = []\n",
    "\tsplition = my_group_number[num_class]\n",
    "\tfor i in splition:\n",
    "\t\ttemp = sample(my_classes,i)\n",
    "\t\tmy_new_classes.append(temp)\n",
    "\t\tfor j in temp:\n",
    "\t\t\tmy_classes.remove(j)\n",
    "\tprint \"new classes\"\n",
    "\tprint my_new_classes\n",
    "\tused = {}\n",
    "\tfor i in range(len(my_new_classes)):\n",
    "\t\tclass_number = i + 1\n",
    "\t\tlabels = my_new_classes[i]\n",
    "\t\tfor j in range(len(Y)):\n",
    "\t\t\tif Y[j] in labels and not used.has_key(j):\n",
    "\t\t\t\tY[j] = class_number\n",
    "                used[j] = \"\"\n",
    "\treturn Y\n",
    "\n"
   ]
  },
  {
   "cell_type": "code",
   "execution_count": 8,
   "metadata": {},
   "outputs": [
    {
     "name": "stdout",
     "output_type": "stream",
     "text": [
      "new classes\n",
      "[[11, 4, 13, 10, 2, 1, 8], [9, 6, 14, 7, 3, 12, 5]]\n",
      "[1, 1, 1, 1, 1, 1, 2, 2, 2, 1, 1, 1, 2, 2, 2, 2, 2, 2, 2, 2, 2, 1, 1, 1, 2, 2, 2, 1, 1, 1, 1, 1, 1, 2, 2, 2, 1, 1, 1, 2, 2, 14]\n"
     ]
    }
   ],
   "source": [
    "print random_group_classes([1,1,1,2,2,2,3,3,3,4,4,4,5,5,5,6,6,6,7,7,7,8,8,8,9,9,9,10,10,10,11,11,11,12,12,12,13,13,13,14,14,14],2)"
   ]
  }
 ],
 "metadata": {
  "kernelspec": {
   "display_name": "Python 2",
   "language": "python",
   "name": "python2"
  },
  "language_info": {
   "codemirror_mode": {
    "name": "ipython",
    "version": 2
   },
   "file_extension": ".py",
   "mimetype": "text/x-python",
   "name": "python",
   "nbconvert_exporter": "python",
   "pygments_lexer": "ipython2",
   "version": "2.7.13"
  }
 },
 "nbformat": 4,
 "nbformat_minor": 2
}
