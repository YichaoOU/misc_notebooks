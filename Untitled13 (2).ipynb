{
 "cells": [
  {
   "cell_type": "code",
   "execution_count": 4,
   "metadata": {
    "collapsed": true
   },
   "outputs": [],
   "source": [
    "from random import sample\n",
    "from math import ceil\n",
    "\n",
    "my_group_number = {}\n",
    "my_group_number[2] = [7,7]\n",
    "my_group_number[3] = [5,5,4]\n",
    "my_group_number[4] = [4,3,3,4]\n",
    "my_group_number[5] = [3,3,3,3,2]\n",
    "my_group_number[6] = [2,2,3,3,2,2]\n",
    "my_group_number[7] = [2,2,2,2,2,2,2]\n",
    "my_group_number[8] = [2,2,2,2,2,2,1,1]\n",
    "my_group_number[9] = [2,2,2,2,2,1,1,1,1]\n",
    "my_group_number[10] = [2,2,2,2,1,1,1,1,1,1]\n",
    "my_group_number[11] = [2,2,2,1,1,1,1,1,1,1,1]\n",
    "my_group_number[12] = [2,2,1,1,1,1,1,1,1,1,1,1]\n",
    "my_group_number[13] = [2,1,1,1,1,1,1,1,1,1,1,1,1]\n",
    "\n",
    "def random_group_classes(Y,num_class):\n",
    "\tmy_classes = range(1,15)\n",
    "\tmy_new_classes = []\n",
    "\tsplition = my_group_number[num_class]\n",
    "\tfor i in splition:\n",
    "\t\ttemp = sample(my_classes,i)\n",
    "\t\tmy_new_classes.append(temp)\n",
    "\t\tfor j in temp:\n",
    "\t\t\tmy_classes.remove(j)\n",
    "\tfor i in range(len(my_new_classes)):\n",
    "\t\tclass_number = i + 1\n",
    "\t\tlabels = my_new_classes[i]\n",
    "\t\tfor j in range(len(Y)):\n",
    "\t\t\tif Y[j] in labels:\n",
    "\t\t\t\tY[j] = class_number\n",
    "\treturn Y\n",
    "\n"
   ]
  },
  {
   "cell_type": "code",
   "execution_count": 2,
   "metadata": {
    "scrolled": true
   },
   "outputs": [
    {
     "ename": "TypeError",
     "evalue": "random_group_classes() takes exactly 2 arguments (1 given)",
     "output_type": "error",
     "traceback": [
      "\u001b[1;31m---------------------------------------------------------------------------\u001b[0m",
      "\u001b[1;31mTypeError\u001b[0m                                 Traceback (most recent call last)",
      "\u001b[1;32m<ipython-input-2-02ed5c6ea343>\u001b[0m in \u001b[0;36m<module>\u001b[1;34m()\u001b[0m\n\u001b[0;32m      1\u001b[0m \u001b[1;32mfor\u001b[0m \u001b[0mi\u001b[0m \u001b[1;32min\u001b[0m \u001b[0mrange\u001b[0m\u001b[1;33m(\u001b[0m\u001b[1;36m10\u001b[0m\u001b[1;33m)\u001b[0m\u001b[1;33m:\u001b[0m\u001b[1;33m\u001b[0m\u001b[0m\n\u001b[1;32m----> 2\u001b[1;33m     \u001b[1;32mprint\u001b[0m \u001b[0mrandom_group_classes\u001b[0m\u001b[1;33m(\u001b[0m\u001b[1;36m9\u001b[0m\u001b[1;33m)\u001b[0m\u001b[1;33m\u001b[0m\u001b[0m\n\u001b[0m",
      "\u001b[1;31mTypeError\u001b[0m: random_group_classes() takes exactly 2 arguments (1 given)"
     ]
    }
   ],
   "source": [
    "for i in range(10):\n",
    "    print random_group_classes(9)"
   ]
  },
  {
   "cell_type": "code",
   "execution_count": 10,
   "metadata": {},
   "outputs": [],
   "source": [
    "import matplotlib.pyplot as plt\n",
    "import numpy as np\n",
    "plt.figure()\n",
    "x = range(2,14)\n",
    "y = []\n",
    "y_err = []\n",
    "for i in x:\n",
    "    y.append(np.mean(my_result[i]))\n",
    "    y_err.append(np.std(my_result[i]))\n",
    "\n",
    "plt.errorbar(x, y, yerr=y_err, fmt='-o')\n",
    "plt.title(\"Accuracy w.r.t No. Classes\")\n",
    "plt.ylabel('Accuracy')\n",
    "plt.xlabel('No. Classes') \n",
    "plt.xticks(x)\n",
    "# plt.show()\n",
    "plt.savefig('Accuracy_no_classes.png', format='png', dpi=1000)"
   ]
  },
  {
   "cell_type": "code",
   "execution_count": 11,
   "metadata": {},
   "outputs": [],
   "source": [
    "import matplotlib.pyplot as plt\n",
    "import numpy as np\n",
    "plt.figure()\n",
    "x = [1,2,4,8]\n",
    "y = [0.776,0.785,0.804,0.785]\n",
    "\n",
    "\n",
    "plt.plot(x, y, '-o')\n",
    "plt.title(\"Accuracy w.r.t Window Length\")\n",
    "plt.ylabel('Accuracy')\n",
    "plt.xlabel('Window Length') \n",
    "plt.xticks(x)\n",
    "# plt.show()\n",
    "plt.savefig('Accuracy_optimal_length.png', format='png', dpi=1000)"
   ]
  },
  {
   "cell_type": "code",
   "execution_count": 5,
   "metadata": {},
   "outputs": [
    {
     "name": "stdout",
     "output_type": "stream",
     "text": [
      "{2: [0.841121495327, 0.92523364486, 0.859813084112, 0.92523364486, 0.869158878505, 0.85046728972, 0.878504672897, 0.943925233645, 0.859813084112, 0.943925233645], 3: [0.822429906542, 0.841121495327, 0.859813084112, 0.831775700935, 0.85046728972, 0.88785046729, 0.81308411215, 0.841121495327, 0.841121495327, 0.81308411215], 4: [0.81308411215, 0.85046728972, 0.85046728972, 0.869158878505, 0.859813084112, 0.85046728972, 0.831775700935, 0.859813084112, 0.794392523364, 0.81308411215], 5: [0.841121495327, 0.841121495327, 0.81308411215, 0.859813084112, 0.831775700935, 0.785046728972, 0.859813084112, 0.831775700935, 0.803738317757, 0.775700934579], 6: [0.822429906542, 0.85046728972, 0.822429906542, 0.803738317757, 0.775700934579, 0.803738317757, 0.859813084112, 0.81308411215, 0.81308411215, 0.81308411215], 7: [0.859813084112, 0.81308411215, 0.822429906542, 0.803738317757, 0.803738317757, 0.869158878505, 0.803738317757, 0.841121495327, 0.841121495327, 0.841121495327], 8: [0.841121495327, 0.803738317757, 0.822429906542, 0.831775700935, 0.794392523364, 0.841121495327, 0.841121495327, 0.822429906542, 0.831775700935, 0.81308411215], 9: [0.81308411215, 0.81308411215, 0.81308411215, 0.803738317757, 0.822429906542, 0.81308411215, 0.81308411215, 0.81308411215, 0.859813084112, 0.822429906542], 10: [0.831775700935, 0.81308411215, 0.81308411215, 0.822429906542, 0.859813084112, 0.81308411215, 0.81308411215, 0.859813084112, 0.785046728972, 0.831775700935], 11: [0.822429906542, 0.81308411215, 0.81308411215, 0.794392523364, 0.822429906542, 0.803738317757, 0.822429906542, 0.794392523364, 0.794392523364, 0.803738317757], 12: [0.822429906542, 0.831775700935, 0.794392523364, 0.775700934579, 0.81308411215, 0.81308411215, 0.822429906542, 0.81308411215, 0.794392523364, 0.81308411215], 13: [0.81308411215, 0.803738317757, 0.785046728972, 0.81308411215, 0.822429906542, 0.822429906542, 0.822429906542, 0.803738317757, 0.766355140187, 0.803738317757]}\n"
     ]
    }
   ],
   "source": [
    "in_file = \"log.txt\"\n",
    "my_result = {}\n",
    "current_key = \"\"\n",
    "for line in open(in_file).readlines():\n",
    "    line = line.strip().split()\n",
    "    if len(line) == 4:\n",
    "        current_key = int(line[-1])\n",
    "        my_result[current_key] = []\n",
    "        continue\n",
    "    if len(line) == 1:\n",
    "        my_result[current_key].append(float(line[0]))\n",
    "print my_result"
   ]
  }
 ],
 "metadata": {
  "kernelspec": {
   "display_name": "Python 2",
   "language": "python",
   "name": "python2"
  },
  "language_info": {
   "codemirror_mode": {
    "name": "ipython",
    "version": 2
   },
   "file_extension": ".py",
   "mimetype": "text/x-python",
   "name": "python",
   "nbconvert_exporter": "python",
   "pygments_lexer": "ipython2",
   "version": "2.7.13"
  }
 },
 "nbformat": 4,
 "nbformat_minor": 2
}
