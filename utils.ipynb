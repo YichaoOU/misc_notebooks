{
 "metadata": {
  "name": "",
  "signature": "sha256:445e5c69903b5fcdffdc537e2ced8bb60d9247b9e58b1b101246a4b972346245"
 },
 "nbformat": 3,
 "nbformat_minor": 0,
 "worksheets": [
  {
   "cells": [
    {
     "cell_type": "code",
     "collapsed": false,
     "input": [
      "import numpy as np\n",
      "import pandas as pd\n",
      "import statsmodels.api as sm\n",
      "from likelihood_functions import bayes_factor_marginal_over_a"
     ],
     "language": "python",
     "metadata": {},
     "outputs": [],
     "prompt_number": 7
    },
    {
     "cell_type": "code",
     "collapsed": false,
     "input": [
      "def moving_window_score(dnase, ignore_all_zero = False, score_function = bayes_factor_marginal_over_a, \n",
      "                        half_window_size = 73, **kwarg):\n",
      "    '''given a DataFrame of DNase data, calculate the moving window score using the score function\n",
      "    \n",
      "    dnase -- a pandas DataFrame like:\n",
      "\n",
      "            chr  coordinate  fwd_count  rev_count\n",
      "        0    1           9          3          0\n",
      "        1    1          10          4          0\n",
      "        2    1          11         22          0\n",
      "        3    1          12         10          0\n",
      "        4    1          13         27          0\n",
      "\n",
      "    score_function -- the function used to calculate the score. Should follow the following:\n",
      "    \n",
      "                    1. The function should be able to take a 1x(2J+1) array and return the score of it.\n",
      "                    2. The function should always treat the array as a window from the forward strand. Reverse strand data\n",
      "                    will be reversed before passed to the function. \n",
      "                    3. The first argument of the function should be the data array\n",
      "                        \n",
      "                    By default, the score_function is bayes_factor_marginal_over_a\n",
      "                    \n",
      "    half_window_size -- (2*half_window_size + 1) is the size of the window\n",
      "    \n",
      "    ignore_all_zero -- if the data in a window is all 0, do I ignore this window or not\n",
      "    '''\n",
      "    \n",
      "    fwd = 'fwd_count'\n",
      "    rev= 'rev_count'\n",
      "    \n",
      "    dnase_len = dnase.shape[0]\n",
      "    window_size = 2*half_window_size + 1\n",
      "    iterations = range(dnase_len - window_size + 1)\n",
      "    \n",
      "    score = np.zeros(len(iterations))\n",
      "    \n",
      "    for x in iterations:\n",
      "        try:\n",
      "            moving_data = np.vstack([dnase[fwd][x:(x + window_size)].values.reshape(1,-1), \n",
      "                                    dnase[rev][x:(x + window_size)].values[::-1].reshape(1,-1)])\n",
      "            if ignore_all_zero and np.sum(moving_data == 0) == moving_data.size:\n",
      "                score[x] = np.nan\n",
      "            else:\n",
      "                score[x] = score_function( moving_data , **kwarg)\n",
      "                \n",
      "        except:\n",
      "            score[x] = np.nan\n",
      "    \n",
      "    \n",
      "    return pd.DataFrame({\n",
      "                'chr':dnase.chromo.iloc[0],\n",
      "                'coordinate': dnase.coordinate.iloc[(half_window_size):(dnase.shape[0] - half_window_size)],\n",
      "                'score':score\n",
      "            })"
     ],
     "language": "python",
     "metadata": {},
     "outputs": [],
     "prompt_number": 4
    },
    {
     "cell_type": "code",
     "collapsed": false,
     "input": [
      "def lowess_smooth(series, fracs = None, verbose = False):\n",
      "    '''smooth a series of values using LOWESS\n",
      "    \n",
      "    series -- a 1 dimensional array\n",
      "    fracs -- the fraction of series used to calculate the smoothing curve. By default, a 20bp window is used for smoothing\n",
      "    '''\n",
      "\n",
      "    x = np.arange(len(series))\n",
      "    \n",
      "    if fracs is None:\n",
      "        fracs = 20.0 / len(series)\n",
      "        \n",
      "    smoothed = sm.nonparametric.lowess(series, x, frac = fracs)[:, 1]\n",
      "        \n",
      "    return smoothed"
     ],
     "language": "python",
     "metadata": {},
     "outputs": [],
     "prompt_number": 6
    }
   ],
   "metadata": {}
  }
 ]
}