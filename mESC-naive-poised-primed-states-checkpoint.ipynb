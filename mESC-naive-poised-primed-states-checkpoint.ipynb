{
 "cells": [
  {
   "cell_type": "code",
   "execution_count": 1,
   "metadata": {},
   "outputs": [],
   "source": [
    "regulators = [\"esrrb\",\"klf2\",\"klf4\",\"nanog\",\"tfcp2l1\",\"foxd3\",\"myc\",\"dido1\",\"zfhx2\",\"setd1b\",\"pou3f1\",\"fgf5\",\"fgf15\",\"sox3\",\"myb\"]"
   ]
  },
  {
   "cell_type": "code",
   "execution_count": 2,
   "metadata": {},
   "outputs": [],
   "source": [
    "cols = [\"R1-Up-Genes\",\"R2-Up-Genes\",\"R1-Down-Genes\",\"R2-Down-Genes\",\"R1-Overlap-Genes\",\"R2-Overlap-Genes\"]"
   ]
  },
  {
   "cell_type": "code",
   "execution_count": 2,
   "metadata": {},
   "outputs": [
    {
     "data": {
      "text/html": [
       "<div>\n",
       "<style scoped>\n",
       "    .dataframe tbody tr th:only-of-type {\n",
       "        vertical-align: middle;\n",
       "    }\n",
       "\n",
       "    .dataframe tbody tr th {\n",
       "        vertical-align: top;\n",
       "    }\n",
       "\n",
       "    .dataframe thead th {\n",
       "        text-align: right;\n",
       "    }\n",
       "</style>\n",
       "<table border=\"1\" class=\"dataframe\">\n",
       "  <thead>\n",
       "    <tr style=\"text-align: right;\">\n",
       "      <th></th>\n",
       "      <th>name</th>\n",
       "      <th>variable</th>\n",
       "      <th>value</th>\n",
       "      <th>R1-Overlap-Genes</th>\n",
       "      <th>R2-Overlap-Genes</th>\n",
       "      <th>R1-Overlap-TADs</th>\n",
       "      <th>R2-Overlap-TADs</th>\n",
       "    </tr>\n",
       "  </thead>\n",
       "  <tbody>\n",
       "    <tr>\n",
       "      <th>0</th>\n",
       "      <td>chr7:96720000-96750000</td>\n",
       "      <td>chr7:96810000-96840000</td>\n",
       "      <td>1.0</td>\n",
       "      <td>NaN</td>\n",
       "      <td>Me3</td>\n",
       "      <td>chr7:96600000-97080000</td>\n",
       "      <td>chr7:96600000-97080000</td>\n",
       "    </tr>\n",
       "    <tr>\n",
       "      <th>1</th>\n",
       "      <td>chr7:64470000-64500000</td>\n",
       "      <td>chr7:64500000-64530000</td>\n",
       "      <td>1.0</td>\n",
       "      <td>Gabrg3</td>\n",
       "      <td>Gabrg3</td>\n",
       "      <td>chr7:64120000-64760000</td>\n",
       "      <td>chr7:64120000-64760000</td>\n",
       "    </tr>\n",
       "    <tr>\n",
       "      <th>2</th>\n",
       "      <td>chr7:94290000-94320000</td>\n",
       "      <td>chr7:94320000-94350000</td>\n",
       "      <td>1.0</td>\n",
       "      <td>NaN</td>\n",
       "      <td>NaN</td>\n",
       "      <td>chr7:94240000-94720000</td>\n",
       "      <td>chr7:94240000-94720000</td>\n",
       "    </tr>\n",
       "    <tr>\n",
       "      <th>3</th>\n",
       "      <td>chr7:126720000-126750000</td>\n",
       "      <td>chr7:126750000-126780000</td>\n",
       "      <td>1.0</td>\n",
       "      <td>Acsm2,Acsm1</td>\n",
       "      <td>Acsm1,Acsm2</td>\n",
       "      <td>chr7:125880000-126800000</td>\n",
       "      <td>chr7:125880000-126800000</td>\n",
       "    </tr>\n",
       "    <tr>\n",
       "      <th>4</th>\n",
       "      <td>chr7:73080000-73110000</td>\n",
       "      <td>chr7:73110000-73140000</td>\n",
       "      <td>1.0</td>\n",
       "      <td>Pcsk6</td>\n",
       "      <td>Pcsk6</td>\n",
       "      <td>chr7:72840000-73240000</td>\n",
       "      <td>chr7:72840000-73240000</td>\n",
       "    </tr>\n",
       "  </tbody>\n",
       "</table>\n",
       "</div>"
      ],
      "text/plain": [
       "                       name                  variable  value R1-Overlap-Genes  \\\n",
       "0    chr7:96720000-96750000    chr7:96810000-96840000    1.0              NaN   \n",
       "1    chr7:64470000-64500000    chr7:64500000-64530000    1.0           Gabrg3   \n",
       "2    chr7:94290000-94320000    chr7:94320000-94350000    1.0              NaN   \n",
       "3  chr7:126720000-126750000  chr7:126750000-126780000    1.0      Acsm2,Acsm1   \n",
       "4    chr7:73080000-73110000    chr7:73110000-73140000    1.0            Pcsk6   \n",
       "\n",
       "  R2-Overlap-Genes           R1-Overlap-TADs           R2-Overlap-TADs  \n",
       "0              Me3    chr7:96600000-97080000    chr7:96600000-97080000  \n",
       "1           Gabrg3    chr7:64120000-64760000    chr7:64120000-64760000  \n",
       "2              NaN    chr7:94240000-94720000    chr7:94240000-94720000  \n",
       "3      Acsm1,Acsm2  chr7:125880000-126800000  chr7:125880000-126800000  \n",
       "4            Pcsk6    chr7:72840000-73240000    chr7:72840000-73240000  "
      ]
     },
     "execution_count": 2,
     "metadata": {},
     "output_type": "execute_result"
    }
   ],
   "source": [
    "import pandas as pd\n",
    "gam = pd.read_csv(\"SLICE_02.chromatin_interaction_pairs_of_features.csv.gz\")\n",
    "gam.head()"
   ]
  },
  {
   "cell_type": "code",
   "execution_count": 4,
   "metadata": {},
   "outputs": [],
   "source": [
    "names = []\n",
    "for c in cols:\n",
    "    for r in regulators:\n",
    "        try:\n",
    "            names += gam[c][gam[c].str.match(r,case=False) == True].tolist()\n",
    "        except:\n",
    "            continue"
   ]
  },
  {
   "cell_type": "code",
   "execution_count": 10,
   "metadata": {},
   "outputs": [
    {
     "data": {
      "text/plain": [
       "['Myb', 'Zfhx2', 'Pou3f1', 'Fgf5', 'Myc', 'Esrrb']"
      ]
     },
     "execution_count": 10,
     "metadata": {},
     "output_type": "execute_result"
    }
   ],
   "source": [
    "genes = []\n",
    "for i in names:\n",
    "    temp = i.split(\",\")\n",
    "#     print (temp)\n",
    "    for r in regulators:\n",
    "        for t in temp:\n",
    "#             print (t)\n",
    "            t = t.replace(\" \",\"\")\n",
    "            if r == t.lower():\n",
    "#                 print (t)\n",
    "                genes.append(t)\n",
    "genes = list(set(genes))\n",
    "genes"
   ]
  },
  {
   "cell_type": "code",
   "execution_count": 7,
   "metadata": {},
   "outputs": [
    {
     "data": {
      "text/plain": [
       "13"
      ]
     },
     "execution_count": 7,
     "metadata": {},
     "output_type": "execute_result"
    }
   ],
   "source": [
    "len(genes)"
   ]
  },
  {
   "cell_type": "code",
   "execution_count": null,
   "metadata": {},
   "outputs": [],
   "source": []
  },
  {
   "cell_type": "code",
   "execution_count": null,
   "metadata": {},
   "outputs": [],
   "source": []
  }
 ],
 "metadata": {
  "kernelspec": {
   "display_name": "Python 3",
   "language": "python",
   "name": "python3"
  },
  "language_info": {
   "codemirror_mode": {
    "name": "ipython",
    "version": 3
   },
   "file_extension": ".py",
   "mimetype": "text/x-python",
   "name": "python",
   "nbconvert_exporter": "python",
   "pygments_lexer": "ipython3",
   "version": "3.6.4"
  }
 },
 "nbformat": 4,
 "nbformat_minor": 2
}
