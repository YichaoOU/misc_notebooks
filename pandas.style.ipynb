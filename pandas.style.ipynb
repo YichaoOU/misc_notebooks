{
 "cells": [
  {
   "cell_type": "code",
   "execution_count": 1,
   "metadata": {},
   "outputs": [],
   "source": [
    "import pandas as pd"
   ]
  },
  {
   "cell_type": "code",
   "execution_count": 8,
   "metadata": {},
   "outputs": [],
   "source": [
    "df = pd.DataFrame()"
   ]
  },
  {
   "cell_type": "code",
   "execution_count": 9,
   "metadata": {},
   "outputs": [],
   "source": [
    "df[1] = ['a','b']\n",
    "df[2] = ['c','d']"
   ]
  },
  {
   "cell_type": "code",
   "execution_count": 16,
   "metadata": {},
   "outputs": [
    {
     "data": {
      "text/html": [
       "<div>\n",
       "<style scoped>\n",
       "    .dataframe tbody tr th:only-of-type {\n",
       "        vertical-align: middle;\n",
       "    }\n",
       "\n",
       "    .dataframe tbody tr th {\n",
       "        vertical-align: top;\n",
       "    }\n",
       "\n",
       "    .dataframe thead th {\n",
       "        text-align: right;\n",
       "    }\n",
       "</style>\n",
       "<table border=\"1\" class=\"dataframe\">\n",
       "  <thead>\n",
       "    <tr style=\"text-align: right;\">\n",
       "      <th></th>\n",
       "      <th>1</th>\n",
       "      <th>2</th>\n",
       "    </tr>\n",
       "  </thead>\n",
       "  <tbody>\n",
       "    <tr>\n",
       "      <th>0</th>\n",
       "      <td>a</td>\n",
       "      <td>c</td>\n",
       "    </tr>\n",
       "    <tr>\n",
       "      <th>1</th>\n",
       "      <td>b</td>\n",
       "      <td>d</td>\n",
       "    </tr>\n",
       "  </tbody>\n",
       "</table>\n",
       "</div>"
      ],
      "text/plain": [
       "   1  2\n",
       "0  a  c\n",
       "1  b  d"
      ]
     },
     "execution_count": 16,
     "metadata": {},
     "output_type": "execute_result"
    }
   ],
   "source": [
    "df"
   ]
  },
  {
   "cell_type": "code",
   "execution_count": 17,
   "metadata": {},
   "outputs": [],
   "source": [
    "def highlight_max(s):\n",
    "    colors = []\n",
    "    print (s)\n",
    "    if s == \"a\":\n",
    "        colors.append('background-color: yellow')\n",
    "    elif s == \"b\":\n",
    "        colors.append('background-color: green')\n",
    "    else:\n",
    "        colors.append('background-color: white')\n",
    "    return colors"
   ]
  },
  {
   "cell_type": "code",
   "execution_count": 25,
   "metadata": {},
   "outputs": [],
   "source": [
    "def highlight(s):\n",
    "#     print (s)\n",
    "    if s == \"a\":\n",
    "        return 'background-color: yellow'\n",
    "    elif s == \"b\":\n",
    "        return 'background-color: green'\n",
    "    else:\n",
    "        return 'background-color: white'\n",
    "    return colors"
   ]
  },
  {
   "cell_type": "code",
   "execution_count": 32,
   "metadata": {},
   "outputs": [
    {
     "data": {
      "text/plain": [
       "'<style  type=\"text/css\" >    #T_1b3b8034_38c5_11e9_bb2d_08002700b06c .row_heading {          display: none;    }    #T_1b3b8034_38c5_11e9_bb2d_08002700b06c .blank.level0 {          display: none;    }    #T_1b3b8034_38c5_11e9_bb2d_08002700b06crow0_col0 {            background-color:  yellow;        }    #T_1b3b8034_38c5_11e9_bb2d_08002700b06crow0_col1 {            background-color:  white;        }    #T_1b3b8034_38c5_11e9_bb2d_08002700b06crow1_col0 {            background-color:  green;        }    #T_1b3b8034_38c5_11e9_bb2d_08002700b06crow1_col1 {            background-color:  white;        }</style>  <table id=\"T_1b3b8034_38c5_11e9_bb2d_08002700b06c\" > <thead>    <tr>         <th class=\"blank level0\" ></th>         <th class=\"col_heading level0 col0\" >1</th>         <th class=\"col_heading level0 col1\" >2</th>     </tr></thead> <tbody>    <tr>         <th id=\"T_1b3b8034_38c5_11e9_bb2d_08002700b06clevel0_row0\" class=\"row_heading level0 row0\" >0</th>         <td id=\"T_1b3b8034_38c5_11e9_bb2d_08002700b06crow0_col0\" class=\"data row0 col0\" >a</td>         <td id=\"T_1b3b8034_38c5_11e9_bb2d_08002700b06crow0_col1\" class=\"data row0 col1\" >c</td>     </tr>    <tr>         <th id=\"T_1b3b8034_38c5_11e9_bb2d_08002700b06clevel0_row1\" class=\"row_heading level0 row1\" >1</th>         <td id=\"T_1b3b8034_38c5_11e9_bb2d_08002700b06crow1_col0\" class=\"data row1 col0\" >b</td>         <td id=\"T_1b3b8034_38c5_11e9_bb2d_08002700b06crow1_col1\" class=\"data row1 col1\" >d</td>     </tr></tbody> </table> '"
      ]
     },
     "execution_count": 32,
     "metadata": {},
     "output_type": "execute_result"
    }
   ],
   "source": [
    "df.style.applymap(highlight).set_table_styles(\n",
    "        [{'selector': '.row_heading',\n",
    "          'props': [('display', 'none')]},\n",
    "         {'selector': '.blank.level0',\n",
    "          'props': [('display', 'none')]}]).render().replace(\"\\n\",\"\")"
   ]
  },
  {
   "cell_type": "code",
   "execution_count": 21,
   "metadata": {},
   "outputs": [
    {
     "data": {
      "text/html": [
       "<div>\n",
       "<style scoped>\n",
       "    .dataframe tbody tr th:only-of-type {\n",
       "        vertical-align: middle;\n",
       "    }\n",
       "\n",
       "    .dataframe tbody tr th {\n",
       "        vertical-align: top;\n",
       "    }\n",
       "\n",
       "    .dataframe thead th {\n",
       "        text-align: right;\n",
       "    }\n",
       "</style>\n",
       "<table border=\"1\" class=\"dataframe\">\n",
       "  <thead>\n",
       "    <tr style=\"text-align: right;\">\n",
       "      <th></th>\n",
       "      <th>1</th>\n",
       "      <th>2</th>\n",
       "    </tr>\n",
       "  </thead>\n",
       "  <tbody>\n",
       "    <tr>\n",
       "      <th>0</th>\n",
       "      <td>a</td>\n",
       "      <td>c</td>\n",
       "    </tr>\n",
       "    <tr>\n",
       "      <th>1</th>\n",
       "      <td>b</td>\n",
       "      <td>d</td>\n",
       "    </tr>\n",
       "  </tbody>\n",
       "</table>\n",
       "</div>"
      ],
      "text/plain": [
       "   1  2\n",
       "0  a  c\n",
       "1  b  d"
      ]
     },
     "execution_count": 21,
     "metadata": {},
     "output_type": "execute_result"
    }
   ],
   "source": [
    "df"
   ]
  },
  {
   "cell_type": "code",
   "execution_count": 5,
   "metadata": {},
   "outputs": [],
   "source": [
    "df.to_html(\"test.html\")"
   ]
  },
  {
   "cell_type": "code",
   "execution_count": 6,
   "metadata": {},
   "outputs": [],
   "source": [
    "\n",
    "import pandas as pd\n",
    "import numpy as np\n",
    "\n",
    "np.random.seed(24)\n",
    "df = pd.DataFrame({'A': np.linspace(1, 10, 10)})\n",
    "df = pd.concat([df, pd.DataFrame(np.random.randn(10, 4), columns=list('BCDE'))],\n",
    "               axis=1)\n",
    "df.iloc[0, 2] = np.nan"
   ]
  },
  {
   "cell_type": "code",
   "execution_count": 7,
   "metadata": {},
   "outputs": [
    {
     "data": {
      "text/html": [
       "<div>\n",
       "<style scoped>\n",
       "    .dataframe tbody tr th:only-of-type {\n",
       "        vertical-align: middle;\n",
       "    }\n",
       "\n",
       "    .dataframe tbody tr th {\n",
       "        vertical-align: top;\n",
       "    }\n",
       "\n",
       "    .dataframe thead th {\n",
       "        text-align: right;\n",
       "    }\n",
       "</style>\n",
       "<table border=\"1\" class=\"dataframe\">\n",
       "  <thead>\n",
       "    <tr style=\"text-align: right;\">\n",
       "      <th></th>\n",
       "      <th>A</th>\n",
       "      <th>B</th>\n",
       "      <th>C</th>\n",
       "      <th>D</th>\n",
       "      <th>E</th>\n",
       "    </tr>\n",
       "  </thead>\n",
       "  <tbody>\n",
       "    <tr>\n",
       "      <th>0</th>\n",
       "      <td>1.0</td>\n",
       "      <td>1.329212</td>\n",
       "      <td>NaN</td>\n",
       "      <td>-0.316280</td>\n",
       "      <td>-0.990810</td>\n",
       "    </tr>\n",
       "    <tr>\n",
       "      <th>1</th>\n",
       "      <td>2.0</td>\n",
       "      <td>-1.070816</td>\n",
       "      <td>-1.438713</td>\n",
       "      <td>0.564417</td>\n",
       "      <td>0.295722</td>\n",
       "    </tr>\n",
       "    <tr>\n",
       "      <th>2</th>\n",
       "      <td>3.0</td>\n",
       "      <td>-1.626404</td>\n",
       "      <td>0.219565</td>\n",
       "      <td>0.678805</td>\n",
       "      <td>1.889273</td>\n",
       "    </tr>\n",
       "    <tr>\n",
       "      <th>3</th>\n",
       "      <td>4.0</td>\n",
       "      <td>0.961538</td>\n",
       "      <td>0.104011</td>\n",
       "      <td>-0.481165</td>\n",
       "      <td>0.850229</td>\n",
       "    </tr>\n",
       "    <tr>\n",
       "      <th>4</th>\n",
       "      <td>5.0</td>\n",
       "      <td>1.453425</td>\n",
       "      <td>1.057737</td>\n",
       "      <td>0.165562</td>\n",
       "      <td>0.515018</td>\n",
       "    </tr>\n",
       "    <tr>\n",
       "      <th>5</th>\n",
       "      <td>6.0</td>\n",
       "      <td>-1.336936</td>\n",
       "      <td>0.562861</td>\n",
       "      <td>1.392855</td>\n",
       "      <td>-0.063328</td>\n",
       "    </tr>\n",
       "    <tr>\n",
       "      <th>6</th>\n",
       "      <td>7.0</td>\n",
       "      <td>0.121668</td>\n",
       "      <td>1.207603</td>\n",
       "      <td>-0.002040</td>\n",
       "      <td>1.627796</td>\n",
       "    </tr>\n",
       "    <tr>\n",
       "      <th>7</th>\n",
       "      <td>8.0</td>\n",
       "      <td>0.354493</td>\n",
       "      <td>1.037528</td>\n",
       "      <td>-0.385684</td>\n",
       "      <td>0.519818</td>\n",
       "    </tr>\n",
       "    <tr>\n",
       "      <th>8</th>\n",
       "      <td>9.0</td>\n",
       "      <td>1.686583</td>\n",
       "      <td>-1.325963</td>\n",
       "      <td>1.428984</td>\n",
       "      <td>-2.089354</td>\n",
       "    </tr>\n",
       "    <tr>\n",
       "      <th>9</th>\n",
       "      <td>10.0</td>\n",
       "      <td>-0.129820</td>\n",
       "      <td>0.631523</td>\n",
       "      <td>-0.586538</td>\n",
       "      <td>0.290720</td>\n",
       "    </tr>\n",
       "  </tbody>\n",
       "</table>\n",
       "</div>"
      ],
      "text/plain": [
       "      A         B         C         D         E\n",
       "0   1.0  1.329212       NaN -0.316280 -0.990810\n",
       "1   2.0 -1.070816 -1.438713  0.564417  0.295722\n",
       "2   3.0 -1.626404  0.219565  0.678805  1.889273\n",
       "3   4.0  0.961538  0.104011 -0.481165  0.850229\n",
       "4   5.0  1.453425  1.057737  0.165562  0.515018\n",
       "5   6.0 -1.336936  0.562861  1.392855 -0.063328\n",
       "6   7.0  0.121668  1.207603 -0.002040  1.627796\n",
       "7   8.0  0.354493  1.037528 -0.385684  0.519818\n",
       "8   9.0  1.686583 -1.325963  1.428984 -2.089354\n",
       "9  10.0 -0.129820  0.631523 -0.586538  0.290720"
      ]
     },
     "execution_count": 7,
     "metadata": {},
     "output_type": "execute_result"
    }
   ],
   "source": [
    "df"
   ]
  },
  {
   "cell_type": "code",
   "execution_count": null,
   "metadata": {},
   "outputs": [],
   "source": []
  }
 ],
 "metadata": {
  "kernelspec": {
   "display_name": "Python 3",
   "language": "python",
   "name": "python3"
  },
  "language_info": {
   "codemirror_mode": {
    "name": "ipython",
    "version": 3
   },
   "file_extension": ".py",
   "mimetype": "text/x-python",
   "name": "python",
   "nbconvert_exporter": "python",
   "pygments_lexer": "ipython3",
   "version": "3.6.4"
  }
 },
 "nbformat": 4,
 "nbformat_minor": 2
}
