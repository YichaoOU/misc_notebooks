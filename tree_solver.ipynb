{
 "cells": [
  {
   "cell_type": "code",
   "execution_count": 1,
   "metadata": {},
   "outputs": [],
   "source": [
    "class Solution(object):\n",
    "    def combinationSum2(self, candidates, target):\n",
    "        \"\"\"\n",
    "        :type candidates: List[int]\n",
    "        :type target: int\n",
    "        :rtype: List[List[int]]\n",
    "        \"\"\"\n",
    "        result = []\n",
    "        candidates.sort()\n",
    "        self.helper(0, candidates, target, [], result, 0)\n",
    "        return result\n",
    "\n",
    "    def helper(self, idx, candidates, target, so_far, result, sum_so_far):\n",
    "        if sum_so_far == target:\n",
    "            result.append([x for x in so_far])\n",
    "        else:\n",
    "            for i in range(idx, len(candidates)):\n",
    "                if i == idx or candidates[i] != candidates[i-1]:\n",
    "                    if sum_so_far + candidates[i] <= target:\n",
    "                        so_far.append(candidates[i])\n",
    "                        self.helper(i+1, candidates, target, so_far, result, sum_so_far + candidates[i])\n",
    "                        so_far.pop()\n",
    "        return"
   ]
  },
  {
   "cell_type": "code",
   "execution_count": 2,
   "metadata": {},
   "outputs": [],
   "source": [
    "a=Solution()"
   ]
  },
  {
   "cell_type": "code",
   "execution_count": 3,
   "metadata": {},
   "outputs": [
    {
     "data": {
      "text/plain": [
       "[[-2, 2, 2, 3], [-1, 2, 2, 2], [2, 3]]"
      ]
     },
     "execution_count": 3,
     "metadata": {},
     "output_type": "execute_result"
    }
   ],
   "source": [
    "a.combinationSum2([-1,-2,2,2,2,3],5)"
   ]
  },
  {
   "cell_type": "code",
   "execution_count": null,
   "metadata": {},
   "outputs": [],
   "source": []
  }
 ],
 "metadata": {
  "kernelspec": {
   "display_name": "Python 3",
   "language": "python",
   "name": "python3"
  },
  "language_info": {
   "codemirror_mode": {
    "name": "ipython",
    "version": 3
   },
   "file_extension": ".py",
   "mimetype": "text/x-python",
   "name": "python",
   "nbconvert_exporter": "python",
   "pygments_lexer": "ipython3",
   "version": "3.6.4"
  }
 },
 "nbformat": 4,
 "nbformat_minor": 2
}
