{
 "cells": [
  {
   "cell_type": "code",
   "execution_count": 1,
   "metadata": {},
   "outputs": [],
   "source": [
    "regulators = [\"esrrb\",\"klf2\",\"klf4\",\"nanog\",\"tfcp2l1\",\"foxd3\",\"myc\",\"dido1\",\"zfhx2\",\"setd1b\",\"pou3f1\",\"fgf5\",\"fgf15\",\"sox3\",\"myb\"]"
   ]
  },
  {
   "cell_type": "code",
   "execution_count": 2,
   "metadata": {},
   "outputs": [],
   "source": [
    "cols = [\"R1-Up-Genes\",\"R2-Up-Genes\",\"R1-Down-Genes\",\"R2-Down-Genes\",\"R1-Overlap-Genes\",\"R2-Overlap-Genes\"]"
   ]
  },
  {
   "cell_type": "code",
   "execution_count": 3,
   "metadata": {},
   "outputs": [],
   "source": [
    "import pandas as pd\n",
    "gam = pd.read_csv(\"chromatin_interaction_pairs_of_features.csv\")\n"
   ]
  },
  {
   "cell_type": "code",
   "execution_count": 4,
   "metadata": {},
   "outputs": [],
   "source": [
    "names = []\n",
    "for c in cols:\n",
    "    for r in regulators:\n",
    "        try:\n",
    "            names += gam[c][gam[c].str.match(r,case=False) == True].tolist()\n",
    "        except:\n",
    "            continue"
   ]
  },
  {
   "cell_type": "code",
   "execution_count": 10,
   "metadata": {},
   "outputs": [
    {
     "data": {
      "text/plain": [
       "['Myb', 'Zfhx2', 'Pou3f1', 'Fgf5', 'Myc', 'Esrrb']"
      ]
     },
     "execution_count": 10,
     "metadata": {},
     "output_type": "execute_result"
    }
   ],
   "source": [
    "genes = []\n",
    "for i in names:\n",
    "    temp = i.split(\",\")\n",
    "#     print (temp)\n",
    "    for r in regulators:\n",
    "        for t in temp:\n",
    "#             print (t)\n",
    "            t = t.replace(\" \",\"\")\n",
    "            if r == t.lower():\n",
    "#                 print (t)\n",
    "                genes.append(t)\n",
    "genes = list(set(genes))\n",
    "genes"
   ]
  },
  {
   "cell_type": "code",
   "execution_count": 7,
   "metadata": {},
   "outputs": [
    {
     "data": {
      "text/plain": [
       "13"
      ]
     },
     "execution_count": 7,
     "metadata": {},
     "output_type": "execute_result"
    }
   ],
   "source": [
    "len(genes)"
   ]
  },
  {
   "cell_type": "code",
   "execution_count": null,
   "metadata": {},
   "outputs": [],
   "source": []
  },
  {
   "cell_type": "code",
   "execution_count": null,
   "metadata": {},
   "outputs": [],
   "source": []
  }
 ],
 "metadata": {
  "kernelspec": {
   "display_name": "Python 3",
   "language": "python",
   "name": "python3"
  },
  "language_info": {
   "codemirror_mode": {
    "name": "ipython",
    "version": 3
   },
   "file_extension": ".py",
   "mimetype": "text/x-python",
   "name": "python",
   "nbconvert_exporter": "python",
   "pygments_lexer": "ipython3",
   "version": "3.6.4"
  }
 },
 "nbformat": 4,
 "nbformat_minor": 2
}
