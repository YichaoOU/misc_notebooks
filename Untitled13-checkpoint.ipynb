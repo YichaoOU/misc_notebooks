{
 "cells": [
  {
   "cell_type": "code",
   "execution_count": null,
   "metadata": {
    "collapsed": true
   },
   "outputs": [],
   "source": [
    "from random import sample\n",
    "from math import ceil\n",
    "\n",
    "my_group_number = {}\n",
    "my_group_number[2] = [7,7]\n",
    "my_group_number[3] = [5,5,4]\n",
    "my_group_number[4] = [4,3,3,4]\n",
    "my_group_number[5] = [3,3,3,3,2]\n",
    "my_group_number[6] = [2,2,3,3,2,2]\n",
    "my_group_number[7] = [2,2,2,2,2,2,2]\n",
    "my_group_number[8] = [2,2,2,2,2,2,1,1]\n",
    "my_group_number[9] = [2,2,2,2,2,1,1,1,1]\n",
    "my_group_number[10] = [2,2,2,2,1,1,1,1,1,1]\n",
    "my_group_number[11] = [2,2,2,1,1,1,1,1,1,1,1]\n",
    "my_group_number[12] = [2,2,1,1,1,1,1,1,1,1,1,1]\n",
    "my_group_number[13] = [2,1,1,1,1,1,1,1,1,1,1,1,1]\n",
    "\n",
    "def random_group_classes(Y,num_class):\n",
    "\tmy_classes = range(1,15)\n",
    "\tmy_new_classes = []\n",
    "\tsplition = my_group_number[num_class]\n",
    "\tfor i in splition:\n",
    "\t\ttemp = sample(my_classes,i)\n",
    "\t\tmy_new_classes.append(temp)\n",
    "\t\tfor j in temp:\n",
    "\t\t\tmy_classes.remove(j)\n",
    "\tfor i in range(len(my_new_classes)):\n",
    "\t\tclass_number = i + 1\n",
    "\t\tlabels = my_new_classes[i]\n",
    "\t\tfor j in range(len(Y)):\n",
    "\t\t\tif Y[j] in labels:\n",
    "\t\t\t\tY[j] = class_number\n",
    "\treturn Y\n",
    "\n"
   ]
  },
  {
   "cell_type": "code",
   "execution_count": 29,
   "metadata": {},
   "outputs": [
    {
     "name": "stdout",
     "output_type": "stream",
     "text": [
      "[[10, 12], [1, 11], [5, 6], [2], [7], [8], [9], [13], [4], [14], [3]]\n",
      "[[11, 1], [3, 12], [10, 6], [2], [7], [5], [13], [9], [4], [14], [8]]\n",
      "[[11, 1], [12, 13], [3, 9], [2], [4], [14], [10], [8], [5], [6], [7]]\n",
      "[[13, 5], [14, 8], [4, 2], [11], [6], [1], [12], [9], [10], [3], [7]]\n",
      "[[7, 4], [14, 1], [10, 12], [3], [13], [6], [11], [5], [8], [2], [9]]\n",
      "[[7, 5], [2, 9], [4, 1], [11], [12], [8], [14], [10], [3], [13], [6]]\n",
      "[[2, 14], [4, 6], [13, 7], [10], [5], [1], [11], [3], [8], [12], [9]]\n",
      "[[6, 5], [11, 3], [13, 12], [7], [1], [4], [10], [9], [8], [14], [2]]\n",
      "[[14, 8], [12, 4], [2, 3], [5], [11], [6], [1], [9], [7], [13], [10]]\n",
      "[[14, 5], [2, 10], [11, 12], [9], [8], [4], [1], [6], [13], [7], [3]]\n"
     ]
    }
   ],
   "source": [
    "for i in range(10):\n",
    "    print random_group_classes(9)"
   ]
  }
 ],
 "metadata": {
  "kernelspec": {
   "display_name": "Python 2",
   "language": "python",
   "name": "python2"
  },
  "language_info": {
   "codemirror_mode": {
    "name": "ipython",
    "version": 2
   },
   "file_extension": ".py",
   "mimetype": "text/x-python",
   "name": "python",
   "nbconvert_exporter": "python",
   "pygments_lexer": "ipython2",
   "version": "2.7.13"
  }
 },
 "nbformat": 4,
 "nbformat_minor": 2
}
