{
 "cells": [
  {
   "cell_type": "code",
   "execution_count": 1,
   "metadata": {},
   "outputs": [
    {
     "name": "stderr",
     "output_type": "stream",
     "text": [
      "/usr/local/lib/python2.7/dist-packages/pandas/_libs/__init__.py:4: RuntimeWarning: numpy.dtype size changed, may indicate binary incompatibility. Expected 96, got 88\n",
      "  from .tslib import iNaT, NaT, Timestamp, Timedelta, OutOfBoundsDatetime\n",
      "/usr/local/lib/python2.7/dist-packages/pandas/_libs/__init__.py:4: RuntimeWarning: numpy.dtype size changed, may indicate binary incompatibility. Expected 96, got 88\n",
      "  from .tslib import iNaT, NaT, Timestamp, Timedelta, OutOfBoundsDatetime\n",
      "/usr/local/lib/python2.7/dist-packages/pandas/_libs/__init__.py:4: RuntimeWarning: numpy.dtype size changed, may indicate binary incompatibility. Expected 96, got 88\n",
      "  from .tslib import iNaT, NaT, Timestamp, Timedelta, OutOfBoundsDatetime\n",
      "/usr/local/lib/python2.7/dist-packages/pandas/_libs/__init__.py:4: RuntimeWarning: numpy.dtype size changed, may indicate binary incompatibility. Expected 96, got 88\n",
      "  from .tslib import iNaT, NaT, Timestamp, Timedelta, OutOfBoundsDatetime\n",
      "/usr/local/lib/python2.7/dist-packages/pandas/_libs/__init__.py:4: RuntimeWarning: numpy.dtype size changed, may indicate binary incompatibility. Expected 96, got 88\n",
      "  from .tslib import iNaT, NaT, Timestamp, Timedelta, OutOfBoundsDatetime\n",
      "/usr/local/lib/python2.7/dist-packages/pandas/_libs/__init__.py:4: RuntimeWarning: numpy.dtype size changed, may indicate binary incompatibility. Expected 96, got 88\n",
      "  from .tslib import iNaT, NaT, Timestamp, Timedelta, OutOfBoundsDatetime\n",
      "/usr/local/lib/python2.7/dist-packages/pandas/_libs/__init__.py:4: RuntimeWarning: numpy.dtype size changed, may indicate binary incompatibility. Expected 96, got 88\n",
      "  from .tslib import iNaT, NaT, Timestamp, Timedelta, OutOfBoundsDatetime\n",
      "/usr/local/lib/python2.7/dist-packages/pandas/_libs/__init__.py:4: RuntimeWarning: numpy.dtype size changed, may indicate binary incompatibility. Expected 96, got 88\n",
      "  from .tslib import iNaT, NaT, Timestamp, Timedelta, OutOfBoundsDatetime\n",
      "/usr/local/lib/python2.7/dist-packages/pandas/_libs/__init__.py:4: RuntimeWarning: numpy.dtype size changed, may indicate binary incompatibility. Expected 96, got 88\n",
      "  from .tslib import iNaT, NaT, Timestamp, Timedelta, OutOfBoundsDatetime\n",
      "/usr/local/lib/python2.7/dist-packages/pandas/_libs/__init__.py:4: RuntimeWarning: numpy.dtype size changed, may indicate binary incompatibility. Expected 96, got 88\n",
      "  from .tslib import iNaT, NaT, Timestamp, Timedelta, OutOfBoundsDatetime\n",
      "/usr/local/lib/python2.7/dist-packages/pandas/_libs/__init__.py:4: RuntimeWarning: numpy.dtype size changed, may indicate binary incompatibility. Expected 96, got 88\n",
      "  from .tslib import iNaT, NaT, Timestamp, Timedelta, OutOfBoundsDatetime\n",
      "/usr/local/lib/python2.7/dist-packages/pandas/__init__.py:26: RuntimeWarning: numpy.dtype size changed, may indicate binary incompatibility. Expected 96, got 88\n",
      "  from pandas._libs import (hashtable as _hashtable,\n",
      "/usr/local/lib/python2.7/dist-packages/pandas/__init__.py:26: RuntimeWarning: numpy.dtype size changed, may indicate binary incompatibility. Expected 96, got 88\n",
      "  from pandas._libs import (hashtable as _hashtable,\n",
      "/usr/local/lib/python2.7/dist-packages/pandas/__init__.py:26: RuntimeWarning: numpy.dtype size changed, may indicate binary incompatibility. Expected 96, got 88\n",
      "  from pandas._libs import (hashtable as _hashtable,\n",
      "/usr/local/lib/python2.7/dist-packages/pandas/__init__.py:26: RuntimeWarning: numpy.dtype size changed, may indicate binary incompatibility. Expected 96, got 88\n",
      "  from pandas._libs import (hashtable as _hashtable,\n",
      "/usr/local/lib/python2.7/dist-packages/pandas/core/dtypes/common.py:6: RuntimeWarning: numpy.dtype size changed, may indicate binary incompatibility. Expected 96, got 88\n",
      "  from pandas._libs import algos, lib\n",
      "/usr/local/lib/python2.7/dist-packages/pandas/core/util/hashing.py:7: RuntimeWarning: numpy.dtype size changed, may indicate binary incompatibility. Expected 96, got 88\n",
      "  from pandas._libs import hashing, tslib\n",
      "/usr/local/lib/python2.7/dist-packages/pandas/core/indexes/base.py:7: RuntimeWarning: numpy.dtype size changed, may indicate binary incompatibility. Expected 96, got 88\n",
      "  from pandas._libs import (lib, index as libindex, tslib as libts,\n",
      "/usr/local/lib/python2.7/dist-packages/pandas/core/indexes/base.py:7: RuntimeWarning: numpy.dtype size changed, may indicate binary incompatibility. Expected 96, got 88\n",
      "  from pandas._libs import (lib, index as libindex, tslib as libts,\n",
      "/usr/local/lib/python2.7/dist-packages/pandas/core/indexes/base.py:7: RuntimeWarning: numpy.dtype size changed, may indicate binary incompatibility. Expected 96, got 88\n",
      "  from pandas._libs import (lib, index as libindex, tslib as libts,\n",
      "/usr/local/lib/python2.7/dist-packages/pandas/core/indexes/base.py:7: RuntimeWarning: numpy.dtype size changed, may indicate binary incompatibility. Expected 96, got 88\n",
      "  from pandas._libs import (lib, index as libindex, tslib as libts,\n",
      "/usr/local/lib/python2.7/dist-packages/pandas/tseries/offsets.py:21: RuntimeWarning: numpy.dtype size changed, may indicate binary incompatibility. Expected 96, got 88\n",
      "  import pandas._libs.tslibs.offsets as liboffsets\n",
      "/usr/local/lib/python2.7/dist-packages/pandas/core/indexes/base.py:7: RuntimeWarning: numpy.dtype size changed, may indicate binary incompatibility. Expected 96, got 88\n",
      "  from pandas._libs import (lib, index as libindex, tslib as libts,\n",
      "/usr/local/lib/python2.7/dist-packages/pandas/core/ops.py:16: RuntimeWarning: numpy.dtype size changed, may indicate binary incompatibility. Expected 96, got 88\n",
      "  from pandas._libs import algos as libalgos, ops as libops\n",
      "/usr/local/lib/python2.7/dist-packages/pandas/core/indexes/interval.py:32: RuntimeWarning: numpy.dtype size changed, may indicate binary incompatibility. Expected 96, got 88\n",
      "  from pandas._libs.interval import (\n",
      "/usr/local/lib/python2.7/dist-packages/pandas/core/internals.py:14: RuntimeWarning: numpy.dtype size changed, may indicate binary incompatibility. Expected 96, got 88\n",
      "  from pandas._libs import internals as libinternals\n",
      "/usr/local/lib/python2.7/dist-packages/pandas/core/sparse/array.py:33: RuntimeWarning: numpy.dtype size changed, may indicate binary incompatibility. Expected 96, got 88\n",
      "  import pandas._libs.sparse as splib\n",
      "/usr/local/lib/python2.7/dist-packages/pandas/core/window.py:36: RuntimeWarning: numpy.dtype size changed, may indicate binary incompatibility. Expected 96, got 88\n",
      "  import pandas._libs.window as _window\n",
      "/usr/local/lib/python2.7/dist-packages/pandas/core/window.py:36: RuntimeWarning: numpy.dtype size changed, may indicate binary incompatibility. Expected 96, got 88\n",
      "  import pandas._libs.window as _window\n",
      "/usr/local/lib/python2.7/dist-packages/pandas/core/groupby/groupby.py:68: RuntimeWarning: numpy.dtype size changed, may indicate binary incompatibility. Expected 96, got 88\n",
      "  from pandas._libs import (lib, reduction,\n",
      "/usr/local/lib/python2.7/dist-packages/pandas/core/groupby/groupby.py:68: RuntimeWarning: numpy.dtype size changed, may indicate binary incompatibility. Expected 96, got 88\n",
      "  from pandas._libs import (lib, reduction,\n",
      "/usr/local/lib/python2.7/dist-packages/pandas/core/reshape/reshape.py:30: RuntimeWarning: numpy.dtype size changed, may indicate binary incompatibility. Expected 96, got 88\n",
      "  from pandas._libs import algos as _algos, reshape as _reshape\n",
      "/usr/local/lib/python2.7/dist-packages/pandas/io/parsers.py:45: RuntimeWarning: numpy.dtype size changed, may indicate binary incompatibility. Expected 96, got 88\n",
      "  import pandas._libs.parsers as parsers\n",
      "/usr/local/lib/python2.7/dist-packages/pandas/io/pytables.py:50: RuntimeWarning: numpy.dtype size changed, may indicate binary incompatibility. Expected 96, got 88\n",
      "  from pandas._libs import algos, lib, writers as libwriters\n",
      "/usr/local/lib/python2.7/dist-packages/scipy/special/__init__.py:640: RuntimeWarning: numpy.dtype size changed, may indicate binary incompatibility. Expected 96, got 88\n",
      "  from ._ufuncs import *\n",
      "/usr/local/lib/python2.7/dist-packages/scipy/special/__init__.py:640: RuntimeWarning: numpy.dtype size changed, may indicate binary incompatibility. Expected 96, got 88\n",
      "  from ._ufuncs import *\n",
      "/usr/local/lib/python2.7/dist-packages/scipy/linalg/basic.py:17: RuntimeWarning: numpy.dtype size changed, may indicate binary incompatibility. Expected 96, got 88\n",
      "  from ._solve_toeplitz import levinson\n",
      "/usr/local/lib/python2.7/dist-packages/scipy/linalg/__init__.py:207: RuntimeWarning: numpy.dtype size changed, may indicate binary incompatibility. Expected 96, got 88\n",
      "  from ._decomp_update import *\n"
     ]
    },
    {
     "name": "stderr",
     "output_type": "stream",
     "text": [
      "/usr/local/lib/python2.7/dist-packages/scipy/linalg/__init__.py:207: RuntimeWarning: numpy.dtype size changed, may indicate binary incompatibility. Expected 96, got 88\n",
      "  from ._decomp_update import *\n",
      "/usr/local/lib/python2.7/dist-packages/scipy/linalg/__init__.py:207: RuntimeWarning: numpy.dtype size changed, may indicate binary incompatibility. Expected 96, got 88\n",
      "  from ._decomp_update import *\n",
      "/usr/local/lib/python2.7/dist-packages/scipy/special/_ellip_harm.py:7: RuntimeWarning: numpy.dtype size changed, may indicate binary incompatibility. Expected 96, got 88\n",
      "  from ._ellip_harm_2 import _ellipsoid, _ellipsoid_norm\n",
      "/usr/local/lib/python2.7/dist-packages/scipy/interpolate/_bsplines.py:10: RuntimeWarning: numpy.dtype size changed, may indicate binary incompatibility. Expected 96, got 88\n",
      "  from . import _bspl\n",
      "/usr/local/lib/python2.7/dist-packages/scipy/sparse/lil.py:19: RuntimeWarning: numpy.dtype size changed, may indicate binary incompatibility. Expected 96, got 88\n",
      "  from . import _csparsetools\n",
      "/usr/local/lib/python2.7/dist-packages/scipy/sparse/csgraph/__init__.py:165: RuntimeWarning: numpy.dtype size changed, may indicate binary incompatibility. Expected 96, got 88\n",
      "  from ._shortest_path import shortest_path, floyd_warshall, dijkstra,\\\n",
      "/usr/local/lib/python2.7/dist-packages/scipy/sparse/csgraph/_validation.py:5: RuntimeWarning: numpy.dtype size changed, may indicate binary incompatibility. Expected 96, got 88\n",
      "  from ._tools import csgraph_to_dense, csgraph_from_dense,\\\n",
      "/usr/local/lib/python2.7/dist-packages/scipy/sparse/csgraph/__init__.py:167: RuntimeWarning: numpy.dtype size changed, may indicate binary incompatibility. Expected 96, got 88\n",
      "  from ._traversal import breadth_first_order, depth_first_order, \\\n",
      "/usr/local/lib/python2.7/dist-packages/scipy/sparse/csgraph/__init__.py:169: RuntimeWarning: numpy.dtype size changed, may indicate binary incompatibility. Expected 96, got 88\n",
      "  from ._min_spanning_tree import minimum_spanning_tree\n",
      "/usr/local/lib/python2.7/dist-packages/scipy/sparse/csgraph/__init__.py:170: RuntimeWarning: numpy.dtype size changed, may indicate binary incompatibility. Expected 96, got 88\n",
      "  from ._reordering import reverse_cuthill_mckee, maximum_bipartite_matching, \\\n",
      "/usr/local/lib/python2.7/dist-packages/scipy/spatial/__init__.py:95: RuntimeWarning: numpy.dtype size changed, may indicate binary incompatibility. Expected 96, got 88\n",
      "  from .ckdtree import *\n",
      "/usr/local/lib/python2.7/dist-packages/scipy/spatial/__init__.py:96: ImportWarning: Not importing directory '/usr/local/lib/python2.7/dist-packages/scipy/spatial/qhull': missing __init__.py\n",
      "  from .qhull import *\n",
      "/usr/local/lib/python2.7/dist-packages/scipy/spatial/__init__.py:96: RuntimeWarning: numpy.dtype size changed, may indicate binary incompatibility. Expected 96, got 88\n",
      "  from .qhull import *\n",
      "/usr/local/lib/python2.7/dist-packages/scipy/spatial/_spherical_voronoi.py:18: RuntimeWarning: numpy.dtype size changed, may indicate binary incompatibility. Expected 96, got 88\n",
      "  from . import _voronoi\n",
      "/usr/local/lib/python2.7/dist-packages/scipy/spatial/distance.py:122: RuntimeWarning: numpy.dtype size changed, may indicate binary incompatibility. Expected 96, got 88\n",
      "  from . import _hausdorff\n",
      "/usr/local/lib/python2.7/dist-packages/scipy/optimize/_trlib/__init__.py:1: RuntimeWarning: numpy.dtype size changed, may indicate binary incompatibility. Expected 96, got 88\n",
      "  from ._trlib import TRLIBQuadraticSubproblem\n",
      "/usr/local/lib/python2.7/dist-packages/scipy/optimize/_numdiff.py:10: RuntimeWarning: numpy.dtype size changed, may indicate binary incompatibility. Expected 96, got 88\n",
      "  from ._group_columns import group_dense, group_sparse\n",
      "/usr/local/lib/python2.7/dist-packages/scipy/optimize/_minimize.py:37: ImportWarning: Not importing directory '/usr/local/lib/python2.7/dist-packages/scipy/optimize/lbfgsb': missing __init__.py\n",
      "  from .lbfgsb import _minimize_lbfgsb\n",
      "/usr/local/lib/python2.7/dist-packages/scipy/stats/_continuous_distns.py:18: RuntimeWarning: numpy.dtype size changed, may indicate binary incompatibility. Expected 96, got 88\n",
      "  from . import _stats\n"
     ]
    },
    {
     "name": "stdout",
     "output_type": "stream",
     "text": [
      "0.23.3\n",
      "0.9.0\n"
     ]
    },
    {
     "name": "stderr",
     "output_type": "stream",
     "text": [
      "/usr/local/lib/python2.7/dist-packages/statsmodels/nonparametric/kde.py:26: RuntimeWarning: numpy.dtype size changed, may indicate binary incompatibility\n",
      "  from .linbin import fast_linbin\n",
      "/usr/local/lib/python2.7/dist-packages/statsmodels/nonparametric/smoothers_lowess.py:11: RuntimeWarning: numpy.dtype size changed, may indicate binary incompatibility\n",
      "  from ._smoothers_lowess import lowess as _lowess\n",
      "/usr/local/lib/python2.7/dist-packages/scipy/cluster/vq.py:78: RuntimeWarning: numpy.dtype size changed, may indicate binary incompatibility. Expected 96, got 88\n",
      "  from . import _vq\n",
      "/usr/local/lib/python2.7/dist-packages/scipy/cluster/hierarchy.py:178: RuntimeWarning: numpy.dtype size changed, may indicate binary incompatibility. Expected 96, got 88\n",
      "  from . import _hierarchy, _optimal_leaf_ordering\n",
      "/usr/local/lib/python2.7/dist-packages/scipy/cluster/hierarchy.py:178: RuntimeWarning: numpy.dtype size changed, may indicate binary incompatibility. Expected 96, got 88\n",
      "  from . import _hierarchy, _optimal_leaf_ordering\n"
     ]
    }
   ],
   "source": [
    "import warnings\n",
    "warnings.filterwarnings(\"always\")\n",
    "import pandas as pd\n",
    "import seaborn as sns\n",
    "print pd.__version__\n",
    "print sns.__version__\n"
   ]
  },
  {
   "cell_type": "code",
   "execution_count": 69,
   "metadata": {},
   "outputs": [
    {
     "data": {
      "text/plain": [
       "[('foo', True), ('foo', False), ('melon', True), ('melon', False)]"
      ]
     },
     "execution_count": 69,
     "metadata": {},
     "output_type": "execute_result"
    }
   ],
   "source": [
    "import itertools\n",
    "a = [\"foo\", \"melon\"]\n",
    "b = [True, False]\n",
    "c = list(itertools.product(a, b))\n",
    "c"
   ]
  },
  {
   "cell_type": "code",
   "execution_count": 70,
   "metadata": {
    "collapsed": true
   },
   "outputs": [],
   "source": [
    "df = pd.DataFrame({'A': ['bat', 'foo', 'bait'],'B': ['abc', 'bar', 'xyz']})"
   ]
  },
  {
   "cell_type": "code",
   "execution_count": 72,
   "metadata": {},
   "outputs": [],
   "source": [
    "df['C'] = df['A'] + \"-\" + df['B']"
   ]
  },
  {
   "cell_type": "code",
   "execution_count": 73,
   "metadata": {},
   "outputs": [
    {
     "data": {
      "text/html": [
       "<div>\n",
       "<style scoped>\n",
       "    .dataframe tbody tr th:only-of-type {\n",
       "        vertical-align: middle;\n",
       "    }\n",
       "\n",
       "    .dataframe tbody tr th {\n",
       "        vertical-align: top;\n",
       "    }\n",
       "\n",
       "    .dataframe thead th {\n",
       "        text-align: right;\n",
       "    }\n",
       "</style>\n",
       "<table border=\"1\" class=\"dataframe\">\n",
       "  <thead>\n",
       "    <tr style=\"text-align: right;\">\n",
       "      <th></th>\n",
       "      <th>A</th>\n",
       "      <th>B</th>\n",
       "      <th>C</th>\n",
       "    </tr>\n",
       "  </thead>\n",
       "  <tbody>\n",
       "    <tr>\n",
       "      <th>0</th>\n",
       "      <td>bat</td>\n",
       "      <td>abc</td>\n",
       "      <td>bat-abc</td>\n",
       "    </tr>\n",
       "    <tr>\n",
       "      <th>1</th>\n",
       "      <td>foo</td>\n",
       "      <td>bar</td>\n",
       "      <td>foo-bar</td>\n",
       "    </tr>\n",
       "    <tr>\n",
       "      <th>2</th>\n",
       "      <td>bait</td>\n",
       "      <td>xyz</td>\n",
       "      <td>bait-xyz</td>\n",
       "    </tr>\n",
       "  </tbody>\n",
       "</table>\n",
       "</div>"
      ],
      "text/plain": [
       "      A    B         C\n",
       "0   bat  abc   bat-abc\n",
       "1   foo  bar   foo-bar\n",
       "2  bait  xyz  bait-xyz"
      ]
     },
     "execution_count": 73,
     "metadata": {},
     "output_type": "execute_result"
    }
   ],
   "source": [
    "df"
   ]
  },
  {
   "cell_type": "code",
   "execution_count": 75,
   "metadata": {},
   "outputs": [
    {
     "data": {
      "text/plain": [
       "0     xxx\n",
       "1     foo\n",
       "2    bait\n",
       "Name: A, dtype: object"
      ]
     },
     "execution_count": 75,
     "metadata": {},
     "output_type": "execute_result"
    }
   ],
   "source": [
    "df['A'].replace({'bat':'xxx'})"
   ]
  },
  {
   "cell_type": "code",
   "execution_count": 2,
   "metadata": {},
   "outputs": [
    {
     "name": "stdout",
     "output_type": "stream",
     "text": [
      "1.15.0\n"
     ]
    }
   ],
   "source": [
    "import numpy as np\n",
    "print np.__version__"
   ]
  },
  {
   "cell_type": "code",
   "execution_count": 77,
   "metadata": {},
   "outputs": [
    {
     "data": {
      "text/plain": [
       "(20.0, 0.03496503496503495)"
      ]
     },
     "execution_count": 77,
     "metadata": {},
     "output_type": "execute_result"
    }
   ],
   "source": [
    "from scipy.stats import fisher_exact\n",
    "fisher_exact([[8, 2], [1, 5]])"
   ]
  },
  {
   "cell_type": "code",
   "execution_count": 78,
   "metadata": {},
   "outputs": [
    {
     "data": {
      "text/plain": [
       "(0.05, 0.03496503496503495)"
      ]
     },
     "execution_count": 78,
     "metadata": {},
     "output_type": "execute_result"
    }
   ],
   "source": [
    "fisher_exact([ [1, 5],[8, 2]])"
   ]
  },
  {
   "cell_type": "code",
   "execution_count": 79,
   "metadata": {},
   "outputs": [
    {
     "data": {
      "text/plain": [
       "(20.0, 0.03496503496503495)"
      ]
     },
     "execution_count": 79,
     "metadata": {},
     "output_type": "execute_result"
    }
   ],
   "source": [
    "fisher_exact([[8,1],[2,5]])\n",
    "# fisher_exact([[],[]])"
   ]
  },
  {
   "cell_type": "code",
   "execution_count": 3,
   "metadata": {
    "collapsed": true
   },
   "outputs": [],
   "source": [
    "from __future__ import division\n",
    "from Emotif.utils import conf"
   ]
  },
  {
   "cell_type": "code",
   "execution_count": 61,
   "metadata": {
    "collapsed": true
   },
   "outputs": [],
   "source": [
    "confObj = conf.Conf()\n",
    "confDict = confObj.read(\"HLB.conf\") "
   ]
  },
  {
   "cell_type": "code",
   "execution_count": 5,
   "metadata": {
    "collapsed": true
   },
   "outputs": [],
   "source": [
    "file_list = confDict[\"input\"]['chromatin_interaction_files']"
   ]
  },
  {
   "cell_type": "code",
   "execution_count": 63,
   "metadata": {},
   "outputs": [
    {
     "data": {
      "text/plain": [
       "{'cytoscape': 'True',\n",
       " 'locus_heatmap': 'True',\n",
       " 'num_interaction_per_chr_above_given_distance': 'True',\n",
       " 'num_interaction_per_chr_above_given_score': 'True',\n",
       " 'num_interaction_per_distance': 'True',\n",
       " 'num_interaction_per_score': 'True',\n",
       " 'summary_table': 'True',\n",
       " 'washu': 'True'}"
      ]
     },
     "execution_count": 63,
     "metadata": {},
     "output_type": "execute_result"
    }
   ],
   "source": [
    "confDict[\"vis_plot\"]"
   ]
  },
  {
   "cell_type": "code",
   "execution_count": 6,
   "metadata": {
    "collapsed": true
   },
   "outputs": [],
   "source": [
    "import glob\n",
    "files = glob.glob(file_list)"
   ]
  },
  {
   "cell_type": "code",
   "execution_count": 27,
   "metadata": {
    "collapsed": true
   },
   "outputs": [],
   "source": [
    "def parse_file(f,header,resolution):\n",
    "\tif header:\n",
    "\t\tdf = pd.read_csv(f,sep=\"\\t\",index_col=0)\n",
    "\telse:\n",
    "\t\tpass\n",
    "\tprint f\n",
    "\tdf = df.where(np.triu(np.ones(df.shape)).astype(np.bool))\n",
    "\tdf['name'] = df.index\n",
    "\tdf2 = pd.melt(df, id_vars=['name'], value_vars=df.columns[:-1])\n",
    "\tpos = df2[abs(df2['value']) > 0.5]\n",
    "\tpos['distance'] = abs(pos.name.str.split('-',expand=True)[1].astype(int) - pos.variable.str.split('-',expand=True)[1].astype(int))/resolution\n",
    "\t\n",
    "\tpos.columns = ['Window1','Window2','Score','Distance']\n",
    "\tpos['Chromosome'] = pos.Window1.str.split(':',expand=True)[0]\n",
    "\tdel df\n",
    "\tgc.collect()\n",
    "\tdel df2\n",
    "\tgc.collect()\n",
    "\treturn pos\n",
    "\n",
    "def get_interaction_csv_file(files,header,resolution):\n",
    "\tdf_list = Parallel(n_jobs=8)(delayed(parse_file)(f,header,resolution) for f in files)\n",
    "\tres = pd.concat(df_list)\n",
    "\treturn res"
   ]
  },
  {
   "cell_type": "code",
   "execution_count": 28,
   "metadata": {},
   "outputs": [
    {
     "name": "stdout",
     "output_type": "stream",
     "text": [
      "/home/working/chromatin_analysis_pipeline/GAM_normalized_matrix/GSE64881_chr19_chr19.30kb.txt.gz\n"
     ]
    },
    {
     "name": "stderr",
     "output_type": "stream",
     "text": [
      "/usr/local/lib/python2.7/dist-packages/ipykernel_launcher.py:11: SettingWithCopyWarning: \n",
      "A value is trying to be set on a copy of a slice from a DataFrame.\n",
      "Try using .loc[row_indexer,col_indexer] = value instead\n",
      "\n",
      "See the caveats in the documentation: http://pandas.pydata.org/pandas-docs/stable/indexing.html#indexing-view-versus-copy\n",
      "  # This is added back by InteractiveShellApp.init_path()\n",
      "/usr/local/lib/python2.7/dist-packages/ipykernel_launcher.py:14: SettingWithCopyWarning: \n",
      "A value is trying to be set on a copy of a slice from a DataFrame.\n",
      "Try using .loc[row_indexer,col_indexer] = value instead\n",
      "\n",
      "See the caveats in the documentation: http://pandas.pydata.org/pandas-docs/stable/indexing.html#indexing-view-versus-copy\n",
      "  \n"
     ]
    },
    {
     "name": "stdout",
     "output_type": "stream",
     "text": [
      "/home/working/chromatin_analysis_pipeline/GAM_normalized_matrix/GSE64881_chr18_chr18.30kb.txt.gz\n"
     ]
    },
    {
     "name": "stderr",
     "output_type": "stream",
     "text": [
      "/usr/local/lib/python2.7/dist-packages/ipykernel_launcher.py:11: SettingWithCopyWarning: \n",
      "A value is trying to be set on a copy of a slice from a DataFrame.\n",
      "Try using .loc[row_indexer,col_indexer] = value instead\n",
      "\n",
      "See the caveats in the documentation: http://pandas.pydata.org/pandas-docs/stable/indexing.html#indexing-view-versus-copy\n",
      "  # This is added back by InteractiveShellApp.init_path()\n",
      "/usr/local/lib/python2.7/dist-packages/ipykernel_launcher.py:14: SettingWithCopyWarning: \n",
      "A value is trying to be set on a copy of a slice from a DataFrame.\n",
      "Try using .loc[row_indexer,col_indexer] = value instead\n",
      "\n",
      "See the caveats in the documentation: http://pandas.pydata.org/pandas-docs/stable/indexing.html#indexing-view-versus-copy\n",
      "  \n"
     ]
    },
    {
     "name": "stdout",
     "output_type": "stream",
     "text": [
      "/home/working/chromatin_analysis_pipeline/GAM_normalized_matrix/GSE64881_chr12_chr12.30kb.txt.gz\n"
     ]
    },
    {
     "name": "stderr",
     "output_type": "stream",
     "text": [
      "/usr/local/lib/python2.7/dist-packages/ipykernel_launcher.py:11: SettingWithCopyWarning: \n",
      "A value is trying to be set on a copy of a slice from a DataFrame.\n",
      "Try using .loc[row_indexer,col_indexer] = value instead\n",
      "\n",
      "See the caveats in the documentation: http://pandas.pydata.org/pandas-docs/stable/indexing.html#indexing-view-versus-copy\n",
      "  # This is added back by InteractiveShellApp.init_path()\n"
     ]
    },
    {
     "name": "stdout",
     "output_type": "stream",
     "text": [
      "/home/working/chromatin_analysis_pipeline/GAM_normalized_matrix/GSE64881_chr9_chr9.30kb.txt.gz\n"
     ]
    },
    {
     "name": "stderr",
     "output_type": "stream",
     "text": [
      "/usr/local/lib/python2.7/dist-packages/ipykernel_launcher.py:14: SettingWithCopyWarning: \n",
      "A value is trying to be set on a copy of a slice from a DataFrame.\n",
      "Try using .loc[row_indexer,col_indexer] = value instead\n",
      "\n",
      "See the caveats in the documentation: http://pandas.pydata.org/pandas-docs/stable/indexing.html#indexing-view-versus-copy\n",
      "  \n"
     ]
    },
    {
     "name": "stdout",
     "output_type": "stream",
     "text": [
      "/home/working/chromatin_analysis_pipeline/GAM_normalized_matrix/GSE64881_chr10_chr10.30kb.txt.gz\n"
     ]
    },
    {
     "name": "stderr",
     "output_type": "stream",
     "text": [
      "/usr/local/lib/python2.7/dist-packages/ipykernel_launcher.py:11: SettingWithCopyWarning: \n",
      "A value is trying to be set on a copy of a slice from a DataFrame.\n",
      "Try using .loc[row_indexer,col_indexer] = value instead\n",
      "\n",
      "See the caveats in the documentation: http://pandas.pydata.org/pandas-docs/stable/indexing.html#indexing-view-versus-copy\n",
      "  # This is added back by InteractiveShellApp.init_path()\n"
     ]
    },
    {
     "name": "stdout",
     "output_type": "stream",
     "text": [
      "/home/working/chromatin_analysis_pipeline/GAM_normalized_matrix/GSE64881_chr14_chr14.30kb.txt.gz\n"
     ]
    },
    {
     "name": "stderr",
     "output_type": "stream",
     "text": [
      "/usr/local/lib/python2.7/dist-packages/ipykernel_launcher.py:14: SettingWithCopyWarning: \n",
      "A value is trying to be set on a copy of a slice from a DataFrame.\n",
      "Try using .loc[row_indexer,col_indexer] = value instead\n",
      "\n",
      "See the caveats in the documentation: http://pandas.pydata.org/pandas-docs/stable/indexing.html#indexing-view-versus-copy\n",
      "  \n"
     ]
    },
    {
     "name": "stdout",
     "output_type": "stream",
     "text": [
      "/home/working/chromatin_analysis_pipeline/GAM_normalized_matrix/GSE64881_chr7_chr7.30kb.txt.gz\n"
     ]
    },
    {
     "name": "stderr",
     "output_type": "stream",
     "text": [
      "/usr/local/lib/python2.7/dist-packages/ipykernel_launcher.py:11: SettingWithCopyWarning: \n",
      "A value is trying to be set on a copy of a slice from a DataFrame.\n",
      "Try using .loc[row_indexer,col_indexer] = value instead\n",
      "\n",
      "See the caveats in the documentation: http://pandas.pydata.org/pandas-docs/stable/indexing.html#indexing-view-versus-copy\n",
      "  # This is added back by InteractiveShellApp.init_path()\n",
      "/usr/local/lib/python2.7/dist-packages/ipykernel_launcher.py:14: SettingWithCopyWarning: \n",
      "A value is trying to be set on a copy of a slice from a DataFrame.\n",
      "Try using .loc[row_indexer,col_indexer] = value instead\n",
      "\n",
      "See the caveats in the documentation: http://pandas.pydata.org/pandas-docs/stable/indexing.html#indexing-view-versus-copy\n",
      "  \n",
      "/usr/local/lib/python2.7/dist-packages/ipykernel_launcher.py:11: SettingWithCopyWarning: \n",
      "A value is trying to be set on a copy of a slice from a DataFrame.\n",
      "Try using .loc[row_indexer,col_indexer] = value instead\n",
      "\n",
      "See the caveats in the documentation: http://pandas.pydata.org/pandas-docs/stable/indexing.html#indexing-view-versus-copy\n",
      "  # This is added back by InteractiveShellApp.init_path()\n",
      "/usr/local/lib/python2.7/dist-packages/ipykernel_launcher.py:14: SettingWithCopyWarning: \n",
      "A value is trying to be set on a copy of a slice from a DataFrame.\n",
      "Try using .loc[row_indexer,col_indexer] = value instead\n",
      "\n",
      "See the caveats in the documentation: http://pandas.pydata.org/pandas-docs/stable/indexing.html#indexing-view-versus-copy\n",
      "  \n"
     ]
    },
    {
     "name": "stdout",
     "output_type": "stream",
     "text": [
      "/home/working/chromatin_analysis_pipeline/GAM_normalized_matrix/GSE64881_chr3_chr3.30kb.txt.gz\n"
     ]
    },
    {
     "name": "stderr",
     "output_type": "stream",
     "text": [
      "/usr/local/lib/python2.7/dist-packages/ipykernel_launcher.py:11: SettingWithCopyWarning: \n",
      "A value is trying to be set on a copy of a slice from a DataFrame.\n",
      "Try using .loc[row_indexer,col_indexer] = value instead\n",
      "\n",
      "See the caveats in the documentation: http://pandas.pydata.org/pandas-docs/stable/indexing.html#indexing-view-versus-copy\n",
      "  # This is added back by InteractiveShellApp.init_path()\n",
      "/usr/local/lib/python2.7/dist-packages/ipykernel_launcher.py:14: SettingWithCopyWarning: \n",
      "A value is trying to be set on a copy of a slice from a DataFrame.\n",
      "Try using .loc[row_indexer,col_indexer] = value instead\n",
      "\n",
      "See the caveats in the documentation: http://pandas.pydata.org/pandas-docs/stable/indexing.html#indexing-view-versus-copy\n",
      "  \n",
      "/usr/local/lib/python2.7/dist-packages/ipykernel_launcher.py:11: SettingWithCopyWarning: \n",
      "A value is trying to be set on a copy of a slice from a DataFrame.\n",
      "Try using .loc[row_indexer,col_indexer] = value instead\n",
      "\n",
      "See the caveats in the documentation: http://pandas.pydata.org/pandas-docs/stable/indexing.html#indexing-view-versus-copy\n",
      "  # This is added back by InteractiveShellApp.init_path()\n"
     ]
    },
    {
     "name": "stdout",
     "output_type": "stream",
     "text": [
      "/home/working/chromatin_analysis_pipeline/GAM_normalized_matrix/GSE64881_chr13_chr13.30kb.txt.gz\n"
     ]
    },
    {
     "name": "stderr",
     "output_type": "stream",
     "text": [
      "/usr/local/lib/python2.7/dist-packages/ipykernel_launcher.py:14: SettingWithCopyWarning: \n",
      "A value is trying to be set on a copy of a slice from a DataFrame.\n",
      "Try using .loc[row_indexer,col_indexer] = value instead\n",
      "\n",
      "See the caveats in the documentation: http://pandas.pydata.org/pandas-docs/stable/indexing.html#indexing-view-versus-copy\n",
      "  \n"
     ]
    },
    {
     "name": "stdout",
     "output_type": "stream",
     "text": [
      "/home/working/chromatin_analysis_pipeline/GAM_normalized_matrix/GSE64881_chr6_chr6.30kb.txt.gz\n",
      "/home/working/chromatin_analysis_pipeline/GAM_normalized_matrix/GSE64881_chr2_chr2.30kb.txt.gz\n"
     ]
    },
    {
     "name": "stderr",
     "output_type": "stream",
     "text": [
      "/usr/local/lib/python2.7/dist-packages/ipykernel_launcher.py:11: SettingWithCopyWarning: \n",
      "A value is trying to be set on a copy of a slice from a DataFrame.\n",
      "Try using .loc[row_indexer,col_indexer] = value instead\n",
      "\n",
      "See the caveats in the documentation: http://pandas.pydata.org/pandas-docs/stable/indexing.html#indexing-view-versus-copy\n",
      "  # This is added back by InteractiveShellApp.init_path()\n"
     ]
    },
    {
     "name": "stdout",
     "output_type": "stream",
     "text": [
      "/home/working/chromatin_analysis_pipeline/GAM_normalized_matrix/GSE64881_chr16_chr16.30kb.txt.gz\n"
     ]
    },
    {
     "name": "stderr",
     "output_type": "stream",
     "text": [
      "/usr/local/lib/python2.7/dist-packages/ipykernel_launcher.py:14: SettingWithCopyWarning: \n",
      "A value is trying to be set on a copy of a slice from a DataFrame.\n",
      "Try using .loc[row_indexer,col_indexer] = value instead\n",
      "\n",
      "See the caveats in the documentation: http://pandas.pydata.org/pandas-docs/stable/indexing.html#indexing-view-versus-copy\n",
      "  \n",
      "/usr/local/lib/python2.7/dist-packages/ipykernel_launcher.py:11: SettingWithCopyWarning: \n",
      "A value is trying to be set on a copy of a slice from a DataFrame.\n",
      "Try using .loc[row_indexer,col_indexer] = value instead\n",
      "\n",
      "See the caveats in the documentation: http://pandas.pydata.org/pandas-docs/stable/indexing.html#indexing-view-versus-copy\n",
      "  # This is added back by InteractiveShellApp.init_path()\n",
      "/usr/local/lib/python2.7/dist-packages/ipykernel_launcher.py:14: SettingWithCopyWarning: \n",
      "A value is trying to be set on a copy of a slice from a DataFrame.\n",
      "Try using .loc[row_indexer,col_indexer] = value instead\n",
      "\n",
      "See the caveats in the documentation: http://pandas.pydata.org/pandas-docs/stable/indexing.html#indexing-view-versus-copy\n",
      "  \n",
      "/usr/local/lib/python2.7/dist-packages/ipykernel_launcher.py:11: SettingWithCopyWarning: \n",
      "A value is trying to be set on a copy of a slice from a DataFrame.\n",
      "Try using .loc[row_indexer,col_indexer] = value instead\n",
      "\n",
      "See the caveats in the documentation: http://pandas.pydata.org/pandas-docs/stable/indexing.html#indexing-view-versus-copy\n",
      "  # This is added back by InteractiveShellApp.init_path()\n",
      "/usr/local/lib/python2.7/dist-packages/ipykernel_launcher.py:14: SettingWithCopyWarning: \n",
      "A value is trying to be set on a copy of a slice from a DataFrame.\n",
      "Try using .loc[row_indexer,col_indexer] = value instead\n",
      "\n",
      "See the caveats in the documentation: http://pandas.pydata.org/pandas-docs/stable/indexing.html#indexing-view-versus-copy\n",
      "  \n"
     ]
    },
    {
     "name": "stdout",
     "output_type": "stream",
     "text": [
      "/home/working/chromatin_analysis_pipeline/GAM_normalized_matrix/GSE64881_chr17_chr17.30kb.txt.gz\n"
     ]
    },
    {
     "name": "stderr",
     "output_type": "stream",
     "text": [
      "/usr/local/lib/python2.7/dist-packages/ipykernel_launcher.py:11: SettingWithCopyWarning: \n",
      "A value is trying to be set on a copy of a slice from a DataFrame.\n",
      "Try using .loc[row_indexer,col_indexer] = value instead\n",
      "\n",
      "See the caveats in the documentation: http://pandas.pydata.org/pandas-docs/stable/indexing.html#indexing-view-versus-copy\n",
      "  # This is added back by InteractiveShellApp.init_path()\n",
      "/usr/local/lib/python2.7/dist-packages/ipykernel_launcher.py:11: SettingWithCopyWarning: \n",
      "A value is trying to be set on a copy of a slice from a DataFrame.\n",
      "Try using .loc[row_indexer,col_indexer] = value instead\n",
      "\n",
      "See the caveats in the documentation: http://pandas.pydata.org/pandas-docs/stable/indexing.html#indexing-view-versus-copy\n",
      "  # This is added back by InteractiveShellApp.init_path()\n",
      "/usr/local/lib/python2.7/dist-packages/ipykernel_launcher.py:14: SettingWithCopyWarning: \n",
      "A value is trying to be set on a copy of a slice from a DataFrame.\n",
      "Try using .loc[row_indexer,col_indexer] = value instead\n",
      "\n",
      "See the caveats in the documentation: http://pandas.pydata.org/pandas-docs/stable/indexing.html#indexing-view-versus-copy\n",
      "  \n",
      "/usr/local/lib/python2.7/dist-packages/ipykernel_launcher.py:14: SettingWithCopyWarning: \n",
      "A value is trying to be set on a copy of a slice from a DataFrame.\n",
      "Try using .loc[row_indexer,col_indexer] = value instead\n",
      "\n",
      "See the caveats in the documentation: http://pandas.pydata.org/pandas-docs/stable/indexing.html#indexing-view-versus-copy\n",
      "  \n"
     ]
    },
    {
     "name": "stdout",
     "output_type": "stream",
     "text": [
      "/home/working/chromatin_analysis_pipeline/GAM_normalized_matrix/GSE64881_chr15_chr15.30kb.txt.gz\n",
      "/home/working/chromatin_analysis_pipeline/GAM_normalized_matrix/GSE64881_chr4_chr4.30kb.txt.gz\n"
     ]
    },
    {
     "name": "stderr",
     "output_type": "stream",
     "text": [
      "/usr/local/lib/python2.7/dist-packages/ipykernel_launcher.py:11: SettingWithCopyWarning: \n",
      "A value is trying to be set on a copy of a slice from a DataFrame.\n",
      "Try using .loc[row_indexer,col_indexer] = value instead\n",
      "\n",
      "See the caveats in the documentation: http://pandas.pydata.org/pandas-docs/stable/indexing.html#indexing-view-versus-copy\n",
      "  # This is added back by InteractiveShellApp.init_path()\n",
      "/usr/local/lib/python2.7/dist-packages/ipykernel_launcher.py:14: SettingWithCopyWarning: \n",
      "A value is trying to be set on a copy of a slice from a DataFrame.\n",
      "Try using .loc[row_indexer,col_indexer] = value instead\n",
      "\n",
      "See the caveats in the documentation: http://pandas.pydata.org/pandas-docs/stable/indexing.html#indexing-view-versus-copy\n",
      "  \n"
     ]
    },
    {
     "name": "stdout",
     "output_type": "stream",
     "text": [
      "/home/working/chromatin_analysis_pipeline/GAM_normalized_matrix/GSE64881_chr5_chr5.30kb.txt.gz\n",
      "/home/working/chromatin_analysis_pipeline/GAM_normalized_matrix/GSE64881_chr11_chr11.30kb.txt.gz\n"
     ]
    },
    {
     "name": "stderr",
     "output_type": "stream",
     "text": [
      "/usr/local/lib/python2.7/dist-packages/ipykernel_launcher.py:11: SettingWithCopyWarning: \n",
      "A value is trying to be set on a copy of a slice from a DataFrame.\n",
      "Try using .loc[row_indexer,col_indexer] = value instead\n",
      "\n",
      "See the caveats in the documentation: http://pandas.pydata.org/pandas-docs/stable/indexing.html#indexing-view-versus-copy\n",
      "  # This is added back by InteractiveShellApp.init_path()\n"
     ]
    },
    {
     "name": "stdout",
     "output_type": "stream",
     "text": [
      "/home/working/chromatin_analysis_pipeline/GAM_normalized_matrix/GSE64881_chr8_chr8.30kb.txt.gz\n"
     ]
    },
    {
     "name": "stderr",
     "output_type": "stream",
     "text": [
      "/usr/local/lib/python2.7/dist-packages/ipykernel_launcher.py:14: SettingWithCopyWarning: \n",
      "A value is trying to be set on a copy of a slice from a DataFrame.\n",
      "Try using .loc[row_indexer,col_indexer] = value instead\n",
      "\n",
      "See the caveats in the documentation: http://pandas.pydata.org/pandas-docs/stable/indexing.html#indexing-view-versus-copy\n",
      "  \n",
      "/usr/local/lib/python2.7/dist-packages/ipykernel_launcher.py:11: SettingWithCopyWarning: \n",
      "A value is trying to be set on a copy of a slice from a DataFrame.\n",
      "Try using .loc[row_indexer,col_indexer] = value instead\n",
      "\n",
      "See the caveats in the documentation: http://pandas.pydata.org/pandas-docs/stable/indexing.html#indexing-view-versus-copy\n",
      "  # This is added back by InteractiveShellApp.init_path()\n",
      "/usr/local/lib/python2.7/dist-packages/ipykernel_launcher.py:11: SettingWithCopyWarning: \n",
      "A value is trying to be set on a copy of a slice from a DataFrame.\n",
      "Try using .loc[row_indexer,col_indexer] = value instead\n",
      "\n",
      "See the caveats in the documentation: http://pandas.pydata.org/pandas-docs/stable/indexing.html#indexing-view-versus-copy\n",
      "  # This is added back by InteractiveShellApp.init_path()\n",
      "/usr/local/lib/python2.7/dist-packages/ipykernel_launcher.py:14: SettingWithCopyWarning: \n",
      "A value is trying to be set on a copy of a slice from a DataFrame.\n",
      "Try using .loc[row_indexer,col_indexer] = value instead\n",
      "\n",
      "See the caveats in the documentation: http://pandas.pydata.org/pandas-docs/stable/indexing.html#indexing-view-versus-copy\n",
      "  \n",
      "/usr/local/lib/python2.7/dist-packages/ipykernel_launcher.py:11: SettingWithCopyWarning: \n",
      "A value is trying to be set on a copy of a slice from a DataFrame.\n",
      "Try using .loc[row_indexer,col_indexer] = value instead\n",
      "\n",
      "See the caveats in the documentation: http://pandas.pydata.org/pandas-docs/stable/indexing.html#indexing-view-versus-copy\n",
      "  # This is added back by InteractiveShellApp.init_path()\n",
      "/usr/local/lib/python2.7/dist-packages/ipykernel_launcher.py:14: SettingWithCopyWarning: \n",
      "A value is trying to be set on a copy of a slice from a DataFrame.\n",
      "Try using .loc[row_indexer,col_indexer] = value instead\n",
      "\n",
      "See the caveats in the documentation: http://pandas.pydata.org/pandas-docs/stable/indexing.html#indexing-view-versus-copy\n",
      "  \n",
      "/usr/local/lib/python2.7/dist-packages/ipykernel_launcher.py:14: SettingWithCopyWarning: \n",
      "A value is trying to be set on a copy of a slice from a DataFrame.\n",
      "Try using .loc[row_indexer,col_indexer] = value instead\n",
      "\n",
      "See the caveats in the documentation: http://pandas.pydata.org/pandas-docs/stable/indexing.html#indexing-view-versus-copy\n",
      "  \n"
     ]
    },
    {
     "name": "stdout",
     "output_type": "stream",
     "text": [
      "/home/working/chromatin_analysis_pipeline/GAM_normalized_matrix/GSE64881_chr1_chr1.30kb.txt.gz\n"
     ]
    },
    {
     "name": "stderr",
     "output_type": "stream",
     "text": [
      "/usr/local/lib/python2.7/dist-packages/ipykernel_launcher.py:11: SettingWithCopyWarning: \n",
      "A value is trying to be set on a copy of a slice from a DataFrame.\n",
      "Try using .loc[row_indexer,col_indexer] = value instead\n",
      "\n",
      "See the caveats in the documentation: http://pandas.pydata.org/pandas-docs/stable/indexing.html#indexing-view-versus-copy\n",
      "  # This is added back by InteractiveShellApp.init_path()\n",
      "/usr/local/lib/python2.7/dist-packages/ipykernel_launcher.py:14: SettingWithCopyWarning: \n",
      "A value is trying to be set on a copy of a slice from a DataFrame.\n",
      "Try using .loc[row_indexer,col_indexer] = value instead\n",
      "\n",
      "See the caveats in the documentation: http://pandas.pydata.org/pandas-docs/stable/indexing.html#indexing-view-versus-copy\n",
      "  \n"
     ]
    }
   ],
   "source": [
    "df = get_interaction_csv_file(files,True,30000)"
   ]
  },
  {
   "cell_type": "code",
   "execution_count": 12,
   "metadata": {},
   "outputs": [
    {
     "data": {
      "text/html": [
       "<div>\n",
       "<style scoped>\n",
       "    .dataframe tbody tr th:only-of-type {\n",
       "        vertical-align: middle;\n",
       "    }\n",
       "\n",
       "    .dataframe tbody tr th {\n",
       "        vertical-align: top;\n",
       "    }\n",
       "\n",
       "    .dataframe thead th {\n",
       "        text-align: right;\n",
       "    }\n",
       "</style>\n",
       "<table border=\"1\" class=\"dataframe\">\n",
       "  <thead>\n",
       "    <tr style=\"text-align: right;\">\n",
       "      <th></th>\n",
       "      <th>Window1</th>\n",
       "      <th>Window2</th>\n",
       "      <th>Score</th>\n",
       "      <th>Distance</th>\n",
       "    </tr>\n",
       "  </thead>\n",
       "  <tbody>\n",
       "    <tr>\n",
       "      <th>413700</th>\n",
       "      <td>chr9:3000000-3030000</td>\n",
       "      <td>chr9:3000000-3030000</td>\n",
       "      <td>1.00000</td>\n",
       "      <td>0</td>\n",
       "    </tr>\n",
       "    <tr>\n",
       "      <th>417836</th>\n",
       "      <td>chr9:3000000-3030000</td>\n",
       "      <td>chr9:3030000-3060000</td>\n",
       "      <td>1.00000</td>\n",
       "      <td>30000</td>\n",
       "    </tr>\n",
       "    <tr>\n",
       "      <th>417837</th>\n",
       "      <td>chr9:3030000-3060000</td>\n",
       "      <td>chr9:3030000-3060000</td>\n",
       "      <td>1.00000</td>\n",
       "      <td>0</td>\n",
       "    </tr>\n",
       "    <tr>\n",
       "      <th>421972</th>\n",
       "      <td>chr9:3000000-3030000</td>\n",
       "      <td>chr9:3060000-3090000</td>\n",
       "      <td>1.00000</td>\n",
       "      <td>60000</td>\n",
       "    </tr>\n",
       "    <tr>\n",
       "      <th>421973</th>\n",
       "      <td>chr9:3030000-3060000</td>\n",
       "      <td>chr9:3060000-3090000</td>\n",
       "      <td>0.62023</td>\n",
       "      <td>30000</td>\n",
       "    </tr>\n",
       "  </tbody>\n",
       "</table>\n",
       "</div>"
      ],
      "text/plain": [
       "                     Window1               Window2    Score  Distance\n",
       "413700  chr9:3000000-3030000  chr9:3000000-3030000  1.00000         0\n",
       "417836  chr9:3000000-3030000  chr9:3030000-3060000  1.00000     30000\n",
       "417837  chr9:3030000-3060000  chr9:3030000-3060000  1.00000         0\n",
       "421972  chr9:3000000-3030000  chr9:3060000-3090000  1.00000     60000\n",
       "421973  chr9:3030000-3060000  chr9:3060000-3090000  0.62023     30000"
      ]
     },
     "execution_count": 12,
     "metadata": {},
     "output_type": "execute_result"
    }
   ],
   "source": [
    "df.head()"
   ]
  },
  {
   "cell_type": "code",
   "execution_count": 14,
   "metadata": {
    "collapsed": true
   },
   "outputs": [],
   "source": [
    "%matplotlib inline"
   ]
  },
  {
   "cell_type": "code",
   "execution_count": 15,
   "metadata": {},
   "outputs": [
    {
     "name": "stderr",
     "output_type": "stream",
     "text": [
      "/usr/local/lib/python2.7/dist-packages/scipy/stats/stats.py:1713: FutureWarning: Using a non-tuple sequence for multidimensional indexing is deprecated; use `arr[tuple(seq)]` instead of `arr[seq]`. In the future this will be interpreted as an array index, `arr[np.array(seq)]`, which will result either in an error or a different result.\n",
      "  return np.add.reduce(sorted[indexer] * weights, axis=axis) / sumval\n",
      "/usr/local/lib/python2.7/dist-packages/scipy/stats/stats.py:1713: FutureWarning: Using a non-tuple sequence for multidimensional indexing is deprecated; use `arr[tuple(seq)]` instead of `arr[seq]`. In the future this will be interpreted as an array index, `arr[np.array(seq)]`, which will result either in an error or a different result.\n",
      "  return np.add.reduce(sorted[indexer] * weights, axis=axis) / sumval\n",
      "/usr/local/lib/python2.7/dist-packages/scipy/stats/stats.py:1713: FutureWarning: Using a non-tuple sequence for multidimensional indexing is deprecated; use `arr[tuple(seq)]` instead of `arr[seq]`. In the future this will be interpreted as an array index, `arr[np.array(seq)]`, which will result either in an error or a different result.\n",
      "  return np.add.reduce(sorted[indexer] * weights, axis=axis) / sumval\n",
      "/usr/local/lib/python2.7/dist-packages/scipy/stats/stats.py:1713: FutureWarning: Using a non-tuple sequence for multidimensional indexing is deprecated; use `arr[tuple(seq)]` instead of `arr[seq]`. In the future this will be interpreted as an array index, `arr[np.array(seq)]`, which will result either in an error or a different result.\n",
      "  return np.add.reduce(sorted[indexer] * weights, axis=axis) / sumval\n",
      "/usr/local/lib/python2.7/dist-packages/statsmodels/nonparametric/kde.py:475: DeprecationWarning: object of type <type 'numpy.float64'> cannot be safely interpreted as an integer.\n",
      "  grid,delta = np.linspace(a,b,gridsize,retstep=True)\n"
     ]
    },
    {
     "data": {
      "text/plain": [
       "<matplotlib.axes._subplots.AxesSubplot at 0x7fe67c7b3590>"
      ]
     },
     "execution_count": 15,
     "metadata": {},
     "output_type": "execute_result"
    },
    {
     "data": {
      "image/png": "[encoded data removed]",
      "text/plain": [
       "<Figure size 432x288 with 1 Axes>"
      ]
     },
     "metadata": {},
     "output_type": "display_data"
    }
   ],
   "source": [
    "sns.distplot(df.Score)"
   ]
  },
  {
   "cell_type": "code",
   "execution_count": 21,
   "metadata": {},
   "outputs": [
    {
     "name": "stderr",
     "output_type": "stream",
     "text": [
      "/usr/local/lib/python2.7/dist-packages/scipy/stats/stats.py:1713: FutureWarning: Using a non-tuple sequence for multidimensional indexing is deprecated; use `arr[tuple(seq)]` instead of `arr[seq]`. In the future this will be interpreted as an array index, `arr[np.array(seq)]`, which will result either in an error or a different result.\n",
      "  return np.add.reduce(sorted[indexer] * weights, axis=axis) / sumval\n",
      "/usr/local/lib/python2.7/dist-packages/scipy/stats/stats.py:1713: FutureWarning: Using a non-tuple sequence for multidimensional indexing is deprecated; use `arr[tuple(seq)]` instead of `arr[seq]`. In the future this will be interpreted as an array index, `arr[np.array(seq)]`, which will result either in an error or a different result.\n",
      "  return np.add.reduce(sorted[indexer] * weights, axis=axis) / sumval\n",
      "/usr/local/lib/python2.7/dist-packages/scipy/stats/stats.py:1713: FutureWarning: Using a non-tuple sequence for multidimensional indexing is deprecated; use `arr[tuple(seq)]` instead of `arr[seq]`. In the future this will be interpreted as an array index, `arr[np.array(seq)]`, which will result either in an error or a different result.\n",
      "  return np.add.reduce(sorted[indexer] * weights, axis=axis) / sumval\n",
      "/usr/local/lib/python2.7/dist-packages/scipy/stats/stats.py:1713: FutureWarning: Using a non-tuple sequence for multidimensional indexing is deprecated; use `arr[tuple(seq)]` instead of `arr[seq]`. In the future this will be interpreted as an array index, `arr[np.array(seq)]`, which will result either in an error or a different result.\n",
      "  return np.add.reduce(sorted[indexer] * weights, axis=axis) / sumval\n",
      "/usr/local/lib/python2.7/dist-packages/statsmodels/nonparametric/kde.py:475: DeprecationWarning: object of type <type 'numpy.float64'> cannot be safely interpreted as an integer.\n",
      "  grid,delta = np.linspace(a,b,gridsize,retstep=True)\n"
     ]
    },
    {
     "data": {
      "text/plain": [
       "Text(0,0.5,'Counts')"
      ]
     },
     "execution_count": 21,
     "metadata": {},
     "output_type": "execute_result"
    },
    {
     "data": {
      "image/png": "[encoded data removed]",
      "text/plain": [
       "<Figure size 432x288 with 2 Axes>"
      ]
     },
     "metadata": {},
     "output_type": "display_data"
    }
   ],
   "source": [
    "import matplotlib.pyplot as plt\n",
    "f,ax1 = plt.subplots()\n",
    "sns.distplot(df.Score,kde=False,ax=ax1)\n",
    "ax2 = ax1.twinx()\n",
    "# ax2.set_ylim(0,3)\n",
    "ax2.yaxis.set_ticks([])\n",
    "sns.kdeplot(df.Score,ax=ax2)\n",
    "ax1.set_xlabel('x var')\n",
    "ax1.set_ylabel('Counts')"
   ]
  },
  {
   "cell_type": "code",
   "execution_count": 25,
   "metadata": {
    "collapsed": true
   },
   "outputs": [],
   "source": [
    "df['Distance'] = df['Distance']/30000"
   ]
  },
  {
   "cell_type": "code",
   "execution_count": 26,
   "metadata": {},
   "outputs": [
    {
     "name": "stderr",
     "output_type": "stream",
     "text": [
      "/usr/local/lib/python2.7/dist-packages/scipy/stats/stats.py:1713: FutureWarning: Using a non-tuple sequence for multidimensional indexing is deprecated; use `arr[tuple(seq)]` instead of `arr[seq]`. In the future this will be interpreted as an array index, `arr[np.array(seq)]`, which will result either in an error or a different result.\n",
      "  return np.add.reduce(sorted[indexer] * weights, axis=axis) / sumval\n",
      "/usr/local/lib/python2.7/dist-packages/scipy/stats/stats.py:1713: FutureWarning: Using a non-tuple sequence for multidimensional indexing is deprecated; use `arr[tuple(seq)]` instead of `arr[seq]`. In the future this will be interpreted as an array index, `arr[np.array(seq)]`, which will result either in an error or a different result.\n",
      "  return np.add.reduce(sorted[indexer] * weights, axis=axis) / sumval\n",
      "/usr/local/lib/python2.7/dist-packages/scipy/stats/stats.py:1713: FutureWarning: Using a non-tuple sequence for multidimensional indexing is deprecated; use `arr[tuple(seq)]` instead of `arr[seq]`. In the future this will be interpreted as an array index, `arr[np.array(seq)]`, which will result either in an error or a different result.\n",
      "  return np.add.reduce(sorted[indexer] * weights, axis=axis) / sumval\n",
      "/usr/local/lib/python2.7/dist-packages/scipy/stats/stats.py:1713: FutureWarning: Using a non-tuple sequence for multidimensional indexing is deprecated; use `arr[tuple(seq)]` instead of `arr[seq]`. In the future this will be interpreted as an array index, `arr[np.array(seq)]`, which will result either in an error or a different result.\n",
      "  return np.add.reduce(sorted[indexer] * weights, axis=axis) / sumval\n",
      "/usr/local/lib/python2.7/dist-packages/statsmodels/nonparametric/kde.py:475: DeprecationWarning: object of type <type 'numpy.float64'> cannot be safely interpreted as an integer.\n",
      "  grid,delta = np.linspace(a,b,gridsize,retstep=True)\n"
     ]
    },
    {
     "data": {
      "text/plain": [
       "Text(0,0.5,'Counts')"
      ]
     },
     "execution_count": 26,
     "metadata": {},
     "output_type": "execute_result"
    },
    {
     "data": {
      "image/png": "[encoded data removed]",
      "text/plain": [
       "<Figure size 432x288 with 2 Axes>"
      ]
     },
     "metadata": {},
     "output_type": "display_data"
    }
   ],
   "source": [
    "import matplotlib.pyplot as plt\n",
    "f,ax1 = plt.subplots()\n",
    "sns.distplot(df.Distance,kde=False,ax=ax1)\n",
    "ax2 = ax1.twinx()\n",
    "# ax2.set_ylim(0,3)\n",
    "ax2.yaxis.set_ticks([])\n",
    "sns.kdeplot(df.Distance,ax=ax2)\n",
    "ax1.set_xlabel('x var')\n",
    "ax1.set_ylabel('Counts')"
   ]
  },
  {
   "cell_type": "code",
   "execution_count": 37,
   "metadata": {
    "collapsed": true
   },
   "outputs": [],
   "source": [
    "score_list = [0.7,0.8,0.9]"
   ]
  },
  {
   "cell_type": "code",
   "execution_count": 45,
   "metadata": {
    "collapsed": true
   },
   "outputs": [],
   "source": [
    "x = df.Chromosome.unique().tolist()"
   ]
  },
  {
   "cell_type": "code",
   "execution_count": 47,
   "metadata": {
    "scrolled": true
   },
   "outputs": [
    {
     "data": {
      "text/html": [
       "<div>\n",
       "<style scoped>\n",
       "    .dataframe tbody tr th:only-of-type {\n",
       "        vertical-align: middle;\n",
       "    }\n",
       "\n",
       "    .dataframe tbody tr th {\n",
       "        vertical-align: top;\n",
       "    }\n",
       "\n",
       "    .dataframe thead th {\n",
       "        text-align: right;\n",
       "    }\n",
       "</style>\n",
       "<table border=\"1\" class=\"dataframe\">\n",
       "  <thead>\n",
       "    <tr style=\"text-align: right;\">\n",
       "      <th></th>\n",
       "      <th>Window1</th>\n",
       "      <th>Window2</th>\n",
       "      <th>Score</th>\n",
       "      <th>Distance</th>\n",
       "      <th>Chromosome</th>\n",
       "    </tr>\n",
       "  </thead>\n",
       "  <tbody>\n",
       "    <tr>\n",
       "      <th>413700</th>\n",
       "      <td>chr9:3000000-3030000</td>\n",
       "      <td>chr9:3000000-3030000</td>\n",
       "      <td>1.000000</td>\n",
       "      <td>0.000000</td>\n",
       "      <td>chr9</td>\n",
       "    </tr>\n",
       "    <tr>\n",
       "      <th>417836</th>\n",
       "      <td>chr9:3000000-3030000</td>\n",
       "      <td>chr9:3030000-3060000</td>\n",
       "      <td>1.000000</td>\n",
       "      <td>1.000000</td>\n",
       "      <td>chr9</td>\n",
       "    </tr>\n",
       "    <tr>\n",
       "      <th>417837</th>\n",
       "      <td>chr9:3030000-3060000</td>\n",
       "      <td>chr9:3030000-3060000</td>\n",
       "      <td>1.000000</td>\n",
       "      <td>0.000000</td>\n",
       "      <td>chr9</td>\n",
       "    </tr>\n",
       "    <tr>\n",
       "      <th>421972</th>\n",
       "      <td>chr9:3000000-3030000</td>\n",
       "      <td>chr9:3060000-3090000</td>\n",
       "      <td>1.000000</td>\n",
       "      <td>2.000000</td>\n",
       "      <td>chr9</td>\n",
       "    </tr>\n",
       "    <tr>\n",
       "      <th>421973</th>\n",
       "      <td>chr9:3030000-3060000</td>\n",
       "      <td>chr9:3060000-3090000</td>\n",
       "      <td>0.620230</td>\n",
       "      <td>1.000000</td>\n",
       "      <td>chr9</td>\n",
       "    </tr>\n",
       "    <tr>\n",
       "      <th>421974</th>\n",
       "      <td>chr9:3060000-3090000</td>\n",
       "      <td>chr9:3060000-3090000</td>\n",
       "      <td>1.000000</td>\n",
       "      <td>0.000000</td>\n",
       "      <td>chr9</td>\n",
       "    </tr>\n",
       "    <tr>\n",
       "      <th>426108</th>\n",
       "      <td>chr9:3000000-3030000</td>\n",
       "      <td>chr9:3090000-3120000</td>\n",
       "      <td>0.750306</td>\n",
       "      <td>3.000000</td>\n",
       "      <td>chr9</td>\n",
       "    </tr>\n",
       "    <tr>\n",
       "      <th>426111</th>\n",
       "      <td>chr9:3090000-3120000</td>\n",
       "      <td>chr9:3090000-3120000</td>\n",
       "      <td>1.000000</td>\n",
       "      <td>0.000000</td>\n",
       "      <td>chr9</td>\n",
       "    </tr>\n",
       "    <tr>\n",
       "      <th>430244</th>\n",
       "      <td>chr9:3000000-3030000</td>\n",
       "      <td>chr9:3120000-3150000</td>\n",
       "      <td>1.000000</td>\n",
       "      <td>4.000000</td>\n",
       "      <td>chr9</td>\n",
       "    </tr>\n",
       "    <tr>\n",
       "      <th>430245</th>\n",
       "      <td>chr9:3030000-3060000</td>\n",
       "      <td>chr9:3120000-3150000</td>\n",
       "      <td>0.721502</td>\n",
       "      <td>3.000000</td>\n",
       "      <td>chr9</td>\n",
       "    </tr>\n",
       "    <tr>\n",
       "      <th>430247</th>\n",
       "      <td>chr9:3090000-3120000</td>\n",
       "      <td>chr9:3120000-3150000</td>\n",
       "      <td>0.580463</td>\n",
       "      <td>1.000000</td>\n",
       "      <td>chr9</td>\n",
       "    </tr>\n",
       "    <tr>\n",
       "      <th>430248</th>\n",
       "      <td>chr9:3120000-3150000</td>\n",
       "      <td>chr9:3120000-3150000</td>\n",
       "      <td>1.000000</td>\n",
       "      <td>0.000000</td>\n",
       "      <td>chr9</td>\n",
       "    </tr>\n",
       "    <tr>\n",
       "      <th>434380</th>\n",
       "      <td>chr9:3000000-3030000</td>\n",
       "      <td>chr9:3150000-3180000</td>\n",
       "      <td>0.683721</td>\n",
       "      <td>5.000000</td>\n",
       "      <td>chr9</td>\n",
       "    </tr>\n",
       "    <tr>\n",
       "      <th>434382</th>\n",
       "      <td>chr9:3060000-3090000</td>\n",
       "      <td>chr9:3150000-3180000</td>\n",
       "      <td>0.622484</td>\n",
       "      <td>3.000000</td>\n",
       "      <td>chr9</td>\n",
       "    </tr>\n",
       "    <tr>\n",
       "      <th>434383</th>\n",
       "      <td>chr9:3090000-3120000</td>\n",
       "      <td>chr9:3150000-3180000</td>\n",
       "      <td>0.510540</td>\n",
       "      <td>2.000000</td>\n",
       "      <td>chr9</td>\n",
       "    </tr>\n",
       "    <tr>\n",
       "      <th>434384</th>\n",
       "      <td>chr9:3120000-3150000</td>\n",
       "      <td>chr9:3150000-3180000</td>\n",
       "      <td>0.688550</td>\n",
       "      <td>1.000000</td>\n",
       "      <td>chr9</td>\n",
       "    </tr>\n",
       "    <tr>\n",
       "      <th>434385</th>\n",
       "      <td>chr9:3150000-3180000</td>\n",
       "      <td>chr9:3150000-3180000</td>\n",
       "      <td>1.000000</td>\n",
       "      <td>0.000000</td>\n",
       "      <td>chr9</td>\n",
       "    </tr>\n",
       "    <tr>\n",
       "      <th>438516</th>\n",
       "      <td>chr9:3000000-3030000</td>\n",
       "      <td>chr9:3180000-3210000</td>\n",
       "      <td>0.587462</td>\n",
       "      <td>6.000000</td>\n",
       "      <td>chr9</td>\n",
       "    </tr>\n",
       "    <tr>\n",
       "      <th>438518</th>\n",
       "      <td>chr9:3060000-3090000</td>\n",
       "      <td>chr9:3180000-3210000</td>\n",
       "      <td>0.710980</td>\n",
       "      <td>4.000000</td>\n",
       "      <td>chr9</td>\n",
       "    </tr>\n",
       "    <tr>\n",
       "      <th>438520</th>\n",
       "      <td>chr9:3120000-3150000</td>\n",
       "      <td>chr9:3180000-3210000</td>\n",
       "      <td>1.000000</td>\n",
       "      <td>2.000000</td>\n",
       "      <td>chr9</td>\n",
       "    </tr>\n",
       "    <tr>\n",
       "      <th>438521</th>\n",
       "      <td>chr9:3150000-3180000</td>\n",
       "      <td>chr9:3180000-3210000</td>\n",
       "      <td>0.717403</td>\n",
       "      <td>1.000000</td>\n",
       "      <td>chr9</td>\n",
       "    </tr>\n",
       "    <tr>\n",
       "      <th>438522</th>\n",
       "      <td>chr9:3180000-3210000</td>\n",
       "      <td>chr9:3180000-3210000</td>\n",
       "      <td>1.000000</td>\n",
       "      <td>0.000000</td>\n",
       "      <td>chr9</td>\n",
       "    </tr>\n",
       "    <tr>\n",
       "      <th>442652</th>\n",
       "      <td>chr9:3000000-3030000</td>\n",
       "      <td>chr9:3210000-3240000</td>\n",
       "      <td>0.774086</td>\n",
       "      <td>7.000000</td>\n",
       "      <td>chr9</td>\n",
       "    </tr>\n",
       "    <tr>\n",
       "      <th>442655</th>\n",
       "      <td>chr9:3090000-3120000</td>\n",
       "      <td>chr9:3210000-3240000</td>\n",
       "      <td>0.500612</td>\n",
       "      <td>4.000000</td>\n",
       "      <td>chr9</td>\n",
       "    </tr>\n",
       "    <tr>\n",
       "      <th>442656</th>\n",
       "      <td>chr9:3120000-3150000</td>\n",
       "      <td>chr9:3210000-3240000</td>\n",
       "      <td>0.894574</td>\n",
       "      <td>3.000000</td>\n",
       "      <td>chr9</td>\n",
       "    </tr>\n",
       "    <tr>\n",
       "      <th>442657</th>\n",
       "      <td>chr9:3150000-3180000</td>\n",
       "      <td>chr9:3210000-3240000</td>\n",
       "      <td>0.508010</td>\n",
       "      <td>2.000000</td>\n",
       "      <td>chr9</td>\n",
       "    </tr>\n",
       "    <tr>\n",
       "      <th>442658</th>\n",
       "      <td>chr9:3180000-3210000</td>\n",
       "      <td>chr9:3210000-3240000</td>\n",
       "      <td>0.697217</td>\n",
       "      <td>1.000000</td>\n",
       "      <td>chr9</td>\n",
       "    </tr>\n",
       "    <tr>\n",
       "      <th>442659</th>\n",
       "      <td>chr9:3210000-3240000</td>\n",
       "      <td>chr9:3210000-3240000</td>\n",
       "      <td>1.000000</td>\n",
       "      <td>0.000000</td>\n",
       "      <td>chr9</td>\n",
       "    </tr>\n",
       "    <tr>\n",
       "      <th>446788</th>\n",
       "      <td>chr9:3000000-3030000</td>\n",
       "      <td>chr9:3240000-3270000</td>\n",
       "      <td>0.817531</td>\n",
       "      <td>8.000000</td>\n",
       "      <td>chr9</td>\n",
       "    </tr>\n",
       "    <tr>\n",
       "      <th>446792</th>\n",
       "      <td>chr9:3120000-3150000</td>\n",
       "      <td>chr9:3240000-3270000</td>\n",
       "      <td>0.786387</td>\n",
       "      <td>4.000000</td>\n",
       "      <td>chr9</td>\n",
       "    </tr>\n",
       "    <tr>\n",
       "      <th>...</th>\n",
       "      <td>...</td>\n",
       "      <td>...</td>\n",
       "      <td>...</td>\n",
       "      <td>...</td>\n",
       "      <td>...</td>\n",
       "    </tr>\n",
       "    <tr>\n",
       "      <th>16499341</th>\n",
       "      <td>chr11:106770000-106800000</td>\n",
       "      <td>chr11:121830000-121843856</td>\n",
       "      <td>0.636364</td>\n",
       "      <td>501.461867</td>\n",
       "      <td>chr11</td>\n",
       "    </tr>\n",
       "    <tr>\n",
       "      <th>16499342</th>\n",
       "      <td>chr11:106800000-106830000</td>\n",
       "      <td>chr11:121830000-121843856</td>\n",
       "      <td>0.651282</td>\n",
       "      <td>500.461867</td>\n",
       "      <td>chr11</td>\n",
       "    </tr>\n",
       "    <tr>\n",
       "      <th>16499343</th>\n",
       "      <td>chr11:106830000-106860000</td>\n",
       "      <td>chr11:121830000-121843856</td>\n",
       "      <td>0.639257</td>\n",
       "      <td>499.461867</td>\n",
       "      <td>chr11</td>\n",
       "    </tr>\n",
       "    <tr>\n",
       "      <th>16499347</th>\n",
       "      <td>chr11:106950000-106980000</td>\n",
       "      <td>chr11:121830000-121843856</td>\n",
       "      <td>0.627397</td>\n",
       "      <td>495.461867</td>\n",
       "      <td>chr11</td>\n",
       "    </tr>\n",
       "    <tr>\n",
       "      <th>16499349</th>\n",
       "      <td>chr11:107010000-107040000</td>\n",
       "      <td>chr11:121830000-121843856</td>\n",
       "      <td>0.640212</td>\n",
       "      <td>493.461867</td>\n",
       "      <td>chr11</td>\n",
       "    </tr>\n",
       "    <tr>\n",
       "      <th>16499481</th>\n",
       "      <td>chr11:110970000-111000000</td>\n",
       "      <td>chr11:121830000-121843856</td>\n",
       "      <td>0.650386</td>\n",
       "      <td>361.461867</td>\n",
       "      <td>chr11</td>\n",
       "    </tr>\n",
       "    <tr>\n",
       "      <th>16499483</th>\n",
       "      <td>chr11:111030000-111060000</td>\n",
       "      <td>chr11:121830000-121843856</td>\n",
       "      <td>0.651282</td>\n",
       "      <td>359.461867</td>\n",
       "      <td>chr11</td>\n",
       "    </tr>\n",
       "    <tr>\n",
       "      <th>16499484</th>\n",
       "      <td>chr11:111060000-111090000</td>\n",
       "      <td>chr11:121830000-121843856</td>\n",
       "      <td>0.655696</td>\n",
       "      <td>358.461867</td>\n",
       "      <td>chr11</td>\n",
       "    </tr>\n",
       "    <tr>\n",
       "      <th>16499493</th>\n",
       "      <td>chr11:111330000-111360000</td>\n",
       "      <td>chr11:121830000-121843856</td>\n",
       "      <td>0.651282</td>\n",
       "      <td>349.461867</td>\n",
       "      <td>chr11</td>\n",
       "    </tr>\n",
       "    <tr>\n",
       "      <th>16499495</th>\n",
       "      <td>chr11:111390000-111420000</td>\n",
       "      <td>chr11:121830000-121843856</td>\n",
       "      <td>0.651282</td>\n",
       "      <td>347.461867</td>\n",
       "      <td>chr11</td>\n",
       "    </tr>\n",
       "    <tr>\n",
       "      <th>16499496</th>\n",
       "      <td>chr11:111420000-111450000</td>\n",
       "      <td>chr11:121830000-121843856</td>\n",
       "      <td>0.650386</td>\n",
       "      <td>346.461867</td>\n",
       "      <td>chr11</td>\n",
       "    </tr>\n",
       "    <tr>\n",
       "      <th>16499573</th>\n",
       "      <td>chr11:113730000-113760000</td>\n",
       "      <td>chr11:121830000-121843856</td>\n",
       "      <td>0.651282</td>\n",
       "      <td>269.461867</td>\n",
       "      <td>chr11</td>\n",
       "    </tr>\n",
       "    <tr>\n",
       "      <th>16499820</th>\n",
       "      <td>chr11:121140000-121170000</td>\n",
       "      <td>chr11:121830000-121843856</td>\n",
       "      <td>0.627397</td>\n",
       "      <td>22.461867</td>\n",
       "      <td>chr11</td>\n",
       "    </tr>\n",
       "    <tr>\n",
       "      <th>16499821</th>\n",
       "      <td>chr11:121170000-121200000</td>\n",
       "      <td>chr11:121830000-121843856</td>\n",
       "      <td>0.643979</td>\n",
       "      <td>21.461867</td>\n",
       "      <td>chr11</td>\n",
       "    </tr>\n",
       "    <tr>\n",
       "      <th>16499822</th>\n",
       "      <td>chr11:121200000-121230000</td>\n",
       "      <td>chr11:121830000-121843856</td>\n",
       "      <td>0.640212</td>\n",
       "      <td>20.461867</td>\n",
       "      <td>chr11</td>\n",
       "    </tr>\n",
       "    <tr>\n",
       "      <th>16499823</th>\n",
       "      <td>chr11:121230000-121260000</td>\n",
       "      <td>chr11:121830000-121843856</td>\n",
       "      <td>0.641161</td>\n",
       "      <td>19.461867</td>\n",
       "      <td>chr11</td>\n",
       "    </tr>\n",
       "    <tr>\n",
       "      <th>16499826</th>\n",
       "      <td>chr11:121320000-121350000</td>\n",
       "      <td>chr11:121830000-121843856</td>\n",
       "      <td>0.643979</td>\n",
       "      <td>16.461867</td>\n",
       "      <td>chr11</td>\n",
       "    </tr>\n",
       "    <tr>\n",
       "      <th>16499827</th>\n",
       "      <td>chr11:121350000-121380000</td>\n",
       "      <td>chr11:121830000-121843856</td>\n",
       "      <td>0.653061</td>\n",
       "      <td>15.461867</td>\n",
       "      <td>chr11</td>\n",
       "    </tr>\n",
       "    <tr>\n",
       "      <th>16499828</th>\n",
       "      <td>chr11:121380000-121410000</td>\n",
       "      <td>chr11:121830000-121843856</td>\n",
       "      <td>0.644909</td>\n",
       "      <td>14.461867</td>\n",
       "      <td>chr11</td>\n",
       "    </tr>\n",
       "    <tr>\n",
       "      <th>16499829</th>\n",
       "      <td>chr11:121410000-121440000</td>\n",
       "      <td>chr11:121830000-121843856</td>\n",
       "      <td>0.642105</td>\n",
       "      <td>13.461867</td>\n",
       "      <td>chr11</td>\n",
       "    </tr>\n",
       "    <tr>\n",
       "      <th>16499830</th>\n",
       "      <td>chr11:121440000-121470000</td>\n",
       "      <td>chr11:121830000-121843856</td>\n",
       "      <td>0.643045</td>\n",
       "      <td>12.461867</td>\n",
       "      <td>chr11</td>\n",
       "    </tr>\n",
       "    <tr>\n",
       "      <th>16499831</th>\n",
       "      <td>chr11:121470000-121500000</td>\n",
       "      <td>chr11:121830000-121843856</td>\n",
       "      <td>0.649485</td>\n",
       "      <td>11.461867</td>\n",
       "      <td>chr11</td>\n",
       "    </tr>\n",
       "    <tr>\n",
       "      <th>16499832</th>\n",
       "      <td>chr11:121500000-121530000</td>\n",
       "      <td>chr11:121830000-121843856</td>\n",
       "      <td>0.650386</td>\n",
       "      <td>10.461867</td>\n",
       "      <td>chr11</td>\n",
       "    </tr>\n",
       "    <tr>\n",
       "      <th>16499833</th>\n",
       "      <td>chr11:121530000-121560000</td>\n",
       "      <td>chr11:121830000-121843856</td>\n",
       "      <td>0.646753</td>\n",
       "      <td>9.461867</td>\n",
       "      <td>chr11</td>\n",
       "    </tr>\n",
       "    <tr>\n",
       "      <th>16499837</th>\n",
       "      <td>chr11:121650000-121680000</td>\n",
       "      <td>chr11:121830000-121843856</td>\n",
       "      <td>0.648579</td>\n",
       "      <td>5.461867</td>\n",
       "      <td>chr11</td>\n",
       "    </tr>\n",
       "    <tr>\n",
       "      <th>16499838</th>\n",
       "      <td>chr11:121680000-121710000</td>\n",
       "      <td>chr11:121830000-121843856</td>\n",
       "      <td>0.642105</td>\n",
       "      <td>4.461867</td>\n",
       "      <td>chr11</td>\n",
       "    </tr>\n",
       "    <tr>\n",
       "      <th>16499839</th>\n",
       "      <td>chr11:121710000-121740000</td>\n",
       "      <td>chr11:121830000-121843856</td>\n",
       "      <td>0.645833</td>\n",
       "      <td>3.461867</td>\n",
       "      <td>chr11</td>\n",
       "    </tr>\n",
       "    <tr>\n",
       "      <th>16499841</th>\n",
       "      <td>chr11:121770000-121800000</td>\n",
       "      <td>chr11:121830000-121843856</td>\n",
       "      <td>1.000000</td>\n",
       "      <td>1.461867</td>\n",
       "      <td>chr11</td>\n",
       "    </tr>\n",
       "    <tr>\n",
       "      <th>16499842</th>\n",
       "      <td>chr11:121800000-121830000</td>\n",
       "      <td>chr11:121830000-121843856</td>\n",
       "      <td>0.641161</td>\n",
       "      <td>0.461867</td>\n",
       "      <td>chr11</td>\n",
       "    </tr>\n",
       "    <tr>\n",
       "      <th>16499843</th>\n",
       "      <td>chr11:121830000-121843856</td>\n",
       "      <td>chr11:121830000-121843856</td>\n",
       "      <td>1.000000</td>\n",
       "      <td>0.000000</td>\n",
       "      <td>chr11</td>\n",
       "    </tr>\n",
       "  </tbody>\n",
       "</table>\n",
       "<p>2555189 rows × 5 columns</p>\n",
       "</div>"
      ],
      "text/plain": [
       "                            Window1                    Window2     Score  \\\n",
       "413700         chr9:3000000-3030000       chr9:3000000-3030000  1.000000   \n",
       "417836         chr9:3000000-3030000       chr9:3030000-3060000  1.000000   \n",
       "417837         chr9:3030000-3060000       chr9:3030000-3060000  1.000000   \n",
       "421972         chr9:3000000-3030000       chr9:3060000-3090000  1.000000   \n",
       "421973         chr9:3030000-3060000       chr9:3060000-3090000  0.620230   \n",
       "421974         chr9:3060000-3090000       chr9:3060000-3090000  1.000000   \n",
       "426108         chr9:3000000-3030000       chr9:3090000-3120000  0.750306   \n",
       "426111         chr9:3090000-3120000       chr9:3090000-3120000  1.000000   \n",
       "430244         chr9:3000000-3030000       chr9:3120000-3150000  1.000000   \n",
       "430245         chr9:3030000-3060000       chr9:3120000-3150000  0.721502   \n",
       "430247         chr9:3090000-3120000       chr9:3120000-3150000  0.580463   \n",
       "430248         chr9:3120000-3150000       chr9:3120000-3150000  1.000000   \n",
       "434380         chr9:3000000-3030000       chr9:3150000-3180000  0.683721   \n",
       "434382         chr9:3060000-3090000       chr9:3150000-3180000  0.622484   \n",
       "434383         chr9:3090000-3120000       chr9:3150000-3180000  0.510540   \n",
       "434384         chr9:3120000-3150000       chr9:3150000-3180000  0.688550   \n",
       "434385         chr9:3150000-3180000       chr9:3150000-3180000  1.000000   \n",
       "438516         chr9:3000000-3030000       chr9:3180000-3210000  0.587462   \n",
       "438518         chr9:3060000-3090000       chr9:3180000-3210000  0.710980   \n",
       "438520         chr9:3120000-3150000       chr9:3180000-3210000  1.000000   \n",
       "438521         chr9:3150000-3180000       chr9:3180000-3210000  0.717403   \n",
       "438522         chr9:3180000-3210000       chr9:3180000-3210000  1.000000   \n",
       "442652         chr9:3000000-3030000       chr9:3210000-3240000  0.774086   \n",
       "442655         chr9:3090000-3120000       chr9:3210000-3240000  0.500612   \n",
       "442656         chr9:3120000-3150000       chr9:3210000-3240000  0.894574   \n",
       "442657         chr9:3150000-3180000       chr9:3210000-3240000  0.508010   \n",
       "442658         chr9:3180000-3210000       chr9:3210000-3240000  0.697217   \n",
       "442659         chr9:3210000-3240000       chr9:3210000-3240000  1.000000   \n",
       "446788         chr9:3000000-3030000       chr9:3240000-3270000  0.817531   \n",
       "446792         chr9:3120000-3150000       chr9:3240000-3270000  0.786387   \n",
       "...                             ...                        ...       ...   \n",
       "16499341  chr11:106770000-106800000  chr11:121830000-121843856  0.636364   \n",
       "16499342  chr11:106800000-106830000  chr11:121830000-121843856  0.651282   \n",
       "16499343  chr11:106830000-106860000  chr11:121830000-121843856  0.639257   \n",
       "16499347  chr11:106950000-106980000  chr11:121830000-121843856  0.627397   \n",
       "16499349  chr11:107010000-107040000  chr11:121830000-121843856  0.640212   \n",
       "16499481  chr11:110970000-111000000  chr11:121830000-121843856  0.650386   \n",
       "16499483  chr11:111030000-111060000  chr11:121830000-121843856  0.651282   \n",
       "16499484  chr11:111060000-111090000  chr11:121830000-121843856  0.655696   \n",
       "16499493  chr11:111330000-111360000  chr11:121830000-121843856  0.651282   \n",
       "16499495  chr11:111390000-111420000  chr11:121830000-121843856  0.651282   \n",
       "16499496  chr11:111420000-111450000  chr11:121830000-121843856  0.650386   \n",
       "16499573  chr11:113730000-113760000  chr11:121830000-121843856  0.651282   \n",
       "16499820  chr11:121140000-121170000  chr11:121830000-121843856  0.627397   \n",
       "16499821  chr11:121170000-121200000  chr11:121830000-121843856  0.643979   \n",
       "16499822  chr11:121200000-121230000  chr11:121830000-121843856  0.640212   \n",
       "16499823  chr11:121230000-121260000  chr11:121830000-121843856  0.641161   \n",
       "16499826  chr11:121320000-121350000  chr11:121830000-121843856  0.643979   \n",
       "16499827  chr11:121350000-121380000  chr11:121830000-121843856  0.653061   \n",
       "16499828  chr11:121380000-121410000  chr11:121830000-121843856  0.644909   \n",
       "16499829  chr11:121410000-121440000  chr11:121830000-121843856  0.642105   \n",
       "16499830  chr11:121440000-121470000  chr11:121830000-121843856  0.643045   \n",
       "16499831  chr11:121470000-121500000  chr11:121830000-121843856  0.649485   \n",
       "16499832  chr11:121500000-121530000  chr11:121830000-121843856  0.650386   \n",
       "16499833  chr11:121530000-121560000  chr11:121830000-121843856  0.646753   \n",
       "16499837  chr11:121650000-121680000  chr11:121830000-121843856  0.648579   \n",
       "16499838  chr11:121680000-121710000  chr11:121830000-121843856  0.642105   \n",
       "16499839  chr11:121710000-121740000  chr11:121830000-121843856  0.645833   \n",
       "16499841  chr11:121770000-121800000  chr11:121830000-121843856  1.000000   \n",
       "16499842  chr11:121800000-121830000  chr11:121830000-121843856  0.641161   \n",
       "16499843  chr11:121830000-121843856  chr11:121830000-121843856  1.000000   \n",
       "\n",
       "            Distance Chromosome  \n",
       "413700      0.000000       chr9  \n",
       "417836      1.000000       chr9  \n",
       "417837      0.000000       chr9  \n",
       "421972      2.000000       chr9  \n",
       "421973      1.000000       chr9  \n",
       "421974      0.000000       chr9  \n",
       "426108      3.000000       chr9  \n",
       "426111      0.000000       chr9  \n",
       "430244      4.000000       chr9  \n",
       "430245      3.000000       chr9  \n",
       "430247      1.000000       chr9  \n",
       "430248      0.000000       chr9  \n",
       "434380      5.000000       chr9  \n",
       "434382      3.000000       chr9  \n",
       "434383      2.000000       chr9  \n",
       "434384      1.000000       chr9  \n",
       "434385      0.000000       chr9  \n",
       "438516      6.000000       chr9  \n",
       "438518      4.000000       chr9  \n",
       "438520      2.000000       chr9  \n",
       "438521      1.000000       chr9  \n",
       "438522      0.000000       chr9  \n",
       "442652      7.000000       chr9  \n",
       "442655      4.000000       chr9  \n",
       "442656      3.000000       chr9  \n",
       "442657      2.000000       chr9  \n",
       "442658      1.000000       chr9  \n",
       "442659      0.000000       chr9  \n",
       "446788      8.000000       chr9  \n",
       "446792      4.000000       chr9  \n",
       "...              ...        ...  \n",
       "16499341  501.461867      chr11  \n",
       "16499342  500.461867      chr11  \n",
       "16499343  499.461867      chr11  \n",
       "16499347  495.461867      chr11  \n",
       "16499349  493.461867      chr11  \n",
       "16499481  361.461867      chr11  \n",
       "16499483  359.461867      chr11  \n",
       "16499484  358.461867      chr11  \n",
       "16499493  349.461867      chr11  \n",
       "16499495  347.461867      chr11  \n",
       "16499496  346.461867      chr11  \n",
       "16499573  269.461867      chr11  \n",
       "16499820   22.461867      chr11  \n",
       "16499821   21.461867      chr11  \n",
       "16499822   20.461867      chr11  \n",
       "16499823   19.461867      chr11  \n",
       "16499826   16.461867      chr11  \n",
       "16499827   15.461867      chr11  \n",
       "16499828   14.461867      chr11  \n",
       "16499829   13.461867      chr11  \n",
       "16499830   12.461867      chr11  \n",
       "16499831   11.461867      chr11  \n",
       "16499832   10.461867      chr11  \n",
       "16499833    9.461867      chr11  \n",
       "16499837    5.461867      chr11  \n",
       "16499838    4.461867      chr11  \n",
       "16499839    3.461867      chr11  \n",
       "16499841    1.461867      chr11  \n",
       "16499842    0.461867      chr11  \n",
       "16499843    0.000000      chr11  \n",
       "\n",
       "[2555189 rows x 5 columns]"
      ]
     },
     "execution_count": 47,
     "metadata": {},
     "output_type": "execute_result"
    }
   ],
   "source": [
    "df"
   ]
  },
  {
   "cell_type": "code",
   "execution_count": 58,
   "metadata": {},
   "outputs": [
    {
     "data": {
      "text/plain": [
       "['counting.result.csv', 'Score-0.7.png', 'Score-0.8.png', 'Score-0.9.png']"
      ]
     },
     "execution_count": 58,
     "metadata": {},
     "output_type": "execute_result"
    },
    {
     "data": {
      "image/png": "[encoded data removed]",
      "text/plain": [
       "<Figure size 1080x360 with 1 Axes>"
      ]
     },
     "metadata": {},
     "output_type": "display_data"
    },
    {
     "data": {
      "image/png": "[encoded data removed]",
      "text/plain": [
       "<Figure size 1080x360 with 1 Axes>"
      ]
     },
     "metadata": {},
     "output_type": "display_data"
    },
    {
     "data": {
      "image/png": "[encoded data removed]",
      "text/plain": [
       "<Figure size 1080x360 with 1 Axes>"
      ]
     },
     "metadata": {},
     "output_type": "display_data"
    }
   ],
   "source": [
    "def plot_Num_interaction_per_chr_above_given_score(df,score_list):\n",
    "\tfile_list = []\n",
    "\tresult = pd.DataFrame()\n",
    "\tchr_list = df.Chromosome.unique().tolist()\n",
    "\tchr_list = sorted(chr_list,key=lambda x:int(x.split(\"chr\")[-1]))\n",
    "\tfor chrom in chr_list:\n",
    "\t\tmy_list = []\n",
    "\t\ttemp = df[df['Chromosome']==chrom]\n",
    "\t\tfor s in score_list:\n",
    "\t\t\tmy_list.append(temp[temp.Score>=s].shape[0])\n",
    "\t\tresult[chrom] = my_list\n",
    "\tresult.index = score_list\n",
    "\tresult.to_csv(\"Num_interaction_per_chr_above_given_score.vis.csv\")\t\t\t\n",
    "\tfile_list.append(\"counting.result.csv\")\n",
    "\tfor i in result.index.tolist():\n",
    "\t\tf, axs = plt.subplots(figsize=(15,5))\n",
    "\t\tplt.bar(np.arange(len(chr_list)),result.loc[i])\n",
    "\t\tplt.xticks(np.arange(len(chr_list))+0.0, result.columns.tolist())\n",
    "\t\tplt.title(\"Number of interaction at given threshold: \"+str(i))\n",
    "\t\tplt.savefig(\"Score-\"+str(i)+\".png\")\n",
    "\t\tfile_list.append(\"Score-\"+str(i)+\".png\")\n",
    "\treturn file_list\n",
    "plot_Num_interaction_per_chr_above_given_score(df,score_list)"
   ]
  },
  {
   "cell_type": "code",
   "execution_count": 59,
   "metadata": {},
   "outputs": [
    {
     "data": {
      "text/plain": [
       "['Num_interaction_per_chr_above_given_distance.vis.csv',\n",
       " 'Distance-1.png',\n",
       " 'Distance-3.png',\n",
       " 'Distance-5.png',\n",
       " 'Distance-10.png']"
      ]
     },
     "execution_count": 59,
     "metadata": {},
     "output_type": "execute_result"
    },
    {
     "data": {
      "image/png": "[encoded data removed]",
      "text/plain": [
       "<Figure size 1080x360 with 1 Axes>"
      ]
     },
     "metadata": {},
     "output_type": "display_data"
    },
    {
     "data": {
      "image/png": "[encoded data removed]",
      "text/plain": [
       "<Figure size 1080x360 with 1 Axes>"
      ]
     },
     "metadata": {},
     "output_type": "display_data"
    },
    {
     "data": {
      "image/png": "[encoded data removed]",
      "text/plain": [
       "<Figure size 1080x360 with 1 Axes>"
      ]
     },
     "metadata": {},
     "output_type": "display_data"
    },
    {
     "data": {
      "image/png": "[encoded data removed]",
      "text/plain": [
       "<Figure size 1080x360 with 1 Axes>"
      ]
     },
     "metadata": {},
     "output_type": "display_data"
    }
   ],
   "source": [
    "def plot_Num_interaction_per_chr_above_given_distance(df,distance_list):\n",
    "\tfile_list = []\n",
    "\tresult = pd.DataFrame()\n",
    "\tchr_list = df.Chromosome.unique().tolist()\n",
    "\tchr_list = sorted(chr_list,key=lambda x:int(x.split(\"chr\")[-1]))\n",
    "\tfor chrom in chr_list:\n",
    "\t\tmy_list = []\n",
    "\t\ttemp = df[df['Chromosome']==chrom]\n",
    "\t\tfor s in distance_list:\n",
    "\t\t\tmy_list.append(temp[temp.Distance>=s].shape[0])\n",
    "\t\tresult[chrom] = my_list\n",
    "\tresult.index = distance_list\n",
    "\tresult.to_csv(\"Num_interaction_per_chr_above_given_distance.vis.csv\")\t\t\t\n",
    "\tfile_list.append(\"Num_interaction_per_chr_above_given_distance.vis.csv\")\n",
    "\tfor i in result.index.tolist():\n",
    "\t\tf, axs = plt.subplots(figsize=(15,5))\n",
    "\t\tplt.bar(np.arange(len(chr_list)),result.loc[i])\n",
    "\t\tplt.xticks(np.arange(len(chr_list))+0.0, result.columns.tolist())\n",
    "\t\tplt.title(\"Number of interaction at given threshold: \"+str(i))\n",
    "\t\tplt.savefig(\"Distance-\"+str(i)+\".png\")\n",
    "\t\tfile_list.append(\"Distance-\"+str(i)+\".png\")\n",
    "\treturn file_list\n",
    "plot_Num_interaction_per_chr_above_given_distance(df,[1,3,5,10])"
   ]
  },
  {
   "cell_type": "code",
   "execution_count": 60,
   "metadata": {},
   "outputs": [
    {
     "name": "stdout",
     "output_type": "stream",
     "text": [
      "/usr/local/lib/python2.7/dist-packages/Emotif/__init__.pyc\n"
     ]
    }
   ],
   "source": [
    "import Emotif\n",
    "print Emotif.__file__"
   ]
  }
 ],
 "metadata": {
  "kernelspec": {
   "display_name": "Python 2",
   "language": "python",
   "name": "python2"
  },
  "language_info": {
   "codemirror_mode": {
    "name": "ipython",
    "version": 2
   },
   "file_extension": ".py",
   "mimetype": "text/x-python",
   "name": "python",
   "nbconvert_exporter": "python",
   "pygments_lexer": "ipython2",
   "version": "2.7.6"
  }
 },
 "nbformat": 4,
 "nbformat_minor": 2
}
