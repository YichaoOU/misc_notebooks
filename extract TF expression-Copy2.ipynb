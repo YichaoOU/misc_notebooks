{
 "cells": [
  {
   "cell_type": "code",
   "execution_count": 2,
   "metadata": {},
   "outputs": [],
   "source": [
    "import pandas as pd"
   ]
  },
  {
   "cell_type": "code",
   "execution_count": 3,
   "metadata": {},
   "outputs": [],
   "source": [
    "df = pd.read_csv(\"mESC_gene_expression.csv\",index_col=0)"
   ]
  },
  {
   "cell_type": "code",
   "execution_count": 7,
   "metadata": {},
   "outputs": [
    {
     "ename": "TypeError",
     "evalue": "'>' not supported between instances of 'list' and 'int'",
     "output_type": "error",
     "traceback": [
      "\u001b[1;31m---------------------------------------------------------------------------\u001b[0m",
      "\u001b[1;31mTypeError\u001b[0m                                 Traceback (most recent call last)",
      "\u001b[1;32m<ipython-input-7-8b0f4a7faf24>\u001b[0m in \u001b[0;36m<module>\u001b[1;34m()\u001b[0m\n\u001b[1;32m----> 1\u001b[1;33m \u001b[0mdf\u001b[0m\u001b[1;33m.\u001b[0m\u001b[0mloc\u001b[0m\u001b[1;33m[\u001b[0m\u001b[1;36m1\u001b[0m\u001b[1;33m]\u001b[0m\u001b[1;33m.\u001b[0m\u001b[0mtolist\u001b[0m\u001b[1;33m(\u001b[0m\u001b[1;33m)\u001b[0m \u001b[1;33m>\u001b[0m \u001b[1;36m10\u001b[0m\u001b[1;33m\u001b[0m\u001b[0m\n\u001b[0m",
      "\u001b[1;31mTypeError\u001b[0m: '>' not supported between instances of 'list' and 'int'"
     ]
    }
   ],
   "source": [
    "df.loc[1].tolist() > 10"
   ]
  },
  {
   "cell_type": "code",
   "execution_count": 11,
   "metadata": {},
   "outputs": [],
   "source": [
    "d = df.T"
   ]
  },
  {
   "cell_type": "code",
   "execution_count": 18,
   "metadata": {},
   "outputs": [
    {
     "data": {
      "text/plain": [
       "Int64Index([   61,   214,   455,   639,  1450,  1732,  2224,  2362,  2375,\n",
       "             2423,\n",
       "            ...\n",
       "            29191, 29574, 29580, 30033, 30040, 30378, 30684, 30866, 30920,\n",
       "            31005],\n",
       "           dtype='int64', name='clusterID', length=120)"
      ]
     },
     "execution_count": 18,
     "metadata": {},
     "output_type": "execute_result"
    }
   ],
   "source": [
    "df[df['X46c_43_day0_TPM'] > 1000].index"
   ]
  },
  {
   "cell_type": "code",
   "execution_count": 15,
   "metadata": {},
   "outputs": [
    {
     "data": {
      "text/plain": [
       "['day0_class',\n",
       " 'day1_class',\n",
       " 'day3_class',\n",
       " 'day16_class',\n",
       " 'day30_class',\n",
       " 'X46c_43_day0_TPM',\n",
       " 'X46c_43_day1_TPM',\n",
       " 'X46c_43_day2_TPM',\n",
       " 'X46c_65_day16_TPM',\n",
       " 'X46c_50_day30_TPM']"
      ]
     },
     "execution_count": 15,
     "metadata": {},
     "output_type": "execute_result"
    }
   ],
   "source": [
    "used_col = []\n",
    "for i in df.columns:\n",
    "    if \"TPM\" in i or 'class' in i:\n",
    "        used_col.append(i)\n",
    "used_col\n",
    "order_col = used_col[:8]+[\"X46c_65_day16_TPM\",\"X46c_50_day30_TPM\"]\n",
    "order_col"
   ]
  },
  {
   "cell_type": "code",
   "execution_count": 25,
   "metadata": {},
   "outputs": [],
   "source": [
    "df = df[['geneSymbol','description']+order_col]"
   ]
  },
  {
   "cell_type": "code",
   "execution_count": 6,
   "metadata": {},
   "outputs": [],
   "source": [
    "gene_list=[\"Zfp322a\",\"Zfp184\",\"Vmn1r-ps128\",\"Vmn1r-ps103\",\"Vmn1r223\",\"Vmn1r222\",\"Vmn1r220\",\"Vmn1r219\",\"Vmn1r218\",\"Vmn1r217\",\"Vmn1r216\",\"Vmn1r215\",\"Vmn1r214\",\"Vmn1r213\",\"Vmn1r212\",\"Vmn1r211\",\"Vmn1r210\",\"Vmn1r209\",\"Vmn1r208\",\"Vmn1r207-ps\",\"Vmn1r206\",\"Vmn1r205\",\"Vmn1r204\",\"Vmn1r203\",\"Vmn1r202\",\"Vmn1r201\",\"Vmn1r200\",\"Vmn1r199\",\"Vmn1r198\",\"Vmn1r197\",\"Vmn1r195\",\"Vmn1r194\",\"Vmn1r193\",\"Vmn1r192\",\"Vmn1r191\",\"Vmn1r190-ps\",\"Vmn1r189\",\"Vmn1r188\",\"V1rh19\",\"U6\",\"U3\",\"Trim38\",\"Snrp1c-ps2\",\"SNORA17\",\"Slc17a4\",\"Slc17a3\",\"Slc17a2\",\"Slc17a1\",\"Prss16\",\"Pom121l2\",\"Mir1983\",\"Hfe\",\"Gm17658\",\"Gm11398\",\"Gm11338\",\"Gm11337\",\"Gm11336\",\"Gm11335\",\"Gm11334\",\"Gm11333\",\"Gm11332\",\"Gm11331\",\"Gm11329\",\"Gm11328\",\"Gm11327\",\"Gm11326\",\"Gm11325\",\"Gm11323\",\"Gm11322\",\"Gm11321\",\"Gm11320\",\"Gm11319\",\"Gm11318\",\"Gm11317\",\"Gm11316\",\"Gm11314\",\"Gm11313\",\"Gm11311\",\"Gm11310\",\"Gm11309\",\"Gm11308\",\"Gm11307\",\"Gm11306\",\"Gm11305\",\"Gm11304\",\"Gm11303\",\"Gm11302\",\"Gm11300\",\"Gm11299\",\"Gm11298\",\"Gm11297\",\"Gm11296\",\"Gm11295\",\"Gm11293\",\"Gm11292\",\"Gm11291\",\"Gm11290\",\"Gm11289\",\"Gm11288\",\"Gm11287\",\"Gm11286\",\"Gm11285\",\"Gm11284\",\"Gm11283\",\"Gm11282\",\"Gm11281\",\"Gm11280\",\"Gm11279\",\"Gm11278\",\"Gm11274\",\"Gm11044\",\"C230035I16Rik\",\"Btn2a2\",\"Btn1a1\",\"AL714025.1\",\"AL645683.2\",\"AL645683.1\",\"AL590614.1\",\"Abt1\",\"5S_rRNA\",\"4933404K08Rik\",\"4930586N03Rik\",\"4930558J22Rik\",\"4930557F10Rik\"]"
   ]
  },
  {
   "cell_type": "code",
   "execution_count": 7,
   "metadata": {},
   "outputs": [],
   "source": [
    "dd = df.loc[df['geneSymbol'].isin(gene_list)]"
   ]
  },
  {
   "cell_type": "code",
   "execution_count": 8,
   "metadata": {
    "scrolled": true
   },
   "outputs": [
    {
     "data": {
      "text/html": [
       "<div>\n",
       "<style scoped>\n",
       "    .dataframe tbody tr th:only-of-type {\n",
       "        vertical-align: middle;\n",
       "    }\n",
       "\n",
       "    .dataframe tbody tr th {\n",
       "        vertical-align: top;\n",
       "    }\n",
       "\n",
       "    .dataframe thead th {\n",
       "        text-align: right;\n",
       "    }\n",
       "</style>\n",
       "<table border=\"1\" class=\"dataframe\">\n",
       "  <thead>\n",
       "    <tr style=\"text-align: right;\">\n",
       "      <th></th>\n",
       "      <th>geneSymbol</th>\n",
       "      <th>day0_class</th>\n",
       "      <th>day1_class</th>\n",
       "      <th>day3_class</th>\n",
       "      <th>day16_class</th>\n",
       "      <th>day30_class</th>\n",
       "      <th>X46c_43_day0_TPM</th>\n",
       "      <th>X46c_43_day1_TPM</th>\n",
       "      <th>X46c_43_day2_TPM</th>\n",
       "      <th>X46c_65_day16_TPM</th>\n",
       "      <th>X46c_50_day30_TPM</th>\n",
       "    </tr>\n",
       "    <tr>\n",
       "      <th>clusterID</th>\n",
       "      <th></th>\n",
       "      <th></th>\n",
       "      <th></th>\n",
       "      <th></th>\n",
       "      <th></th>\n",
       "      <th></th>\n",
       "      <th></th>\n",
       "      <th></th>\n",
       "      <th></th>\n",
       "      <th></th>\n",
       "      <th></th>\n",
       "    </tr>\n",
       "  </thead>\n",
       "  <tbody>\n",
       "    <tr>\n",
       "      <th>6542</th>\n",
       "      <td>Mir1983</td>\n",
       "      <td>Active</td>\n",
       "      <td>Active</td>\n",
       "      <td>Active</td>\n",
       "      <td>Active</td>\n",
       "      <td>Inactive</td>\n",
       "      <td>0.00</td>\n",
       "      <td>0.00</td>\n",
       "      <td>0.00</td>\n",
       "      <td>0.00</td>\n",
       "      <td>0.00</td>\n",
       "    </tr>\n",
       "    <tr>\n",
       "      <th>6543</th>\n",
       "      <td>Zfp184</td>\n",
       "      <td>Active</td>\n",
       "      <td>Active</td>\n",
       "      <td>Active</td>\n",
       "      <td>Active</td>\n",
       "      <td>Active</td>\n",
       "      <td>7.33</td>\n",
       "      <td>10.54</td>\n",
       "      <td>12.88</td>\n",
       "      <td>18.04</td>\n",
       "      <td>5.83</td>\n",
       "    </tr>\n",
       "    <tr>\n",
       "      <th>6545</th>\n",
       "      <td>Pom121l2</td>\n",
       "      <td>PRCa</td>\n",
       "      <td>PRCr</td>\n",
       "      <td>PRCr</td>\n",
       "      <td>PRCa</td>\n",
       "      <td>PRCr</td>\n",
       "      <td>0.05</td>\n",
       "      <td>0.01</td>\n",
       "      <td>0.00</td>\n",
       "      <td>0.10</td>\n",
       "      <td>0.00</td>\n",
       "    </tr>\n",
       "    <tr>\n",
       "      <th>6546</th>\n",
       "      <td>Prss16</td>\n",
       "      <td>OnlyK27</td>\n",
       "      <td>OnlyK27</td>\n",
       "      <td>OnlyK27</td>\n",
       "      <td>OnlyK27</td>\n",
       "      <td>OnlyK27</td>\n",
       "      <td>1.43</td>\n",
       "      <td>1.48</td>\n",
       "      <td>1.14</td>\n",
       "      <td>0.04</td>\n",
       "      <td>0.46</td>\n",
       "    </tr>\n",
       "    <tr>\n",
       "      <th>6552</th>\n",
       "      <td>Vmn1r188</td>\n",
       "      <td>Inactive</td>\n",
       "      <td>Inactive</td>\n",
       "      <td>Inactive</td>\n",
       "      <td>Inactive</td>\n",
       "      <td>Inactive</td>\n",
       "      <td>0.00</td>\n",
       "      <td>0.00</td>\n",
       "      <td>0.00</td>\n",
       "      <td>0.00</td>\n",
       "      <td>0.00</td>\n",
       "    </tr>\n",
       "    <tr>\n",
       "      <th>6553</th>\n",
       "      <td>Vmn1r189</td>\n",
       "      <td>Inactive</td>\n",
       "      <td>Inactive</td>\n",
       "      <td>Inactive</td>\n",
       "      <td>Inactive</td>\n",
       "      <td>Inactive</td>\n",
       "      <td>0.00</td>\n",
       "      <td>0.00</td>\n",
       "      <td>0.00</td>\n",
       "      <td>0.00</td>\n",
       "      <td>0.00</td>\n",
       "    </tr>\n",
       "    <tr>\n",
       "      <th>6554</th>\n",
       "      <td>Vmn1r191</td>\n",
       "      <td>Inactive</td>\n",
       "      <td>Inactive</td>\n",
       "      <td>Inactive</td>\n",
       "      <td>Inactive</td>\n",
       "      <td>Inactive</td>\n",
       "      <td>0.00</td>\n",
       "      <td>0.00</td>\n",
       "      <td>0.00</td>\n",
       "      <td>0.00</td>\n",
       "      <td>0.00</td>\n",
       "    </tr>\n",
       "    <tr>\n",
       "      <th>6555</th>\n",
       "      <td>Vmn1r192</td>\n",
       "      <td>Inactive</td>\n",
       "      <td>Inactive</td>\n",
       "      <td>Inactive</td>\n",
       "      <td>Inactive</td>\n",
       "      <td>Inactive</td>\n",
       "      <td>0.00</td>\n",
       "      <td>0.00</td>\n",
       "      <td>0.00</td>\n",
       "      <td>0.00</td>\n",
       "      <td>0.00</td>\n",
       "    </tr>\n",
       "    <tr>\n",
       "      <th>6556</th>\n",
       "      <td>Vmn1r193</td>\n",
       "      <td>Inactive</td>\n",
       "      <td>Inactive</td>\n",
       "      <td>Inactive</td>\n",
       "      <td>Inactive</td>\n",
       "      <td>Inactive</td>\n",
       "      <td>0.00</td>\n",
       "      <td>0.00</td>\n",
       "      <td>0.00</td>\n",
       "      <td>0.00</td>\n",
       "      <td>0.00</td>\n",
       "    </tr>\n",
       "    <tr>\n",
       "      <th>6557</th>\n",
       "      <td>Vmn1r194</td>\n",
       "      <td>Inactive</td>\n",
       "      <td>Inactive</td>\n",
       "      <td>Inactive</td>\n",
       "      <td>Inactive</td>\n",
       "      <td>Inactive</td>\n",
       "      <td>0.00</td>\n",
       "      <td>0.00</td>\n",
       "      <td>0.00</td>\n",
       "      <td>0.00</td>\n",
       "      <td>0.00</td>\n",
       "    </tr>\n",
       "    <tr>\n",
       "      <th>6558</th>\n",
       "      <td>Vmn1r195</td>\n",
       "      <td>Inactive</td>\n",
       "      <td>Inactive</td>\n",
       "      <td>Inactive</td>\n",
       "      <td>Inactive</td>\n",
       "      <td>Inactive</td>\n",
       "      <td>0.00</td>\n",
       "      <td>0.00</td>\n",
       "      <td>0.00</td>\n",
       "      <td>0.00</td>\n",
       "      <td>0.00</td>\n",
       "    </tr>\n",
       "    <tr>\n",
       "      <th>6560</th>\n",
       "      <td>Vmn1r197</td>\n",
       "      <td>Inactive</td>\n",
       "      <td>Inactive</td>\n",
       "      <td>Inactive</td>\n",
       "      <td>Inactive</td>\n",
       "      <td>Inactive</td>\n",
       "      <td>0.00</td>\n",
       "      <td>0.00</td>\n",
       "      <td>0.00</td>\n",
       "      <td>0.00</td>\n",
       "      <td>0.00</td>\n",
       "    </tr>\n",
       "    <tr>\n",
       "      <th>6561</th>\n",
       "      <td>Vmn1r198</td>\n",
       "      <td>Inactive</td>\n",
       "      <td>Inactive</td>\n",
       "      <td>Inactive</td>\n",
       "      <td>Inactive</td>\n",
       "      <td>Inactive</td>\n",
       "      <td>0.00</td>\n",
       "      <td>0.00</td>\n",
       "      <td>0.00</td>\n",
       "      <td>0.00</td>\n",
       "      <td>0.00</td>\n",
       "    </tr>\n",
       "    <tr>\n",
       "      <th>6562</th>\n",
       "      <td>Vmn1r199</td>\n",
       "      <td>Inactive</td>\n",
       "      <td>Inactive</td>\n",
       "      <td>Inactive</td>\n",
       "      <td>Inactive</td>\n",
       "      <td>Inactive</td>\n",
       "      <td>0.00</td>\n",
       "      <td>0.00</td>\n",
       "      <td>0.00</td>\n",
       "      <td>0.00</td>\n",
       "      <td>0.00</td>\n",
       "    </tr>\n",
       "    <tr>\n",
       "      <th>6563</th>\n",
       "      <td>Vmn1r200</td>\n",
       "      <td>Inactive</td>\n",
       "      <td>Inactive</td>\n",
       "      <td>Inactive</td>\n",
       "      <td>Inactive</td>\n",
       "      <td>Inactive</td>\n",
       "      <td>0.00</td>\n",
       "      <td>0.00</td>\n",
       "      <td>0.00</td>\n",
       "      <td>0.00</td>\n",
       "      <td>0.00</td>\n",
       "    </tr>\n",
       "    <tr>\n",
       "      <th>6564</th>\n",
       "      <td>Vmn1r-ps103</td>\n",
       "      <td>Inactive</td>\n",
       "      <td>Inactive</td>\n",
       "      <td>Inactive</td>\n",
       "      <td>Inactive</td>\n",
       "      <td>Inactive</td>\n",
       "      <td>0.00</td>\n",
       "      <td>0.00</td>\n",
       "      <td>0.00</td>\n",
       "      <td>0.00</td>\n",
       "      <td>0.00</td>\n",
       "    </tr>\n",
       "    <tr>\n",
       "      <th>6565</th>\n",
       "      <td>Vmn1r201</td>\n",
       "      <td>Inactive</td>\n",
       "      <td>Inactive</td>\n",
       "      <td>Inactive</td>\n",
       "      <td>Inactive</td>\n",
       "      <td>Inactive</td>\n",
       "      <td>0.00</td>\n",
       "      <td>0.00</td>\n",
       "      <td>0.00</td>\n",
       "      <td>0.00</td>\n",
       "      <td>0.00</td>\n",
       "    </tr>\n",
       "    <tr>\n",
       "      <th>6566</th>\n",
       "      <td>Vmn1r202</td>\n",
       "      <td>Inactive</td>\n",
       "      <td>Inactive</td>\n",
       "      <td>Inactive</td>\n",
       "      <td>Inactive</td>\n",
       "      <td>Inactive</td>\n",
       "      <td>0.00</td>\n",
       "      <td>0.00</td>\n",
       "      <td>0.00</td>\n",
       "      <td>0.00</td>\n",
       "      <td>0.00</td>\n",
       "    </tr>\n",
       "    <tr>\n",
       "      <th>6567</th>\n",
       "      <td>Vmn1r203</td>\n",
       "      <td>Inactive</td>\n",
       "      <td>Inactive</td>\n",
       "      <td>Inactive</td>\n",
       "      <td>Inactive</td>\n",
       "      <td>Inactive</td>\n",
       "      <td>0.00</td>\n",
       "      <td>0.00</td>\n",
       "      <td>0.00</td>\n",
       "      <td>0.00</td>\n",
       "      <td>0.00</td>\n",
       "    </tr>\n",
       "    <tr>\n",
       "      <th>6568</th>\n",
       "      <td>Vmn1r204</td>\n",
       "      <td>Inactive</td>\n",
       "      <td>Inactive</td>\n",
       "      <td>Inactive</td>\n",
       "      <td>Inactive</td>\n",
       "      <td>Inactive</td>\n",
       "      <td>0.00</td>\n",
       "      <td>0.00</td>\n",
       "      <td>0.00</td>\n",
       "      <td>0.00</td>\n",
       "      <td>0.00</td>\n",
       "    </tr>\n",
       "    <tr>\n",
       "      <th>6569</th>\n",
       "      <td>Vmn1r205</td>\n",
       "      <td>Inactive</td>\n",
       "      <td>Inactive</td>\n",
       "      <td>Inactive</td>\n",
       "      <td>Inactive</td>\n",
       "      <td>Inactive</td>\n",
       "      <td>0.00</td>\n",
       "      <td>0.00</td>\n",
       "      <td>0.00</td>\n",
       "      <td>0.00</td>\n",
       "      <td>0.00</td>\n",
       "    </tr>\n",
       "    <tr>\n",
       "      <th>6570</th>\n",
       "      <td>Vmn1r206</td>\n",
       "      <td>Inactive</td>\n",
       "      <td>Inactive</td>\n",
       "      <td>Inactive</td>\n",
       "      <td>Inactive</td>\n",
       "      <td>Inactive</td>\n",
       "      <td>0.00</td>\n",
       "      <td>0.00</td>\n",
       "      <td>0.00</td>\n",
       "      <td>0.00</td>\n",
       "      <td>0.00</td>\n",
       "    </tr>\n",
       "    <tr>\n",
       "      <th>6571</th>\n",
       "      <td>Vmn1r207-ps</td>\n",
       "      <td>Inactive</td>\n",
       "      <td>Inactive</td>\n",
       "      <td>Inactive</td>\n",
       "      <td>Inactive</td>\n",
       "      <td>Inactive</td>\n",
       "      <td>0.00</td>\n",
       "      <td>0.00</td>\n",
       "      <td>0.00</td>\n",
       "      <td>0.00</td>\n",
       "      <td>0.00</td>\n",
       "    </tr>\n",
       "    <tr>\n",
       "      <th>6572</th>\n",
       "      <td>Vmn1r208</td>\n",
       "      <td>Inactive</td>\n",
       "      <td>Inactive</td>\n",
       "      <td>Inactive</td>\n",
       "      <td>Inactive</td>\n",
       "      <td>Inactive</td>\n",
       "      <td>0.00</td>\n",
       "      <td>0.00</td>\n",
       "      <td>0.00</td>\n",
       "      <td>0.00</td>\n",
       "      <td>0.00</td>\n",
       "    </tr>\n",
       "    <tr>\n",
       "      <th>6574</th>\n",
       "      <td>Vmn1r209</td>\n",
       "      <td>Inactive</td>\n",
       "      <td>Inactive</td>\n",
       "      <td>Inactive</td>\n",
       "      <td>Inactive</td>\n",
       "      <td>Inactive</td>\n",
       "      <td>0.00</td>\n",
       "      <td>0.00</td>\n",
       "      <td>0.00</td>\n",
       "      <td>0.00</td>\n",
       "      <td>0.00</td>\n",
       "    </tr>\n",
       "    <tr>\n",
       "      <th>6575</th>\n",
       "      <td>Vmn1r210</td>\n",
       "      <td>Inactive</td>\n",
       "      <td>Inactive</td>\n",
       "      <td>Inactive</td>\n",
       "      <td>Inactive</td>\n",
       "      <td>Inactive</td>\n",
       "      <td>0.00</td>\n",
       "      <td>0.18</td>\n",
       "      <td>0.00</td>\n",
       "      <td>0.00</td>\n",
       "      <td>0.00</td>\n",
       "    </tr>\n",
       "    <tr>\n",
       "      <th>6576</th>\n",
       "      <td>Vmn1r211</td>\n",
       "      <td>Inactive</td>\n",
       "      <td>Inactive</td>\n",
       "      <td>Inactive</td>\n",
       "      <td>Inactive</td>\n",
       "      <td>Inactive</td>\n",
       "      <td>0.00</td>\n",
       "      <td>0.00</td>\n",
       "      <td>0.00</td>\n",
       "      <td>0.00</td>\n",
       "      <td>0.00</td>\n",
       "    </tr>\n",
       "    <tr>\n",
       "      <th>6577</th>\n",
       "      <td>Vmn1r212</td>\n",
       "      <td>Inactive</td>\n",
       "      <td>Inactive</td>\n",
       "      <td>Inactive</td>\n",
       "      <td>Inactive</td>\n",
       "      <td>Inactive</td>\n",
       "      <td>0.00</td>\n",
       "      <td>0.00</td>\n",
       "      <td>0.00</td>\n",
       "      <td>0.00</td>\n",
       "      <td>0.00</td>\n",
       "    </tr>\n",
       "    <tr>\n",
       "      <th>6578</th>\n",
       "      <td>Vmn1r213</td>\n",
       "      <td>Inactive</td>\n",
       "      <td>Inactive</td>\n",
       "      <td>Inactive</td>\n",
       "      <td>Inactive</td>\n",
       "      <td>Inactive</td>\n",
       "      <td>0.00</td>\n",
       "      <td>0.00</td>\n",
       "      <td>0.00</td>\n",
       "      <td>0.00</td>\n",
       "      <td>0.00</td>\n",
       "    </tr>\n",
       "    <tr>\n",
       "      <th>6579</th>\n",
       "      <td>Vmn1r214</td>\n",
       "      <td>Inactive</td>\n",
       "      <td>Inactive</td>\n",
       "      <td>Inactive</td>\n",
       "      <td>Inactive</td>\n",
       "      <td>Inactive</td>\n",
       "      <td>0.00</td>\n",
       "      <td>0.00</td>\n",
       "      <td>0.00</td>\n",
       "      <td>0.00</td>\n",
       "      <td>0.00</td>\n",
       "    </tr>\n",
       "    <tr>\n",
       "      <th>6580</th>\n",
       "      <td>Vmn1r215</td>\n",
       "      <td>Inactive</td>\n",
       "      <td>Inactive</td>\n",
       "      <td>Inactive</td>\n",
       "      <td>Inactive</td>\n",
       "      <td>Inactive</td>\n",
       "      <td>0.00</td>\n",
       "      <td>0.00</td>\n",
       "      <td>0.00</td>\n",
       "      <td>0.00</td>\n",
       "      <td>0.00</td>\n",
       "    </tr>\n",
       "    <tr>\n",
       "      <th>6581</th>\n",
       "      <td>Vmn1r216</td>\n",
       "      <td>Inactive</td>\n",
       "      <td>Inactive</td>\n",
       "      <td>Inactive</td>\n",
       "      <td>Inactive</td>\n",
       "      <td>Inactive</td>\n",
       "      <td>0.00</td>\n",
       "      <td>0.00</td>\n",
       "      <td>0.00</td>\n",
       "      <td>0.00</td>\n",
       "      <td>0.00</td>\n",
       "    </tr>\n",
       "    <tr>\n",
       "      <th>6582</th>\n",
       "      <td>Vmn1r217</td>\n",
       "      <td>Inactive</td>\n",
       "      <td>Inactive</td>\n",
       "      <td>Inactive</td>\n",
       "      <td>Inactive</td>\n",
       "      <td>Inactive</td>\n",
       "      <td>0.00</td>\n",
       "      <td>0.00</td>\n",
       "      <td>0.00</td>\n",
       "      <td>0.00</td>\n",
       "      <td>0.00</td>\n",
       "    </tr>\n",
       "    <tr>\n",
       "      <th>6583</th>\n",
       "      <td>Vmn1r218</td>\n",
       "      <td>Inactive</td>\n",
       "      <td>Inactive</td>\n",
       "      <td>Inactive</td>\n",
       "      <td>Inactive</td>\n",
       "      <td>Inactive</td>\n",
       "      <td>0.00</td>\n",
       "      <td>0.00</td>\n",
       "      <td>0.00</td>\n",
       "      <td>0.00</td>\n",
       "      <td>0.00</td>\n",
       "    </tr>\n",
       "    <tr>\n",
       "      <th>6584</th>\n",
       "      <td>Vmn1r219</td>\n",
       "      <td>Inactive</td>\n",
       "      <td>Inactive</td>\n",
       "      <td>Inactive</td>\n",
       "      <td>Inactive</td>\n",
       "      <td>Inactive</td>\n",
       "      <td>0.00</td>\n",
       "      <td>0.29</td>\n",
       "      <td>0.11</td>\n",
       "      <td>0.00</td>\n",
       "      <td>0.00</td>\n",
       "    </tr>\n",
       "    <tr>\n",
       "      <th>6585</th>\n",
       "      <td>Vmn1r220</td>\n",
       "      <td>Inactive</td>\n",
       "      <td>Inactive</td>\n",
       "      <td>Inactive</td>\n",
       "      <td>Inactive</td>\n",
       "      <td>Inactive</td>\n",
       "      <td>0.06</td>\n",
       "      <td>0.00</td>\n",
       "      <td>0.00</td>\n",
       "      <td>0.00</td>\n",
       "      <td>0.00</td>\n",
       "    </tr>\n",
       "    <tr>\n",
       "      <th>6587</th>\n",
       "      <td>Vmn1r222</td>\n",
       "      <td>Inactive</td>\n",
       "      <td>Inactive</td>\n",
       "      <td>Inactive</td>\n",
       "      <td>Inactive</td>\n",
       "      <td>Inactive</td>\n",
       "      <td>0.00</td>\n",
       "      <td>0.00</td>\n",
       "      <td>0.00</td>\n",
       "      <td>0.00</td>\n",
       "      <td>0.00</td>\n",
       "    </tr>\n",
       "    <tr>\n",
       "      <th>6588</th>\n",
       "      <td>Vmn1r223</td>\n",
       "      <td>Inactive</td>\n",
       "      <td>Inactive</td>\n",
       "      <td>Inactive</td>\n",
       "      <td>Inactive</td>\n",
       "      <td>Inactive</td>\n",
       "      <td>0.00</td>\n",
       "      <td>0.00</td>\n",
       "      <td>0.00</td>\n",
       "      <td>0.09</td>\n",
       "      <td>0.00</td>\n",
       "    </tr>\n",
       "    <tr>\n",
       "      <th>6589</th>\n",
       "      <td>4933404K08Rik</td>\n",
       "      <td>Inactive</td>\n",
       "      <td>Inactive</td>\n",
       "      <td>Inactive</td>\n",
       "      <td>Inactive</td>\n",
       "      <td>Inactive</td>\n",
       "      <td>0.00</td>\n",
       "      <td>0.00</td>\n",
       "      <td>0.00</td>\n",
       "      <td>0.00</td>\n",
       "      <td>0.00</td>\n",
       "    </tr>\n",
       "    <tr>\n",
       "      <th>6590</th>\n",
       "      <td>Zfp322a</td>\n",
       "      <td>Active</td>\n",
       "      <td>Active</td>\n",
       "      <td>Active</td>\n",
       "      <td>Active</td>\n",
       "      <td>Active</td>\n",
       "      <td>16.03</td>\n",
       "      <td>18.49</td>\n",
       "      <td>23.17</td>\n",
       "      <td>28.31</td>\n",
       "      <td>19.74</td>\n",
       "    </tr>\n",
       "    <tr>\n",
       "      <th>6591</th>\n",
       "      <td>Abt1</td>\n",
       "      <td>Active</td>\n",
       "      <td>Active</td>\n",
       "      <td>Active</td>\n",
       "      <td>Active</td>\n",
       "      <td>Active</td>\n",
       "      <td>12.84</td>\n",
       "      <td>17.25</td>\n",
       "      <td>12.25</td>\n",
       "      <td>5.92</td>\n",
       "      <td>3.90</td>\n",
       "    </tr>\n",
       "    <tr>\n",
       "      <th>6592</th>\n",
       "      <td>C230035I16Rik</td>\n",
       "      <td>Active</td>\n",
       "      <td>Active</td>\n",
       "      <td>Active</td>\n",
       "      <td>Active</td>\n",
       "      <td>Active</td>\n",
       "      <td>1.87</td>\n",
       "      <td>0.82</td>\n",
       "      <td>0.93</td>\n",
       "      <td>4.68</td>\n",
       "      <td>3.05</td>\n",
       "    </tr>\n",
       "    <tr>\n",
       "      <th>6593</th>\n",
       "      <td>Btn1a1</td>\n",
       "      <td>OnlyK27</td>\n",
       "      <td>PRCr</td>\n",
       "      <td>PRCr</td>\n",
       "      <td>OnlyS5P</td>\n",
       "      <td>Inactive</td>\n",
       "      <td>0.04</td>\n",
       "      <td>0.03</td>\n",
       "      <td>0.01</td>\n",
       "      <td>0.78</td>\n",
       "      <td>0.07</td>\n",
       "    </tr>\n",
       "    <tr>\n",
       "      <th>6594</th>\n",
       "      <td>Btn2a2</td>\n",
       "      <td>OnlyK27</td>\n",
       "      <td>OnlyK27</td>\n",
       "      <td>Inactive</td>\n",
       "      <td>Inactive</td>\n",
       "      <td>OnlyK27</td>\n",
       "      <td>0.31</td>\n",
       "      <td>0.29</td>\n",
       "      <td>0.61</td>\n",
       "      <td>0.37</td>\n",
       "      <td>0.21</td>\n",
       "    </tr>\n",
       "    <tr>\n",
       "      <th>6615</th>\n",
       "      <td>Hfe</td>\n",
       "      <td>Inactive</td>\n",
       "      <td>Inactive</td>\n",
       "      <td>Inactive</td>\n",
       "      <td>OnlyS5P</td>\n",
       "      <td>OnlyS5P</td>\n",
       "      <td>0.81</td>\n",
       "      <td>0.41</td>\n",
       "      <td>0.40</td>\n",
       "      <td>0.50</td>\n",
       "      <td>4.26</td>\n",
       "    </tr>\n",
       "    <tr>\n",
       "      <th>6626</th>\n",
       "      <td>Trim38</td>\n",
       "      <td>Inactive</td>\n",
       "      <td>Inactive</td>\n",
       "      <td>Inactive</td>\n",
       "      <td>Inactive</td>\n",
       "      <td>Inactive</td>\n",
       "      <td>0.21</td>\n",
       "      <td>0.51</td>\n",
       "      <td>0.07</td>\n",
       "      <td>0.00</td>\n",
       "      <td>0.04</td>\n",
       "    </tr>\n",
       "    <tr>\n",
       "      <th>6627</th>\n",
       "      <td>Slc17a2</td>\n",
       "      <td>Inactive</td>\n",
       "      <td>Inactive</td>\n",
       "      <td>Inactive</td>\n",
       "      <td>Inactive</td>\n",
       "      <td>Inactive</td>\n",
       "      <td>0.00</td>\n",
       "      <td>0.00</td>\n",
       "      <td>0.00</td>\n",
       "      <td>0.00</td>\n",
       "      <td>0.00</td>\n",
       "    </tr>\n",
       "    <tr>\n",
       "      <th>6628</th>\n",
       "      <td>Slc17a3</td>\n",
       "      <td>Inactive</td>\n",
       "      <td>Inactive</td>\n",
       "      <td>Inactive</td>\n",
       "      <td>Inactive</td>\n",
       "      <td>Inactive</td>\n",
       "      <td>0.00</td>\n",
       "      <td>0.00</td>\n",
       "      <td>0.00</td>\n",
       "      <td>0.02</td>\n",
       "      <td>0.00</td>\n",
       "    </tr>\n",
       "    <tr>\n",
       "      <th>6629</th>\n",
       "      <td>Slc17a1</td>\n",
       "      <td>Inactive</td>\n",
       "      <td>Inactive</td>\n",
       "      <td>Inactive</td>\n",
       "      <td>Inactive</td>\n",
       "      <td>Inactive</td>\n",
       "      <td>0.00</td>\n",
       "      <td>0.00</td>\n",
       "      <td>0.00</td>\n",
       "      <td>0.00</td>\n",
       "      <td>0.00</td>\n",
       "    </tr>\n",
       "    <tr>\n",
       "      <th>6630</th>\n",
       "      <td>Slc17a4</td>\n",
       "      <td>Inactive</td>\n",
       "      <td>Inactive</td>\n",
       "      <td>Inactive</td>\n",
       "      <td>Inactive</td>\n",
       "      <td>Inactive</td>\n",
       "      <td>0.00</td>\n",
       "      <td>0.00</td>\n",
       "      <td>0.00</td>\n",
       "      <td>0.00</td>\n",
       "      <td>0.00</td>\n",
       "    </tr>\n",
       "  </tbody>\n",
       "</table>\n",
       "</div>"
      ],
      "text/plain": [
       "              geneSymbol day0_class day1_class day3_class day16_class  \\\n",
       "clusterID                                                               \n",
       "6542             Mir1983     Active     Active     Active      Active   \n",
       "6543              Zfp184     Active     Active     Active      Active   \n",
       "6545            Pom121l2       PRCa       PRCr       PRCr        PRCa   \n",
       "6546              Prss16    OnlyK27    OnlyK27    OnlyK27     OnlyK27   \n",
       "6552            Vmn1r188   Inactive   Inactive   Inactive    Inactive   \n",
       "6553            Vmn1r189   Inactive   Inactive   Inactive    Inactive   \n",
       "6554            Vmn1r191   Inactive   Inactive   Inactive    Inactive   \n",
       "6555            Vmn1r192   Inactive   Inactive   Inactive    Inactive   \n",
       "6556            Vmn1r193   Inactive   Inactive   Inactive    Inactive   \n",
       "6557            Vmn1r194   Inactive   Inactive   Inactive    Inactive   \n",
       "6558            Vmn1r195   Inactive   Inactive   Inactive    Inactive   \n",
       "6560            Vmn1r197   Inactive   Inactive   Inactive    Inactive   \n",
       "6561            Vmn1r198   Inactive   Inactive   Inactive    Inactive   \n",
       "6562            Vmn1r199   Inactive   Inactive   Inactive    Inactive   \n",
       "6563            Vmn1r200   Inactive   Inactive   Inactive    Inactive   \n",
       "6564         Vmn1r-ps103   Inactive   Inactive   Inactive    Inactive   \n",
       "6565            Vmn1r201   Inactive   Inactive   Inactive    Inactive   \n",
       "6566            Vmn1r202   Inactive   Inactive   Inactive    Inactive   \n",
       "6567            Vmn1r203   Inactive   Inactive   Inactive    Inactive   \n",
       "6568            Vmn1r204   Inactive   Inactive   Inactive    Inactive   \n",
       "6569            Vmn1r205   Inactive   Inactive   Inactive    Inactive   \n",
       "6570            Vmn1r206   Inactive   Inactive   Inactive    Inactive   \n",
       "6571         Vmn1r207-ps   Inactive   Inactive   Inactive    Inactive   \n",
       "6572            Vmn1r208   Inactive   Inactive   Inactive    Inactive   \n",
       "6574            Vmn1r209   Inactive   Inactive   Inactive    Inactive   \n",
       "6575            Vmn1r210   Inactive   Inactive   Inactive    Inactive   \n",
       "6576            Vmn1r211   Inactive   Inactive   Inactive    Inactive   \n",
       "6577            Vmn1r212   Inactive   Inactive   Inactive    Inactive   \n",
       "6578            Vmn1r213   Inactive   Inactive   Inactive    Inactive   \n",
       "6579            Vmn1r214   Inactive   Inactive   Inactive    Inactive   \n",
       "6580            Vmn1r215   Inactive   Inactive   Inactive    Inactive   \n",
       "6581            Vmn1r216   Inactive   Inactive   Inactive    Inactive   \n",
       "6582            Vmn1r217   Inactive   Inactive   Inactive    Inactive   \n",
       "6583            Vmn1r218   Inactive   Inactive   Inactive    Inactive   \n",
       "6584            Vmn1r219   Inactive   Inactive   Inactive    Inactive   \n",
       "6585            Vmn1r220   Inactive   Inactive   Inactive    Inactive   \n",
       "6587            Vmn1r222   Inactive   Inactive   Inactive    Inactive   \n",
       "6588            Vmn1r223   Inactive   Inactive   Inactive    Inactive   \n",
       "6589       4933404K08Rik   Inactive   Inactive   Inactive    Inactive   \n",
       "6590             Zfp322a     Active     Active     Active      Active   \n",
       "6591                Abt1     Active     Active     Active      Active   \n",
       "6592       C230035I16Rik     Active     Active     Active      Active   \n",
       "6593              Btn1a1    OnlyK27       PRCr       PRCr     OnlyS5P   \n",
       "6594              Btn2a2    OnlyK27    OnlyK27   Inactive    Inactive   \n",
       "6615                 Hfe   Inactive   Inactive   Inactive     OnlyS5P   \n",
       "6626              Trim38   Inactive   Inactive   Inactive    Inactive   \n",
       "6627             Slc17a2   Inactive   Inactive   Inactive    Inactive   \n",
       "6628             Slc17a3   Inactive   Inactive   Inactive    Inactive   \n",
       "6629             Slc17a1   Inactive   Inactive   Inactive    Inactive   \n",
       "6630             Slc17a4   Inactive   Inactive   Inactive    Inactive   \n",
       "\n",
       "          day30_class  X46c_43_day0_TPM  X46c_43_day1_TPM  X46c_43_day2_TPM  \\\n",
       "clusterID                                                                     \n",
       "6542         Inactive              0.00              0.00              0.00   \n",
       "6543           Active              7.33             10.54             12.88   \n",
       "6545             PRCr              0.05              0.01              0.00   \n",
       "6546          OnlyK27              1.43              1.48              1.14   \n",
       "6552         Inactive              0.00              0.00              0.00   \n",
       "6553         Inactive              0.00              0.00              0.00   \n",
       "6554         Inactive              0.00              0.00              0.00   \n",
       "6555         Inactive              0.00              0.00              0.00   \n",
       "6556         Inactive              0.00              0.00              0.00   \n",
       "6557         Inactive              0.00              0.00              0.00   \n",
       "6558         Inactive              0.00              0.00              0.00   \n",
       "6560         Inactive              0.00              0.00              0.00   \n",
       "6561         Inactive              0.00              0.00              0.00   \n",
       "6562         Inactive              0.00              0.00              0.00   \n",
       "6563         Inactive              0.00              0.00              0.00   \n",
       "6564         Inactive              0.00              0.00              0.00   \n",
       "6565         Inactive              0.00              0.00              0.00   \n",
       "6566         Inactive              0.00              0.00              0.00   \n",
       "6567         Inactive              0.00              0.00              0.00   \n",
       "6568         Inactive              0.00              0.00              0.00   \n",
       "6569         Inactive              0.00              0.00              0.00   \n",
       "6570         Inactive              0.00              0.00              0.00   \n",
       "6571         Inactive              0.00              0.00              0.00   \n",
       "6572         Inactive              0.00              0.00              0.00   \n",
       "6574         Inactive              0.00              0.00              0.00   \n",
       "6575         Inactive              0.00              0.18              0.00   \n",
       "6576         Inactive              0.00              0.00              0.00   \n",
       "6577         Inactive              0.00              0.00              0.00   \n",
       "6578         Inactive              0.00              0.00              0.00   \n",
       "6579         Inactive              0.00              0.00              0.00   \n",
       "6580         Inactive              0.00              0.00              0.00   \n",
       "6581         Inactive              0.00              0.00              0.00   \n",
       "6582         Inactive              0.00              0.00              0.00   \n",
       "6583         Inactive              0.00              0.00              0.00   \n",
       "6584         Inactive              0.00              0.29              0.11   \n",
       "6585         Inactive              0.06              0.00              0.00   \n",
       "6587         Inactive              0.00              0.00              0.00   \n",
       "6588         Inactive              0.00              0.00              0.00   \n",
       "6589         Inactive              0.00              0.00              0.00   \n",
       "6590           Active             16.03             18.49             23.17   \n",
       "6591           Active             12.84             17.25             12.25   \n",
       "6592           Active              1.87              0.82              0.93   \n",
       "6593         Inactive              0.04              0.03              0.01   \n",
       "6594          OnlyK27              0.31              0.29              0.61   \n",
       "6615          OnlyS5P              0.81              0.41              0.40   \n",
       "6626         Inactive              0.21              0.51              0.07   \n",
       "6627         Inactive              0.00              0.00              0.00   \n",
       "6628         Inactive              0.00              0.00              0.00   \n",
       "6629         Inactive              0.00              0.00              0.00   \n",
       "6630         Inactive              0.00              0.00              0.00   \n",
       "\n",
       "           X46c_65_day16_TPM  X46c_50_day30_TPM  \n",
       "clusterID                                        \n",
       "6542                    0.00               0.00  \n",
       "6543                   18.04               5.83  \n",
       "6545                    0.10               0.00  \n",
       "6546                    0.04               0.46  \n",
       "6552                    0.00               0.00  \n",
       "6553                    0.00               0.00  \n",
       "6554                    0.00               0.00  \n",
       "6555                    0.00               0.00  \n",
       "6556                    0.00               0.00  \n",
       "6557                    0.00               0.00  \n",
       "6558                    0.00               0.00  \n",
       "6560                    0.00               0.00  \n",
       "6561                    0.00               0.00  \n",
       "6562                    0.00               0.00  \n",
       "6563                    0.00               0.00  \n",
       "6564                    0.00               0.00  \n",
       "6565                    0.00               0.00  \n",
       "6566                    0.00               0.00  \n",
       "6567                    0.00               0.00  \n",
       "6568                    0.00               0.00  \n",
       "6569                    0.00               0.00  \n",
       "6570                    0.00               0.00  \n",
       "6571                    0.00               0.00  \n",
       "6572                    0.00               0.00  \n",
       "6574                    0.00               0.00  \n",
       "6575                    0.00               0.00  \n",
       "6576                    0.00               0.00  \n",
       "6577                    0.00               0.00  \n",
       "6578                    0.00               0.00  \n",
       "6579                    0.00               0.00  \n",
       "6580                    0.00               0.00  \n",
       "6581                    0.00               0.00  \n",
       "6582                    0.00               0.00  \n",
       "6583                    0.00               0.00  \n",
       "6584                    0.00               0.00  \n",
       "6585                    0.00               0.00  \n",
       "6587                    0.00               0.00  \n",
       "6588                    0.09               0.00  \n",
       "6589                    0.00               0.00  \n",
       "6590                   28.31              19.74  \n",
       "6591                    5.92               3.90  \n",
       "6592                    4.68               3.05  \n",
       "6593                    0.78               0.07  \n",
       "6594                    0.37               0.21  \n",
       "6615                    0.50               4.26  \n",
       "6626                    0.00               0.04  \n",
       "6627                    0.00               0.00  \n",
       "6628                    0.02               0.00  \n",
       "6629                    0.00               0.00  \n",
       "6630                    0.00               0.00  "
      ]
     },
     "execution_count": 8,
     "metadata": {},
     "output_type": "execute_result"
    }
   ],
   "source": [
    "dd"
   ]
  },
  {
   "cell_type": "code",
   "execution_count": 9,
   "metadata": {},
   "outputs": [],
   "source": [
    "dd.to_csv(\"Hist1_cluster_other_gene_expression.csv\")"
   ]
  },
  {
   "cell_type": "code",
   "execution_count": 19,
   "metadata": {},
   "outputs": [],
   "source": [
    "gene_df=pd.read_csv(\"mm9_ensembl_bed.txt\",sep=\"\\t\",header=None)"
   ]
  },
  {
   "cell_type": "code",
   "execution_count": 20,
   "metadata": {},
   "outputs": [],
   "source": [
    "gene_df.columns=['chr','start','end','gene']\n",
    "gene_df = gene_df.set_index('gene')"
   ]
  },
  {
   "cell_type": "code",
   "execution_count": 26,
   "metadata": {},
   "outputs": [],
   "source": [
    "gene_list=[\"Gm11271\",\"Gm11274\",\"Gm11278\",\"Gm11279\",\"Gm11280\",\"Gm11281\",\"Gm11282\",\"Gm11283\",\"Gm11289\",\"Gm11290\",\"Gm11291\",\"Gm11292\",\"Gm11299\",\"Gm11303\",\"Gm11304\",\"Gm11316\",\"Gm11333\",\"Gm11335\",\"Gm11336\",\"Gm11337\",\"Gm11338\",\"Gm11339\",\"Gm11340\",\"Gm11341\",\"Gm11342\",\"Gm11343\",\"Gm11344\",\"Gm11345\",\"Gm11346\",\"Gm11398\",\"Gm17658\",\"4930557F10Rik\",\"4930558J22Rik\",\"4930586N03Rik\",\"4932702P03Rik\",\"4933404K08Rik\",\"5S_rRNA\",\"Acot13\",\"AL714025.1\",\"Aldh5a1\",\"BC005537\",\"Btn1a1\",\"Btn2a2\",\"C230035I16Rik\",\"C530050E15Rik\",\"Cmah\",\"D130043K22Rik\",\"Dcdc2a\",\"Elmo1\",\"Fam65b\",\"Gmnn\",\"Hfe\",\"Lrrc16a\",\"Mir1983\",\"Olfr1359\",\"Olfr1364\",\"Olfr1366\",\"Pom121l2\",\"Prss16\",\"Scgn\",\"Slc17a1\",\"Slc17a2\",\"Slc17a3\",\"Slc17a4\",\"SNORA17\",\"SNORA32\",\"Snrp1c-ps2\",\"Tdp2\",\"Trim38\",\"U3\",\"U6\",\"Vmn1r191\",\"Vmn1r192\",\"Vmn1r201\",\"Vmn1r206\",\"Vmn1r211\",\"Zfp184\",\"Zfp192\",\"Zkscan3\",\"Zscan12\"]\n",
    "dd = df.loc[df['geneSymbol'].isin(gene_list)]\n",
    "dd = dd.set_index('geneSymbol')\n",
    "dd['start'] = gene_df.loc[dd.index.tolist()]['start']\n",
    "dd.to_csv(\"Hist1_cluster_other_gene_overlapped_expression.csv\")"
   ]
  },
  {
   "cell_type": "code",
   "execution_count": 23,
   "metadata": {},
   "outputs": [
    {
     "data": {
      "text/html": [
       "<div>\n",
       "<style scoped>\n",
       "    .dataframe tbody tr th:only-of-type {\n",
       "        vertical-align: middle;\n",
       "    }\n",
       "\n",
       "    .dataframe tbody tr th {\n",
       "        vertical-align: top;\n",
       "    }\n",
       "\n",
       "    .dataframe thead th {\n",
       "        text-align: right;\n",
       "    }\n",
       "</style>\n",
       "<table border=\"1\" class=\"dataframe\">\n",
       "  <thead>\n",
       "    <tr style=\"text-align: right;\">\n",
       "      <th></th>\n",
       "      <th>day0_class</th>\n",
       "      <th>day1_class</th>\n",
       "      <th>day3_class</th>\n",
       "      <th>day16_class</th>\n",
       "      <th>day30_class</th>\n",
       "      <th>X46c_43_day0_TPM</th>\n",
       "      <th>X46c_43_day1_TPM</th>\n",
       "      <th>X46c_43_day2_TPM</th>\n",
       "      <th>X46c_65_day16_TPM</th>\n",
       "      <th>X46c_50_day30_TPM</th>\n",
       "      <th>start</th>\n",
       "    </tr>\n",
       "    <tr>\n",
       "      <th>geneSymbol</th>\n",
       "      <th></th>\n",
       "      <th></th>\n",
       "      <th></th>\n",
       "      <th></th>\n",
       "      <th></th>\n",
       "      <th></th>\n",
       "      <th></th>\n",
       "      <th></th>\n",
       "      <th></th>\n",
       "      <th></th>\n",
       "      <th></th>\n",
       "    </tr>\n",
       "  </thead>\n",
       "  <tbody>\n",
       "    <tr>\n",
       "      <th>Elmo1</th>\n",
       "      <td>PRCr</td>\n",
       "      <td>PRCa</td>\n",
       "      <td>PRCa</td>\n",
       "      <td>Active</td>\n",
       "      <td>Active</td>\n",
       "      <td>10.41</td>\n",
       "      <td>21.37</td>\n",
       "      <td>14.07</td>\n",
       "      <td>56.52</td>\n",
       "      <td>40.15</td>\n",
       "      <td>20182488</td>\n",
       "    </tr>\n",
       "    <tr>\n",
       "      <th>Zscan12</th>\n",
       "      <td>Active</td>\n",
       "      <td>Active</td>\n",
       "      <td>Active</td>\n",
       "      <td>Active</td>\n",
       "      <td>Active</td>\n",
       "      <td>6.61</td>\n",
       "      <td>6.21</td>\n",
       "      <td>6.04</td>\n",
       "      <td>9.41</td>\n",
       "      <td>4.97</td>\n",
       "      <td>21454696</td>\n",
       "    </tr>\n",
       "    <tr>\n",
       "      <th>Zkscan3</th>\n",
       "      <td>Active</td>\n",
       "      <td>Active</td>\n",
       "      <td>Active</td>\n",
       "      <td>Active</td>\n",
       "      <td>Active</td>\n",
       "      <td>26.20</td>\n",
       "      <td>19.79</td>\n",
       "      <td>33.96</td>\n",
       "      <td>44.62</td>\n",
       "      <td>29.85</td>\n",
       "      <td>21478874</td>\n",
       "    </tr>\n",
       "    <tr>\n",
       "      <th>Zfp192</th>\n",
       "      <td>Active</td>\n",
       "      <td>Active</td>\n",
       "      <td>Active</td>\n",
       "      <td>Active</td>\n",
       "      <td>Active</td>\n",
       "      <td>7.80</td>\n",
       "      <td>6.93</td>\n",
       "      <td>7.57</td>\n",
       "      <td>18.64</td>\n",
       "      <td>14.11</td>\n",
       "      <td>21605091</td>\n",
       "    </tr>\n",
       "    <tr>\n",
       "      <th>Olfr1366</th>\n",
       "      <td>Inactive</td>\n",
       "      <td>Inactive</td>\n",
       "      <td>Inactive</td>\n",
       "      <td>Inactive</td>\n",
       "      <td>Inactive</td>\n",
       "      <td>0.00</td>\n",
       "      <td>0.00</td>\n",
       "      <td>0.00</td>\n",
       "      <td>0.00</td>\n",
       "      <td>0.00</td>\n",
       "      <td>21628843</td>\n",
       "    </tr>\n",
       "  </tbody>\n",
       "</table>\n",
       "</div>"
      ],
      "text/plain": [
       "           day0_class day1_class day3_class day16_class day30_class  \\\n",
       "geneSymbol                                                            \n",
       "Elmo1            PRCr       PRCa       PRCa      Active      Active   \n",
       "Zscan12        Active     Active     Active      Active      Active   \n",
       "Zkscan3        Active     Active     Active      Active      Active   \n",
       "Zfp192         Active     Active     Active      Active      Active   \n",
       "Olfr1366     Inactive   Inactive   Inactive    Inactive    Inactive   \n",
       "\n",
       "            X46c_43_day0_TPM  X46c_43_day1_TPM  X46c_43_day2_TPM  \\\n",
       "geneSymbol                                                         \n",
       "Elmo1                  10.41             21.37             14.07   \n",
       "Zscan12                 6.61              6.21              6.04   \n",
       "Zkscan3                26.20             19.79             33.96   \n",
       "Zfp192                  7.80              6.93              7.57   \n",
       "Olfr1366                0.00              0.00              0.00   \n",
       "\n",
       "            X46c_65_day16_TPM  X46c_50_day30_TPM     start  \n",
       "geneSymbol                                                  \n",
       "Elmo1                   56.52              40.15  20182488  \n",
       "Zscan12                  9.41               4.97  21454696  \n",
       "Zkscan3                 44.62              29.85  21478874  \n",
       "Zfp192                  18.64              14.11  21605091  \n",
       "Olfr1366                 0.00               0.00  21628843  "
      ]
     },
     "execution_count": 23,
     "metadata": {},
     "output_type": "execute_result"
    }
   ],
   "source": [
    "dd.head()"
   ]
  },
  {
   "cell_type": "code",
   "execution_count": null,
   "metadata": {},
   "outputs": [],
   "source": []
  },
  {
   "cell_type": "code",
   "execution_count": null,
   "metadata": {},
   "outputs": [],
   "source": []
  },
  {
   "cell_type": "code",
   "execution_count": null,
   "metadata": {},
   "outputs": [],
   "source": []
  },
  {
   "cell_type": "code",
   "execution_count": 28,
   "metadata": {},
   "outputs": [],
   "source": [
    "entrez_ensembl = pd.read_csv(\"mart_export.txt\",sep=\"\\t\",dtype={'Gene stable ID': object,'NCBI gene ID': object})"
   ]
  },
  {
   "cell_type": "code",
   "execution_count": 29,
   "metadata": {},
   "outputs": [
    {
     "data": {
      "text/html": [
       "<div>\n",
       "<style scoped>\n",
       "    .dataframe tbody tr th:only-of-type {\n",
       "        vertical-align: middle;\n",
       "    }\n",
       "\n",
       "    .dataframe tbody tr th {\n",
       "        vertical-align: top;\n",
       "    }\n",
       "\n",
       "    .dataframe thead th {\n",
       "        text-align: right;\n",
       "    }\n",
       "</style>\n",
       "<table border=\"1\" class=\"dataframe\">\n",
       "  <thead>\n",
       "    <tr style=\"text-align: right;\">\n",
       "      <th></th>\n",
       "      <th>Gene stable ID</th>\n",
       "      <th>NCBI gene ID</th>\n",
       "    </tr>\n",
       "  </thead>\n",
       "  <tbody>\n",
       "    <tr>\n",
       "      <th>0</th>\n",
       "      <td>ENSMUSG00000064336</td>\n",
       "      <td>NaN</td>\n",
       "    </tr>\n",
       "    <tr>\n",
       "      <th>1</th>\n",
       "      <td>ENSMUSG00000064337</td>\n",
       "      <td>NaN</td>\n",
       "    </tr>\n",
       "    <tr>\n",
       "      <th>2</th>\n",
       "      <td>ENSMUSG00000064338</td>\n",
       "      <td>NaN</td>\n",
       "    </tr>\n",
       "    <tr>\n",
       "      <th>3</th>\n",
       "      <td>ENSMUSG00000064339</td>\n",
       "      <td>NaN</td>\n",
       "    </tr>\n",
       "    <tr>\n",
       "      <th>4</th>\n",
       "      <td>ENSMUSG00000064340</td>\n",
       "      <td>NaN</td>\n",
       "    </tr>\n",
       "  </tbody>\n",
       "</table>\n",
       "</div>"
      ],
      "text/plain": [
       "       Gene stable ID NCBI gene ID\n",
       "0  ENSMUSG00000064336          NaN\n",
       "1  ENSMUSG00000064337          NaN\n",
       "2  ENSMUSG00000064338          NaN\n",
       "3  ENSMUSG00000064339          NaN\n",
       "4  ENSMUSG00000064340          NaN"
      ]
     },
     "execution_count": 29,
     "metadata": {},
     "output_type": "execute_result"
    }
   ],
   "source": [
    "entrez_ensembl.head()"
   ]
  },
  {
   "cell_type": "code",
   "execution_count": 30,
   "metadata": {},
   "outputs": [
    {
     "data": {
      "text/html": [
       "<div>\n",
       "<style scoped>\n",
       "    .dataframe tbody tr th:only-of-type {\n",
       "        vertical-align: middle;\n",
       "    }\n",
       "\n",
       "    .dataframe tbody tr th {\n",
       "        vertical-align: top;\n",
       "    }\n",
       "\n",
       "    .dataframe thead th {\n",
       "        text-align: right;\n",
       "    }\n",
       "</style>\n",
       "<table border=\"1\" class=\"dataframe\">\n",
       "  <thead>\n",
       "    <tr style=\"text-align: right;\">\n",
       "      <th></th>\n",
       "      <th>Gene stable ID</th>\n",
       "    </tr>\n",
       "    <tr>\n",
       "      <th>NCBI gene ID</th>\n",
       "      <th></th>\n",
       "    </tr>\n",
       "  </thead>\n",
       "  <tbody>\n",
       "    <tr>\n",
       "      <th>NaN</th>\n",
       "      <td>ENSMUSG00000064336</td>\n",
       "    </tr>\n",
       "    <tr>\n",
       "      <th>NaN</th>\n",
       "      <td>ENSMUSG00000064337</td>\n",
       "    </tr>\n",
       "    <tr>\n",
       "      <th>NaN</th>\n",
       "      <td>ENSMUSG00000064338</td>\n",
       "    </tr>\n",
       "    <tr>\n",
       "      <th>NaN</th>\n",
       "      <td>ENSMUSG00000064339</td>\n",
       "    </tr>\n",
       "    <tr>\n",
       "      <th>NaN</th>\n",
       "      <td>ENSMUSG00000064340</td>\n",
       "    </tr>\n",
       "  </tbody>\n",
       "</table>\n",
       "</div>"
      ],
      "text/plain": [
       "                  Gene stable ID\n",
       "NCBI gene ID                    \n",
       "NaN           ENSMUSG00000064336\n",
       "NaN           ENSMUSG00000064337\n",
       "NaN           ENSMUSG00000064338\n",
       "NaN           ENSMUSG00000064339\n",
       "NaN           ENSMUSG00000064340"
      ]
     },
     "execution_count": 30,
     "metadata": {},
     "output_type": "execute_result"
    }
   ],
   "source": [
    "entrez_ensembl = entrez_ensembl.set_index(\"NCBI gene ID\")\n",
    "entrez_ensembl.head()"
   ]
  },
  {
   "cell_type": "code",
   "execution_count": 32,
   "metadata": {
    "collapsed": true
   },
   "outputs": [
    {
     "data": {
      "text/html": [
       "<div>\n",
       "<style scoped>\n",
       "    .dataframe tbody tr th:only-of-type {\n",
       "        vertical-align: middle;\n",
       "    }\n",
       "\n",
       "    .dataframe tbody tr th {\n",
       "        vertical-align: top;\n",
       "    }\n",
       "\n",
       "    .dataframe thead th {\n",
       "        text-align: right;\n",
       "    }\n",
       "</style>\n",
       "<table border=\"1\" class=\"dataframe\">\n",
       "  <thead>\n",
       "    <tr style=\"text-align: right;\">\n",
       "      <th></th>\n",
       "      <th>Gene stable ID</th>\n",
       "    </tr>\n",
       "    <tr>\n",
       "      <th>NCBI gene ID</th>\n",
       "      <th></th>\n",
       "    </tr>\n",
       "  </thead>\n",
       "  <tbody>\n",
       "    <tr>\n",
       "      <th>NaN</th>\n",
       "      <td>ENSMUSG00000064336</td>\n",
       "    </tr>\n",
       "    <tr>\n",
       "      <th>NaN</th>\n",
       "      <td>ENSMUSG00000064337</td>\n",
       "    </tr>\n",
       "    <tr>\n",
       "      <th>NaN</th>\n",
       "      <td>ENSMUSG00000064338</td>\n",
       "    </tr>\n",
       "    <tr>\n",
       "      <th>NaN</th>\n",
       "      <td>ENSMUSG00000064339</td>\n",
       "    </tr>\n",
       "    <tr>\n",
       "      <th>NaN</th>\n",
       "      <td>ENSMUSG00000064340</td>\n",
       "    </tr>\n",
       "    <tr>\n",
       "      <th>17716</th>\n",
       "      <td>ENSMUSG00000064341</td>\n",
       "    </tr>\n",
       "    <tr>\n",
       "      <th>NaN</th>\n",
       "      <td>ENSMUSG00000064342</td>\n",
       "    </tr>\n",
       "    <tr>\n",
       "      <th>NaN</th>\n",
       "      <td>ENSMUSG00000064343</td>\n",
       "    </tr>\n",
       "    <tr>\n",
       "      <th>NaN</th>\n",
       "      <td>ENSMUSG00000064344</td>\n",
       "    </tr>\n",
       "    <tr>\n",
       "      <th>17717</th>\n",
       "      <td>ENSMUSG00000064345</td>\n",
       "    </tr>\n",
       "    <tr>\n",
       "      <th>NaN</th>\n",
       "      <td>ENSMUSG00000064346</td>\n",
       "    </tr>\n",
       "    <tr>\n",
       "      <th>NaN</th>\n",
       "      <td>ENSMUSG00000064347</td>\n",
       "    </tr>\n",
       "    <tr>\n",
       "      <th>NaN</th>\n",
       "      <td>ENSMUSG00000064348</td>\n",
       "    </tr>\n",
       "    <tr>\n",
       "      <th>NaN</th>\n",
       "      <td>ENSMUSG00000064349</td>\n",
       "    </tr>\n",
       "    <tr>\n",
       "      <th>NaN</th>\n",
       "      <td>ENSMUSG00000064350</td>\n",
       "    </tr>\n",
       "    <tr>\n",
       "      <th>17708</th>\n",
       "      <td>ENSMUSG00000064351</td>\n",
       "    </tr>\n",
       "    <tr>\n",
       "      <th>NaN</th>\n",
       "      <td>ENSMUSG00000064352</td>\n",
       "    </tr>\n",
       "    <tr>\n",
       "      <th>NaN</th>\n",
       "      <td>ENSMUSG00000064353</td>\n",
       "    </tr>\n",
       "    <tr>\n",
       "      <th>17709</th>\n",
       "      <td>ENSMUSG00000064354</td>\n",
       "    </tr>\n",
       "    <tr>\n",
       "      <th>NaN</th>\n",
       "      <td>ENSMUSG00000064355</td>\n",
       "    </tr>\n",
       "    <tr>\n",
       "      <th>17706</th>\n",
       "      <td>ENSMUSG00000064356</td>\n",
       "    </tr>\n",
       "    <tr>\n",
       "      <th>17705</th>\n",
       "      <td>ENSMUSG00000064357</td>\n",
       "    </tr>\n",
       "    <tr>\n",
       "      <th>17710</th>\n",
       "      <td>ENSMUSG00000064358</td>\n",
       "    </tr>\n",
       "    <tr>\n",
       "      <th>NaN</th>\n",
       "      <td>ENSMUSG00000064359</td>\n",
       "    </tr>\n",
       "    <tr>\n",
       "      <th>17718</th>\n",
       "      <td>ENSMUSG00000064360</td>\n",
       "    </tr>\n",
       "    <tr>\n",
       "      <th>NaN</th>\n",
       "      <td>ENSMUSG00000064361</td>\n",
       "    </tr>\n",
       "    <tr>\n",
       "      <th>17720</th>\n",
       "      <td>ENSMUSG00000065947</td>\n",
       "    </tr>\n",
       "    <tr>\n",
       "      <th>17719</th>\n",
       "      <td>ENSMUSG00000064363</td>\n",
       "    </tr>\n",
       "    <tr>\n",
       "      <th>NaN</th>\n",
       "      <td>ENSMUSG00000064364</td>\n",
       "    </tr>\n",
       "    <tr>\n",
       "      <th>NaN</th>\n",
       "      <td>ENSMUSG00000064365</td>\n",
       "    </tr>\n",
       "    <tr>\n",
       "      <th>...</th>\n",
       "      <td>...</td>\n",
       "    </tr>\n",
       "    <tr>\n",
       "      <th>NaN</th>\n",
       "      <td>ENSMUSG00000107095</td>\n",
       "    </tr>\n",
       "    <tr>\n",
       "      <th>NaN</th>\n",
       "      <td>ENSMUSG00000116012</td>\n",
       "    </tr>\n",
       "    <tr>\n",
       "      <th>100039089</th>\n",
       "      <td>ENSMUSG00000106922</td>\n",
       "    </tr>\n",
       "    <tr>\n",
       "      <th>NaN</th>\n",
       "      <td>ENSMUSG00000115967</td>\n",
       "    </tr>\n",
       "    <tr>\n",
       "      <th>NaN</th>\n",
       "      <td>ENSMUSG00000116522</td>\n",
       "    </tr>\n",
       "    <tr>\n",
       "      <th>NaN</th>\n",
       "      <td>ENSMUSG00000106908</td>\n",
       "    </tr>\n",
       "    <tr>\n",
       "      <th>NaN</th>\n",
       "      <td>ENSMUSG00000103337</td>\n",
       "    </tr>\n",
       "    <tr>\n",
       "      <th>NaN</th>\n",
       "      <td>ENSMUSG00000103687</td>\n",
       "    </tr>\n",
       "    <tr>\n",
       "      <th>NaN</th>\n",
       "      <td>ENSMUSG00000102944</td>\n",
       "    </tr>\n",
       "    <tr>\n",
       "      <th>100039116</th>\n",
       "      <td>ENSMUSG00000106700</td>\n",
       "    </tr>\n",
       "    <tr>\n",
       "      <th>NaN</th>\n",
       "      <td>ENSMUSG00000103582</td>\n",
       "    </tr>\n",
       "    <tr>\n",
       "      <th>NaN</th>\n",
       "      <td>ENSMUSG00000104421</td>\n",
       "    </tr>\n",
       "    <tr>\n",
       "      <th>NaN</th>\n",
       "      <td>ENSMUSG00000102161</td>\n",
       "    </tr>\n",
       "    <tr>\n",
       "      <th>NaN</th>\n",
       "      <td>ENSMUSG00000103806</td>\n",
       "    </tr>\n",
       "    <tr>\n",
       "      <th>NaN</th>\n",
       "      <td>ENSMUSG00000111848</td>\n",
       "    </tr>\n",
       "    <tr>\n",
       "      <th>NaN</th>\n",
       "      <td>ENSMUSG00000107077</td>\n",
       "    </tr>\n",
       "    <tr>\n",
       "      <th>12487</th>\n",
       "      <td>ENSMUSG00000102412</td>\n",
       "    </tr>\n",
       "    <tr>\n",
       "      <th>100039150</th>\n",
       "      <td>ENSMUSG00000107311</td>\n",
       "    </tr>\n",
       "    <tr>\n",
       "      <th>12477</th>\n",
       "      <td>ENSMUSG00000103326</td>\n",
       "    </tr>\n",
       "    <tr>\n",
       "      <th>NaN</th>\n",
       "      <td>ENSMUSG00000106901</td>\n",
       "    </tr>\n",
       "    <tr>\n",
       "      <th>NaN</th>\n",
       "      <td>ENSMUSG00000110933</td>\n",
       "    </tr>\n",
       "    <tr>\n",
       "      <th>NaN</th>\n",
       "      <td>ENSMUSG00000111855</td>\n",
       "    </tr>\n",
       "    <tr>\n",
       "      <th>NaN</th>\n",
       "      <td>ENSMUSG00000103068</td>\n",
       "    </tr>\n",
       "    <tr>\n",
       "      <th>100039177</th>\n",
       "      <td>ENSMUSG00000106882</td>\n",
       "    </tr>\n",
       "    <tr>\n",
       "      <th>100048885</th>\n",
       "      <td>ENSMUSG00000106882</td>\n",
       "    </tr>\n",
       "    <tr>\n",
       "      <th>NaN</th>\n",
       "      <td>ENSMUSG00000107196</td>\n",
       "    </tr>\n",
       "    <tr>\n",
       "      <th>NaN</th>\n",
       "      <td>ENSMUSG00000110921</td>\n",
       "    </tr>\n",
       "    <tr>\n",
       "      <th>80912</th>\n",
       "      <td>ENSMUSG00000106966</td>\n",
       "    </tr>\n",
       "    <tr>\n",
       "      <th>NaN</th>\n",
       "      <td>ENSMUSG00000106727</td>\n",
       "    </tr>\n",
       "    <tr>\n",
       "      <th>67149</th>\n",
       "      <td>ENSMUSG00000106964</td>\n",
       "    </tr>\n",
       "  </tbody>\n",
       "</table>\n",
       "<p>55310 rows × 1 columns</p>\n",
       "</div>"
      ],
      "text/plain": [
       "                  Gene stable ID\n",
       "NCBI gene ID                    \n",
       "NaN           ENSMUSG00000064336\n",
       "NaN           ENSMUSG00000064337\n",
       "NaN           ENSMUSG00000064338\n",
       "NaN           ENSMUSG00000064339\n",
       "NaN           ENSMUSG00000064340\n",
       "17716         ENSMUSG00000064341\n",
       "NaN           ENSMUSG00000064342\n",
       "NaN           ENSMUSG00000064343\n",
       "NaN           ENSMUSG00000064344\n",
       "17717         ENSMUSG00000064345\n",
       "NaN           ENSMUSG00000064346\n",
       "NaN           ENSMUSG00000064347\n",
       "NaN           ENSMUSG00000064348\n",
       "NaN           ENSMUSG00000064349\n",
       "NaN           ENSMUSG00000064350\n",
       "17708         ENSMUSG00000064351\n",
       "NaN           ENSMUSG00000064352\n",
       "NaN           ENSMUSG00000064353\n",
       "17709         ENSMUSG00000064354\n",
       "NaN           ENSMUSG00000064355\n",
       "17706         ENSMUSG00000064356\n",
       "17705         ENSMUSG00000064357\n",
       "17710         ENSMUSG00000064358\n",
       "NaN           ENSMUSG00000064359\n",
       "17718         ENSMUSG00000064360\n",
       "NaN           ENSMUSG00000064361\n",
       "17720         ENSMUSG00000065947\n",
       "17719         ENSMUSG00000064363\n",
       "NaN           ENSMUSG00000064364\n",
       "NaN           ENSMUSG00000064365\n",
       "...                          ...\n",
       "NaN           ENSMUSG00000107095\n",
       "NaN           ENSMUSG00000116012\n",
       "100039089     ENSMUSG00000106922\n",
       "NaN           ENSMUSG00000115967\n",
       "NaN           ENSMUSG00000116522\n",
       "NaN           ENSMUSG00000106908\n",
       "NaN           ENSMUSG00000103337\n",
       "NaN           ENSMUSG00000103687\n",
       "NaN           ENSMUSG00000102944\n",
       "100039116     ENSMUSG00000106700\n",
       "NaN           ENSMUSG00000103582\n",
       "NaN           ENSMUSG00000104421\n",
       "NaN           ENSMUSG00000102161\n",
       "NaN           ENSMUSG00000103806\n",
       "NaN           ENSMUSG00000111848\n",
       "NaN           ENSMUSG00000107077\n",
       "12487         ENSMUSG00000102412\n",
       "100039150     ENSMUSG00000107311\n",
       "12477         ENSMUSG00000103326\n",
       "NaN           ENSMUSG00000106901\n",
       "NaN           ENSMUSG00000110933\n",
       "NaN           ENSMUSG00000111855\n",
       "NaN           ENSMUSG00000103068\n",
       "100039177     ENSMUSG00000106882\n",
       "100048885     ENSMUSG00000106882\n",
       "NaN           ENSMUSG00000107196\n",
       "NaN           ENSMUSG00000110921\n",
       "80912         ENSMUSG00000106966\n",
       "NaN           ENSMUSG00000106727\n",
       "67149         ENSMUSG00000106964\n",
       "\n",
       "[55310 rows x 1 columns]"
      ]
     },
     "execution_count": 32,
     "metadata": {},
     "output_type": "execute_result"
    }
   ],
   "source": [
    "entrez_ensembl"
   ]
  },
  {
   "cell_type": "code",
   "execution_count": 38,
   "metadata": {},
   "outputs": [],
   "source": [
    "ensembleID = []\n",
    "for i in tf.EntrezGene.tolist():\n",
    "    try:\n",
    "#         print (float(i))\n",
    "        en = entrez_ensembl.at[i,'Gene stable ID']\n",
    "        ensembleID.append(en)\n",
    "    except:\n",
    "        ensembleID.append('xxxx')\n",
    "        pass\n",
    "    "
   ]
  },
  {
   "cell_type": "code",
   "execution_count": 41,
   "metadata": {},
   "outputs": [
    {
     "data": {
      "text/html": [
       "<div>\n",
       "<style scoped>\n",
       "    .dataframe tbody tr th:only-of-type {\n",
       "        vertical-align: middle;\n",
       "    }\n",
       "\n",
       "    .dataframe tbody tr th {\n",
       "        vertical-align: top;\n",
       "    }\n",
       "\n",
       "    .dataframe thead th {\n",
       "        text-align: right;\n",
       "    }\n",
       "</style>\n",
       "<table border=\"1\" class=\"dataframe\">\n",
       "  <thead>\n",
       "    <tr style=\"text-align: right;\">\n",
       "      <th></th>\n",
       "      <th>Model</th>\n",
       "      <th>LOGO</th>\n",
       "      <th>Transcription factor</th>\n",
       "      <th>Model length</th>\n",
       "      <th>Quality</th>\n",
       "      <th>TF family</th>\n",
       "      <th>EntrezGene</th>\n",
       "      <th>UniProt ID</th>\n",
       "      <th>ensembleID</th>\n",
       "    </tr>\n",
       "  </thead>\n",
       "  <tbody>\n",
       "    <tr>\n",
       "      <th>0</th>\n",
       "      <td>AHR_MOUSE.H11MO.0.B</td>\n",
       "      <td>NaN</td>\n",
       "      <td>Ahr</td>\n",
       "      <td>9</td>\n",
       "      <td>B</td>\n",
       "      <td>PAS domain factors{1.2.5}</td>\n",
       "      <td>11622</td>\n",
       "      <td>AHR_MOUSE</td>\n",
       "      <td>ENSMUSG00000019256</td>\n",
       "    </tr>\n",
       "    <tr>\n",
       "      <th>1</th>\n",
       "      <td>AIRE_MOUSE.H11MO.0.C</td>\n",
       "      <td>NaN</td>\n",
       "      <td>Aire</td>\n",
       "      <td>18</td>\n",
       "      <td>C</td>\n",
       "      <td>AIRE{5.3.1}</td>\n",
       "      <td>11634</td>\n",
       "      <td>AIRE_MOUSE</td>\n",
       "      <td>ENSMUSG00000000731</td>\n",
       "    </tr>\n",
       "    <tr>\n",
       "      <th>2</th>\n",
       "      <td>ALX1_MOUSE.H11MO.0.B</td>\n",
       "      <td>NaN</td>\n",
       "      <td>Alx1</td>\n",
       "      <td>12</td>\n",
       "      <td>B</td>\n",
       "      <td>Paired-related HD factors{3.1.3}</td>\n",
       "      <td>216285</td>\n",
       "      <td>ALX1_MOUSE</td>\n",
       "      <td>ENSMUSG00000036602</td>\n",
       "    </tr>\n",
       "    <tr>\n",
       "      <th>3</th>\n",
       "      <td>ANDR_MOUSE.H11MO.0.A</td>\n",
       "      <td>NaN</td>\n",
       "      <td>Ar</td>\n",
       "      <td>16</td>\n",
       "      <td>A</td>\n",
       "      <td>Steroid hormone receptors (NR3){2.1.1}</td>\n",
       "      <td>11835</td>\n",
       "      <td>ANDR_MOUSE</td>\n",
       "      <td>ENSMUSG00000046532</td>\n",
       "    </tr>\n",
       "    <tr>\n",
       "      <th>4</th>\n",
       "      <td>AP2A_MOUSE.H11MO.0.A</td>\n",
       "      <td>NaN</td>\n",
       "      <td>Tfap2a</td>\n",
       "      <td>12</td>\n",
       "      <td>A</td>\n",
       "      <td>AP-2{1.3.1}</td>\n",
       "      <td>21418</td>\n",
       "      <td>AP2A_MOUSE</td>\n",
       "      <td>ENSMUSG00000021359</td>\n",
       "    </tr>\n",
       "  </tbody>\n",
       "</table>\n",
       "</div>"
      ],
      "text/plain": [
       "                  Model  LOGO Transcription factor  Model length Quality  \\\n",
       "0   AHR_MOUSE.H11MO.0.B   NaN                  Ahr             9       B   \n",
       "1  AIRE_MOUSE.H11MO.0.C   NaN                 Aire            18       C   \n",
       "2  ALX1_MOUSE.H11MO.0.B   NaN                 Alx1            12       B   \n",
       "3  ANDR_MOUSE.H11MO.0.A   NaN                   Ar            16       A   \n",
       "4  AP2A_MOUSE.H11MO.0.A   NaN               Tfap2a            12       A   \n",
       "\n",
       "                                TF family EntrezGene  UniProt ID  \\\n",
       "0               PAS domain factors{1.2.5}      11622   AHR_MOUSE   \n",
       "1                             AIRE{5.3.1}      11634  AIRE_MOUSE   \n",
       "2        Paired-related HD factors{3.1.3}     216285  ALX1_MOUSE   \n",
       "3  Steroid hormone receptors (NR3){2.1.1}      11835  ANDR_MOUSE   \n",
       "4                             AP-2{1.3.1}      21418  AP2A_MOUSE   \n",
       "\n",
       "           ensembleID  \n",
       "0  ENSMUSG00000019256  \n",
       "1  ENSMUSG00000000731  \n",
       "2  ENSMUSG00000036602  \n",
       "3  ENSMUSG00000046532  \n",
       "4  ENSMUSG00000021359  "
      ]
     },
     "execution_count": 41,
     "metadata": {},
     "output_type": "execute_result"
    }
   ],
   "source": [
    "tf['ensembleID'] = ensembleID\n",
    "tf.head()"
   ]
  },
  {
   "cell_type": "code",
   "execution_count": 36,
   "metadata": {},
   "outputs": [
    {
     "data": {
      "text/plain": [
       "'ENSMUSG00000064341'"
      ]
     },
     "execution_count": 36,
     "metadata": {},
     "output_type": "execute_result"
    }
   ],
   "source": [
    "entrez_ensembl.at['17716','Gene stable ID']"
   ]
  },
  {
   "cell_type": "code",
   "execution_count": 4,
   "metadata": {},
   "outputs": [
    {
     "data": {
      "text/plain": [
       "['X46c_43_day0_TPM',\n",
       " 'X46c_43_day1_TPM',\n",
       " 'X46c_43_day2_TPM',\n",
       " 'X46c_43_day3_TPM',\n",
       " 'X46c_43_day4_TPM',\n",
       " 'X46c_43_day5_TPM',\n",
       " 'X46c_43_day6_TPM',\n",
       " 'X46c_43_day7_TPM',\n",
       " 'X46c_65_day16_TPM',\n",
       " 'X46c_50_day30_TPM']"
      ]
     },
     "execution_count": 4,
     "metadata": {},
     "output_type": "execute_result"
    }
   ],
   "source": []
  },
  {
   "cell_type": "code",
   "execution_count": 45,
   "metadata": {},
   "outputs": [
    {
     "data": {
      "text/plain": [
       "X46c_43_day0_TPM      0.060000\n",
       "X46c_43_day1_TPM      0.173333\n",
       "X46c_43_day2_TPM      0.856667\n",
       "X46c_43_day3_TPM      0.903333\n",
       "X46c_43_day4_TPM      0.893333\n",
       "X46c_43_day5_TPM      0.796667\n",
       "X46c_43_day6_TPM      1.270000\n",
       "X46c_43_day7_TPM      3.206667\n",
       "X46c_65_day16_TPM    15.196667\n",
       "X46c_50_day30_TPM     8.760000\n",
       "dtype: float64"
      ]
     },
     "execution_count": 45,
     "metadata": {},
     "output_type": "execute_result"
    }
   ],
   "source": [
    "df.loc[[0,1,2]][order_col].mean()"
   ]
  },
  {
   "cell_type": "code",
   "execution_count": 97,
   "metadata": {
    "scrolled": true
   },
   "outputs": [
    {
     "data": {
      "text/html": [
       "<div>\n",
       "<style scoped>\n",
       "    .dataframe tbody tr th:only-of-type {\n",
       "        vertical-align: middle;\n",
       "    }\n",
       "\n",
       "    .dataframe tbody tr th {\n",
       "        vertical-align: top;\n",
       "    }\n",
       "\n",
       "    .dataframe thead th {\n",
       "        text-align: right;\n",
       "    }\n",
       "</style>\n",
       "<table border=\"1\" class=\"dataframe\">\n",
       "  <thead>\n",
       "    <tr style=\"text-align: right;\">\n",
       "      <th></th>\n",
       "      <th>X46c_43_day0_TPM</th>\n",
       "      <th>X46c_43_day1_TPM</th>\n",
       "      <th>X46c_43_day2_TPM</th>\n",
       "      <th>X46c_43_day3_TPM</th>\n",
       "      <th>X46c_43_day4_TPM</th>\n",
       "      <th>X46c_43_day5_TPM</th>\n",
       "      <th>X46c_43_day6_TPM</th>\n",
       "      <th>X46c_43_day7_TPM</th>\n",
       "      <th>X46c_65_day16_TPM</th>\n",
       "      <th>X46c_50_day30_TPM</th>\n",
       "    </tr>\n",
       "  </thead>\n",
       "  <tbody>\n",
       "  </tbody>\n",
       "</table>\n",
       "</div>"
      ],
      "text/plain": [
       "Empty DataFrame\n",
       "Columns: [X46c_43_day0_TPM, X46c_43_day1_TPM, X46c_43_day2_TPM, X46c_43_day3_TPM, X46c_43_day4_TPM, X46c_43_day5_TPM, X46c_43_day6_TPM, X46c_43_day7_TPM, X46c_65_day16_TPM, X46c_50_day30_TPM]\n",
       "Index: []"
      ]
     },
     "execution_count": 97,
     "metadata": {},
     "output_type": "execute_result"
    }
   ],
   "source": [
    "exp = pd.DataFrame(columns = order_col)\n",
    "exp"
   ]
  },
  {
   "cell_type": "code",
   "execution_count": 47,
   "metadata": {},
   "outputs": [],
   "source": [
    "check_col = ensembl_gene_ID_cols+['geneSymbol']"
   ]
  },
  {
   "cell_type": "code",
   "execution_count": 49,
   "metadata": {
    "collapsed": true
   },
   "outputs": [
    {
     "data": {
      "text/html": [
       "<div>\n",
       "<style scoped>\n",
       "    .dataframe tbody tr th:only-of-type {\n",
       "        vertical-align: middle;\n",
       "    }\n",
       "\n",
       "    .dataframe tbody tr th {\n",
       "        vertical-align: top;\n",
       "    }\n",
       "\n",
       "    .dataframe thead th {\n",
       "        text-align: right;\n",
       "    }\n",
       "</style>\n",
       "<table border=\"1\" class=\"dataframe\">\n",
       "  <thead>\n",
       "    <tr style=\"text-align: right;\">\n",
       "      <th></th>\n",
       "      <th>EnsemblGeneID_d0</th>\n",
       "      <th>EnsemblGeneID_d1</th>\n",
       "      <th>EnsemblGeneID_d3</th>\n",
       "      <th>EnsemblGeneID_d16</th>\n",
       "      <th>EnsemblGeneID_d30</th>\n",
       "      <th>geneSymbol</th>\n",
       "    </tr>\n",
       "  </thead>\n",
       "  <tbody>\n",
       "    <tr>\n",
       "      <th>0</th>\n",
       "      <td>ENSMUSG00000051951</td>\n",
       "      <td>ENSMUSG00000051951</td>\n",
       "      <td>ENSMUSG00000051951</td>\n",
       "      <td>ENSMUSG00000051951</td>\n",
       "      <td>ENSMUSG00000051951</td>\n",
       "      <td>Xkr4</td>\n",
       "    </tr>\n",
       "    <tr>\n",
       "      <th>1</th>\n",
       "      <td>ENSMUSG00000025900</td>\n",
       "      <td>ENSMUSG00000025900</td>\n",
       "      <td>ENSMUSG00000025900</td>\n",
       "      <td>ENSMUSG00000025900</td>\n",
       "      <td>ENSMUSG00000025900</td>\n",
       "      <td>Rp1</td>\n",
       "    </tr>\n",
       "    <tr>\n",
       "      <th>2</th>\n",
       "      <td>ENSMUSG00000025902</td>\n",
       "      <td>ENSMUSG00000025902</td>\n",
       "      <td>ENSMUSG00000025902</td>\n",
       "      <td>ENSMUSG00000025902</td>\n",
       "      <td>ENSMUSG00000025902</td>\n",
       "      <td>Sox17</td>\n",
       "    </tr>\n",
       "    <tr>\n",
       "      <th>3</th>\n",
       "      <td>ENSMUSG00000033845</td>\n",
       "      <td>ENSMUSG00000033845</td>\n",
       "      <td>ENSMUSG00000033845</td>\n",
       "      <td>ENSMUSG00000033845</td>\n",
       "      <td>ENSMUSG00000033845</td>\n",
       "      <td>Mrpl15</td>\n",
       "    </tr>\n",
       "    <tr>\n",
       "      <th>4</th>\n",
       "      <td>ENSMUSG00000025903</td>\n",
       "      <td>ENSMUSG00000025903</td>\n",
       "      <td>ENSMUSG00000025903</td>\n",
       "      <td>ENSMUSG00000025903</td>\n",
       "      <td>ENSMUSG00000025903</td>\n",
       "      <td>Lypla1</td>\n",
       "    </tr>\n",
       "    <tr>\n",
       "      <th>5</th>\n",
       "      <td>ENSMUSG00000033813</td>\n",
       "      <td>ENSMUSG00000033813</td>\n",
       "      <td>ENSMUSG00000033813</td>\n",
       "      <td>ENSMUSG00000033813</td>\n",
       "      <td>ENSMUSG00000033813</td>\n",
       "      <td>Tcea1</td>\n",
       "    </tr>\n",
       "    <tr>\n",
       "      <th>6</th>\n",
       "      <td>ENSMUSG00000002459</td>\n",
       "      <td>ENSMUSG00000002459</td>\n",
       "      <td>ENSMUSG00000002459</td>\n",
       "      <td>ENSMUSG00000002459</td>\n",
       "      <td>ENSMUSG00000002459</td>\n",
       "      <td>Rgs20</td>\n",
       "    </tr>\n",
       "    <tr>\n",
       "      <th>7</th>\n",
       "      <td>ENSMUSG00000033793</td>\n",
       "      <td>ENSMUSG00000033793</td>\n",
       "      <td>ENSMUSG00000033793</td>\n",
       "      <td>ENSMUSG00000033793</td>\n",
       "      <td>ENSMUSG00000033793</td>\n",
       "      <td>Atp6v1h</td>\n",
       "    </tr>\n",
       "    <tr>\n",
       "      <th>8</th>\n",
       "      <td>ENSMUSG00000025905</td>\n",
       "      <td>ENSMUSG00000025905</td>\n",
       "      <td>ENSMUSG00000025905</td>\n",
       "      <td>ENSMUSG00000025905</td>\n",
       "      <td>ENSMUSG00000025905</td>\n",
       "      <td>Oprk1</td>\n",
       "    </tr>\n",
       "    <tr>\n",
       "      <th>9</th>\n",
       "      <td>ENSMUSG00000033774</td>\n",
       "      <td>ENSMUSG00000033774</td>\n",
       "      <td>ENSMUSG00000033774</td>\n",
       "      <td>ENSMUSG00000033774</td>\n",
       "      <td>ENSMUSG00000033774</td>\n",
       "      <td>Npbwr1</td>\n",
       "    </tr>\n",
       "    <tr>\n",
       "      <th>10</th>\n",
       "      <td>ENSMUSG00000025907</td>\n",
       "      <td>ENSMUSG00000025907</td>\n",
       "      <td>ENSMUSG00000025907</td>\n",
       "      <td>ENSMUSG00000025907</td>\n",
       "      <td>ENSMUSG00000025907</td>\n",
       "      <td>Rb1cc1</td>\n",
       "    </tr>\n",
       "    <tr>\n",
       "      <th>11</th>\n",
       "      <td>ENSMUSG00000087247</td>\n",
       "      <td>ENSMUSG00000087247</td>\n",
       "      <td>ENSMUSG00000087247</td>\n",
       "      <td>ENSMUSG00000087247</td>\n",
       "      <td>ENSMUSG00000087247</td>\n",
       "      <td>Fam150a</td>\n",
       "    </tr>\n",
       "    <tr>\n",
       "      <th>12</th>\n",
       "      <td>ENSMUSG00000033740</td>\n",
       "      <td>ENSMUSG00000033740</td>\n",
       "      <td>ENSMUSG00000033740</td>\n",
       "      <td>ENSMUSG00000033740</td>\n",
       "      <td>ENSMUSG00000033740</td>\n",
       "      <td>St18</td>\n",
       "    </tr>\n",
       "    <tr>\n",
       "      <th>13</th>\n",
       "      <td>ENSMUSG00000051285</td>\n",
       "      <td>ENSMUSG00000051285</td>\n",
       "      <td>ENSMUSG00000051285</td>\n",
       "      <td>ENSMUSG00000051285</td>\n",
       "      <td>ENSMUSG00000051285</td>\n",
       "      <td>Pcmtd1</td>\n",
       "    </tr>\n",
       "    <tr>\n",
       "      <th>14</th>\n",
       "      <td>ENSMUSG00000025909</td>\n",
       "      <td>ENSMUSG00000025909</td>\n",
       "      <td>ENSMUSG00000025909</td>\n",
       "      <td>ENSMUSG00000025909</td>\n",
       "      <td>ENSMUSG00000025909</td>\n",
       "      <td>Sntg1</td>\n",
       "    </tr>\n",
       "    <tr>\n",
       "      <th>15</th>\n",
       "      <td>ENSMUSG00000061024</td>\n",
       "      <td>ENSMUSG00000061024</td>\n",
       "      <td>ENSMUSG00000061024</td>\n",
       "      <td>ENSMUSG00000061024</td>\n",
       "      <td>ENSMUSG00000061024</td>\n",
       "      <td>Rrs1</td>\n",
       "    </tr>\n",
       "    <tr>\n",
       "      <th>16</th>\n",
       "      <td>ENSMUSG00000025911</td>\n",
       "      <td>ENSMUSG00000025911</td>\n",
       "      <td>ENSMUSG00000025911</td>\n",
       "      <td>ENSMUSG00000025911</td>\n",
       "      <td>ENSMUSG00000025911</td>\n",
       "      <td>Adhfe1</td>\n",
       "    </tr>\n",
       "    <tr>\n",
       "      <th>17</th>\n",
       "      <td>ENSMUSG00000079671</td>\n",
       "      <td>ENSMUSG00000079671</td>\n",
       "      <td>ENSMUSG00000079671</td>\n",
       "      <td>ENSMUSG00000079671</td>\n",
       "      <td>ENSMUSG00000079671</td>\n",
       "      <td>2610203C22Rik</td>\n",
       "    </tr>\n",
       "    <tr>\n",
       "      <th>18</th>\n",
       "      <td>ENSMUSG00000067879</td>\n",
       "      <td>ENSMUSG00000067879</td>\n",
       "      <td>ENSMUSG00000067879</td>\n",
       "      <td>ENSMUSG00000067879</td>\n",
       "      <td>ENSMUSG00000067879</td>\n",
       "      <td>3110035E14Rik</td>\n",
       "    </tr>\n",
       "    <tr>\n",
       "      <th>19</th>\n",
       "      <td>ENSMUSG00000025912</td>\n",
       "      <td>ENSMUSG00000025912</td>\n",
       "      <td>ENSMUSG00000025912</td>\n",
       "      <td>ENSMUSG00000025912</td>\n",
       "      <td>ENSMUSG00000025912</td>\n",
       "      <td>Mybl1</td>\n",
       "    </tr>\n",
       "    <tr>\n",
       "      <th>20</th>\n",
       "      <td>ENSMUSG00000045210</td>\n",
       "      <td>ENSMUSG00000045210</td>\n",
       "      <td>ENSMUSG00000045210</td>\n",
       "      <td>ENSMUSG00000045210</td>\n",
       "      <td>ENSMUSG00000045210</td>\n",
       "      <td>Vcpip1</td>\n",
       "    </tr>\n",
       "    <tr>\n",
       "      <th>21</th>\n",
       "      <td>ENSMUSG00000097893</td>\n",
       "      <td>ENSMUSG00000097893</td>\n",
       "      <td>ENSMUSG00000097893</td>\n",
       "      <td>ENSMUSG00000097893</td>\n",
       "      <td>ENSMUSG00000097893</td>\n",
       "      <td>1700034P13Rik</td>\n",
       "    </tr>\n",
       "    <tr>\n",
       "      <th>22</th>\n",
       "      <td>ENSMUSG00000025915</td>\n",
       "      <td>ENSMUSG00000025915</td>\n",
       "      <td>ENSMUSG00000025915</td>\n",
       "      <td>ENSMUSG00000025915</td>\n",
       "      <td>ENSMUSG00000025915</td>\n",
       "      <td>Sgk3</td>\n",
       "    </tr>\n",
       "    <tr>\n",
       "      <th>23</th>\n",
       "      <td>ENSMUSG00000046101</td>\n",
       "      <td>ENSMUSG00000046101</td>\n",
       "      <td>ENSMUSG00000046101</td>\n",
       "      <td>ENSMUSG00000046101</td>\n",
       "      <td>ENSMUSG00000046101</td>\n",
       "      <td>6030422M02Rik</td>\n",
       "    </tr>\n",
       "    <tr>\n",
       "      <th>24</th>\n",
       "      <td>ENSMUSG00000098234</td>\n",
       "      <td>ENSMUSG00000098234</td>\n",
       "      <td>ENSMUSG00000098234</td>\n",
       "      <td>ENSMUSG00000098234</td>\n",
       "      <td>ENSMUSG00000098234</td>\n",
       "      <td>Snhg6</td>\n",
       "    </tr>\n",
       "    <tr>\n",
       "      <th>25</th>\n",
       "      <td>ENSMUSG00000093178</td>\n",
       "      <td>ENSMUSG00000093178</td>\n",
       "      <td>ENSMUSG00000093178</td>\n",
       "      <td>ENSMUSG00000093178</td>\n",
       "      <td>ENSMUSG00000093178</td>\n",
       "      <td>Snord87</td>\n",
       "    </tr>\n",
       "    <tr>\n",
       "      <th>26</th>\n",
       "      <td>ENSMUSG00000025916</td>\n",
       "      <td>ENSMUSG00000025916</td>\n",
       "      <td>ENSMUSG00000025916</td>\n",
       "      <td>ENSMUSG00000025916</td>\n",
       "      <td>ENSMUSG00000025916</td>\n",
       "      <td>Ppp1r42</td>\n",
       "    </tr>\n",
       "    <tr>\n",
       "      <th>27</th>\n",
       "      <td>ENSMUSG00000025917</td>\n",
       "      <td>ENSMUSG00000025917</td>\n",
       "      <td>ENSMUSG00000025917</td>\n",
       "      <td>ENSMUSG00000025917</td>\n",
       "      <td>ENSMUSG00000025917</td>\n",
       "      <td>Cops5</td>\n",
       "    </tr>\n",
       "    <tr>\n",
       "      <th>28</th>\n",
       "      <td>ENSMUSG00000056763</td>\n",
       "      <td>ENSMUSG00000056763</td>\n",
       "      <td>ENSMUSG00000056763</td>\n",
       "      <td>ENSMUSG00000056763</td>\n",
       "      <td>ENSMUSG00000056763</td>\n",
       "      <td>Cspp1</td>\n",
       "    </tr>\n",
       "    <tr>\n",
       "      <th>29</th>\n",
       "      <td>ENSMUSG00000067851</td>\n",
       "      <td>ENSMUSG00000067851</td>\n",
       "      <td>ENSMUSG00000067851</td>\n",
       "      <td>ENSMUSG00000067851</td>\n",
       "      <td>ENSMUSG00000067851</td>\n",
       "      <td>Arfgef1</td>\n",
       "    </tr>\n",
       "    <tr>\n",
       "      <th>...</th>\n",
       "      <td>...</td>\n",
       "      <td>...</td>\n",
       "      <td>...</td>\n",
       "      <td>...</td>\n",
       "      <td>...</td>\n",
       "      <td>...</td>\n",
       "    </tr>\n",
       "    <tr>\n",
       "      <th>23147</th>\n",
       "      <td>ENSMUSG00000096836</td>\n",
       "      <td>ENSMUSG00000096836</td>\n",
       "      <td>ENSMUSG00000096836</td>\n",
       "      <td>ENSMUSG00000096836</td>\n",
       "      <td>ENSMUSG00000096836</td>\n",
       "      <td>LOC100039574</td>\n",
       "    </tr>\n",
       "    <tr>\n",
       "      <th>23148</th>\n",
       "      <td>NaN</td>\n",
       "      <td>NaN</td>\n",
       "      <td>NaN</td>\n",
       "      <td>NaN</td>\n",
       "      <td>NaN</td>\n",
       "      <td>LOC380994</td>\n",
       "    </tr>\n",
       "    <tr>\n",
       "      <th>23149</th>\n",
       "      <td>NaN</td>\n",
       "      <td>NaN</td>\n",
       "      <td>NaN</td>\n",
       "      <td>NaN</td>\n",
       "      <td>NaN</td>\n",
       "      <td>LOC380994</td>\n",
       "    </tr>\n",
       "    <tr>\n",
       "      <th>23150</th>\n",
       "      <td>NaN</td>\n",
       "      <td>NaN</td>\n",
       "      <td>NaN</td>\n",
       "      <td>NaN</td>\n",
       "      <td>NaN</td>\n",
       "      <td>LOC100040031</td>\n",
       "    </tr>\n",
       "    <tr>\n",
       "      <th>23151</th>\n",
       "      <td>NaN</td>\n",
       "      <td>NaN</td>\n",
       "      <td>NaN</td>\n",
       "      <td>NaN</td>\n",
       "      <td>NaN</td>\n",
       "      <td>LOC380994</td>\n",
       "    </tr>\n",
       "    <tr>\n",
       "      <th>23152</th>\n",
       "      <td>ENSMUSG00000095598</td>\n",
       "      <td>ENSMUSG00000095598</td>\n",
       "      <td>ENSMUSG00000095598</td>\n",
       "      <td>ENSMUSG00000095598</td>\n",
       "      <td>ENSMUSG00000095598</td>\n",
       "      <td>LOC100039614</td>\n",
       "    </tr>\n",
       "    <tr>\n",
       "      <th>23153</th>\n",
       "      <td>ENSMUSG00000096234</td>\n",
       "      <td>ENSMUSG00000096234</td>\n",
       "      <td>ENSMUSG00000096234</td>\n",
       "      <td>ENSMUSG00000096234</td>\n",
       "      <td>ENSMUSG00000096234</td>\n",
       "      <td>LOC100041223</td>\n",
       "    </tr>\n",
       "    <tr>\n",
       "      <th>23154</th>\n",
       "      <td>NaN</td>\n",
       "      <td>NaN</td>\n",
       "      <td>NaN</td>\n",
       "      <td>NaN</td>\n",
       "      <td>NaN</td>\n",
       "      <td>LOC434960</td>\n",
       "    </tr>\n",
       "    <tr>\n",
       "      <th>23155</th>\n",
       "      <td>NaN</td>\n",
       "      <td>NaN</td>\n",
       "      <td>NaN</td>\n",
       "      <td>NaN</td>\n",
       "      <td>NaN</td>\n",
       "      <td>MGC107098</td>\n",
       "    </tr>\n",
       "    <tr>\n",
       "      <th>23156</th>\n",
       "      <td>NaN</td>\n",
       "      <td>NaN</td>\n",
       "      <td>NaN</td>\n",
       "      <td>NaN</td>\n",
       "      <td>NaN</td>\n",
       "      <td>LOC380994</td>\n",
       "    </tr>\n",
       "    <tr>\n",
       "      <th>23157</th>\n",
       "      <td>NaN</td>\n",
       "      <td>NaN</td>\n",
       "      <td>NaN</td>\n",
       "      <td>NaN</td>\n",
       "      <td>NaN</td>\n",
       "      <td>Sly</td>\n",
       "    </tr>\n",
       "    <tr>\n",
       "      <th>23158</th>\n",
       "      <td>NaN</td>\n",
       "      <td>NaN</td>\n",
       "      <td>NaN</td>\n",
       "      <td>NaN</td>\n",
       "      <td>NaN</td>\n",
       "      <td>LOC380994</td>\n",
       "    </tr>\n",
       "    <tr>\n",
       "      <th>23159</th>\n",
       "      <td>NaN</td>\n",
       "      <td>NaN</td>\n",
       "      <td>NaN</td>\n",
       "      <td>NaN</td>\n",
       "      <td>NaN</td>\n",
       "      <td>LOC380994</td>\n",
       "    </tr>\n",
       "    <tr>\n",
       "      <th>23160</th>\n",
       "      <td>NaN</td>\n",
       "      <td>NaN</td>\n",
       "      <td>NaN</td>\n",
       "      <td>NaN</td>\n",
       "      <td>NaN</td>\n",
       "      <td>LOC100039810</td>\n",
       "    </tr>\n",
       "    <tr>\n",
       "      <th>23161</th>\n",
       "      <td>NaN</td>\n",
       "      <td>NaN</td>\n",
       "      <td>NaN</td>\n",
       "      <td>NaN</td>\n",
       "      <td>NaN</td>\n",
       "      <td>LOC100039810</td>\n",
       "    </tr>\n",
       "    <tr>\n",
       "      <th>23162</th>\n",
       "      <td>ENSMUSG00000094739</td>\n",
       "      <td>ENSMUSG00000094739</td>\n",
       "      <td>ENSMUSG00000094739</td>\n",
       "      <td>ENSMUSG00000094739</td>\n",
       "      <td>ENSMUSG00000094739</td>\n",
       "      <td>LOC100039574</td>\n",
       "    </tr>\n",
       "    <tr>\n",
       "      <th>23163</th>\n",
       "      <td>ENSMUSG00000095867</td>\n",
       "      <td>ENSMUSG00000095867</td>\n",
       "      <td>ENSMUSG00000095867</td>\n",
       "      <td>ENSMUSG00000095867</td>\n",
       "      <td>ENSMUSG00000095867</td>\n",
       "      <td>LOC100042428</td>\n",
       "    </tr>\n",
       "    <tr>\n",
       "      <th>23164</th>\n",
       "      <td>ENSMUSG00000094746</td>\n",
       "      <td>ENSMUSG00000094746</td>\n",
       "      <td>ENSMUSG00000094746</td>\n",
       "      <td>ENSMUSG00000094746</td>\n",
       "      <td>ENSMUSG00000094746</td>\n",
       "      <td>LOC380994</td>\n",
       "    </tr>\n",
       "    <tr>\n",
       "      <th>23165</th>\n",
       "      <td>ENSMUSG00000095114</td>\n",
       "      <td>ENSMUSG00000095114</td>\n",
       "      <td>ENSMUSG00000095114</td>\n",
       "      <td>ENSMUSG00000095114</td>\n",
       "      <td>ENSMUSG00000095114</td>\n",
       "      <td>Ssty2</td>\n",
       "    </tr>\n",
       "    <tr>\n",
       "      <th>23166</th>\n",
       "      <td>ENSMUSG00000094207</td>\n",
       "      <td>ENSMUSG00000094207</td>\n",
       "      <td>ENSMUSG00000094207</td>\n",
       "      <td>ENSMUSG00000094207</td>\n",
       "      <td>ENSMUSG00000094207</td>\n",
       "      <td>LOC100039574</td>\n",
       "    </tr>\n",
       "    <tr>\n",
       "      <th>23167</th>\n",
       "      <td>NaN</td>\n",
       "      <td>NaN</td>\n",
       "      <td>NaN</td>\n",
       "      <td>NaN</td>\n",
       "      <td>NaN</td>\n",
       "      <td>Ssty2</td>\n",
       "    </tr>\n",
       "    <tr>\n",
       "      <th>23168</th>\n",
       "      <td>ENSMUSG00000094279</td>\n",
       "      <td>ENSMUSG00000094279</td>\n",
       "      <td>ENSMUSG00000094279</td>\n",
       "      <td>ENSMUSG00000094279</td>\n",
       "      <td>ENSMUSG00000094279</td>\n",
       "      <td>LOC100039574</td>\n",
       "    </tr>\n",
       "    <tr>\n",
       "      <th>23169</th>\n",
       "      <td>NaN</td>\n",
       "      <td>NaN</td>\n",
       "      <td>NaN</td>\n",
       "      <td>NaN</td>\n",
       "      <td>NaN</td>\n",
       "      <td>LOC434960</td>\n",
       "    </tr>\n",
       "    <tr>\n",
       "      <th>23170</th>\n",
       "      <td>NaN</td>\n",
       "      <td>NaN</td>\n",
       "      <td>NaN</td>\n",
       "      <td>NaN</td>\n",
       "      <td>NaN</td>\n",
       "      <td>LOC380994</td>\n",
       "    </tr>\n",
       "    <tr>\n",
       "      <th>23171</th>\n",
       "      <td>NaN</td>\n",
       "      <td>NaN</td>\n",
       "      <td>NaN</td>\n",
       "      <td>NaN</td>\n",
       "      <td>NaN</td>\n",
       "      <td>LOC100040911</td>\n",
       "    </tr>\n",
       "    <tr>\n",
       "      <th>23172</th>\n",
       "      <td>ENSMUSG00000095153</td>\n",
       "      <td>ENSMUSG00000095153</td>\n",
       "      <td>ENSMUSG00000095153</td>\n",
       "      <td>ENSMUSG00000095153</td>\n",
       "      <td>ENSMUSG00000095153</td>\n",
       "      <td>Sly</td>\n",
       "    </tr>\n",
       "    <tr>\n",
       "      <th>23173</th>\n",
       "      <td>ENSMUSG00000094399</td>\n",
       "      <td>ENSMUSG00000094399</td>\n",
       "      <td>ENSMUSG00000094399</td>\n",
       "      <td>ENSMUSG00000094399</td>\n",
       "      <td>ENSMUSG00000094399</td>\n",
       "      <td>Sly</td>\n",
       "    </tr>\n",
       "    <tr>\n",
       "      <th>23174</th>\n",
       "      <td>NaN</td>\n",
       "      <td>NaN</td>\n",
       "      <td>NaN</td>\n",
       "      <td>NaN</td>\n",
       "      <td>NaN</td>\n",
       "      <td>LOC380994</td>\n",
       "    </tr>\n",
       "    <tr>\n",
       "      <th>23175</th>\n",
       "      <td>NaN</td>\n",
       "      <td>NaN</td>\n",
       "      <td>NaN</td>\n",
       "      <td>NaN</td>\n",
       "      <td>NaN</td>\n",
       "      <td>LOC380994</td>\n",
       "    </tr>\n",
       "    <tr>\n",
       "      <th>23176</th>\n",
       "      <td>ENSMUSG00000096768</td>\n",
       "      <td>ENSMUSG00000096768</td>\n",
       "      <td>ENSMUSG00000096768</td>\n",
       "      <td>ENSMUSG00000096768</td>\n",
       "      <td>ENSMUSG00000096768</td>\n",
       "      <td>Erdr1</td>\n",
       "    </tr>\n",
       "  </tbody>\n",
       "</table>\n",
       "<p>23177 rows × 6 columns</p>\n",
       "</div>"
      ],
      "text/plain": [
       "         EnsemblGeneID_d0    EnsemblGeneID_d1    EnsemblGeneID_d3  \\\n",
       "0      ENSMUSG00000051951  ENSMUSG00000051951  ENSMUSG00000051951   \n",
       "1      ENSMUSG00000025900  ENSMUSG00000025900  ENSMUSG00000025900   \n",
       "2      ENSMUSG00000025902  ENSMUSG00000025902  ENSMUSG00000025902   \n",
       "3      ENSMUSG00000033845  ENSMUSG00000033845  ENSMUSG00000033845   \n",
       "4      ENSMUSG00000025903  ENSMUSG00000025903  ENSMUSG00000025903   \n",
       "5      ENSMUSG00000033813  ENSMUSG00000033813  ENSMUSG00000033813   \n",
       "6      ENSMUSG00000002459  ENSMUSG00000002459  ENSMUSG00000002459   \n",
       "7      ENSMUSG00000033793  ENSMUSG00000033793  ENSMUSG00000033793   \n",
       "8      ENSMUSG00000025905  ENSMUSG00000025905  ENSMUSG00000025905   \n",
       "9      ENSMUSG00000033774  ENSMUSG00000033774  ENSMUSG00000033774   \n",
       "10     ENSMUSG00000025907  ENSMUSG00000025907  ENSMUSG00000025907   \n",
       "11     ENSMUSG00000087247  ENSMUSG00000087247  ENSMUSG00000087247   \n",
       "12     ENSMUSG00000033740  ENSMUSG00000033740  ENSMUSG00000033740   \n",
       "13     ENSMUSG00000051285  ENSMUSG00000051285  ENSMUSG00000051285   \n",
       "14     ENSMUSG00000025909  ENSMUSG00000025909  ENSMUSG00000025909   \n",
       "15     ENSMUSG00000061024  ENSMUSG00000061024  ENSMUSG00000061024   \n",
       "16     ENSMUSG00000025911  ENSMUSG00000025911  ENSMUSG00000025911   \n",
       "17     ENSMUSG00000079671  ENSMUSG00000079671  ENSMUSG00000079671   \n",
       "18     ENSMUSG00000067879  ENSMUSG00000067879  ENSMUSG00000067879   \n",
       "19     ENSMUSG00000025912  ENSMUSG00000025912  ENSMUSG00000025912   \n",
       "20     ENSMUSG00000045210  ENSMUSG00000045210  ENSMUSG00000045210   \n",
       "21     ENSMUSG00000097893  ENSMUSG00000097893  ENSMUSG00000097893   \n",
       "22     ENSMUSG00000025915  ENSMUSG00000025915  ENSMUSG00000025915   \n",
       "23     ENSMUSG00000046101  ENSMUSG00000046101  ENSMUSG00000046101   \n",
       "24     ENSMUSG00000098234  ENSMUSG00000098234  ENSMUSG00000098234   \n",
       "25     ENSMUSG00000093178  ENSMUSG00000093178  ENSMUSG00000093178   \n",
       "26     ENSMUSG00000025916  ENSMUSG00000025916  ENSMUSG00000025916   \n",
       "27     ENSMUSG00000025917  ENSMUSG00000025917  ENSMUSG00000025917   \n",
       "28     ENSMUSG00000056763  ENSMUSG00000056763  ENSMUSG00000056763   \n",
       "29     ENSMUSG00000067851  ENSMUSG00000067851  ENSMUSG00000067851   \n",
       "...                   ...                 ...                 ...   \n",
       "23147  ENSMUSG00000096836  ENSMUSG00000096836  ENSMUSG00000096836   \n",
       "23148                 NaN                 NaN                 NaN   \n",
       "23149                 NaN                 NaN                 NaN   \n",
       "23150                 NaN                 NaN                 NaN   \n",
       "23151                 NaN                 NaN                 NaN   \n",
       "23152  ENSMUSG00000095598  ENSMUSG00000095598  ENSMUSG00000095598   \n",
       "23153  ENSMUSG00000096234  ENSMUSG00000096234  ENSMUSG00000096234   \n",
       "23154                 NaN                 NaN                 NaN   \n",
       "23155                 NaN                 NaN                 NaN   \n",
       "23156                 NaN                 NaN                 NaN   \n",
       "23157                 NaN                 NaN                 NaN   \n",
       "23158                 NaN                 NaN                 NaN   \n",
       "23159                 NaN                 NaN                 NaN   \n",
       "23160                 NaN                 NaN                 NaN   \n",
       "23161                 NaN                 NaN                 NaN   \n",
       "23162  ENSMUSG00000094739  ENSMUSG00000094739  ENSMUSG00000094739   \n",
       "23163  ENSMUSG00000095867  ENSMUSG00000095867  ENSMUSG00000095867   \n",
       "23164  ENSMUSG00000094746  ENSMUSG00000094746  ENSMUSG00000094746   \n",
       "23165  ENSMUSG00000095114  ENSMUSG00000095114  ENSMUSG00000095114   \n",
       "23166  ENSMUSG00000094207  ENSMUSG00000094207  ENSMUSG00000094207   \n",
       "23167                 NaN                 NaN                 NaN   \n",
       "23168  ENSMUSG00000094279  ENSMUSG00000094279  ENSMUSG00000094279   \n",
       "23169                 NaN                 NaN                 NaN   \n",
       "23170                 NaN                 NaN                 NaN   \n",
       "23171                 NaN                 NaN                 NaN   \n",
       "23172  ENSMUSG00000095153  ENSMUSG00000095153  ENSMUSG00000095153   \n",
       "23173  ENSMUSG00000094399  ENSMUSG00000094399  ENSMUSG00000094399   \n",
       "23174                 NaN                 NaN                 NaN   \n",
       "23175                 NaN                 NaN                 NaN   \n",
       "23176  ENSMUSG00000096768  ENSMUSG00000096768  ENSMUSG00000096768   \n",
       "\n",
       "        EnsemblGeneID_d16   EnsemblGeneID_d30     geneSymbol  \n",
       "0      ENSMUSG00000051951  ENSMUSG00000051951           Xkr4  \n",
       "1      ENSMUSG00000025900  ENSMUSG00000025900            Rp1  \n",
       "2      ENSMUSG00000025902  ENSMUSG00000025902          Sox17  \n",
       "3      ENSMUSG00000033845  ENSMUSG00000033845         Mrpl15  \n",
       "4      ENSMUSG00000025903  ENSMUSG00000025903         Lypla1  \n",
       "5      ENSMUSG00000033813  ENSMUSG00000033813          Tcea1  \n",
       "6      ENSMUSG00000002459  ENSMUSG00000002459          Rgs20  \n",
       "7      ENSMUSG00000033793  ENSMUSG00000033793        Atp6v1h  \n",
       "8      ENSMUSG00000025905  ENSMUSG00000025905          Oprk1  \n",
       "9      ENSMUSG00000033774  ENSMUSG00000033774         Npbwr1  \n",
       "10     ENSMUSG00000025907  ENSMUSG00000025907         Rb1cc1  \n",
       "11     ENSMUSG00000087247  ENSMUSG00000087247        Fam150a  \n",
       "12     ENSMUSG00000033740  ENSMUSG00000033740           St18  \n",
       "13     ENSMUSG00000051285  ENSMUSG00000051285         Pcmtd1  \n",
       "14     ENSMUSG00000025909  ENSMUSG00000025909          Sntg1  \n",
       "15     ENSMUSG00000061024  ENSMUSG00000061024           Rrs1  \n",
       "16     ENSMUSG00000025911  ENSMUSG00000025911         Adhfe1  \n",
       "17     ENSMUSG00000079671  ENSMUSG00000079671  2610203C22Rik  \n",
       "18     ENSMUSG00000067879  ENSMUSG00000067879  3110035E14Rik  \n",
       "19     ENSMUSG00000025912  ENSMUSG00000025912          Mybl1  \n",
       "20     ENSMUSG00000045210  ENSMUSG00000045210         Vcpip1  \n",
       "21     ENSMUSG00000097893  ENSMUSG00000097893  1700034P13Rik  \n",
       "22     ENSMUSG00000025915  ENSMUSG00000025915           Sgk3  \n",
       "23     ENSMUSG00000046101  ENSMUSG00000046101  6030422M02Rik  \n",
       "24     ENSMUSG00000098234  ENSMUSG00000098234          Snhg6  \n",
       "25     ENSMUSG00000093178  ENSMUSG00000093178        Snord87  \n",
       "26     ENSMUSG00000025916  ENSMUSG00000025916        Ppp1r42  \n",
       "27     ENSMUSG00000025917  ENSMUSG00000025917          Cops5  \n",
       "28     ENSMUSG00000056763  ENSMUSG00000056763          Cspp1  \n",
       "29     ENSMUSG00000067851  ENSMUSG00000067851        Arfgef1  \n",
       "...                   ...                 ...            ...  \n",
       "23147  ENSMUSG00000096836  ENSMUSG00000096836   LOC100039574  \n",
       "23148                 NaN                 NaN      LOC380994  \n",
       "23149                 NaN                 NaN      LOC380994  \n",
       "23150                 NaN                 NaN   LOC100040031  \n",
       "23151                 NaN                 NaN      LOC380994  \n",
       "23152  ENSMUSG00000095598  ENSMUSG00000095598   LOC100039614  \n",
       "23153  ENSMUSG00000096234  ENSMUSG00000096234   LOC100041223  \n",
       "23154                 NaN                 NaN      LOC434960  \n",
       "23155                 NaN                 NaN      MGC107098  \n",
       "23156                 NaN                 NaN      LOC380994  \n",
       "23157                 NaN                 NaN            Sly  \n",
       "23158                 NaN                 NaN      LOC380994  \n",
       "23159                 NaN                 NaN      LOC380994  \n",
       "23160                 NaN                 NaN   LOC100039810  \n",
       "23161                 NaN                 NaN   LOC100039810  \n",
       "23162  ENSMUSG00000094739  ENSMUSG00000094739   LOC100039574  \n",
       "23163  ENSMUSG00000095867  ENSMUSG00000095867   LOC100042428  \n",
       "23164  ENSMUSG00000094746  ENSMUSG00000094746      LOC380994  \n",
       "23165  ENSMUSG00000095114  ENSMUSG00000095114          Ssty2  \n",
       "23166  ENSMUSG00000094207  ENSMUSG00000094207   LOC100039574  \n",
       "23167                 NaN                 NaN          Ssty2  \n",
       "23168  ENSMUSG00000094279  ENSMUSG00000094279   LOC100039574  \n",
       "23169                 NaN                 NaN      LOC434960  \n",
       "23170                 NaN                 NaN      LOC380994  \n",
       "23171                 NaN                 NaN   LOC100040911  \n",
       "23172  ENSMUSG00000095153  ENSMUSG00000095153            Sly  \n",
       "23173  ENSMUSG00000094399  ENSMUSG00000094399            Sly  \n",
       "23174                 NaN                 NaN      LOC380994  \n",
       "23175                 NaN                 NaN      LOC380994  \n",
       "23176  ENSMUSG00000096768  ENSMUSG00000096768          Erdr1  \n",
       "\n",
       "[23177 rows x 6 columns]"
      ]
     },
     "execution_count": 49,
     "metadata": {},
     "output_type": "execute_result"
    }
   ],
   "source": [
    "df[check_col]"
   ]
  },
  {
   "cell_type": "code",
   "execution_count": 56,
   "metadata": {},
   "outputs": [],
   "source": [
    "df = df.fillna(\"xxxx\")\n",
    "my_dict = {}\n",
    "for i in df.index:\n",
    "    for j in check_col:\n",
    "        entry = df.at[i,j].upper()\n",
    "        try:\n",
    "            temp = my_dict[entry]\n",
    "            my_dict[entry].append(i)\n",
    "        except:\n",
    "            my_dict[entry] = []\n",
    "            my_dict[entry].append(i)"
   ]
  },
  {
   "cell_type": "code",
   "execution_count": 57,
   "metadata": {},
   "outputs": [
    {
     "data": {
      "text/plain": [
       "{'ENSMUSG00000051951': [0, 0, 0, 0, 0],\n",
       " 'XKR4': [0],\n",
       " 'ENSMUSG00000025900': [1, 1, 1, 1, 1],\n",
       " 'RP1': [1],\n",
       " 'ENSMUSG00000025902': [2, 2, 2, 2, 2],\n",
       " 'SOX17': [2],\n",
       " 'ENSMUSG00000033845': [3, 3, 3, 3, 3],\n",
       " 'MRPL15': [3],\n",
       " 'ENSMUSG00000025903': [4, 4, 4, 4, 4],\n",
       " 'LYPLA1': [4],\n",
       " 'ENSMUSG00000033813': [5, 5, 5, 5, 5],\n",
       " 'TCEA1': [5],\n",
       " 'ENSMUSG00000002459': [6, 6, 6, 6, 6],\n",
       " 'RGS20': [6],\n",
       " 'ENSMUSG00000033793': [7, 7, 7, 7, 7],\n",
       " 'ATP6V1H': [7],\n",
       " 'ENSMUSG00000025905': [8, 8, 8, 8, 8],\n",
       " 'OPRK1': [8],\n",
       " 'ENSMUSG00000033774': [9, 9, 9, 9, 9],\n",
       " 'NPBWR1': [9],\n",
       " 'ENSMUSG00000025907': [10, 10, 10, 10, 10],\n",
       " 'RB1CC1': [10],\n",
       " 'ENSMUSG00000087247': [11, 11, 11, 11, 11],\n",
       " 'FAM150A': [11],\n",
       " 'ENSMUSG00000033740': [12, 12, 12, 12, 12],\n",
       " 'ST18': [12],\n",
       " 'ENSMUSG00000051285': [13, 13, 13, 13, 13],\n",
       " 'PCMTD1': [13],\n",
       " 'ENSMUSG00000025909': [14, 14, 14, 14, 14],\n",
       " 'SNTG1': [14],\n",
       " 'ENSMUSG00000061024': [15, 15, 15, 15, 15],\n",
       " 'RRS1': [15],\n",
       " 'ENSMUSG00000025911': [16, 16, 16, 16, 16],\n",
       " 'ADHFE1': [16],\n",
       " 'ENSMUSG00000079671': [17, 17, 17, 17, 17],\n",
       " '2610203C22RIK': [17],\n",
       " 'ENSMUSG00000067879': [18, 18, 18, 18, 18],\n",
       " '3110035E14RIK': [18],\n",
       " 'ENSMUSG00000025912': [19, 19, 19, 19, 19],\n",
       " 'MYBL1': [19],\n",
       " 'ENSMUSG00000045210': [20, 20, 20, 20, 20],\n",
       " 'VCPIP1': [20],\n",
       " 'ENSMUSG00000097893': [21, 21, 21, 21, 21],\n",
       " '1700034P13RIK': [21],\n",
       " 'ENSMUSG00000025915': [22, 22, 22, 22, 22],\n",
       " 'SGK3': [22],\n",
       " 'ENSMUSG00000046101': [23, 23, 23, 23, 23],\n",
       " '6030422M02RIK': [23],\n",
       " 'ENSMUSG00000098234': [24, 24, 24, 24, 24],\n",
       " 'SNHG6': [24],\n",
       " 'ENSMUSG00000093178': [25, 25, 25, 25, 25],\n",
       " 'SNORD87': [25],\n",
       " 'ENSMUSG00000025916': [26, 26, 26, 26, 26],\n",
       " 'PPP1R42': [26],\n",
       " 'ENSMUSG00000025917': [27, 27, 27, 27, 27],\n",
       " 'COPS5': [27],\n",
       " 'ENSMUSG00000056763': [28, 28, 28, 28, 28],\n",
       " 'CSPP1': [28],\n",
       " 'ENSMUSG00000067851': [29, 29, 29, 29, 29],\n",
       " 'ARFGEF1': [29],\n",
       " 'ENSMUSG00000042501': [30, 30, 30, 30, 30],\n",
       " 'CPA6': [30],\n",
       " 'XXXX': [31,\n",
       "  31,\n",
       "  31,\n",
       "  31,\n",
       "  31,\n",
       "  70,\n",
       "  70,\n",
       "  70,\n",
       "  99,\n",
       "  99,\n",
       "  99,\n",
       "  99,\n",
       "  99,\n",
       "  107,\n",
       "  107,\n",
       "  107,\n",
       "  107,\n",
       "  107,\n",
       "  127,\n",
       "  127,\n",
       "  127,\n",
       "  127,\n",
       "  127,\n",
       "  145,\n",
       "  145,\n",
       "  145,\n",
       "  145,\n",
       "  145,\n",
       "  149,\n",
       "  165,\n",
       "  165,\n",
       "  165,\n",
       "  165,\n",
       "  165,\n",
       "  178,\n",
       "  178,\n",
       "  178,\n",
       "  178,\n",
       "  178,\n",
       "  191,\n",
       "  191,\n",
       "  191,\n",
       "  191,\n",
       "  191,\n",
       "  194,\n",
       "  194,\n",
       "  194,\n",
       "  194,\n",
       "  194,\n",
       "  209,\n",
       "  212,\n",
       "  212,\n",
       "  212,\n",
       "  212,\n",
       "  212,\n",
       "  222,\n",
       "  222,\n",
       "  222,\n",
       "  222,\n",
       "  222,\n",
       "  257,\n",
       "  257,\n",
       "  257,\n",
       "  257,\n",
       "  257,\n",
       "  260,\n",
       "  260,\n",
       "  260,\n",
       "  260,\n",
       "  261,\n",
       "  261,\n",
       "  261,\n",
       "  261,\n",
       "  261,\n",
       "  280,\n",
       "  280,\n",
       "  280,\n",
       "  280,\n",
       "  280,\n",
       "  312,\n",
       "  312,\n",
       "  312,\n",
       "  312,\n",
       "  312,\n",
       "  361,\n",
       "  361,\n",
       "  361,\n",
       "  361,\n",
       "  361,\n",
       "  362,\n",
       "  362,\n",
       "  362,\n",
       "  362,\n",
       "  362,\n",
       "  374,\n",
       "  374,\n",
       "  374,\n",
       "  374,\n",
       "  374,\n",
       "  375,\n",
       "  375,\n",
       "  375,\n",
       "  375,\n",
       "  375,\n",
       "  376,\n",
       "  376,\n",
       "  376,\n",
       "  376,\n",
       "  376,\n",
       "  377,\n",
       "  377,\n",
       "  377,\n",
       "  377,\n",
       "  377,\n",
       "  438,\n",
       "  438,\n",
       "  438,\n",
       "  438,\n",
       "  438,\n",
       "  454,\n",
       "  454,\n",
       "  454,\n",
       "  454,\n",
       "  454,\n",
       "  477,\n",
       "  477,\n",
       "  477,\n",
       "  477,\n",
       "  477,\n",
       "  530,\n",
       "  530,\n",
       "  530,\n",
       "  530,\n",
       "  530,\n",
       "  533,\n",
       "  533,\n",
       "  533,\n",
       "  533,\n",
       "  533,\n",
       "  535,\n",
       "  535,\n",
       "  535,\n",
       "  535,\n",
       "  535,\n",
       "  537,\n",
       "  537,\n",
       "  537,\n",
       "  537,\n",
       "  537,\n",
       "  556,\n",
       "  556,\n",
       "  556,\n",
       "  556,\n",
       "  556,\n",
       "  570,\n",
       "  570,\n",
       "  570,\n",
       "  570,\n",
       "  570,\n",
       "  579,\n",
       "  579,\n",
       "  579,\n",
       "  579,\n",
       "  579,\n",
       "  606,\n",
       "  606,\n",
       "  606,\n",
       "  606,\n",
       "  606,\n",
       "  609,\n",
       "  609,\n",
       "  609,\n",
       "  609,\n",
       "  609,\n",
       "  610,\n",
       "  610,\n",
       "  610,\n",
       "  610,\n",
       "  610,\n",
       "  611,\n",
       "  611,\n",
       "  611,\n",
       "  611,\n",
       "  611,\n",
       "  620,\n",
       "  620,\n",
       "  620,\n",
       "  620,\n",
       "  620,\n",
       "  623,\n",
       "  623,\n",
       "  623,\n",
       "  623,\n",
       "  623,\n",
       "  630,\n",
       "  630,\n",
       "  630,\n",
       "  630,\n",
       "  630,\n",
       "  632,\n",
       "  632,\n",
       "  632,\n",
       "  632,\n",
       "  659,\n",
       "  659,\n",
       "  659,\n",
       "  659,\n",
       "  659,\n",
       "  686,\n",
       "  686,\n",
       "  686,\n",
       "  686,\n",
       "  686,\n",
       "  703,\n",
       "  703,\n",
       "  703,\n",
       "  703,\n",
       "  703,\n",
       "  743,\n",
       "  743,\n",
       "  743,\n",
       "  743,\n",
       "  743,\n",
       "  749,\n",
       "  749,\n",
       "  749,\n",
       "  749,\n",
       "  749,\n",
       "  757,\n",
       "  757,\n",
       "  757,\n",
       "  757,\n",
       "  757,\n",
       "  819,\n",
       "  819,\n",
       "  819,\n",
       "  819,\n",
       "  819,\n",
       "  824,\n",
       "  824,\n",
       "  824,\n",
       "  824,\n",
       "  824,\n",
       "  833,\n",
       "  833,\n",
       "  833,\n",
       "  833,\n",
       "  833,\n",
       "  848,\n",
       "  848,\n",
       "  848,\n",
       "  848,\n",
       "  848,\n",
       "  853,\n",
       "  853,\n",
       "  853,\n",
       "  853,\n",
       "  853,\n",
       "  876,\n",
       "  876,\n",
       "  876,\n",
       "  876,\n",
       "  876,\n",
       "  885,\n",
       "  885,\n",
       "  885,\n",
       "  885,\n",
       "  885,\n",
       "  925,\n",
       "  925,\n",
       "  925,\n",
       "  925,\n",
       "  925,\n",
       "  975,\n",
       "  975,\n",
       "  975,\n",
       "  975,\n",
       "  975,\n",
       "  977,\n",
       "  977,\n",
       "  977,\n",
       "  977,\n",
       "  977,\n",
       "  983,\n",
       "  983,\n",
       "  983,\n",
       "  983,\n",
       "  1072,\n",
       "  1074,\n",
       "  1074,\n",
       "  1074,\n",
       "  1074,\n",
       "  1074,\n",
       "  1139,\n",
       "  1139,\n",
       "  1139,\n",
       "  1139,\n",
       "  1139,\n",
       "  1142,\n",
       "  1142,\n",
       "  1142,\n",
       "  1142,\n",
       "  1142,\n",
       "  1159,\n",
       "  1159,\n",
       "  1159,\n",
       "  1159,\n",
       "  1159,\n",
       "  1184,\n",
       "  1184,\n",
       "  1184,\n",
       "  1184,\n",
       "  1184,\n",
       "  1200,\n",
       "  1200,\n",
       "  1200,\n",
       "  1200,\n",
       "  1200,\n",
       "  1211,\n",
       "  1211,\n",
       "  1218,\n",
       "  1218,\n",
       "  1218,\n",
       "  1218,\n",
       "  1218,\n",
       "  1227,\n",
       "  1227,\n",
       "  1227,\n",
       "  1227,\n",
       "  1227,\n",
       "  1228,\n",
       "  1228,\n",
       "  1228,\n",
       "  1228,\n",
       "  1228,\n",
       "  1240,\n",
       "  1240,\n",
       "  1240,\n",
       "  1240,\n",
       "  1240,\n",
       "  1263,\n",
       "  1263,\n",
       "  1263,\n",
       "  1263,\n",
       "  1263,\n",
       "  1275,\n",
       "  1275,\n",
       "  1275,\n",
       "  1275,\n",
       "  1275,\n",
       "  1283,\n",
       "  1283,\n",
       "  1283,\n",
       "  1283,\n",
       "  1283,\n",
       "  1285,\n",
       "  1308,\n",
       "  1308,\n",
       "  1308,\n",
       "  1308,\n",
       "  1308,\n",
       "  1310,\n",
       "  1310,\n",
       "  1310,\n",
       "  1310,\n",
       "  1310,\n",
       "  1321,\n",
       "  1321,\n",
       "  1321,\n",
       "  1321,\n",
       "  1321,\n",
       "  1327,\n",
       "  1327,\n",
       "  1327,\n",
       "  1327,\n",
       "  1327,\n",
       "  1330,\n",
       "  1330,\n",
       "  1330,\n",
       "  1346,\n",
       "  1346,\n",
       "  1346,\n",
       "  1346,\n",
       "  1346,\n",
       "  1349,\n",
       "  1349,\n",
       "  1349,\n",
       "  1349,\n",
       "  1349,\n",
       "  1361,\n",
       "  1361,\n",
       "  1361,\n",
       "  1361,\n",
       "  1361,\n",
       "  1364,\n",
       "  1364,\n",
       "  1364,\n",
       "  1364,\n",
       "  1364,\n",
       "  1373,\n",
       "  1373,\n",
       "  1373,\n",
       "  1373,\n",
       "  1373,\n",
       "  1374,\n",
       "  1374,\n",
       "  1374,\n",
       "  1374,\n",
       "  1374,\n",
       "  1381,\n",
       "  1381,\n",
       "  1381,\n",
       "  1381,\n",
       "  1381,\n",
       "  1425,\n",
       "  1425,\n",
       "  1425,\n",
       "  1425,\n",
       "  1425,\n",
       "  1426,\n",
       "  1426,\n",
       "  1426,\n",
       "  1426,\n",
       "  1426,\n",
       "  1436,\n",
       "  1436,\n",
       "  1436,\n",
       "  1436,\n",
       "  1436,\n",
       "  1445,\n",
       "  1445,\n",
       "  1445,\n",
       "  1445,\n",
       "  1445,\n",
       "  1451,\n",
       "  1451,\n",
       "  1451,\n",
       "  1451,\n",
       "  1451,\n",
       "  1455,\n",
       "  1455,\n",
       "  1455,\n",
       "  1455,\n",
       "  1455,\n",
       "  1475,\n",
       "  1475,\n",
       "  1475,\n",
       "  1500,\n",
       "  1500,\n",
       "  1500,\n",
       "  1500,\n",
       "  1500,\n",
       "  1526,\n",
       "  1526,\n",
       "  1526,\n",
       "  1526,\n",
       "  1526,\n",
       "  1539,\n",
       "  1539,\n",
       "  1539,\n",
       "  1539,\n",
       "  1539,\n",
       "  1540,\n",
       "  1540,\n",
       "  1540,\n",
       "  1540,\n",
       "  1540,\n",
       "  1541,\n",
       "  1541,\n",
       "  1541,\n",
       "  1541,\n",
       "  1541,\n",
       "  1560,\n",
       "  1560,\n",
       "  1560,\n",
       "  1560,\n",
       "  1560,\n",
       "  1562,\n",
       "  1562,\n",
       "  1562,\n",
       "  1562,\n",
       "  1562,\n",
       "  1584,\n",
       "  1584,\n",
       "  1584,\n",
       "  1584,\n",
       "  1584,\n",
       "  1625,\n",
       "  1625,\n",
       "  1648,\n",
       "  1648,\n",
       "  1648,\n",
       "  1648,\n",
       "  1648,\n",
       "  1655,\n",
       "  1655,\n",
       "  1655,\n",
       "  1655,\n",
       "  1655,\n",
       "  1664,\n",
       "  1664,\n",
       "  1664,\n",
       "  1664,\n",
       "  1664,\n",
       "  1677,\n",
       "  1677,\n",
       "  1677,\n",
       "  1677,\n",
       "  1677,\n",
       "  1684,\n",
       "  1684,\n",
       "  1684,\n",
       "  1684,\n",
       "  1684,\n",
       "  1692,\n",
       "  1692,\n",
       "  1692,\n",
       "  1692,\n",
       "  1692,\n",
       "  1694,\n",
       "  1694,\n",
       "  1694,\n",
       "  1694,\n",
       "  1694,\n",
       "  1721,\n",
       "  1721,\n",
       "  1721,\n",
       "  1721,\n",
       "  1721,\n",
       "  1738,\n",
       "  1738,\n",
       "  1738,\n",
       "  1738,\n",
       "  1738,\n",
       "  1753,\n",
       "  1753,\n",
       "  1753,\n",
       "  1753,\n",
       "  1753,\n",
       "  1754,\n",
       "  1754,\n",
       "  1754,\n",
       "  1754,\n",
       "  1754,\n",
       "  1755,\n",
       "  1755,\n",
       "  1755,\n",
       "  1755,\n",
       "  1755,\n",
       "  1756,\n",
       "  1756,\n",
       "  1756,\n",
       "  1756,\n",
       "  1756,\n",
       "  1757,\n",
       "  1757,\n",
       "  1757,\n",
       "  1757,\n",
       "  1757,\n",
       "  1762,\n",
       "  1762,\n",
       "  1762,\n",
       "  1762,\n",
       "  1775,\n",
       "  1802,\n",
       "  1802,\n",
       "  1802,\n",
       "  1802,\n",
       "  1802,\n",
       "  1812,\n",
       "  1812,\n",
       "  1812,\n",
       "  1812,\n",
       "  1812,\n",
       "  1832,\n",
       "  1832,\n",
       "  1925,\n",
       "  1925,\n",
       "  1925,\n",
       "  1925,\n",
       "  1925,\n",
       "  1938,\n",
       "  1938,\n",
       "  1938,\n",
       "  1938,\n",
       "  1938,\n",
       "  1976,\n",
       "  1976,\n",
       "  1976,\n",
       "  1976,\n",
       "  1976,\n",
       "  2005,\n",
       "  2005,\n",
       "  2005,\n",
       "  2005,\n",
       "  2005,\n",
       "  2013,\n",
       "  2013,\n",
       "  2013,\n",
       "  2013,\n",
       "  2013,\n",
       "  2028,\n",
       "  2028,\n",
       "  2036,\n",
       "  2036,\n",
       "  2036,\n",
       "  2036,\n",
       "  2036,\n",
       "  2045,\n",
       "  2045,\n",
       "  2045,\n",
       "  2045,\n",
       "  2045,\n",
       "  2046,\n",
       "  2046,\n",
       "  2046,\n",
       "  2046,\n",
       "  2046,\n",
       "  2049,\n",
       "  2049,\n",
       "  2049,\n",
       "  2049,\n",
       "  2049,\n",
       "  2052,\n",
       "  2052,\n",
       "  2052,\n",
       "  2052,\n",
       "  2052,\n",
       "  2054,\n",
       "  2054,\n",
       "  2054,\n",
       "  2054,\n",
       "  2054,\n",
       "  2059,\n",
       "  2059,\n",
       "  2059,\n",
       "  2059,\n",
       "  2059,\n",
       "  2060,\n",
       "  2060,\n",
       "  2060,\n",
       "  2060,\n",
       "  2060,\n",
       "  2064,\n",
       "  2064,\n",
       "  2064,\n",
       "  2064,\n",
       "  2064,\n",
       "  2065,\n",
       "  2065,\n",
       "  2065,\n",
       "  2065,\n",
       "  2065,\n",
       "  2079,\n",
       "  2079,\n",
       "  2079,\n",
       "  2079,\n",
       "  2079,\n",
       "  2094,\n",
       "  2094,\n",
       "  2094,\n",
       "  2094,\n",
       "  2094,\n",
       "  2096,\n",
       "  2096,\n",
       "  2096,\n",
       "  2096,\n",
       "  2096,\n",
       "  2098,\n",
       "  2098,\n",
       "  2098,\n",
       "  2098,\n",
       "  2098,\n",
       "  2104,\n",
       "  2104,\n",
       "  2104,\n",
       "  2104,\n",
       "  2104,\n",
       "  2107,\n",
       "  2107,\n",
       "  2107,\n",
       "  2107,\n",
       "  2107,\n",
       "  2114,\n",
       "  2114,\n",
       "  2114,\n",
       "  2114,\n",
       "  2114,\n",
       "  2116,\n",
       "  2116,\n",
       "  2116,\n",
       "  2116,\n",
       "  2116,\n",
       "  2133,\n",
       "  2133,\n",
       "  2133,\n",
       "  2133,\n",
       "  2133,\n",
       "  2136,\n",
       "  2136,\n",
       "  2136,\n",
       "  2136,\n",
       "  2136,\n",
       "  2152,\n",
       "  2152,\n",
       "  2152,\n",
       "  2152,\n",
       "  2152,\n",
       "  2158,\n",
       "  2158,\n",
       "  2158,\n",
       "  2158,\n",
       "  2158,\n",
       "  2160,\n",
       "  2160,\n",
       "  2160,\n",
       "  2160,\n",
       "  2160,\n",
       "  2165,\n",
       "  2175,\n",
       "  2175,\n",
       "  2175,\n",
       "  2180,\n",
       "  2180,\n",
       "  2180,\n",
       "  2182,\n",
       "  2182,\n",
       "  2182,\n",
       "  2182,\n",
       "  2182,\n",
       "  2184,\n",
       "  2184,\n",
       "  2184,\n",
       "  2184,\n",
       "  2184,\n",
       "  2186,\n",
       "  2186,\n",
       "  2186,\n",
       "  2186,\n",
       "  2186,\n",
       "  2192,\n",
       "  2192,\n",
       "  2192,\n",
       "  2192,\n",
       "  2192,\n",
       "  2206,\n",
       "  2206,\n",
       "  2206,\n",
       "  2206,\n",
       "  2206,\n",
       "  2256,\n",
       "  2256,\n",
       "  2256,\n",
       "  2324,\n",
       "  2324,\n",
       "  2324,\n",
       "  2324,\n",
       "  2324,\n",
       "  2343,\n",
       "  2343,\n",
       "  2343,\n",
       "  2343,\n",
       "  2343,\n",
       "  2361,\n",
       "  2361,\n",
       "  2361,\n",
       "  2361,\n",
       "  2361,\n",
       "  2411,\n",
       "  2411,\n",
       "  2411,\n",
       "  2411,\n",
       "  2411,\n",
       "  2496,\n",
       "  2496,\n",
       "  2535,\n",
       "  2535,\n",
       "  2535,\n",
       "  2551,\n",
       "  2551,\n",
       "  2551,\n",
       "  2551,\n",
       "  2551,\n",
       "  2721,\n",
       "  2721,\n",
       "  2721,\n",
       "  2721,\n",
       "  2721,\n",
       "  2938,\n",
       "  3011,\n",
       "  3011,\n",
       "  3011,\n",
       "  3011,\n",
       "  3011,\n",
       "  3167,\n",
       "  3167,\n",
       "  3167,\n",
       "  3167,\n",
       "  3167,\n",
       "  3286,\n",
       "  3286,\n",
       "  3286,\n",
       "  3286,\n",
       "  3307,\n",
       "  3307,\n",
       "  3307,\n",
       "  3307,\n",
       "  3307,\n",
       "  3340,\n",
       "  3340,\n",
       "  3340,\n",
       "  3340,\n",
       "  3351,\n",
       "  3369,\n",
       "  3369,\n",
       "  3369,\n",
       "  3369,\n",
       "  3369,\n",
       "  3375,\n",
       "  3375,\n",
       "  3375,\n",
       "  3375,\n",
       "  3375,\n",
       "  3379,\n",
       "  3379,\n",
       "  3379,\n",
       "  3379,\n",
       "  3379,\n",
       "  3518,\n",
       "  3518,\n",
       "  3518,\n",
       "  3518,\n",
       "  3518,\n",
       "  3520,\n",
       "  3520,\n",
       "  3520,\n",
       "  3520,\n",
       "  3520,\n",
       "  3522,\n",
       "  3522,\n",
       "  3522,\n",
       "  3631,\n",
       "  3631,\n",
       "  3631,\n",
       "  3631,\n",
       "  3631,\n",
       "  3797,\n",
       "  3797,\n",
       "  3797,\n",
       "  3797,\n",
       "  3797,\n",
       "  3829,\n",
       "  3829,\n",
       "  3829,\n",
       "  3829,\n",
       "  3829,\n",
       "  3847,\n",
       "  3847,\n",
       "  3847,\n",
       "  3847,\n",
       "  3847,\n",
       "  3866,\n",
       "  3878,\n",
       "  3878,\n",
       "  3878,\n",
       "  3878,\n",
       "  3878,\n",
       "  3917,\n",
       "  3954,\n",
       "  3954,\n",
       "  3954,\n",
       "  3954,\n",
       "  3954,\n",
       "  4020,\n",
       "  4020,\n",
       "  4020,\n",
       "  4020,\n",
       "  4020,\n",
       "  4052,\n",
       "  4052,\n",
       "  4052,\n",
       "  4052,\n",
       "  4052,\n",
       "  4115,\n",
       "  4115,\n",
       "  4115,\n",
       "  4115,\n",
       "  4115,\n",
       "  4128,\n",
       "  4128,\n",
       "  4128,\n",
       "  4128,\n",
       "  4128,\n",
       "  4132,\n",
       "  4132,\n",
       "  4132,\n",
       "  4132,\n",
       "  4132,\n",
       "  4140,\n",
       "  4140,\n",
       "  4140,\n",
       "  4140,\n",
       "  4140,\n",
       "  4142,\n",
       "  4142,\n",
       "  4142,\n",
       "  4142,\n",
       "  4142,\n",
       "  4147,\n",
       "  4147,\n",
       "  4147,\n",
       "  4147,\n",
       "  4147,\n",
       "  4148,\n",
       "  4148,\n",
       "  4148,\n",
       "  4148,\n",
       "  4148,\n",
       "  4165,\n",
       "  4165,\n",
       "  4165,\n",
       "  4165,\n",
       "  4165,\n",
       "  4182,\n",
       "  4182,\n",
       "  4182,\n",
       "  4182,\n",
       "  4182,\n",
       "  4183,\n",
       "  4183,\n",
       "  4183,\n",
       "  4183,\n",
       "  4183,\n",
       "  4187,\n",
       "  4187,\n",
       "  4187,\n",
       "  4187,\n",
       "  4187,\n",
       "  4198,\n",
       "  4198,\n",
       "  4198,\n",
       "  4198,\n",
       "  4198,\n",
       "  4199,\n",
       "  4199,\n",
       "  4199,\n",
       "  4199,\n",
       "  4199,\n",
       "  4203,\n",
       "  4203,\n",
       "  4203,\n",
       "  4203,\n",
       "  4203,\n",
       "  4223,\n",
       "  4223,\n",
       "  4223,\n",
       "  4223,\n",
       "  4223,\n",
       "  4237,\n",
       "  4237,\n",
       "  4237,\n",
       "  4237,\n",
       "  4237,\n",
       "  4250,\n",
       "  4250,\n",
       "  4250,\n",
       "  4250,\n",
       "  4250,\n",
       "  4251,\n",
       "  4251,\n",
       "  4251,\n",
       "  4251,\n",
       "  4251,\n",
       "  4265,\n",
       "  4265,\n",
       "  4265,\n",
       "  4265,\n",
       "  4265,\n",
       "  4270,\n",
       "  4270,\n",
       "  4270,\n",
       "  4270,\n",
       "  4270,\n",
       "  4272,\n",
       "  4272,\n",
       "  4272,\n",
       "  4272,\n",
       "  4272,\n",
       "  4284,\n",
       "  4284,\n",
       "  4284,\n",
       "  4284,\n",
       "  4284,\n",
       "  4285,\n",
       "  4285,\n",
       "  4285,\n",
       "  4285,\n",
       "  4285,\n",
       "  4289,\n",
       "  4289,\n",
       "  ...],\n",
       " 'MIR467E': [31],\n",
       " 'ENSMUSG00000048960': [32, 32, 32, 32, 32],\n",
       " 'PREX2': [32],\n",
       " 'ENSMUSG00000057715': [33, 33, 33, 33, 33],\n",
       " 'A830018L16RIK': [33],\n",
       " 'ENSMUSG00000097171': [34, 34, 34, 34, 34],\n",
       " '4932411L15': [34],\n",
       " 'ENSMUSG00000016918': [35, 35, 35, 35, 35],\n",
       " 'SULF1': [35],\n",
       " 'ENSMUSG00000025938': [36, 36, 36, 36, 36],\n",
       " 'SLCO5A1': [36],\n",
       " 'ENSMUSG00000042414': [37, 37, 37, 37, 37],\n",
       " 'PRDM14': [37],\n",
       " 'ENSMUSG00000005886': [38, 38, 38, 38, 38],\n",
       " 'NCOA2': [38],\n",
       " 'ENSMUSG00000025935': [39, 39, 39, 39, 39],\n",
       " 'TRAM1': [39],\n",
       " 'ENSMUSG00000025937': [40, 40, 40, 40, 40],\n",
       " 'LACTB2': [40],\n",
       " 'ENSMUSG00000067813': [41, 41, 41, 41, 41],\n",
       " 'XKR9': [41],\n",
       " 'ENSMUSG00000097711': [42, 42, 42, 42, 42],\n",
       " 'GM5523': [42],\n",
       " 'ENSMUSG00000025932': [43, 43, 43, 43, 43],\n",
       " 'EYA1': [43],\n",
       " 'ENSMUSG00000025930': [44, 44, 44, 44, 44],\n",
       " 'MSC': [44],\n",
       " 'ENSMUSG00000032769': [45, 45, 45, 45, 45],\n",
       " 'TRPA1': [45],\n",
       " 'ENSMUSG00000092083': [46, 46, 46, 46, 46],\n",
       " 'KCNB2': [46],\n",
       " 'ENSMUSG00000025925': [47, 47, 47, 47, 47],\n",
       " 'TERF1': [47],\n",
       " 'ENSMUSG00000032719': [48, 48, 48, 48, 48],\n",
       " 'GM106': [48],\n",
       " 'ENSMUSG00000067795': [49, 49, 49, 49, 49],\n",
       " '4930444P10RIK': [49],\n",
       " 'ENSMUSG00000043716': [50, 50, 50, 50, 50],\n",
       " 'RPL7': [50],\n",
       " 'ENSMUSG00000025921': [51, 51, 51, 51, 51],\n",
       " 'RDH10': [51],\n",
       " 'ENSMUSG00000025920': [52, 52, 52, 52, 52],\n",
       " 'STAU2': [52],\n",
       " 'ENSMUSG00000025939': [53, 53, 53, 53, 53],\n",
       " 'UBE2W': [53],\n",
       " 'ENSMUSG00000079658': [54, 54, 54, 54, 54],\n",
       " 'TCEB1': [54],\n",
       " 'ENSMUSG00000097744': [55, 55, 55, 55, 55],\n",
       " 'D030040B21RIK': [55],\n",
       " 'ENSMUSG00000025940': [56, 56, 56, 56, 56],\n",
       " 'TMEM70': [56],\n",
       " 'ENSMUSG00000025779': [57, 57, 57, 57, 57],\n",
       " 'LY96': [57],\n",
       " 'ENSMUSG00000042686': [58, 58, 58, 58, 58],\n",
       " 'JPH1': [58],\n",
       " 'ENSMUSG00000025777': [59, 59, 59, 59, 59],\n",
       " 'GDAP1': [59],\n",
       " 'ENSMUSG00000067780': [60, 60, 60, 60, 60],\n",
       " 'PI15': [60],\n",
       " 'ENSMUSG00000025776': [61, 61, 61, 61, 61],\n",
       " 'CRISPLD1': [61],\n",
       " 'ENSMUSG00000025774': [62, 62, 62, 62, 62],\n",
       " 'CRISP4': [62],\n",
       " 'ENSMUSG00000070977': [63, 63, 63, 63, 63],\n",
       " 'DEFB44-PS': [63],\n",
       " 'ENSMUSG00000073735': [64, 64, 64, 64, 64],\n",
       " 'DEFB18': [64],\n",
       " 'ENSMUSG00000089923': [65, 65, 65, 65],\n",
       " 'ENSMUSG00000067773': [65],\n",
       " 'GM15386': [65],\n",
       " 'ENSMUSG00000042596': [66, 66, 66, 66, 66],\n",
       " 'TFAP2D': [66],\n",
       " 'ENSMUSG00000025927': [67, 67, 67, 67, 67],\n",
       " 'TFAP2B': [67],\n",
       " 'ENSMUSG00000043760': [68, 68, 68, 68, 68],\n",
       " 'PKHD1': [68],\n",
       " 'ENSMUSG00000089914': [69, 69, 69, 69, 69],\n",
       " '4930486I03RIK': [69],\n",
       " 'ENSMUSG00000065480': [70, 70],\n",
       " 'MIR-133': [70],\n",
       " 'ENSMUSG00000025929': [71, 71, 71, 71, 71],\n",
       " 'IL17A': [71],\n",
       " 'ENSMUSG00000041872': [72, 72, 72, 72, 72],\n",
       " 'IL17F': [72],\n",
       " 'ENSMUSG00000041859': [73, 73, 73, 73, 73],\n",
       " 'MCM3': [73],\n",
       " 'ENSMUSG00000097934': [74, 74, 74, 74, 74],\n",
       " '6720483E21RIK': [74],\n",
       " 'ENSMUSG00000025931': [75, 75, 75, 75, 75],\n",
       " 'PAQR8': [75],\n",
       " 'ENSMUSG00000041809': [76, 76, 76, 76, 76],\n",
       " 'EFHC1': [76],\n",
       " 'ENSMUSG00000041779': [77, 77, 77, 77, 77],\n",
       " 'TRAM2': [77],\n",
       " 'ENSMUSG00000025933': [78, 78, 78, 78, 78],\n",
       " 'TMEM14A': [78],\n",
       " 'ENSMUSG00000025934': [79, 79, 79, 79, 79],\n",
       " 'GSTA3': [79],\n",
       " 'ENSMUSG00000025936': [80, 80, 80, 80, 80],\n",
       " 'GM4956': [80],\n",
       " 'ENSMUSG00000067750': [81, 81, 81, 81, 81],\n",
       " 'KHDC1A': [81],\n",
       " 'ENSMUSG00000041722': [82, 82, 82, 82, 82],\n",
       " 'KHDC1C': [82],\n",
       " 'ENSMUSG00000085079': [83, 83, 83, 83, 83],\n",
       " 'KHDC1B': [83],\n",
       " 'ENSMUSG00000028033': [84, 84, 84, 84, 84],\n",
       " 'KCNQ5': [84],\n",
       " 'ENSMUSG00000041670': [85, 85, 85, 85, 85, 86, 86, 86, 86, 86],\n",
       " 'RIMS1': [85, 86],\n",
       " 'ENSMUSG00000073730': [87, 87, 87, 87, 87],\n",
       " '4933415F23RIK': [87],\n",
       " 'ENSMUSG00000065405': [88, 88, 88, 88, 88],\n",
       " 'MIR30A': [88],\n",
       " 'ENSMUSG00000065567': [89, 89, 89, 89, 89],\n",
       " 'MIR30C-2': [89],\n",
       " 'ENSMUSG00000026158': [90, 90, 90, 90, 90],\n",
       " 'OGFRL1': [90],\n",
       " 'ENSMUSG00000026156': [91, 91, 91, 91, 91],\n",
       " 'B3GAT2': [91],\n",
       " 'ENSMUSG00000026155': [92, 92, 92, 92, 92],\n",
       " 'SMAP1': [92],\n",
       " 'ENSMUSG00000026154': [93, 93, 93, 93, 93],\n",
       " '1110058L19RIK': [93],\n",
       " 'ENSMUSG00000026153': [94, 94, 94, 94, 94],\n",
       " 'FAM135A': [94],\n",
       " 'ENSMUSG00000026147': [95, 95, 95, 95, 95],\n",
       " 'COL9A1': [95],\n",
       " 'ENSMUSG00000026141': [96, 96, 96, 96, 96],\n",
       " 'COL19A1': [96],\n",
       " 'ENSMUSG00000073725': [97, 97, 97, 97, 97],\n",
       " 'LMBRD1': [97],\n",
       " 'ENSMUSG00000033569': [98, 98, 98, 98, 98],\n",
       " 'BAI3': [98],\n",
       " 'GM20172': [99],\n",
       " 'ENSMUSG00000073722': [100, 100, 100, 100, 100],\n",
       " '4931408C20RIK': [100],\n",
       " 'ENSMUSG00000048411': [101, 101, 101, 101, 101],\n",
       " 'GM597': [101],\n",
       " 'ENSMUSG00000048874': [102, 102, 102, 102, 102],\n",
       " 'PHF3': [102],\n",
       " 'ENSMUSG00000026064': [103, 103, 103, 103, 103],\n",
       " 'PTP4A1': [103],\n",
       " 'ENSMUSG00000086727': [104, 104, 104, 104, 104],\n",
       " '4931428L18RIK': [104],\n",
       " 'ENSMUSG00000050217': [105, 105, 105, 105, 105],\n",
       " 'LGSN': [105],\n",
       " 'ENSMUSG00000026063': [106, 106, 106, 106, 106],\n",
       " '4930521A18RIK': [106],\n",
       " 'GM4850': [107],\n",
       " 'ENSMUSG00000026058': [108, 108, 108, 108, 108],\n",
       " 'KHDRBS2': [108],\n",
       " 'ENSMUSG00000049830': [109, 109, 109, 109, 109],\n",
       " 'GM9839': [109],\n",
       " 'ENSMUSG00000091318': [110, 110, 110, 110, 110],\n",
       " 'GM5415': [110],\n",
       " 'ENSMUSG00000026134': [111, 111, 111, 111, 111],\n",
       " 'PRIM2': [111],\n",
       " 'ENSMUSG00000044744': [112, 112, 112, 112, 112],\n",
       " '1700001G17RIK': [112],\n",
       " 'ENSMUSG00000004768': [113, 113, 113, 113, 113],\n",
       " 'RAB23': [113],\n",
       " 'ENSMUSG00000042215': [114, 114, 114, 114, 114],\n",
       " 'BAG2': [114],\n",
       " 'ENSMUSG00000042197': [115, 115, 115, 115, 115],\n",
       " 'ZFP451': [115],\n",
       " 'ENSMUSG00000081402': [116, 116, 116, 116, 116],\n",
       " 'GM15455': [116],\n",
       " 'ENSMUSG00000042182': [117, 117, 117, 117, 117],\n",
       " 'BEND6': [117],\n",
       " 'ENSMUSG00000026131': [118, 118, 118, 118, 118],\n",
       " 'DST': [118],\n",
       " 'ENSMUSG00000092852': [119, 119, 119, 119, 119],\n",
       " 'MIR5103': [119],\n",
       " 'ENSMUSG00000042111': [120, 120, 120, 120, 120],\n",
       " 'CCDC115': [120],\n",
       " 'ENSMUSG00000026127': [121, 121, 121, 121, 121],\n",
       " 'IMP4': [121],\n",
       " 'ENSMUSG00000026126': [122, 122, 122, 122, 122],\n",
       " 'PTPN18': [122],\n",
       " 'ENSMUSG00000026125': [123, 123, 123, 123, 123],\n",
       " 'PRSS39': [123],\n",
       " 'ENSMUSG00000026124': [124, 124, 124, 124, 124],\n",
       " 'CFC1': [124],\n",
       " 'ENSMUSG00000037529': [125, 125, 125, 125, 125],\n",
       " 'PRSS40': [125],\n",
       " 'ENSMUSG00000045174': [126, 126, 126, 126, 126],\n",
       " 'FAM123C': [126],\n",
       " 'AA619741': [127],\n",
       " 'ENSMUSG00000037509': [128, 128, 128, 128, 128],\n",
       " 'ARHGEF4': [128],\n",
       " 'ENSMUSG00000037503': [129, 129, 129, 129, 129],\n",
       " 'FAM168B': [129],\n",
       " 'ENSMUSG00000026123': [130, 130, 130, 130, 130],\n",
       " 'PLEKHB2': [130],\n",
       " 'ENSMUSG00000045216': [131, 131, 131, 131, 131],\n",
       " 'HS6ST1': [131],\n",
       " 'ENSMUSG00000037470': [132, 132, 132, 132, 132],\n",
       " 'UGGT1': [132],\n",
       " 'ENSMUSG00000047180': [133, 133, 133, 133, 133],\n",
       " 'NEURL3': [133],\n",
       " 'ENSMUSG00000037447': [134, 134, 134, 134, 134],\n",
       " 'ARID5A': [134],\n",
       " 'ENSMUSG00000010453': [135, 135, 135, 135, 135],\n",
       " 'KANSL3': [135],\n",
       " 'ENSMUSG00000001143': [136, 136, 136, 136, 136],\n",
       " 'LMAN2L': [136],\n",
       " 'ENSMUSG00000037408': [137, 137, 137, 137, 137],\n",
       " 'CNNM4': [137],\n",
       " 'ENSMUSG00000001138': [138, 138, 138, 138, 138],\n",
       " 'CNNM3': [138],\n",
       " 'ENSMUSG00000067653': [139, 139, 139, 139, 139],\n",
       " 'ANKRD23': [139],\n",
       " 'ENSMUSG00000079610': [140, 140, 140, 140, 140],\n",
       " 'ANKRD39': [140],\n",
       " 'ENSMUSG00000026121': [141, 141, 141, 141, 141],\n",
       " 'SEMA4C': [141],\n",
       " 'ENSMUSG00000046337': [142, 142, 142, 142, 142],\n",
       " 'FAM178B': [142],\n",
       " 'ENSMUSG00000061518': [143, 143, 143, 143, 143],\n",
       " 'COX5B': [143],\n",
       " 'ENSMUSG00000037351': [144, 144, 144, 144, 144],\n",
       " 'ACTR1B': [144],\n",
       " '4933424G06RIK': [145],\n",
       " 'ENSMUSG00000026117': [146, 146, 146, 146, 146],\n",
       " 'ZAP70': [146],\n",
       " 'ENSMUSG00000026116': [147, 147, 147, 147, 147],\n",
       " 'TMEM131': [147],\n",
       " 'ENSMUSG00000026114': [148, 148, 148, 148, 148],\n",
       " 'CNGA3': [148],\n",
       " 'ENSMUSG00000026113': [149, 149, 149, 149],\n",
       " 'INPP4A': [149],\n",
       " 'ENSMUSG00000026112': [150, 150, 150, 150, 150],\n",
       " '6330578E17RIK': [150],\n",
       " 'ENSMUSG00000026111': [151, 151, 151, 151, 151],\n",
       " 'UNC50': [151],\n",
       " 'ENSMUSG00000026110': [152, 152, 152, 152, 152],\n",
       " 'MGAT4A': [152],\n",
       " 'ENSMUSG00000087233': [153, 153, 153, 153, 153],\n",
       " '4930594C11RIK': [153],\n",
       " 'ENSMUSG00000026090': [154, 154, 154, 154, 154],\n",
       " '2010300C02RIK': [154],\n",
       " 'ENSMUSG00000060771': [155, 155, 155, 155, 155],\n",
       " 'TSGA10': [155],\n",
       " 'ENSMUSG00000037216': [156, 156, 156, 156, 156],\n",
       " 'LIPT1': [156],\n",
       " 'ENSMUSG00000026088': [157, 157, 157, 157, 157],\n",
       " 'MITD1': [157],\n",
       " 'ENSMUSG00000026087': [158, 158, 158, 158, 158],\n",
       " 'MRPL30': [158],\n",
       " 'ENSMUSG00000061584': [159, 159, 159, 159, 159],\n",
       " 'LYG2': [159],\n",
       " 'ENSMUSG00000026085': [160, 160, 160, 160, 160],\n",
       " 'LYG1': [160],\n",
       " 'ENSMUSG00000058407': [161, 161, 161, 161, 161],\n",
       " 'TXNDC9': [161],\n",
       " 'ENSMUSG00000026083': [162, 162, 162, 162, 162],\n",
       " 'EIF5B': [162],\n",
       " 'ENSMUSG00000026082': [163, 163, 163, 163, 163],\n",
       " 'REV1': [163],\n",
       " 'ENSMUSG00000037138': [164, 164, 164, 164, 164],\n",
       " 'AFF3': [164],\n",
       " 'BC096025': [165],\n",
       " 'ENSMUSG00000026080': [166, 166, 166, 166, 166],\n",
       " 'CHST10': [166],\n",
       " 'ENSMUSG00000067604': [167, 167, 167, 167, 167],\n",
       " 'NMS': [167],\n",
       " 'ENSMUSG00000026078': [168, 168, 168, 168, 168],\n",
       " 'PDCL3': [168],\n",
       " 'ENSMUSG00000026077': [169, 169, 169, 169, 169],\n",
       " 'NPAS2': [169],\n",
       " 'ENSMUSG00000073702': [170, 170, 170, 170, 170],\n",
       " 'RPL31': [170],\n",
       " 'ENSMUSG00000003134': [171, 171, 171, 171, 171],\n",
       " 'TBC1D8': [171],\n",
       " 'ENSMUSG00000003135': [172, 172, 172, 172, 172],\n",
       " 'D1BWG0212E': [172],\n",
       " 'ENSMUSG00000077704': [173, 173, 173, 173, 173],\n",
       " 'SNORD89': [173],\n",
       " 'ENSMUSG00000048234': [174, 174, 174, 174, 174],\n",
       " 'RNF149': [174],\n",
       " 'ENSMUSG00000050967': [175, 175, 175, 175, 175],\n",
       " 'CREG2': [175],\n",
       " 'ENSMUSG00000057173': [176, 176, 176, 176, 176],\n",
       " 'RFX8': [176],\n",
       " 'ENSMUSG00000091937': [177, 177, 177, 177, 177],\n",
       " 'GM3646': [177],\n",
       " '1700066B17RIK': [178],\n",
       " 'ENSMUSG00000026074': [179, 179, 179, 179, 179],\n",
       " 'MAP4K4': [179],\n",
       " 'ENSMUSG00000097899': [180, 180, 180, 180, 180],\n",
       " 'GM16894': [180],\n",
       " 'ENSMUSG00000026073': [181, 181, 181, 181, 181],\n",
       " 'IL1R2': [181],\n",
       " 'ENSMUSG00000026072': [182, 182, 182, 182, 182],\n",
       " 'IL1R1': [182],\n",
       " 'ENSMUSG00000070942': [183, 183, 183, 183, 183],\n",
       " 'IL1RL2': [183],\n",
       " 'ENSMUSG00000026069': [184, 184, 184, 184, 184],\n",
       " 'IL1RL1': [184],\n",
       " 'ENSMUSG00000026070': [185, 185, 185, 185, 185],\n",
       " 'IL18R1': [185],\n",
       " 'ENSMUSG00000026068': [186, 186, 186, 186, 186],\n",
       " 'IL18RAP': [186],\n",
       " 'ENSMUSG00000026065': [187, 187, 187, 187, 187],\n",
       " 'SLC9A4': [187],\n",
       " 'ENSMUSG00000026062': [188, 188, 188, 188, 188],\n",
       " 'SLC9A2': [188],\n",
       " 'ENSMUSG00000041945': [189, 189, 189, 189, 189],\n",
       " 'MFSD9': [189],\n",
       " 'ENSMUSG00000079588': [190, 190, 190, 190, 190],\n",
       " 'TMEM182': [190],\n",
       " '4930448I06RIK': [191],\n",
       " 'ENSMUSG00000060424': [192, 192, 192, 192, 192],\n",
       " '2610017I09RIK': [192],\n",
       " 'ENSMUSG00000045515': [193, 193, 193, 193, 193],\n",
       " 'POU3F3': [193],\n",
       " '2900092D14RIK': [194],\n",
       " 'ENSMUSG00000060679': [195, 195, 195, 195, 195],\n",
       " 'MRPS9': [195],\n",
       " 'ENSMUSG00000041907': [196, 196, 196, 196, 196],\n",
       " 'GPR45': [196],\n",
       " 'ENSMUSG00000070939': [197, 197, 197, 197, 197],\n",
       " 'TGFBRAP1': [197],\n",
       " 'ENSMUSG00000010290': [198, 198, 198, 198, 198],\n",
       " 'AI597479': [198],\n",
       " 'ENSMUSG00000008136': [199, 199, 199, 199, 199],\n",
       " 'FHL2': [199],\n",
       " 'ENSMUSG00000094497': [200, 200, 200, 200, 200],\n",
       " 'RPL29': [200, 15826, 21756],\n",
       " 'ENSMUSG00000066877': [201, 201, 201, 201, 201],\n",
       " 'NCK2': [201],\n",
       " 'ENSMUSG00000026051': [202, 202, 202, 202, 202],\n",
       " '1500015O10RIK': [202],\n",
       " 'ENSMUSG00000057363': [203, 203, 203, 203, 203],\n",
       " 'UXS1': [203],\n",
       " 'ENSMUSG00000041763': [204, 204, 204, 204, 204],\n",
       " 'TPP2': [204],\n",
       " 'ENSMUSG00000047343': [205, 205, 205, 205, 205],\n",
       " 'A530098C11RIK': [205],\n",
       " 'ENSMUSG00000026049': [206, 206, 206, 206, 206],\n",
       " '1700029F09RIK': [206],\n",
       " 'ENSMUSG00000026047': [207, 207, 207, 207, 207],\n",
       " 'KDELC1': [207],\n",
       " 'ENSMUSG00000041684': [208, 208, 208, 208, 208],\n",
       " 'BIVM': [208],\n",
       " 'ENSMUSG00000026048': [209, 209, 209, 209],\n",
       " 'ERCC5': [209],\n",
       " 'ENSMUSG00000046828': [210, 210, 210, 210, 210],\n",
       " '4832428D23RIK': [210],\n",
       " 'ENSMUSG00000056870': [211, 211, 211, 211, 211],\n",
       " 'GULP1': [211],\n",
       " '4930521E06RIK': [212],\n",
       " 'ENSMUSG00000026043': [213, 213, 213, 213, 213],\n",
       " 'COL3A1': [213],\n",
       " 'ENSMUSG00000026042': [214, 214, 214, 214, 214],\n",
       " 'COL5A2': [214],\n",
       " 'ENSMUSG00000025995': [215, 215, 215, 215, 215],\n",
       " 'WDR75': [215],\n",
       " 'ENSMUSG00000025993': [216, 216, 216, 216, 216],\n",
       " 'SLC40A1': [216],\n",
       " 'ENSMUSG00000090682': [217, 217, 217, 217, 217],\n",
       " 'GM3852': [217],\n",
       " 'ENSMUSG00000044457': [218, 218, 218, 218, 218],\n",
       " 'GM4776': [218],\n",
       " 'ENSMUSG00000041144': [219, 219, 219, 219, 219],\n",
       " 'DNAHC7B': [219],\n",
       " 'ENSMUSG00000025986': [220, 220, 220, 220, 220],\n",
       " 'SLC39A10': [220],\n",
       " 'ENSMUSG00000026109': [221, 221, 221, 221, 221],\n",
       " 'TMEFF2': [221],\n",
       " '9330175M20RIK': [222],\n",
       " 'ENSMUSG00000045954': [223, 223, 223, 223, 223],\n",
       " 'SDPR': [223],\n",
       " 'ENSMUSG00000026107': [224, 224, 224, 224, 224],\n",
       " 'NABP1': [224],\n",
       " 'ENSMUSG00000018417': [225, 225, 225, 225, 225],\n",
       " 'MYO1B': [225],\n",
       " 'ENSMUSG00000062939': [226, 226, 226, 226, 226],\n",
       " 'STAT4': [226],\n",
       " 'ENSMUSG00000026104': [227, 227, 227, 227, 227],\n",
       " 'STAT1': [227],\n",
       " 'ENSMUSG00000026103': [228, 228, 228, 228, 228],\n",
       " 'GLS': [228],\n",
       " 'ENSMUSG00000002881': [229, 229, 229, 229, 229],\n",
       " 'NAB1': [229],\n",
       " 'ENSMUSG00000043015': [230, 230, 230, 230, 230],\n",
       " 'TMEM194B': [230],\n",
       " 'ENSMUSG00000041439': [231, 231, 231, 231, 231],\n",
       " 'MFSD6': [231],\n",
       " 'ENSMUSG00000026102': [232, 232, 232, 232, 232],\n",
       " 'INPP1': [232],\n",
       " 'ENSMUSG00000041426': [233, 233, 233, 233, 233],\n",
       " 'HIBCH': [233],\n",
       " 'ENSMUSG00000043629': [234, 234, 234, 234, 234],\n",
       " '1700019D03RIK': [234],\n",
       " 'ENSMUSG00000026100': [235, 235, 235, 235, 235],\n",
       " 'MSTN': [235],\n",
       " 'ENSMUSG00000060715': [236, 236, 236, 236, 236],\n",
       " '1700019A02RIK': [236],\n",
       " 'ENSMUSG00000026098': [237, 237, 237, 237, 237],\n",
       " 'PMS1': [237],\n",
       " 'ENSMUSG00000026097': [238, 238, 238, 238, 238],\n",
       " 'ORMDL1': [238],\n",
       " 'ENSMUSG00000026096': [239, 239, 239, 239, 239],\n",
       " 'OSGEPL1': [239],\n",
       " 'ENSMUSG00000026095': [240, 240, 240, 240, 240],\n",
       " 'ASNSD1': [240],\n",
       " 'ENSMUSG00000096141': [241, 241, 241, 241, 241],\n",
       " 'DNAHC7A': [241],\n",
       " 'ENSMUSG00000026094': [242, 242, 242, 242, 242],\n",
       " 'STK17B': [242],\n",
       " 'ENSMUSG00000042807': [243, 243, 243, 243, 243],\n",
       " 'HECW2': [243],\n",
       " 'ENSMUSG00000025983': [244, 244, 244, 244, 244],\n",
       " 'CCDC150': [244],\n",
       " 'ENSMUSG00000041303': [245, 245, 245, 245, 245],\n",
       " 'GTF3C3': [245],\n",
       " 'ENSMUSG00000073678': [246, 246, 246, 246, 246],\n",
       " 'PGAP1': [246],\n",
       " 'ENSMUSG00000052331': [247, 247, 247, 247, 247],\n",
       " 'ANKRD44': [247],\n",
       " 'ENSMUSG00000025982': [248, 248, 248, 248, 248],\n",
       " 'SF3B1': [248],\n",
       " 'ENSMUSG00000025981': [249, 249, 249, 249, 249],\n",
       " 'COQ10B': [249],\n",
       " 'ENSMUSG00000025980': [250, 250, 250, 250, 250],\n",
       " 'HSPD1': [250],\n",
       " 'ENSMUSG00000073676': [251, 251, 251, 251, 251],\n",
       " 'HSPE1': [251],\n",
       " 'ENSMUSG00000025979': [252, 252, 252, 252, 252],\n",
       " 'MOB4': [252],\n",
       " 'ENSMUSG00000025978': [253, 253, 253, 253, 253],\n",
       " 'RFTN2': [253],\n",
       " 'ENSMUSG00000046994': [254, 254, 254, 254, 254],\n",
       " 'MARS2': [254],\n",
       " 'ENSMUSG00000025977': [255, 255, 255, 255, 255],\n",
       " 'BOLL': [255],\n",
       " 'ENSMUSG00000038349': [256, 256, 256, 256, 256],\n",
       " 'PLCL1': [256],\n",
       " '9130227L01RIK': [257],\n",
       " 'ENSMUSG00000045336': [258, 258, 258, 258, 258],\n",
       " 'HSFY2': [258],\n",
       " 'ENSMUSG00000038331': [259, 259, 259, 259, 259],\n",
       " 'SATB2': [259],\n",
       " 'ENSMUSG00000087022': [260],\n",
       " '9130024F11RIK': [260],\n",
       " 'BC055402': [261],\n",
       " 'ENSMUSG00000097519': [262, 262, 262, 262, 262],\n",
       " '4930558J18RIK': [262],\n",
       " 'ENSMUSG00000038323': [263, 263, 263, 263, 263],\n",
       " '1700066M21RIK': [263],\n",
       " 'ENSMUSG00000048495': [264, 264, 264, 264, 264],\n",
       " '1110034B05RIK': [264],\n",
       " 'ENSMUSG00000025971': [265, 265, 265, 265, 265],\n",
       " '9430016H08RIK': [265],\n",
       " 'ENSMUSG00000038305': [266, 266, 266, 266, 266],\n",
       " 'SPATS2L': [266],\n",
       " 'ENSMUSG00000054770': [267, 267, 267, 267, 267],\n",
       " 'KCTD18': [267],\n",
       " 'ENSMUSG00000026039': [268, 268, 268, 268, 268],\n",
       " 'SGOL2': [268],\n",
       " 'ENSMUSG00000063558': [269, 269, 269, 269, 269],\n",
       " 'AOX1': [269],\n",
       " 'ENSMUSG00000064294': [270, 270, 270, 270, 270],\n",
       " 'AOX3': [270],\n",
       " 'ENSMUSG00000038242': [271, 271, 271, 271, 271],\n",
       " 'AOX4': [271],\n",
       " 'ENSMUSG00000079554': [272, 272, 272, 272, 272],\n",
       " 'AOX3L1': [272],\n",
       " 'ENSMUSG00000051223': [273, 273, 273, 273, 273],\n",
       " 'BZW1': [273],\n",
       " 'ENSMUSG00000026034': [274, 274, 274, 274, 274],\n",
       " 'CLK1': [274],\n",
       " 'ENSMUSG00000026035': [275, 275, 275, 275, 275],\n",
       " 'PPIL3': [275],\n",
       " 'ENSMUSG00000026036': [276, 276, 276, 276, 276],\n",
       " 'NIF3L1': [276],\n",
       " 'ENSMUSG00000026037': [277, 277, 277, 277, 277],\n",
       " 'ORC2': [277],\n",
       " 'ENSMUSG00000038174': [278, 278, 278, 278, 278],\n",
       " 'FAM126B': [278],\n",
       " 'ENSMUSG00000026032': [279, 279, 279, 279, 279],\n",
       " 'NDUFB3': [279],\n",
       " 'GM20257': [280],\n",
       " 'ENSMUSG00000047528': [281, 281, 281, 281, 281],\n",
       " 'ALS2CR12': [281],\n",
       " 'ENSMUSG00000026031': [282, 282, 282, 282, 282],\n",
       " 'CFLAR': [282],\n",
       " 'ENSMUSG00000026029': [283, 283, 283, 283, 283],\n",
       " 'CASP8': [283],\n",
       " 'ENSMUSG00000026028': [284, 284, 284, 284, 284],\n",
       " 'TRAK2': [284],\n",
       " 'ENSMUSG00000026027': [285, 285, 285, 285, 285],\n",
       " 'STRADB': [285],\n",
       " 'ENSMUSG00000072295': [286, 286, 286, 286, 286],\n",
       " 'ALS2CR11': [286],\n",
       " 'ENSMUSG00000038079': [287, 287, 287, 287, 287],\n",
       " 'TMEM237': [287],\n",
       " 'ENSMUSG00000079550': [288, 288, 288, 288, 288],\n",
       " 'MPP4': [288],\n",
       " 'ENSMUSG00000026024': [289, 289, 289, 289, 289],\n",
       " 'ALS2': [289],\n",
       " 'ENSMUSG00000026023': [290, 290, 290, 290, 290],\n",
       " 'CDK15': [290],\n",
       " 'ENSMUSG00000041075': [291, 291, 291, 291, 291],\n",
       " 'FZD7': [291],\n",
       " 'ENSMUSG00000047361': [292, 292, 292, 292, 292],\n",
       " 'GM973': [292],\n",
       " 'ENSMUSG00000026021': [293, 293, 293, 293, 293],\n",
       " 'SUMO1': [293],\n",
       " 'ENSMUSG00000026020': [294, 294, 294, 294, 294],\n",
       " 'NOP58': [294],\n",
       " 'ENSMUSG00000077345': [295, 295, 295, 295, 295],\n",
       " 'SNORD70': [295],\n",
       " 'ENSMUSG00000089093': [296, 296, 296, 296, 296],\n",
       " 'SNORD11': [296],\n",
       " 'ENSMUSG00000067336': [297, 297, 297, 297, 297],\n",
       " 'BMPR2': [297],\n",
       " 'ENSMUSG00000041040': [298, 298, 298, 298, 298],\n",
       " 'FAM117B': [298],\n",
       " 'ENSMUSG00000026018': [299, 299, 299, 299, 299],\n",
       " 'ICA1L': [299],\n",
       " 'ENSMUSG00000026019': [300, 300, 300, 300, 300],\n",
       " 'WDR12': [300],\n",
       " 'ENSMUSG00000026017': [301, 301, 301, 301, 301],\n",
       " 'CARF': [301],\n",
       " 'ENSMUSG00000073664': [302, 302, 302, 302, 302],\n",
       " 'NBEAL1': [302],\n",
       " 'ENSMUSG00000049439': [303, 303, 303, 303, 303],\n",
       " 'CYP20A1': [303],\n",
       " 'ENSMUSG00000026782': [304, 304, 304, 304, 304],\n",
       " 'ABI2': [304],\n",
       " 'ENSMUSG00000026014': [305, 305, 305, 305, 305],\n",
       " 'RAPH1': [305],\n",
       " 'ENSMUSG00000026012': [306, 306, 306, 306, 306],\n",
       " 'CD28': [306],\n",
       " 'ENSMUSG00000026011': [307, 307, 307, 307, 307],\n",
       " 'CTLA4': [307],\n",
       " 'ENSMUSG00000026009': [308, 308, 308, 308, 308],\n",
       " 'ICOS': [308],\n",
       " 'ENSMUSG00000085447': [309, 309, 309, 309, 309],\n",
       " '9530026F06RIK': [309],\n",
       " 'ENSMUSG00000052062': [310, 310, 310, 310, 310],\n",
       " 'PARD3B': [310],\n",
       " 'ENSMUSG00000025969': [311, 311, 311, 311, 311],\n",
       " 'NRP2': [311],\n",
       " '4930487H11RIK': [312],\n",
       " 'ENSMUSG00000040865': [313, 313, 313, 313, 313],\n",
       " 'INO80D': [313],\n",
       " 'ENSMUSG00000084799': [314, 314, 314, 314, 314],\n",
       " 'GM11602': [314],\n",
       " 'ENSMUSG00000025968': [315, 315, 315, 315, 315],\n",
       " 'NDUFS1': [315],\n",
       " 'ENSMUSG00000025967': [316, 316, 316, 316, 316],\n",
       " 'EEF1B2': [316],\n",
       " 'ENSMUSG00000064602': [317, 317, 317, 317, 317],\n",
       " 'SNORA41': [317],\n",
       " 'ENSMUSG00000046856': [318, 318, 318, 318, 318],\n",
       " 'GPR1': [318],\n",
       " 'ENSMUSG00000027520': [319, 319, 319, 319, 319],\n",
       " 'ZDBF2': [319],\n",
       " 'ENSMUSG00000025964': [320, 320, 320, 320, 320],\n",
       " 'ADAM23': [320],\n",
       " 'ENSMUSG00000069085': [321, 321, 321, 321, 321],\n",
       " 'DYTN': [321],\n",
       " 'ENSMUSG00000025963': [322, 322, 322, 322, 322],\n",
       " 'MDH1B': [322],\n",
       " 'ENSMUSG00000025962': [323, 323, 323, 323, 323],\n",
       " 'FASTKD2': [323],\n",
       " 'ENSMUSG00000025961': [324, 324, 324, 324, 324],\n",
       " '4933402D24RIK': [324],\n",
       " 'ENSMUSG00000044689': [325, 325, 325, 325, 325],\n",
       " 'GM13749': [325],\n",
       " 'ENSMUSG00000025959': [326, 326, 326, 326, 326],\n",
       " 'KLF7': [326],\n",
       " 'ENSMUSG00000025958': [327, 327, 327, 327, 327],\n",
       " 'CREB1': [327],\n",
       " 'ENSMUSG00000025956': [328, 328, 328, 328, 328],\n",
       " 'METTL21A': [328],\n",
       " 'ENSMUSG00000087213': [329, 329, 329, 329, 329],\n",
       " '2810408I11RIK': [329],\n",
       " 'ENSMUSG00000070871': [330, 330, 330, 330, 330],\n",
       " 'CCNYL1': [330],\n",
       " 'ENSMUSG00000045005': [331, 331, 331, 331, 331],\n",
       " 'FZD5': [331],\n",
       " 'ENSMUSG00000051344': [332, 332, 332, 332, 332],\n",
       " 'PLEKHM3': [332],\n",
       " 'ENSMUSG00000025955': [333, 333, 333, 333, 333],\n",
       " 'AKR1CL': [333],\n",
       " 'ENSMUSG00000070870': [334, 334, 334, 334, 334],\n",
       " 'CRYGE': [334],\n",
       " 'ENSMUSG00000067299': [335, 335, 335, 335, 335],\n",
       " 'CRYGD': [335],\n",
       " 'ENSMUSG00000025952': [336, 336, 336, 336, 336],\n",
       " 'CRYGC': [336],\n",
       " 'ENSMUSG00000073658': [337, 337, 337, 337, 337],\n",
       " 'CRYGB': [337],\n",
       " 'ENSMUSG00000044429': [338, 338, 338, 338, 338],\n",
       " 'CRYGA': [338],\n",
       " 'ENSMUSG00000044816': [339, 339, 339, 339, 339],\n",
       " 'D630023F18RIK': [339],\n",
       " 'ENSMUSG00000025950': [340, 340, 340, 340, 340],\n",
       " 'IDH1': [340],\n",
       " 'ENSMUSG00000025949': [341, 341, 341, 341, 341],\n",
       " 'PIKFYVE': [341],\n",
       " 'ENSMUSG00000025946': [342, 342, 342, 342, 342],\n",
       " 'PTH2R': [342],\n",
       " 'ENSMUSG00000025945': [343, 343, 343, 343, 343],\n",
       " 'CRYGF': [343],\n",
       " 'ENSMUSG00000015222': [344, 344, 344, 344, 344],\n",
       " 'MTAP2': [344],\n",
       " 'ENSMUSG00000055567': [345, 345, 345, 345, 345],\n",
       " 'UNC80': [345],\n",
       " 'ENSMUSG00000026005': [346, 346, 346, 346, 346],\n",
       " 'RPE': [346],\n",
       " 'ENSMUSG00000026004': [347, 347, 347, 347, 347],\n",
       " 'KANSL1L': [347],\n",
       " 'ENSMUSG00000026003': [348, 348, 348, 348, 348],\n",
       " 'ACADL': [348],\n",
       " 'ENSMUSG00000061816': [349, 349, 349, 349, 349],\n",
       " 'MYL1': [349],\n",
       " 'ENSMUSG00000026000': [350, 350, 350, 350, 350],\n",
       " 'LANCL1': [350],\n",
       " 'ENSMUSG00000025991': [351, 351, 351, 351, 351],\n",
       " 'CPS1': [351],\n",
       " 'ENSMUSG00000062209': [352, 352, 352, 352, 352],\n",
       " 'ERBB4': [352],\n",
       " 'ENSMUSG00000025997': [353, 353, 353, 353, 353],\n",
       " 'IKZF2': [353],\n",
       " 'ENSMUSG00000053153': [354, 354, 354, 354, 354],\n",
       " 'SPAG16': [354],\n",
       " 'ENSMUSG00000045648': [355, 355, 355, 355, 355],\n",
       " 'VWC2L': [355],\n",
       " 'ENSMUSG00000026196': [356, 356, 356, 356, 356],\n",
       " 'BARD1': [356],\n",
       " 'ENSMUSG00000050296': [357, 357, 357, 357, 357],\n",
       " 'ABCA12': [357],\n",
       " 'ENSMUSG00000026192': [358, 358, 358, 358, 358],\n",
       " 'ATIC': [358],\n",
       " 'ENSMUSG00000026193': [359, 359, 359, 359, 359],\n",
       " 'FN1': [359],\n",
       " 'ENSMUSG00000073652': [360, 360, 360, 360, 360],\n",
       " 'APOL7D': [360],\n",
       " 'GM8883': [361],\n",
       " '4933417E11RIK': [362],\n",
       " 'ENSMUSG00000039395': [363, 363, 363, 363, 363],\n",
       " 'MREG': [363],\n",
       " 'ENSMUSG00000026189': [364, 364, 364, 364, 364],\n",
       " 'PECR': [364],\n",
       " 'ENSMUSG00000026188': [365, 365, 365, 365, 365],\n",
       " 'TMEM169': [365],\n",
       " 'ENSMUSG00000026187': [366, 366, 366, 366, 366],\n",
       " 'XRCC5': [366],\n",
       " 'ENSMUSG00000039372': [367, 367, 367, 367, 367],\n",
       " 'MAR-04': [367],\n",
       " 'ENSMUSG00000039354': [368, 368, 368, 368, 368],\n",
       " 'SMARCAL1': [368],\n",
       " 'ENSMUSG00000039342': [369, 369, 369, 369, 369],\n",
       " 'ANKAR': [369],\n",
       " 'ENSMUSG00000046330': [370, 370, 370, 370, 370],\n",
       " 'RPL37A': [370],\n",
       " 'ENSMUSG00000039323': [371, 371, 371, 371, 371],\n",
       " 'IGFBP2': [371],\n",
       " 'ENSMUSG00000026185': [372, 372, 372, 372, 372],\n",
       " 'IGFBP5': [372],\n",
       " 'ENSMUSG00000026182': [373, 373, 373, 373, 373],\n",
       " 'TNP1': [373],\n",
       " '1700027A15RIK': [374],\n",
       " 'PINC': [375],\n",
       " 'D530049I02RIK': [376],\n",
       " '6030407O03RIK': [377],\n",
       " 'ENSMUSG00000055322': [378, 378, 378, 378, 378],\n",
       " 'TNS1': [378],\n",
       " 'ENSMUSG00000061815': [379, 379, 379, 379, 379],\n",
       " 'RUFY4': [379],\n",
       " 'ENSMUSG00000026180': [380, 380, 380, 380, 380],\n",
       " 'CXCR2': [380],\n",
       " 'ENSMUSG00000048480': [381, 381, 381, 381, 381],\n",
       " 'CXCR1': [381],\n",
       " 'ENSMUSG00000006304': [382, 382, 382, 382, 382],\n",
       " 'ARPC2': [382],\n",
       " 'ENSMUSG00000064272': [383, 383, 383, 383, 383],\n",
       " 'GPBAR1': [383],\n",
       " 'ENSMUSG00000006299': [384, 384, 384, 384, 384],\n",
       " 'AAMP': [384],\n",
       " 'ENSMUSG00000026179': [385, 385, 385, 385, 385],\n",
       " 'PNKD': [385],\n",
       " 'ENSMUSG00000006301': [386, 386, 386, 386, 386],\n",
       " 'TMBIM1': [386],\n",
       " 'ENSMUSG00000073650': [387, 387, 387, 387, 387],\n",
       " 'GM216': [387],\n",
       " 'ENSMUSG00000026177': [388, 388, 388, 388, 388],\n",
       " 'SLC11A1': [388],\n",
       " 'ENSMUSG00000026176': [389, 389, 389, 389, 389],\n",
       " 'CTDSP1': [389],\n",
       " 'ENSMUSG00000065468': [390, 390, 390, 390, 390],\n",
       " 'MIR26B': [390],\n",
       " 'ENSMUSG00000026175': [391, 391, 391, 391, 391],\n",
       " 'VIL1': [391],\n",
       " 'ENSMUSG00000033364': [392, 392, 392, 392, 392],\n",
       " 'USP37': [392],\n",
       " 'ENSMUSG00000026174': [393, 393, 393, 393, 393],\n",
       " 'RQCD1': [393],\n",
       " 'ENSMUSG00000026173': [394, 394, 394, 394, 394],\n",
       " 'PLCD4': [394],\n",
       " 'ENSMUSG00000026135': [395, 395, 395, 395, 395],\n",
       " 'ZFP142': [395],\n",
       " 'ENSMUSG00000026172': [396, 396, 396, 396, 396],\n",
       " 'BCS1L': [396],\n",
       " 'ENSMUSG00000026171': [397, 397, 397, 397, 397],\n",
       " 'RNF25': [397],\n",
       " 'ENSMUSG00000033276': [398, 398, 398, 398, 398],\n",
       " 'STK36': [398],\n",
       " 'ENSMUSG00000033257': [399, 399, 399, 399, 399],\n",
       " 'TTLL4': [399],\n",
       " 'ENSMUSG00000026170': [400, 400, 400, 400, 400],\n",
       " 'CYP27A1': [400],\n",
       " 'ENSMUSG00000006542': [401, 401, 401, 401, 401],\n",
       " 'PRKAG3': [401],\n",
       " 'ENSMUSG00000033227': [402, 402, 402, 402, 402],\n",
       " 'WNT6': [402],\n",
       " 'ENSMUSG00000026167': [403, 403, 403, 403, 403],\n",
       " 'WNT10A': [403],\n",
       " 'ENSMUSG00000090071': [404, 404, 404, 404, 404],\n",
       " 'CDK5R2': [404],\n",
       " 'ENSMUSG00000055197': [405, 405, 405, 405, 405],\n",
       " 'FEV': [405],\n",
       " 'ENSMUSG00000006546': [406, 406, 406, 406, 406],\n",
       " 'CRYBA2': [406],\n",
       " 'ENSMUSG00000065616': [407, 407, 407, 407, 407],\n",
       " 'MIR375': [407],\n",
       " 'ENSMUSG00000047021': [408, 408, 408, 408, 408],\n",
       " 'CCDC108': [408],\n",
       " 'ENSMUSG00000006538': [409, 409, 409, 409, 409],\n",
       " 'IHH': [409],\n",
       " 'ENSMUSG00000026162': [410, 410, 410, 410, 410],\n",
       " 'NHEJ1': [410],\n",
       " 'ENSMUSG00000026205': [411, 411, 411, 411, 411],\n",
       " 'SLC23A3': [411],\n",
       " 'ENSMUSG00000033159': [412, 412, 412, 412, 412],\n",
       " '1810031K17RIK': [412],\n",
       " 'ENSMUSG00000049339': [413, 413, 413, 413, 413],\n",
       " 'FAM134A': [413],\n",
       " 'ENSMUSG00000026197': [414, 414, 414, 414, 414],\n",
       " 'ZFAND2B': [414],\n",
       " 'ENSMUSG00000026198': [415, 415, 415, 415, 415],\n",
       " 'ABCB6': [415],\n",
       " 'ENSMUSG00000033124': [416, 416, 416, 416, 416],\n",
       " 'ATG9A': [416],\n",
       " 'ENSMUSG00000026199': [417, 417, 417, 417, 417],\n",
       " 'ANKZF1': [417],\n",
       " 'ENSMUSG00000026200': [418, 418, 418, 418, 418],\n",
       " 'GLB1L': [418],\n",
       " 'ENSMUSG00000026201': [419, 419, 419, 419, 419],\n",
       " 'STK16': [419],\n",
       " 'ENSMUSG00000026202': [420, 420, 420, 420, 420],\n",
       " 'TUBA4A': [420],\n",
       " 'ENSMUSG00000096094': [421, 421, 421, 421, 421],\n",
       " 'A630095N17RIK': [421],\n",
       " 'ENSMUSG00000026203': [422, 422, 422, 422, 422],\n",
       " 'DNAJB2': [422],\n",
       " 'ENSMUSG00000026204': [423, 423, 423, 423, 423],\n",
       " 'PTPRN': [423],\n",
       " 'ENSMUSG00000033061': [424, 424, 424, 424, 424],\n",
       " 'RESP18': [424],\n",
       " 'ENSMUSG00000026209': [425, 425, 425, 425, 425],\n",
       " 'DNPEP': [425],\n",
       " 'ENSMUSG00000026208': [426, 426, 426, 426, 426],\n",
       " 'DES': [426],\n",
       " 'ENSMUSG00000085653': [427, 427, 427, 427, 427],\n",
       " 'GM15179': [427],\n",
       " 'ENSMUSG00000026207': [428, 428, 428, 428, 428, 429, 429, 429, 429, 429],\n",
       " 'SPEG': [428, 429],\n",
       " 'ENSMUSG00000033021': [430, 430, 430, 430, 430],\n",
       " 'GMPPA': [430],\n",
       " 'ENSMUSG00000033007': [431, 431, 431, 431, 431],\n",
       " 'ACCN4': [431],\n",
       " 'ENSMUSG00000032997': [432, 432, 432, 432, 432],\n",
       " 'CHPF': [432],\n",
       " 'ENSMUSG00000051703': [433, 433, 433, 433, 433],\n",
       " 'TMEM198': [433],\n",
       " 'ENSMUSG00000026211': [434, 434, 434, 434, 434],\n",
       " 'OBSL1': [434],\n",
       " 'ENSMUSG00000032968': [435, 435, 435, 435, 435],\n",
       " 'INHA': [435],\n",
       " 'ENSMUSG00000026213': [436, 436, 436, 436, 436],\n",
       " 'STK11IP': [436],\n",
       " 'ENSMUSG00000006576': [437, 437, 437, 437, 437],\n",
       " 'SLC4A3': [437],\n",
       " 'GM17751': [438],\n",
       " 'ENSMUSG00000026235': [439, 439, 439, 439, 439],\n",
       " 'EPHA4': [439],\n",
       " 'ENSMUSG00000004872': [440, 440, 440, 440, 440],\n",
       " 'PAX3': [440],\n",
       " 'ENSMUSG00000032908': [441, 441, 441, 441, 441],\n",
       " 'SGPP2': [441],\n",
       " 'ENSMUSG00000026245': [442, 442, 442, 442, 442],\n",
       " 'FARSB': [442],\n",
       " 'ENSMUSG00000012187': [443, 443, 443, 443, 443],\n",
       " 'MOGAT1': [443],\n",
       " 'ENSMUSG00000032883': [444, 444, 444, 444, 444],\n",
       " 'ACSL3': [444],\n",
       " 'ENSMUSG00000079470': [445, 445, 445, 445, 445],\n",
       " 'UTP14B': [445],\n",
       " 'ENSMUSG00000047330': [446, 446, 446, 446, 446],\n",
       " 'KCNE4': [446],\n",
       " 'ENSMUSG00000050711': [447, 447, 447, 447, 447],\n",
       " 'SCG2': [447],\n",
       " 'ENSMUSG00000054702': [448, 448, 448, 448, 448],\n",
       " 'AP1S3': [448],\n",
       " 'ENSMUSG00000073643': [449, 449, 449, 449, 449],\n",
       " 'WDFY1': [449],\n",
       " 'ENSMUSG00000026248': [450, 450, 450, 450, 450],\n",
       " 'MRPL44': [450],\n",
       " 'ENSMUSG00000026249': [451, 451, 451, 451, 451],\n",
       " 'SERPINE2': [451],\n",
       " 'ENSMUSG00000043230': [452, 452, 452, 452, 452],\n",
       " 'FAM124B': [452],\n",
       " 'ENSMUSG00000004364': [453, 453, 453, 453, 453],\n",
       " 'CUL3': [453],\n",
       " '1700016L21RIK': [454],\n",
       " 'ENSMUSG00000038608': [455, 455, 455, 455, 455],\n",
       " 'DOCK10': [455],\n",
       " 'ENSMUSG00000054976': [456, 456, 456, 456, 456],\n",
       " '9430031J16RIK': [456],\n",
       " 'ENSMUSG00000055980': [457, 457, 457, 457, 457],\n",
       " 'IRS1': [457],\n",
       " 'ENSMUSG00000026142': [458, 458, 458, 458, 458],\n",
       " 'RHBDD1': [458],\n",
       " 'ENSMUSG00000067158': [459, 459, 459, 459, 459],\n",
       " 'COL4A4': [459],\n",
       " 'ENSMUSG00000079465': [460, 460, 460, 460, 460],\n",
       " 'COL4A3': [460],\n",
       " 'ENSMUSG00000026150': [461, 461, 461, 461, 461],\n",
       " 'MFF': [461],\n",
       " 'ENSMUSG00000026149': [462, 462, 462, 462, 462],\n",
       " 'TM4SF20': [462],\n",
       " 'ENSMUSG00000026159': [463, 463, 463, 463, 463],\n",
       " 'AGFG1': [463],\n",
       " 'ENSMUSG00000038496': [464, 464, 464, 464, 464],\n",
       " 'SLC19A3': [464],\n",
       " 'ENSMUSG00000026166': [465, 465, 465, 465, 465],\n",
       " 'CCL20': [465],\n",
       " 'ENSMUSG00000053161': [466, 466, 466, 466, 466],\n",
       " 'WDR69': [466],\n",
       " 'ENSMUSG00000026163': [467, 467, 467, 467, 467],\n",
       " 'SPHKAP': [467],\n",
       " 'ENSMUSG00000045658': [468, 468, 468, 468, 468],\n",
       " 'PID1': [468],\n",
       " 'ENSMUSG00000036766': [469, 469, 469, 469, 469],\n",
       " 'DNER': [469],\n",
       " 'ENSMUSG00000093254': [470, 470, 470, 470, 470],\n",
       " 'MIR5126': [470],\n",
       " 'ENSMUSG00000026219': [471, 471, 471, 471, 471],\n",
       " 'TRIP12': [471],\n",
       " 'ENSMUSG00000073633': [472, 472, 472, 472, 472],\n",
       " 'FBXO36': [472],\n",
       " 'ENSMUSG00000026220': [473, 473, 473, 473, 473],\n",
       " 'SLC16A14': [473],\n",
       " 'ENSMUSG00000091199': [474, 474, 474, 474, 474],\n",
       " 'CSPRS': [474],\n",
       " 'ENSMUSG00000089844': [475, 475],\n",
       " 'ENSMUSG00000052477': [475, 475, 475],\n",
       " 'A530032D15RIK': [475],\n",
       " 'ENSMUSG00000079457': [476, 476, 476, 476, 476],\n",
       " 'GM7609': [476],\n",
       " 'BC038927': [477],\n",
       " 'ENSMUSG00000070034': [478, 478, 478, 478, 478],\n",
       " 'SP110': [478],\n",
       " 'ENSMUSG00000070031': [479, 479, 479, 479, 479],\n",
       " 'SP140': [479],\n",
       " 'ENSMUSG00000026222': [480, 480, 480, 480, 480],\n",
       " 'SP100': [480],\n",
       " 'ENSMUSG00000052760': [481, 481, 481, 481, 481],\n",
       " 'A630001G21RIK': [481],\n",
       " 'ENSMUSG00000036707': [482, 482, 482, 482, 482],\n",
       " 'CAB39': [482],\n",
       " 'ENSMUSG00000026223': [483, 483, 483, 483, 483],\n",
       " 'ITM2C': [483],\n",
       " 'ENSMUSG00000026224': [484, 484, 484, 484, 484],\n",
       " '4933407L21RIK': [484],\n",
       " 'ENSMUSG00000049608': [485, 485, 485, 485, 485],\n",
       " 'GPR55': [485],\n",
       " 'ENSMUSG00000026226': [486, 486, 486, 486, 486],\n",
       " 'SPATA3': [486],\n",
       " 'ENSMUSG00000026227': [487, 487, 487, 487, 487],\n",
       " '2810459M11RIK': [487],\n",
       " 'ENSMUSG00000026229': [488, 488, 488, 488, 488],\n",
       " 'PSMD1': [488],\n",
       " 'ENSMUSG00000026228': [489, 489, 489, 489, 489],\n",
       " 'HTR2B': [489],\n",
       " 'ENSMUSG00000062590': [490, 490, 490, 490, 490],\n",
       " 'ARMC9': [490],\n",
       " 'ENSMUSG00000079445': [491, 491, 491, 491, 491],\n",
       " 'B3GNT7': [491],\n",
       " 'ENSMUSG00000026234': [492, 492, 492, 492, 492],\n",
       " 'NCL': [492],\n",
       " 'ENSMUSG00000064837': [493, 493, 493, 493, 493],\n",
       " 'SNORA75': [493],\n",
       " 'ENSMUSG00000064823': [494, 494, 494, 494, 494],\n",
       " 'SNORD82': [494],\n",
       " 'ENSMUSG00000073627': [495, 495, 495, 495, 495],\n",
       " 'C130036L24RIK': [495],\n",
       " 'ENSMUSG00000026237': [496, 496, 496, 496, 496],\n",
       " 'NMUR1': [496],\n",
       " 'ENSMUSG00000036574': [497, 497, 497, 497, 497],\n",
       " '1700019O17RIK': [497],\n",
       " 'ENSMUSG00000026238': [498, 498, 498, 498, 498],\n",
       " 'PTMA': [498],\n",
       " 'ENSMUSG00000026239': [499, 499, 499, 499, 499],\n",
       " 'PDE6D': [499],\n",
       " 'ENSMUSG00000026240': [500, 500, 500, 500, 500],\n",
       " 'COPS7B': [500],\n",
       " 'ENSMUSG00000026241': [501, 501, 501, 501, 501],\n",
       " 'NPPC': [501],\n",
       " 'ENSMUSG00000053333': [502, 502, 502, 502, 502],\n",
       " 'DIS3L2': [502],\n",
       " 'ENSMUSG00000026246': [503, 503, 503, 503, 503],\n",
       " 'ALPPL2': [503],\n",
       " 'ENSMUSG00000079440': [504, 504, 504, 504, 504],\n",
       " 'ALPI': [504],\n",
       " 'ENSMUSG00000036500': [505, 505, 505, 505, 505],\n",
       " 'AKP3': [505],\n",
       " 'ENSMUSG00000026247': [506, 506, 506, 506, 506],\n",
       " 'ECEL1': [506],\n",
       " 'ENSMUSG00000036480': [507, 507, 507, 507, 507],\n",
       " 'PRSS56': [507],\n",
       " 'ENSMUSG00000026251': [508, 508, 508, 508, 508],\n",
       " 'CHRND': [508],\n",
       " 'ENSMUSG00000026253': [509, 509, 509, 509, 509],\n",
       " 'CHRNG': [509],\n",
       " 'ENSMUSG00000026254': [510, 510, 510, 510, 510],\n",
       " 'EIF4E2': [510],\n",
       " 'ENSMUSG00000026255': [511, 511, 511, 511, 511],\n",
       " 'EFHD1': [511],\n",
       " 'ENSMUSG00000048000': [512, 512, 512, 512, 512],\n",
       " ...}"
      ]
     },
     "execution_count": 57,
     "metadata": {},
     "output_type": "execute_result"
    }
   ],
   "source": [
    "my_dict"
   ]
  },
  {
   "cell_type": "code",
   "execution_count": 102,
   "metadata": {},
   "outputs": [
    {
     "name": "stdout",
     "output_type": "stream",
     "text": [
      "58 ['ENSMUSG00000037868' 'ENSMUSG00000116458']\n",
      "[1659, 1659, 1659, 1659, 1659]\n",
      "89 ['ENSMUSG00000067261' 'ENSMUSG00000116152']\n",
      "[14164, 14164, 14164, 14164, 14164]\n",
      "146 ['ENSMUSG00000071076' 'ENSMUSG00000110974']\n",
      "[20115, 20115, 20115, 20115, 20115]\n",
      "202 ['ENSMUSG00000023994' 'ENSMUSG00000115906']\n",
      "[9008, 9008, 9008, 9008, 9008]\n"
     ]
    }
   ],
   "source": [
    "for  i in tf.index:\n",
    "    tf_name = tf.at[i,'Transcription factor'].upper()\n",
    "    tf_en = tf.at[i,'ensembleID']\n",
    "    my_index_list = []\n",
    "    try:\n",
    "        my_index_list1 = my_dict[tf_name]\n",
    "        my_index_list += my_index_list1\n",
    "    except:\n",
    "        pass\n",
    "    try:\n",
    "#         print (str(type(tf_en)))\n",
    "        if str(type(tf_en)) == \"<class 'numpy.ndarray'>\":\n",
    "            print (i,tf_en)\n",
    "            for x in tf_en:\n",
    "                try:\n",
    "                    my_index_list2 = my_dict[x]\n",
    "                    print (my_index_list2)\n",
    "                    my_index_list += my_index_list2\n",
    "                except:\n",
    "                    pass\n",
    "        else:\n",
    "            my_index_list2 = my_dict[tf_en]\n",
    "            my_index_list += my_index_list2\n",
    "    except:\n",
    "        pass    \n",
    "    exp.loc[i] = df.loc[list(set(my_index_list))][order_col].mean().tolist()"
   ]
  },
  {
   "cell_type": "code",
   "execution_count": 103,
   "metadata": {},
   "outputs": [
    {
     "data": {
      "text/plain": [
       "(356, 10)"
      ]
     },
     "execution_count": 103,
     "metadata": {},
     "output_type": "execute_result"
    }
   ],
   "source": [
    "exp.shape"
   ]
  },
  {
   "cell_type": "code",
   "execution_count": 96,
   "metadata": {},
   "outputs": [
    {
     "data": {
      "text/plain": [
       "True"
      ]
     },
     "execution_count": 96,
     "metadata": {},
     "output_type": "execute_result"
    }
   ],
   "source": [
    "str(type([123,12])) == \"<class 'list'>\""
   ]
  },
  {
   "cell_type": "code",
   "execution_count": 104,
   "metadata": {},
   "outputs": [],
   "source": [
    "df_tf = pd.concat([tf,exp],axis=1)\n"
   ]
  },
  {
   "cell_type": "code",
   "execution_count": 105,
   "metadata": {},
   "outputs": [],
   "source": [
    "df_tf.to_csv(\"expression_of_HOMOCOMO_TF_mouse.csv\")"
   ]
  },
  {
   "cell_type": "code",
   "execution_count": 106,
   "metadata": {},
   "outputs": [
    {
     "data": {
      "text/html": [
       "<div>\n",
       "<style scoped>\n",
       "    .dataframe tbody tr th:only-of-type {\n",
       "        vertical-align: middle;\n",
       "    }\n",
       "\n",
       "    .dataframe tbody tr th {\n",
       "        vertical-align: top;\n",
       "    }\n",
       "\n",
       "    .dataframe thead th {\n",
       "        text-align: right;\n",
       "    }\n",
       "</style>\n",
       "<table border=\"1\" class=\"dataframe\">\n",
       "  <thead>\n",
       "    <tr style=\"text-align: right;\">\n",
       "      <th></th>\n",
       "      <th>Model</th>\n",
       "      <th>LOGO</th>\n",
       "      <th>Transcription factor</th>\n",
       "      <th>Model length</th>\n",
       "      <th>Quality</th>\n",
       "      <th>TF family</th>\n",
       "      <th>EntrezGene</th>\n",
       "      <th>UniProt ID</th>\n",
       "      <th>ensembleID</th>\n",
       "      <th>X46c_43_day0_TPM</th>\n",
       "      <th>X46c_43_day1_TPM</th>\n",
       "      <th>X46c_43_day2_TPM</th>\n",
       "      <th>X46c_43_day3_TPM</th>\n",
       "      <th>X46c_43_day4_TPM</th>\n",
       "      <th>X46c_43_day5_TPM</th>\n",
       "      <th>X46c_43_day6_TPM</th>\n",
       "      <th>X46c_43_day7_TPM</th>\n",
       "      <th>X46c_65_day16_TPM</th>\n",
       "      <th>X46c_50_day30_TPM</th>\n",
       "    </tr>\n",
       "  </thead>\n",
       "  <tbody>\n",
       "    <tr>\n",
       "      <th>0</th>\n",
       "      <td>AHR_MOUSE.H11MO.0.B</td>\n",
       "      <td>NaN</td>\n",
       "      <td>Ahr</td>\n",
       "      <td>9</td>\n",
       "      <td>B</td>\n",
       "      <td>PAS domain factors{1.2.5}</td>\n",
       "      <td>11622</td>\n",
       "      <td>AHR_MOUSE</td>\n",
       "      <td>ENSMUSG00000019256</td>\n",
       "      <td>3.15</td>\n",
       "      <td>3.55</td>\n",
       "      <td>5.61</td>\n",
       "      <td>3.19</td>\n",
       "      <td>2.25</td>\n",
       "      <td>1.82</td>\n",
       "      <td>1.25</td>\n",
       "      <td>1.21</td>\n",
       "      <td>2.54</td>\n",
       "      <td>6.12</td>\n",
       "    </tr>\n",
       "    <tr>\n",
       "      <th>1</th>\n",
       "      <td>AIRE_MOUSE.H11MO.0.C</td>\n",
       "      <td>NaN</td>\n",
       "      <td>Aire</td>\n",
       "      <td>18</td>\n",
       "      <td>C</td>\n",
       "      <td>AIRE{5.3.1}</td>\n",
       "      <td>11634</td>\n",
       "      <td>AIRE_MOUSE</td>\n",
       "      <td>ENSMUSG00000000731</td>\n",
       "      <td>16.60</td>\n",
       "      <td>5.13</td>\n",
       "      <td>3.26</td>\n",
       "      <td>0.52</td>\n",
       "      <td>0.99</td>\n",
       "      <td>0.66</td>\n",
       "      <td>0.74</td>\n",
       "      <td>0.19</td>\n",
       "      <td>0.16</td>\n",
       "      <td>0.03</td>\n",
       "    </tr>\n",
       "    <tr>\n",
       "      <th>2</th>\n",
       "      <td>ALX1_MOUSE.H11MO.0.B</td>\n",
       "      <td>NaN</td>\n",
       "      <td>Alx1</td>\n",
       "      <td>12</td>\n",
       "      <td>B</td>\n",
       "      <td>Paired-related HD factors{3.1.3}</td>\n",
       "      <td>216285</td>\n",
       "      <td>ALX1_MOUSE</td>\n",
       "      <td>ENSMUSG00000036602</td>\n",
       "      <td>0.07</td>\n",
       "      <td>0.39</td>\n",
       "      <td>1.48</td>\n",
       "      <td>1.26</td>\n",
       "      <td>0.79</td>\n",
       "      <td>0.33</td>\n",
       "      <td>0.25</td>\n",
       "      <td>0.11</td>\n",
       "      <td>0.00</td>\n",
       "      <td>0.00</td>\n",
       "    </tr>\n",
       "    <tr>\n",
       "      <th>3</th>\n",
       "      <td>ANDR_MOUSE.H11MO.0.A</td>\n",
       "      <td>NaN</td>\n",
       "      <td>Ar</td>\n",
       "      <td>16</td>\n",
       "      <td>A</td>\n",
       "      <td>Steroid hormone receptors (NR3){2.1.1}</td>\n",
       "      <td>11835</td>\n",
       "      <td>ANDR_MOUSE</td>\n",
       "      <td>ENSMUSG00000046532</td>\n",
       "      <td>0.03</td>\n",
       "      <td>1.42</td>\n",
       "      <td>1.75</td>\n",
       "      <td>1.22</td>\n",
       "      <td>0.62</td>\n",
       "      <td>0.59</td>\n",
       "      <td>0.25</td>\n",
       "      <td>0.35</td>\n",
       "      <td>0.42</td>\n",
       "      <td>0.77</td>\n",
       "    </tr>\n",
       "    <tr>\n",
       "      <th>4</th>\n",
       "      <td>AP2A_MOUSE.H11MO.0.A</td>\n",
       "      <td>NaN</td>\n",
       "      <td>Tfap2a</td>\n",
       "      <td>12</td>\n",
       "      <td>A</td>\n",
       "      <td>AP-2{1.3.1}</td>\n",
       "      <td>21418</td>\n",
       "      <td>AP2A_MOUSE</td>\n",
       "      <td>ENSMUSG00000021359</td>\n",
       "      <td>1.15</td>\n",
       "      <td>0.86</td>\n",
       "      <td>1.28</td>\n",
       "      <td>0.82</td>\n",
       "      <td>0.47</td>\n",
       "      <td>1.18</td>\n",
       "      <td>0.36</td>\n",
       "      <td>1.58</td>\n",
       "      <td>0.16</td>\n",
       "      <td>0.15</td>\n",
       "    </tr>\n",
       "  </tbody>\n",
       "</table>\n",
       "</div>"
      ],
      "text/plain": [
       "                  Model  LOGO Transcription factor  Model length Quality  \\\n",
       "0   AHR_MOUSE.H11MO.0.B   NaN                  Ahr             9       B   \n",
       "1  AIRE_MOUSE.H11MO.0.C   NaN                 Aire            18       C   \n",
       "2  ALX1_MOUSE.H11MO.0.B   NaN                 Alx1            12       B   \n",
       "3  ANDR_MOUSE.H11MO.0.A   NaN                   Ar            16       A   \n",
       "4  AP2A_MOUSE.H11MO.0.A   NaN               Tfap2a            12       A   \n",
       "\n",
       "                                TF family EntrezGene  UniProt ID  \\\n",
       "0               PAS domain factors{1.2.5}      11622   AHR_MOUSE   \n",
       "1                             AIRE{5.3.1}      11634  AIRE_MOUSE   \n",
       "2        Paired-related HD factors{3.1.3}     216285  ALX1_MOUSE   \n",
       "3  Steroid hormone receptors (NR3){2.1.1}      11835  ANDR_MOUSE   \n",
       "4                             AP-2{1.3.1}      21418  AP2A_MOUSE   \n",
       "\n",
       "           ensembleID  X46c_43_day0_TPM  X46c_43_day1_TPM  X46c_43_day2_TPM  \\\n",
       "0  ENSMUSG00000019256              3.15              3.55              5.61   \n",
       "1  ENSMUSG00000000731             16.60              5.13              3.26   \n",
       "2  ENSMUSG00000036602              0.07              0.39              1.48   \n",
       "3  ENSMUSG00000046532              0.03              1.42              1.75   \n",
       "4  ENSMUSG00000021359              1.15              0.86              1.28   \n",
       "\n",
       "   X46c_43_day3_TPM  X46c_43_day4_TPM  X46c_43_day5_TPM  X46c_43_day6_TPM  \\\n",
       "0              3.19              2.25              1.82              1.25   \n",
       "1              0.52              0.99              0.66              0.74   \n",
       "2              1.26              0.79              0.33              0.25   \n",
       "3              1.22              0.62              0.59              0.25   \n",
       "4              0.82              0.47              1.18              0.36   \n",
       "\n",
       "   X46c_43_day7_TPM  X46c_65_day16_TPM  X46c_50_day30_TPM  \n",
       "0              1.21               2.54               6.12  \n",
       "1              0.19               0.16               0.03  \n",
       "2              0.11               0.00               0.00  \n",
       "3              0.35               0.42               0.77  \n",
       "4              1.58               0.16               0.15  "
      ]
     },
     "execution_count": 106,
     "metadata": {},
     "output_type": "execute_result"
    }
   ],
   "source": [
    "df_tf.head()"
   ]
  },
  {
   "cell_type": "code",
   "execution_count": 107,
   "metadata": {},
   "outputs": [
    {
     "name": "stderr",
     "output_type": "stream",
     "text": [
      "E:\\anaconda3\\lib\\site-packages\\seaborn\\timeseries.py:183: UserWarning: The tsplot function is deprecated and will be removed or replaced (in a substantially altered version) in a future release.\n",
      "  warnings.warn(msg, UserWarning)\n",
      "E:\\anaconda3\\lib\\site-packages\\matplotlib\\pyplot.py:528: RuntimeWarning: More than 20 figures have been opened. Figures created through the pyplot interface (`matplotlib.pyplot.figure`) are retained until explicitly closed and may consume too much memory. (To control this warning, see the rcParam `figure.max_open_warning`).\n",
      "  max_open_warning, RuntimeWarning)\n"
     ]
    },
    {
     "data": {
      "text/plain": [
       "<matplotlib.figure.Figure at 0x23509ca0e80>"
      ]
     },
     "metadata": {},
     "output_type": "display_data"
    },
    {
     "data": {
      "text/plain": [
       "<matplotlib.figure.Figure at 0x23509ca0940>"
      ]
     },
     "metadata": {},
     "output_type": "display_data"
    },
    {
     "data": {
      "text/plain": [
       "<matplotlib.figure.Figure at 0x23509d535c0>"
      ]
     },
     "metadata": {},
     "output_type": "display_data"
    },
    {
     "data": {
      "text/plain": [
       "<matplotlib.figure.Figure at 0x2350e5a9ef0>"
      ]
     },
     "metadata": {},
     "output_type": "display_data"
    },
    {
     "data": {
      "text/plain": [
       "<matplotlib.figure.Figure at 0x2350e5d3ef0>"
      ]
     },
     "metadata": {},
     "output_type": "display_data"
    },
    {
     "data": {
      "text/plain": [
       "<matplotlib.figure.Figure at 0x2350e5a9ba8>"
      ]
     },
     "metadata": {},
     "output_type": "display_data"
    },
    {
     "data": {
      "text/plain": [
       "<matplotlib.figure.Figure at 0x2352c593588>"
      ]
     },
     "metadata": {},
     "output_type": "display_data"
    },
    {
     "data": {
      "text/plain": [
       "<matplotlib.figure.Figure at 0x2350e4ef588>"
      ]
     },
     "metadata": {},
     "output_type": "display_data"
    },
    {
     "data": {
      "text/plain": [
       "<matplotlib.figure.Figure at 0x2352c574748>"
      ]
     },
     "metadata": {},
     "output_type": "display_data"
    },
    {
     "data": {
      "text/plain": [
       "<matplotlib.figure.Figure at 0x2350e514fd0>"
      ]
     },
     "metadata": {},
     "output_type": "display_data"
    },
    {
     "data": {
      "text/plain": [
       "<matplotlib.figure.Figure at 0x2350e5178d0>"
      ]
     },
     "metadata": {},
     "output_type": "display_data"
    },
    {
     "data": {
      "text/plain": [
       "<matplotlib.figure.Figure at 0x2352c59c588>"
      ]
     },
     "metadata": {},
     "output_type": "display_data"
    },
    {
     "data": {
      "text/plain": [
       "<matplotlib.figure.Figure at 0x2350f6a04e0>"
      ]
     },
     "metadata": {},
     "output_type": "display_data"
    },
    {
     "data": {
      "text/plain": [
       "<matplotlib.figure.Figure at 0x2350ff45b70>"
      ]
     },
     "metadata": {},
     "output_type": "display_data"
    },
    {
     "data": {
      "text/plain": [
       "<matplotlib.figure.Figure at 0x235142c8160>"
      ]
     },
     "metadata": {},
     "output_type": "display_data"
    },
    {
     "data": {
      "text/plain": [
       "<matplotlib.figure.Figure at 0x23510ff8550>"
      ]
     },
     "metadata": {},
     "output_type": "display_data"
    },
    {
     "data": {
      "text/plain": [
       "<matplotlib.figure.Figure at 0x23509caa0b8>"
      ]
     },
     "metadata": {},
     "output_type": "display_data"
    },
    {
     "data": {
      "text/plain": [
       "<matplotlib.figure.Figure at 0x2352d665358>"
      ]
     },
     "metadata": {},
     "output_type": "display_data"
    },
    {
     "data": {
      "text/plain": [
       "<matplotlib.figure.Figure at 0x23509c651d0>"
      ]
     },
     "metadata": {},
     "output_type": "display_data"
    },
    {
     "data": {
      "text/plain": [
       "<matplotlib.figure.Figure at 0x23509d17710>"
      ]
     },
     "metadata": {},
     "output_type": "display_data"
    },
    {
     "data": {
      "text/plain": [
       "<matplotlib.figure.Figure at 0x23509d7db00>"
      ]
     },
     "metadata": {},
     "output_type": "display_data"
    },
    {
     "data": {
      "text/plain": [
       "<matplotlib.figure.Figure at 0x2350ff1ef98>"
      ]
     },
     "metadata": {},
     "output_type": "display_data"
    },
    {
     "data": {
      "text/plain": [
       "<matplotlib.figure.Figure at 0x2350957a4e0>"
      ]
     },
     "metadata": {},
     "output_type": "display_data"
    },
    {
     "data": {
      "text/plain": [
       "<matplotlib.figure.Figure at 0x2350957ad68>"
      ]
     },
     "metadata": {},
     "output_type": "display_data"
    },
    {
     "data": {
      "text/plain": [
       "<matplotlib.figure.Figure at 0x23509669898>"
      ]
     },
     "metadata": {},
     "output_type": "display_data"
    },
    {
     "data": {
      "text/plain": [
       "<matplotlib.figure.Figure at 0x23509c6aa90>"
      ]
     },
     "metadata": {},
     "output_type": "display_data"
    },
    {
     "data": {
      "text/plain": [
       "<matplotlib.figure.Figure at 0x23509d08b38>"
      ]
     },
     "metadata": {},
     "output_type": "display_data"
    },
    {
     "data": {
      "text/plain": [
       "<matplotlib.figure.Figure at 0x2352c580b00>"
      ]
     },
     "metadata": {},
     "output_type": "display_data"
    },
    {
     "data": {
      "text/plain": [
       "<matplotlib.figure.Figure at 0x23509d14940>"
      ]
     },
     "metadata": {},
     "output_type": "display_data"
    },
    {
     "data": {
      "text/plain": [
       "<matplotlib.figure.Figure at 0x23509ab2550>"
      ]
     },
     "metadata": {},
     "output_type": "display_data"
    },
    {
     "data": {
      "text/plain": [
       "<matplotlib.figure.Figure at 0x23509a4d278>"
      ]
     },
     "metadata": {},
     "output_type": "display_data"
    },
    {
     "data": {
      "text/plain": [
       "<matplotlib.figure.Figure at 0x23509b164a8>"
      ]
     },
     "metadata": {},
     "output_type": "display_data"
    },
    {
     "data": {
      "text/plain": [
       "<matplotlib.figure.Figure at 0x23509824208>"
      ]
     },
     "metadata": {},
     "output_type": "display_data"
    },
    {
     "data": {
      "text/plain": [
       "<matplotlib.figure.Figure at 0x235098991d0>"
      ]
     },
     "metadata": {},
     "output_type": "display_data"
    },
    {
     "data": {
      "text/plain": [
       "<matplotlib.figure.Figure at 0x235097b9358>"
      ]
     },
     "metadata": {},
     "output_type": "display_data"
    },
    {
     "data": {
      "text/plain": [
       "<matplotlib.figure.Figure at 0x235097f0b38>"
      ]
     },
     "metadata": {},
     "output_type": "display_data"
    },
    {
     "data": {
      "text/plain": [
       "<matplotlib.figure.Figure at 0x23509ab6ba8>"
      ]
     },
     "metadata": {},
     "output_type": "display_data"
    },
    {
     "data": {
      "text/plain": [
       "<matplotlib.figure.Figure at 0x23509734320>"
      ]
     },
     "metadata": {},
     "output_type": "display_data"
    },
    {
     "data": {
      "text/plain": [
       "<matplotlib.figure.Figure at 0x235099877f0>"
      ]
     },
     "metadata": {},
     "output_type": "display_data"
    },
    {
     "data": {
      "text/plain": [
       "<matplotlib.figure.Figure at 0x235096ad128>"
      ]
     },
     "metadata": {},
     "output_type": "display_data"
    },
    {
     "data": {
      "text/plain": [
       "<matplotlib.figure.Figure at 0x235097f0d30>"
      ]
     },
     "metadata": {},
     "output_type": "display_data"
    },
    {
     "data": {
      "text/plain": [
       "<matplotlib.figure.Figure at 0x23509a2ec88>"
      ]
     },
     "metadata": {},
     "output_type": "display_data"
    },
    {
     "data": {
      "text/plain": [
       "<matplotlib.figure.Figure at 0x235095d3cf8>"
      ]
     },
     "metadata": {},
     "output_type": "display_data"
    },
    {
     "data": {
      "text/plain": [
       "<matplotlib.figure.Figure at 0x235095d7898>"
      ]
     },
     "metadata": {},
     "output_type": "display_data"
    },
    {
     "data": {
      "text/plain": [
       "<matplotlib.figure.Figure at 0x235095e0ac8>"
      ]
     },
     "metadata": {},
     "output_type": "display_data"
    },
    {
     "data": {
      "text/plain": [
       "<matplotlib.figure.Figure at 0x2350e561e10>"
      ]
     },
     "metadata": {},
     "output_type": "display_data"
    },
    {
     "data": {
      "text/plain": [
       "<matplotlib.figure.Figure at 0x23509937908>"
      ]
     },
     "metadata": {},
     "output_type": "display_data"
    },
    {
     "data": {
      "text/plain": [
       "<matplotlib.figure.Figure at 0x2350ff22860>"
      ]
     },
     "metadata": {},
     "output_type": "display_data"
    },
    {
     "data": {
      "text/plain": [
       "<matplotlib.figure.Figure at 0x2352c59c4e0>"
      ]
     },
     "metadata": {},
     "output_type": "display_data"
    },
    {
     "data": {
      "text/plain": [
       "<matplotlib.figure.Figure at 0x2350e56ec88>"
      ]
     },
     "metadata": {},
     "output_type": "display_data"
    },
    {
     "data": {
      "text/plain": [
       "<matplotlib.figure.Figure at 0x2350f688e80>"
      ]
     },
     "metadata": {},
     "output_type": "display_data"
    },
    {
     "data": {
      "text/plain": [
       "<matplotlib.figure.Figure at 0x2350987f748>"
      ]
     },
     "metadata": {},
     "output_type": "display_data"
    },
    {
     "data": {
      "text/plain": [
       "<matplotlib.figure.Figure at 0x23509bf3f60>"
      ]
     },
     "metadata": {},
     "output_type": "display_data"
    },
    {
     "data": {
      "text/plain": [
       "<matplotlib.figure.Figure at 0x23509bf37b8>"
      ]
     },
     "metadata": {},
     "output_type": "display_data"
    },
    {
     "data": {
      "text/plain": [
       "<matplotlib.figure.Figure at 0x235129727f0>"
      ]
     },
     "metadata": {},
     "output_type": "display_data"
    },
    {
     "data": {
      "text/plain": [
       "<matplotlib.figure.Figure at 0x235120c3ac8>"
      ]
     },
     "metadata": {},
     "output_type": "display_data"
    },
    {
     "data": {
      "text/plain": [
       "<matplotlib.figure.Figure at 0x2352c594a90>"
      ]
     },
     "metadata": {},
     "output_type": "display_data"
    },
    {
     "data": {
      "text/plain": [
       "<matplotlib.figure.Figure at 0x23509857978>"
      ]
     },
     "metadata": {},
     "output_type": "display_data"
    },
    {
     "data": {
      "text/plain": [
       "<matplotlib.figure.Figure at 0x23509adbcc0>"
      ]
     },
     "metadata": {},
     "output_type": "display_data"
    },
    {
     "data": {
      "text/plain": [
       "<matplotlib.figure.Figure at 0x23509b58198>"
      ]
     },
     "metadata": {},
     "output_type": "display_data"
    },
    {
     "data": {
      "text/plain": [
       "<matplotlib.figure.Figure at 0x235096bf9b0>"
      ]
     },
     "metadata": {},
     "output_type": "display_data"
    },
    {
     "data": {
      "text/plain": [
       "<matplotlib.figure.Figure at 0x235099b08d0>"
      ]
     },
     "metadata": {},
     "output_type": "display_data"
    },
    {
     "data": {
      "text/plain": [
       "<matplotlib.figure.Figure at 0x235099c3a58>"
      ]
     },
     "metadata": {},
     "output_type": "display_data"
    },
    {
     "data": {
      "text/plain": [
       "<matplotlib.figure.Figure at 0x23509a97dd8>"
      ]
     },
     "metadata": {},
     "output_type": "display_data"
    },
    {
     "data": {
      "text/plain": [
       "<matplotlib.figure.Figure at 0x235099cf7b8>"
      ]
     },
     "metadata": {},
     "output_type": "display_data"
    },
    {
     "data": {
      "text/plain": [
       "<matplotlib.figure.Figure at 0x23509af75c0>"
      ]
     },
     "metadata": {},
     "output_type": "display_data"
    },
    {
     "data": {
      "text/plain": [
       "<matplotlib.figure.Figure at 0x235097d01d0>"
      ]
     },
     "metadata": {},
     "output_type": "display_data"
    },
    {
     "data": {
      "text/plain": [
       "<matplotlib.figure.Figure at 0x23509af7780>"
      ]
     },
     "metadata": {},
     "output_type": "display_data"
    },
    {
     "data": {
      "text/plain": [
       "<matplotlib.figure.Figure at 0x23509a0ca20>"
      ]
     },
     "metadata": {},
     "output_type": "display_data"
    },
    {
     "data": {
      "text/plain": [
       "<matplotlib.figure.Figure at 0x23509a971d0>"
      ]
     },
     "metadata": {},
     "output_type": "display_data"
    },
    {
     "data": {
      "text/plain": [
       "<matplotlib.figure.Figure at 0x23509916b70>"
      ]
     },
     "metadata": {},
     "output_type": "display_data"
    },
    {
     "data": {
      "text/plain": [
       "<matplotlib.figure.Figure at 0x23513a4ca58>"
      ]
     },
     "metadata": {},
     "output_type": "display_data"
    },
    {
     "data": {
      "text/plain": [
       "<matplotlib.figure.Figure at 0x2350e5202e8>"
      ]
     },
     "metadata": {},
     "output_type": "display_data"
    },
    {
     "data": {
      "text/plain": [
       "<matplotlib.figure.Figure at 0x23509a15a90>"
      ]
     },
     "metadata": {},
     "output_type": "display_data"
    },
    {
     "data": {
      "text/plain": [
       "<matplotlib.figure.Figure at 0x23509b564e0>"
      ]
     },
     "metadata": {},
     "output_type": "display_data"
    },
    {
     "data": {
      "text/plain": [
       "<matplotlib.figure.Figure at 0x23509b58630>"
      ]
     },
     "metadata": {},
     "output_type": "display_data"
    },
    {
     "data": {
      "text/plain": [
       "<matplotlib.figure.Figure at 0x2350f6890b8>"
      ]
     },
     "metadata": {},
     "output_type": "display_data"
    },
    {
     "data": {
      "text/plain": [
       "<matplotlib.figure.Figure at 0x23509bf3518>"
      ]
     },
     "metadata": {},
     "output_type": "display_data"
    },
    {
     "data": {
      "text/plain": [
       "<matplotlib.figure.Figure at 0x2350982c438>"
      ]
     },
     "metadata": {},
     "output_type": "display_data"
    },
    {
     "data": {
      "text/plain": [
       "<matplotlib.figure.Figure at 0x2350ff102e8>"
      ]
     },
     "metadata": {},
     "output_type": "display_data"
    },
    {
     "data": {
      "text/plain": [
       "<matplotlib.figure.Figure at 0x23509bb9c88>"
      ]
     },
     "metadata": {},
     "output_type": "display_data"
    },
    {
     "data": {
      "text/plain": [
       "<matplotlib.figure.Figure at 0x235099066a0>"
      ]
     },
     "metadata": {},
     "output_type": "display_data"
    },
    {
     "data": {
      "text/plain": [
       "<matplotlib.figure.Figure at 0x235098b8710>"
      ]
     },
     "metadata": {},
     "output_type": "display_data"
    },
    {
     "data": {
      "text/plain": [
       "<matplotlib.figure.Figure at 0x235097fca58>"
      ]
     },
     "metadata": {},
     "output_type": "display_data"
    },
    {
     "data": {
      "text/plain": [
       "<matplotlib.figure.Figure at 0x23509987828>"
      ]
     },
     "metadata": {},
     "output_type": "display_data"
    },
    {
     "data": {
      "text/plain": [
       "<matplotlib.figure.Figure at 0x235097345f8>"
      ]
     },
     "metadata": {},
     "output_type": "display_data"
    },
    {
     "data": {
      "text/plain": [
       "<matplotlib.figure.Figure at 0x235097b9dd8>"
      ]
     },
     "metadata": {},
     "output_type": "display_data"
    },
    {
     "data": {
      "text/plain": [
       "<matplotlib.figure.Figure at 0x2350985d358>"
      ]
     },
     "metadata": {},
     "output_type": "display_data"
    },
    {
     "data": {
      "text/plain": [
       "<matplotlib.figure.Figure at 0x23509740908>"
      ]
     },
     "metadata": {},
     "output_type": "display_data"
    },
    {
     "data": {
      "text/plain": [
       "<matplotlib.figure.Figure at 0x235098b36d8>"
      ]
     },
     "metadata": {},
     "output_type": "display_data"
    },
    {
     "data": {
      "text/plain": [
       "<matplotlib.figure.Figure at 0x23509b6e278>"
      ]
     },
     "metadata": {},
     "output_type": "display_data"
    },
    {
     "data": {
      "text/plain": [
       "<matplotlib.figure.Figure at 0x2350956c080>"
      ]
     },
     "metadata": {},
     "output_type": "display_data"
    },
    {
     "data": {
      "text/plain": [
       "<matplotlib.figure.Figure at 0x23509694240>"
      ]
     },
     "metadata": {},
     "output_type": "display_data"
    },
    {
     "data": {
      "text/plain": [
       "<matplotlib.figure.Figure at 0x235099f7710>"
      ]
     },
     "metadata": {},
     "output_type": "display_data"
    },
    {
     "data": {
      "text/plain": [
       "<matplotlib.figure.Figure at 0x23509539438>"
      ]
     },
     "metadata": {},
     "output_type": "display_data"
    },
    {
     "data": {
      "text/plain": [
       "<matplotlib.figure.Figure at 0x235095608d0>"
      ]
     },
     "metadata": {},
     "output_type": "display_data"
    },
    {
     "data": {
      "text/plain": [
       "<matplotlib.figure.Figure at 0x2350118f588>"
      ]
     },
     "metadata": {},
     "output_type": "display_data"
    },
    {
     "data": {
      "text/plain": [
       "<matplotlib.figure.Figure at 0x23509c03588>"
      ]
     },
     "metadata": {},
     "output_type": "display_data"
    },
    {
     "data": {
      "text/plain": [
       "<matplotlib.figure.Figure at 0x235099cfa58>"
      ]
     },
     "metadata": {},
     "output_type": "display_data"
    },
    {
     "data": {
      "text/plain": [
       "<matplotlib.figure.Figure at 0x235096995f8>"
      ]
     },
     "metadata": {},
     "output_type": "display_data"
    },
    {
     "data": {
      "text/plain": [
       "<matplotlib.figure.Figure at 0x23509e04160>"
      ]
     },
     "metadata": {},
     "output_type": "display_data"
    },
    {
     "data": {
      "text/plain": [
       "<matplotlib.figure.Figure at 0x235097bccf8>"
      ]
     },
     "metadata": {},
     "output_type": "display_data"
    },
    {
     "data": {
      "text/plain": [
       "<matplotlib.figure.Figure at 0x23509cba780>"
      ]
     },
     "metadata": {},
     "output_type": "display_data"
    },
    {
     "data": {
      "text/plain": [
       "<matplotlib.figure.Figure at 0x2352c5937f0>"
      ]
     },
     "metadata": {},
     "output_type": "display_data"
    },
    {
     "data": {
      "text/plain": [
       "<matplotlib.figure.Figure at 0x2350967c6a0>"
      ]
     },
     "metadata": {},
     "output_type": "display_data"
    },
    {
     "data": {
      "text/plain": [
       "<matplotlib.figure.Figure at 0x2351295bcf8>"
      ]
     },
     "metadata": {},
     "output_type": "display_data"
    },
    {
     "data": {
      "text/plain": [
       "<matplotlib.figure.Figure at 0x23509d7d828>"
      ]
     },
     "metadata": {},
     "output_type": "display_data"
    },
    {
     "data": {
      "text/plain": [
       "<matplotlib.figure.Figure at 0x235099e7400>"
      ]
     },
     "metadata": {},
     "output_type": "display_data"
    },
    {
     "data": {
      "text/plain": [
       "<matplotlib.figure.Figure at 0x23509d08748>"
      ]
     },
     "metadata": {},
     "output_type": "display_data"
    },
    {
     "data": {
      "text/plain": [
       "<matplotlib.figure.Figure at 0x23509caec18>"
      ]
     },
     "metadata": {},
     "output_type": "display_data"
    },
    {
     "data": {
      "text/plain": [
       "<matplotlib.figure.Figure at 0x23509d7e908>"
      ]
     },
     "metadata": {},
     "output_type": "display_data"
    },
    {
     "data": {
      "text/plain": [
       "<matplotlib.figure.Figure at 0x23509ab6630>"
      ]
     },
     "metadata": {},
     "output_type": "display_data"
    },
    {
     "data": {
      "text/plain": [
       "<matplotlib.figure.Figure at 0x235129494a8>"
      ]
     },
     "metadata": {},
     "output_type": "display_data"
    },
    {
     "data": {
      "text/plain": [
       "<matplotlib.figure.Figure at 0x23509c2db00>"
      ]
     },
     "metadata": {},
     "output_type": "display_data"
    },
    {
     "data": {
      "text/plain": [
       "<matplotlib.figure.Figure at 0x2350e5ade80>"
      ]
     },
     "metadata": {},
     "output_type": "display_data"
    },
    {
     "data": {
      "text/plain": [
       "<matplotlib.figure.Figure at 0x2350ff1eac8>"
      ]
     },
     "metadata": {},
     "output_type": "display_data"
    },
    {
     "data": {
      "text/plain": [
       "<matplotlib.figure.Figure at 0x23509c10828>"
      ]
     },
     "metadata": {},
     "output_type": "display_data"
    },
    {
     "data": {
      "text/plain": [
       "<matplotlib.figure.Figure at 0x235099842e8>"
      ]
     },
     "metadata": {},
     "output_type": "display_data"
    },
    {
     "data": {
      "text/plain": [
       "<matplotlib.figure.Figure at 0x23513a4ce48>"
      ]
     },
     "metadata": {},
     "output_type": "display_data"
    },
    {
     "data": {
      "text/plain": [
       "<matplotlib.figure.Figure at 0x235142b3be0>"
      ]
     },
     "metadata": {},
     "output_type": "display_data"
    },
    {
     "data": {
      "text/plain": [
       "<matplotlib.figure.Figure at 0x23513a2a5f8>"
      ]
     },
     "metadata": {},
     "output_type": "display_data"
    },
    {
     "data": {
      "text/plain": [
       "<matplotlib.figure.Figure at 0x23513a4fda0>"
      ]
     },
     "metadata": {},
     "output_type": "display_data"
    },
    {
     "data": {
      "text/plain": [
       "<matplotlib.figure.Figure at 0x235185e8a90>"
      ]
     },
     "metadata": {},
     "output_type": "display_data"
    },
    {
     "data": {
      "text/plain": [
       "<matplotlib.figure.Figure at 0x235185d9080>"
      ]
     },
     "metadata": {},
     "output_type": "display_data"
    },
    {
     "data": {
      "text/plain": [
       "<matplotlib.figure.Figure at 0x23513a4fd68>"
      ]
     },
     "metadata": {},
     "output_type": "display_data"
    },
    {
     "data": {
      "text/plain": [
       "<matplotlib.figure.Figure at 0x235120ffe10>"
      ]
     },
     "metadata": {},
     "output_type": "display_data"
    },
    {
     "data": {
      "text/plain": [
       "<matplotlib.figure.Figure at 0x235185e75f8>"
      ]
     },
     "metadata": {},
     "output_type": "display_data"
    },
    {
     "data": {
      "text/plain": [
       "<matplotlib.figure.Figure at 0x23518601438>"
      ]
     },
     "metadata": {},
     "output_type": "display_data"
    },
    {
     "data": {
      "text/plain": [
       "<matplotlib.figure.Figure at 0x2351863c160>"
      ]
     },
     "metadata": {},
     "output_type": "display_data"
    },
    {
     "data": {
      "text/plain": [
       "<matplotlib.figure.Figure at 0x235186f12b0>"
      ]
     },
     "metadata": {},
     "output_type": "display_data"
    },
    {
     "data": {
      "text/plain": [
       "<matplotlib.figure.Figure at 0x235186f1b00>"
      ]
     },
     "metadata": {},
     "output_type": "display_data"
    },
    {
     "data": {
      "text/plain": [
       "<matplotlib.figure.Figure at 0x235186c09b0>"
      ]
     },
     "metadata": {},
     "output_type": "display_data"
    },
    {
     "data": {
      "text/plain": [
       "<matplotlib.figure.Figure at 0x23518753a20>"
      ]
     },
     "metadata": {},
     "output_type": "display_data"
    },
    {
     "data": {
      "text/plain": [
       "<matplotlib.figure.Figure at 0x2351879d0b8>"
      ]
     },
     "metadata": {},
     "output_type": "display_data"
    },
    {
     "data": {
      "text/plain": [
       "<matplotlib.figure.Figure at 0x2351877f898>"
      ]
     },
     "metadata": {},
     "output_type": "display_data"
    },
    {
     "data": {
      "text/plain": [
       "<matplotlib.figure.Figure at 0x235188529e8>"
      ]
     },
     "metadata": {},
     "output_type": "display_data"
    },
    {
     "data": {
      "text/plain": [
       "<matplotlib.figure.Figure at 0x235187767b8>"
      ]
     },
     "metadata": {},
     "output_type": "display_data"
    },
    {
     "data": {
      "text/plain": [
       "<matplotlib.figure.Figure at 0x235120c76d8>"
      ]
     },
     "metadata": {},
     "output_type": "display_data"
    },
    {
     "data": {
      "text/plain": [
       "<matplotlib.figure.Figure at 0x2351859be48>"
      ]
     },
     "metadata": {},
     "output_type": "display_data"
    },
    {
     "data": {
      "text/plain": [
       "<matplotlib.figure.Figure at 0x2350e514e80>"
      ]
     },
     "metadata": {},
     "output_type": "display_data"
    },
    {
     "data": {
      "text/plain": [
       "<matplotlib.figure.Figure at 0x23509835cf8>"
      ]
     },
     "metadata": {},
     "output_type": "display_data"
    },
    {
     "data": {
      "text/plain": [
       "<matplotlib.figure.Figure at 0x235142b3a20>"
      ]
     },
     "metadata": {},
     "output_type": "display_data"
    },
    {
     "data": {
      "text/plain": [
       "<matplotlib.figure.Figure at 0x23518844da0>"
      ]
     },
     "metadata": {},
     "output_type": "display_data"
    },
    {
     "data": {
      "text/plain": [
       "<matplotlib.figure.Figure at 0x2351295bc88>"
      ]
     },
     "metadata": {},
     "output_type": "display_data"
    },
    {
     "data": {
      "text/plain": [
       "<matplotlib.figure.Figure at 0x2352c594978>"
      ]
     },
     "metadata": {},
     "output_type": "display_data"
    },
    {
     "data": {
      "text/plain": [
       "<matplotlib.figure.Figure at 0x23509d918d0>"
      ]
     },
     "metadata": {},
     "output_type": "display_data"
    },
    {
     "data": {
      "text/plain": [
       "<matplotlib.figure.Figure at 0x23509d7dd68>"
      ]
     },
     "metadata": {},
     "output_type": "display_data"
    },
    {
     "data": {
      "text/plain": [
       "<matplotlib.figure.Figure at 0x23509c716d8>"
      ]
     },
     "metadata": {},
     "output_type": "display_data"
    },
    {
     "data": {
      "text/plain": [
       "<matplotlib.figure.Figure at 0x2350e5a9eb8>"
      ]
     },
     "metadata": {},
     "output_type": "display_data"
    },
    {
     "data": {
      "text/plain": [
       "<matplotlib.figure.Figure at 0x2352c574eb8>"
      ]
     },
     "metadata": {},
     "output_type": "display_data"
    },
    {
     "data": {
      "text/plain": [
       "<matplotlib.figure.Figure at 0x235094afef0>"
      ]
     },
     "metadata": {},
     "output_type": "display_data"
    },
    {
     "data": {
      "text/plain": [
       "<matplotlib.figure.Figure at 0x235120f6cf8>"
      ]
     },
     "metadata": {},
     "output_type": "display_data"
    },
    {
     "data": {
      "text/plain": [
       "<matplotlib.figure.Figure at 0x235095ccc88>"
      ]
     },
     "metadata": {},
     "output_type": "display_data"
    },
    {
     "data": {
      "text/plain": [
       "<matplotlib.figure.Figure at 0x235096e4a58>"
      ]
     },
     "metadata": {},
     "output_type": "display_data"
    },
    {
     "data": {
      "text/plain": [
       "<matplotlib.figure.Figure at 0x235094e1320>"
      ]
     },
     "metadata": {},
     "output_type": "display_data"
    },
    {
     "data": {
      "text/plain": [
       "<matplotlib.figure.Figure at 0x23509984dd8>"
      ]
     },
     "metadata": {},
     "output_type": "display_data"
    },
    {
     "data": {
      "text/plain": [
       "<matplotlib.figure.Figure at 0x23509560a20>"
      ]
     },
     "metadata": {},
     "output_type": "display_data"
    },
    {
     "data": {
      "text/plain": [
       "<matplotlib.figure.Figure at 0x23509547550>"
      ]
     },
     "metadata": {},
     "output_type": "display_data"
    },
    {
     "data": {
      "text/plain": [
       "<matplotlib.figure.Figure at 0x23509ab63c8>"
      ]
     },
     "metadata": {},
     "output_type": "display_data"
    },
    {
     "data": {
      "text/plain": [
       "<matplotlib.figure.Figure at 0x23509547b38>"
      ]
     },
     "metadata": {},
     "output_type": "display_data"
    },
    {
     "data": {
      "text/plain": [
       "<matplotlib.figure.Figure at 0x235095399e8>"
      ]
     },
     "metadata": {},
     "output_type": "display_data"
    },
    {
     "data": {
      "text/plain": [
       "<matplotlib.figure.Figure at 0x23509964780>"
      ]
     },
     "metadata": {},
     "output_type": "display_data"
    },
    {
     "data": {
      "text/plain": [
       "<matplotlib.figure.Figure at 0x23509603780>"
      ]
     },
     "metadata": {},
     "output_type": "display_data"
    },
    {
     "data": {
      "text/plain": [
       "<matplotlib.figure.Figure at 0x23509994a20>"
      ]
     },
     "metadata": {},
     "output_type": "display_data"
    },
    {
     "data": {
      "text/plain": [
       "<matplotlib.figure.Figure at 0x2350985d2b0>"
      ]
     },
     "metadata": {},
     "output_type": "display_data"
    },
    {
     "data": {
      "text/plain": [
       "<matplotlib.figure.Figure at 0x235095d7358>"
      ]
     },
     "metadata": {},
     "output_type": "display_data"
    },
    {
     "data": {
      "text/plain": [
       "<matplotlib.figure.Figure at 0x23509b94b00>"
      ]
     },
     "metadata": {},
     "output_type": "display_data"
    },
    {
     "data": {
      "text/plain": [
       "<matplotlib.figure.Figure at 0x23509c5b0f0>"
      ]
     },
     "metadata": {},
     "output_type": "display_data"
    },
    {
     "data": {
      "text/plain": [
       "<matplotlib.figure.Figure at 0x2350967ccc0>"
      ]
     },
     "metadata": {},
     "output_type": "display_data"
    },
    {
     "data": {
      "text/plain": [
       "<matplotlib.figure.Figure at 0x23509bb9780>"
      ]
     },
     "metadata": {},
     "output_type": "display_data"
    },
    {
     "data": {
      "text/plain": [
       "<matplotlib.figure.Figure at 0x235099b0320>"
      ]
     },
     "metadata": {},
     "output_type": "display_data"
    },
    {
     "data": {
      "text/plain": [
       "<matplotlib.figure.Figure at 0x23512972b38>"
      ]
     },
     "metadata": {},
     "output_type": "display_data"
    },
    {
     "data": {
      "text/plain": [
       "<matplotlib.figure.Figure at 0x235099a4cf8>"
      ]
     },
     "metadata": {},
     "output_type": "display_data"
    },
    {
     "data": {
      "text/plain": [
       "<matplotlib.figure.Figure at 0x235120d2cf8>"
      ]
     },
     "metadata": {},
     "output_type": "display_data"
    },
    {
     "data": {
      "text/plain": [
       "<matplotlib.figure.Figure at 0x235098f9cc0>"
      ]
     },
     "metadata": {},
     "output_type": "display_data"
    },
    {
     "data": {
      "text/plain": [
       "<matplotlib.figure.Figure at 0x235097d7978>"
      ]
     },
     "metadata": {},
     "output_type": "display_data"
    },
    {
     "data": {
      "text/plain": [
       "<matplotlib.figure.Figure at 0x23509b51be0>"
      ]
     },
     "metadata": {},
     "output_type": "display_data"
    },
    {
     "data": {
      "text/plain": [
       "<matplotlib.figure.Figure at 0x23509cbaa90>"
      ]
     },
     "metadata": {},
     "output_type": "display_data"
    },
    {
     "data": {
      "text/plain": [
       "<matplotlib.figure.Figure at 0x23509b6eb70>"
      ]
     },
     "metadata": {},
     "output_type": "display_data"
    },
    {
     "data": {
      "text/plain": [
       "<matplotlib.figure.Figure at 0x2350987f5c0>"
      ]
     },
     "metadata": {},
     "output_type": "display_data"
    },
    {
     "data": {
      "text/plain": [
       "<matplotlib.figure.Figure at 0x235186f3160>"
      ]
     },
     "metadata": {},
     "output_type": "display_data"
    },
    {
     "data": {
      "text/plain": [
       "<matplotlib.figure.Figure at 0x235186012e8>"
      ]
     },
     "metadata": {},
     "output_type": "display_data"
    },
    {
     "data": {
      "text/plain": [
       "<matplotlib.figure.Figure at 0x235186080f0>"
      ]
     },
     "metadata": {},
     "output_type": "display_data"
    },
    {
     "data": {
      "text/plain": [
       "<matplotlib.figure.Figure at 0x23509a7e128>"
      ]
     },
     "metadata": {},
     "output_type": "display_data"
    },
    {
     "data": {
      "text/plain": [
       "<matplotlib.figure.Figure at 0x23518657e10>"
      ]
     },
     "metadata": {},
     "output_type": "display_data"
    },
    {
     "data": {
      "text/plain": [
       "<matplotlib.figure.Figure at 0x23518743860>"
      ]
     },
     "metadata": {},
     "output_type": "display_data"
    },
    {
     "data": {
      "text/plain": [
       "<matplotlib.figure.Figure at 0x23509b471d0>"
      ]
     },
     "metadata": {},
     "output_type": "display_data"
    },
    {
     "data": {
      "text/plain": [
       "<matplotlib.figure.Figure at 0x2351881b4a8>"
      ]
     },
     "metadata": {},
     "output_type": "display_data"
    },
    {
     "data": {
      "text/plain": [
       "<matplotlib.figure.Figure at 0x2350e5025f8>"
      ]
     },
     "metadata": {},
     "output_type": "display_data"
    },
    {
     "data": {
      "text/plain": [
       "<matplotlib.figure.Figure at 0x2351877f908>"
      ]
     },
     "metadata": {},
     "output_type": "display_data"
    },
    {
     "data": {
      "text/plain": [
       "<matplotlib.figure.Figure at 0x23509966c88>"
      ]
     },
     "metadata": {},
     "output_type": "display_data"
    },
    {
     "data": {
      "text/plain": [
       "<matplotlib.figure.Figure at 0x23518744940>"
      ]
     },
     "metadata": {},
     "output_type": "display_data"
    },
    {
     "data": {
      "text/plain": [
       "<matplotlib.figure.Figure at 0x23509b56b00>"
      ]
     },
     "metadata": {},
     "output_type": "display_data"
    },
    {
     "data": {
      "text/plain": [
       "<matplotlib.figure.Figure at 0x235188dbf60>"
      ]
     },
     "metadata": {},
     "output_type": "display_data"
    },
    {
     "data": {
      "text/plain": [
       "<matplotlib.figure.Figure at 0x23518802f28>"
      ]
     },
     "metadata": {},
     "output_type": "display_data"
    },
    {
     "data": {
      "text/plain": [
       "<matplotlib.figure.Figure at 0x235189bb3c8>"
      ]
     },
     "metadata": {},
     "output_type": "display_data"
    },
    {
     "data": {
      "text/plain": [
       "<matplotlib.figure.Figure at 0x23518903f60>"
      ]
     },
     "metadata": {},
     "output_type": "display_data"
    },
    {
     "data": {
      "text/plain": [
       "<matplotlib.figure.Figure at 0x23518a1ee80>"
      ]
     },
     "metadata": {},
     "output_type": "display_data"
    },
    {
     "data": {
      "text/plain": [
       "<matplotlib.figure.Figure at 0x23518744f98>"
      ]
     },
     "metadata": {},
     "output_type": "display_data"
    },
    {
     "data": {
      "text/plain": [
       "<matplotlib.figure.Figure at 0x23518a91b00>"
      ]
     },
     "metadata": {},
     "output_type": "display_data"
    },
    {
     "data": {
      "text/plain": [
       "<matplotlib.figure.Figure at 0x235189c4978>"
      ]
     },
     "metadata": {},
     "output_type": "display_data"
    },
    {
     "data": {
      "text/plain": [
       "<matplotlib.figure.Figure at 0x23518a6d400>"
      ]
     },
     "metadata": {},
     "output_type": "display_data"
    },
    {
     "data": {
      "text/plain": [
       "<matplotlib.figure.Figure at 0x23518ad1518>"
      ]
     },
     "metadata": {},
     "output_type": "display_data"
    },
    {
     "data": {
      "text/plain": [
       "<matplotlib.figure.Figure at 0x235185ebd30>"
      ]
     },
     "metadata": {},
     "output_type": "display_data"
    },
    {
     "data": {
      "text/plain": [
       "<matplotlib.figure.Figure at 0x2351864af60>"
      ]
     },
     "metadata": {},
     "output_type": "display_data"
    },
    {
     "data": {
      "text/plain": [
       "<matplotlib.figure.Figure at 0x2350e561160>"
      ]
     },
     "metadata": {},
     "output_type": "display_data"
    },
    {
     "data": {
      "text/plain": [
       "<matplotlib.figure.Figure at 0x23509970630>"
      ]
     },
     "metadata": {},
     "output_type": "display_data"
    },
    {
     "data": {
      "text/plain": [
       "<matplotlib.figure.Figure at 0x235095b8ef0>"
      ]
     },
     "metadata": {},
     "output_type": "display_data"
    },
    {
     "data": {
      "text/plain": [
       "<matplotlib.figure.Figure at 0x235189e1b00>"
      ]
     },
     "metadata": {},
     "output_type": "display_data"
    },
    {
     "data": {
      "text/plain": [
       "<matplotlib.figure.Figure at 0x235096a6080>"
      ]
     },
     "metadata": {},
     "output_type": "display_data"
    },
    {
     "data": {
      "text/plain": [
       "<matplotlib.figure.Figure at 0x23509a7e7f0>"
      ]
     },
     "metadata": {},
     "output_type": "display_data"
    },
    {
     "data": {
      "text/plain": [
       "<matplotlib.figure.Figure at 0x235120d2da0>"
      ]
     },
     "metadata": {},
     "output_type": "display_data"
    },
    {
     "data": {
      "text/plain": [
       "<matplotlib.figure.Figure at 0x23513a29cc0>"
      ]
     },
     "metadata": {},
     "output_type": "display_data"
    },
    {
     "data": {
      "text/plain": [
       "<matplotlib.figure.Figure at 0x235099c3390>"
      ]
     },
     "metadata": {},
     "output_type": "display_data"
    },
    {
     "data": {
      "text/plain": [
       "<matplotlib.figure.Figure at 0x2350f6ae748>"
      ]
     },
     "metadata": {},
     "output_type": "display_data"
    },
    {
     "data": {
      "text/plain": [
       "<matplotlib.figure.Figure at 0x2350e57c4a8>"
      ]
     },
     "metadata": {},
     "output_type": "display_data"
    },
    {
     "data": {
      "text/plain": [
       "<matplotlib.figure.Figure at 0x235098b8208>"
      ]
     },
     "metadata": {},
     "output_type": "display_data"
    },
    {
     "data": {
      "text/plain": [
       "<matplotlib.figure.Figure at 0x23509df7c18>"
      ]
     },
     "metadata": {},
     "output_type": "display_data"
    },
    {
     "data": {
      "text/plain": [
       "<matplotlib.figure.Figure at 0x2350e51bfd0>"
      ]
     },
     "metadata": {},
     "output_type": "display_data"
    },
    {
     "data": {
      "text/plain": [
       "<matplotlib.figure.Figure at 0x2350984b358>"
      ]
     },
     "metadata": {},
     "output_type": "display_data"
    },
    {
     "data": {
      "text/plain": [
       "<matplotlib.figure.Figure at 0x235099947f0>"
      ]
     },
     "metadata": {},
     "output_type": "display_data"
    },
    {
     "data": {
      "text/plain": [
       "<matplotlib.figure.Figure at 0x23509a15da0>"
      ]
     },
     "metadata": {},
     "output_type": "display_data"
    },
    {
     "data": {
      "text/plain": [
       "<matplotlib.figure.Figure at 0x23509987d30>"
      ]
     },
     "metadata": {},
     "output_type": "display_data"
    },
    {
     "data": {
      "text/plain": [
       "<matplotlib.figure.Figure at 0x235099d5c88>"
      ]
     },
     "metadata": {},
     "output_type": "display_data"
    },
    {
     "data": {
      "text/plain": [
       "<matplotlib.figure.Figure at 0x235098b39b0>"
      ]
     },
     "metadata": {},
     "output_type": "display_data"
    },
    {
     "data": {
      "text/plain": [
       "<matplotlib.figure.Figure at 0x235097c6ef0>"
      ]
     },
     "metadata": {},
     "output_type": "display_data"
    },
    {
     "data": {
      "text/plain": [
       "<matplotlib.figure.Figure at 0x23509a4d240>"
      ]
     },
     "metadata": {},
     "output_type": "display_data"
    },
    {
     "data": {
      "text/plain": [
       "<matplotlib.figure.Figure at 0x23509841668>"
      ]
     },
     "metadata": {},
     "output_type": "display_data"
    },
    {
     "data": {
      "text/plain": [
       "<matplotlib.figure.Figure at 0x23509d08940>"
      ]
     },
     "metadata": {},
     "output_type": "display_data"
    },
    {
     "data": {
      "text/plain": [
       "<matplotlib.figure.Figure at 0x23509d155c0>"
      ]
     },
     "metadata": {},
     "output_type": "display_data"
    },
    {
     "data": {
      "text/plain": [
       "<matplotlib.figure.Figure at 0x23509c40240>"
      ]
     },
     "metadata": {},
     "output_type": "display_data"
    },
    {
     "data": {
      "text/plain": [
       "<matplotlib.figure.Figure at 0x235094afb70>"
      ]
     },
     "metadata": {},
     "output_type": "display_data"
    },
    {
     "data": {
      "text/plain": [
       "<matplotlib.figure.Figure at 0x2352d665160>"
      ]
     },
     "metadata": {},
     "output_type": "display_data"
    },
    {
     "data": {
      "text/plain": [
       "<matplotlib.figure.Figure at 0x23509c65c88>"
      ]
     },
     "metadata": {},
     "output_type": "display_data"
    },
    {
     "data": {
      "text/plain": [
       "<matplotlib.figure.Figure at 0x23509e04ba8>"
      ]
     },
     "metadata": {},
     "output_type": "display_data"
    },
    {
     "data": {
      "text/plain": [
       "<matplotlib.figure.Figure at 0x2350e581828>"
      ]
     },
     "metadata": {},
     "output_type": "display_data"
    },
    {
     "data": {
      "text/plain": [
       "<matplotlib.figure.Figure at 0x23511028978>"
      ]
     },
     "metadata": {},
     "output_type": "display_data"
    },
    {
     "data": {
      "text/plain": [
       "<matplotlib.figure.Figure at 0x23509c652e8>"
      ]
     },
     "metadata": {},
     "output_type": "display_data"
    },
    {
     "data": {
      "text/plain": [
       "<matplotlib.figure.Figure at 0x2350992d240>"
      ]
     },
     "metadata": {},
     "output_type": "display_data"
    },
    {
     "data": {
      "text/plain": [
       "<matplotlib.figure.Figure at 0x23513a4f2b0>"
      ]
     },
     "metadata": {},
     "output_type": "display_data"
    },
    {
     "data": {
      "text/plain": [
       "<matplotlib.figure.Figure at 0x235188686a0>"
      ]
     },
     "metadata": {},
     "output_type": "display_data"
    },
    {
     "data": {
      "text/plain": [
       "<matplotlib.figure.Figure at 0x23518776f98>"
      ]
     },
     "metadata": {},
     "output_type": "display_data"
    },
    {
     "data": {
      "text/plain": [
       "<matplotlib.figure.Figure at 0x23518928630>"
      ]
     },
     "metadata": {},
     "output_type": "display_data"
    },
    {
     "data": {
      "text/plain": [
       "<matplotlib.figure.Figure at 0x235186e8780>"
      ]
     },
     "metadata": {},
     "output_type": "display_data"
    },
    {
     "data": {
      "text/plain": [
       "<matplotlib.figure.Figure at 0x23509a3f208>"
      ]
     },
     "metadata": {},
     "output_type": "display_data"
    },
    {
     "data": {
      "text/plain": [
       "<matplotlib.figure.Figure at 0x235098fda90>"
      ]
     },
     "metadata": {},
     "output_type": "display_data"
    },
    {
     "data": {
      "text/plain": [
       "<matplotlib.figure.Figure at 0x23518846ef0>"
      ]
     },
     "metadata": {},
     "output_type": "display_data"
    },
    {
     "data": {
      "text/plain": [
       "<matplotlib.figure.Figure at 0x2350e517908>"
      ]
     },
     "metadata": {},
     "output_type": "display_data"
    },
    {
     "data": {
      "text/plain": [
       "<matplotlib.figure.Figure at 0x2350e5200b8>"
      ]
     },
     "metadata": {},
     "output_type": "display_data"
    },
    {
     "data": {
      "text/plain": [
       "<matplotlib.figure.Figure at 0x23509c607f0>"
      ]
     },
     "metadata": {},
     "output_type": "display_data"
    },
    {
     "data": {
      "text/plain": [
       "<matplotlib.figure.Figure at 0x23513a4c080>"
      ]
     },
     "metadata": {},
     "output_type": "display_data"
    },
    {
     "data": {
      "text/plain": [
       "<matplotlib.figure.Figure at 0x23509964240>"
      ]
     },
     "metadata": {},
     "output_type": "display_data"
    },
    {
     "data": {
      "text/plain": [
       "<matplotlib.figure.Figure at 0x23509a46dd8>"
      ]
     },
     "metadata": {},
     "output_type": "display_data"
    },
    {
     "data": {
      "text/plain": [
       "<matplotlib.figure.Figure at 0x235097d7550>"
      ]
     },
     "metadata": {},
     "output_type": "display_data"
    },
    {
     "data": {
      "text/plain": [
       "<matplotlib.figure.Figure at 0x2351863c8d0>"
      ]
     },
     "metadata": {},
     "output_type": "display_data"
    },
    {
     "data": {
      "text/plain": [
       "<matplotlib.figure.Figure at 0x23518a7bef0>"
      ]
     },
     "metadata": {},
     "output_type": "display_data"
    },
    {
     "data": {
      "text/plain": [
       "<matplotlib.figure.Figure at 0x23518a7b898>"
      ]
     },
     "metadata": {},
     "output_type": "display_data"
    },
    {
     "data": {
      "text/plain": [
       "<matplotlib.figure.Figure at 0x23527c11d68>"
      ]
     },
     "metadata": {},
     "output_type": "display_data"
    },
    {
     "data": {
      "text/plain": [
       "<matplotlib.figure.Figure at 0x23527c262b0>"
      ]
     },
     "metadata": {},
     "output_type": "display_data"
    },
    {
     "data": {
      "text/plain": [
       "<matplotlib.figure.Figure at 0x235189b7470>"
      ]
     },
     "metadata": {},
     "output_type": "display_data"
    },
    {
     "data": {
      "text/plain": [
       "<matplotlib.figure.Figure at 0x235188fe4e0>"
      ]
     },
     "metadata": {},
     "output_type": "display_data"
    },
    {
     "data": {
      "text/plain": [
       "<matplotlib.figure.Figure at 0x23527beb908>"
      ]
     },
     "metadata": {},
     "output_type": "display_data"
    },
    {
     "data": {
      "text/plain": [
       "<matplotlib.figure.Figure at 0x23527c85a20>"
      ]
     },
     "metadata": {},
     "output_type": "display_data"
    },
    {
     "data": {
      "text/plain": [
       "<matplotlib.figure.Figure at 0x235189c39b0>"
      ]
     },
     "metadata": {},
     "output_type": "display_data"
    },
    {
     "data": {
      "text/plain": [
       "<matplotlib.figure.Figure at 0x235189d4198>"
      ]
     },
     "metadata": {},
     "output_type": "display_data"
    },
    {
     "data": {
      "text/plain": [
       "<matplotlib.figure.Figure at 0x23518a1eeb8>"
      ]
     },
     "metadata": {},
     "output_type": "display_data"
    },
    {
     "data": {
      "text/plain": [
       "<matplotlib.figure.Figure at 0x23527c44f28>"
      ]
     },
     "metadata": {},
     "output_type": "display_data"
    },
    {
     "data": {
      "text/plain": [
       "<matplotlib.figure.Figure at 0x23518903940>"
      ]
     },
     "metadata": {},
     "output_type": "display_data"
    },
    {
     "data": {
      "text/plain": [
       "<matplotlib.figure.Figure at 0x23527d9a710>"
      ]
     },
     "metadata": {},
     "output_type": "display_data"
    },
    {
     "data": {
      "text/plain": [
       "<matplotlib.figure.Figure at 0x23527d7ae80>"
      ]
     },
     "metadata": {},
     "output_type": "display_data"
    },
    {
     "data": {
      "text/plain": [
       "<matplotlib.figure.Figure at 0x23527c26668>"
      ]
     },
     "metadata": {},
     "output_type": "display_data"
    },
    {
     "data": {
      "text/plain": [
       "<matplotlib.figure.Figure at 0x23527c119e8>"
      ]
     },
     "metadata": {},
     "output_type": "display_data"
    },
    {
     "data": {
      "text/plain": [
       "<matplotlib.figure.Figure at 0x23527d9a0f0>"
      ]
     },
     "metadata": {},
     "output_type": "display_data"
    },
    {
     "data": {
      "text/plain": [
       "<matplotlib.figure.Figure at 0x235188b80f0>"
      ]
     },
     "metadata": {},
     "output_type": "display_data"
    },
    {
     "data": {
      "text/plain": [
       "<matplotlib.figure.Figure at 0x23518846cf8>"
      ]
     },
     "metadata": {},
     "output_type": "display_data"
    },
    {
     "data": {
      "text/plain": [
       "<matplotlib.figure.Figure at 0x23527bb3710>"
      ]
     },
     "metadata": {},
     "output_type": "display_data"
    },
    {
     "data": {
      "text/plain": [
       "<matplotlib.figure.Figure at 0x2351294fd68>"
      ]
     },
     "metadata": {},
     "output_type": "display_data"
    },
    {
     "data": {
      "text/plain": [
       "<matplotlib.figure.Figure at 0x235189943c8>"
      ]
     },
     "metadata": {},
     "output_type": "display_data"
    },
    {
     "data": {
      "text/plain": [
       "<matplotlib.figure.Figure at 0x235099a3128>"
      ]
     },
     "metadata": {},
     "output_type": "display_data"
    },
    {
     "data": {
      "text/plain": [
       "<matplotlib.figure.Figure at 0x2350e589c88>"
      ]
     },
     "metadata": {},
     "output_type": "display_data"
    },
    {
     "data": {
      "text/plain": [
       "<matplotlib.figure.Figure at 0x2350e5ad940>"
      ]
     },
     "metadata": {},
     "output_type": "display_data"
    },
    {
     "data": {
      "text/plain": [
       "<matplotlib.figure.Figure at 0x2350955b518>"
      ]
     },
     "metadata": {},
     "output_type": "display_data"
    },
    {
     "data": {
      "text/plain": [
       "<matplotlib.figure.Figure at 0x2350e581be0>"
      ]
     },
     "metadata": {},
     "output_type": "display_data"
    },
    {
     "data": {
      "text/plain": [
       "<matplotlib.figure.Figure at 0x2351863cd68>"
      ]
     },
     "metadata": {},
     "output_type": "display_data"
    },
    {
     "data": {
      "text/plain": [
       "<matplotlib.figure.Figure at 0x235186d3438>"
      ]
     },
     "metadata": {},
     "output_type": "display_data"
    },
    {
     "data": {
      "text/plain": [
       "<matplotlib.figure.Figure at 0x23509c02940>"
      ]
     },
     "metadata": {},
     "output_type": "display_data"
    },
    {
     "data": {
      "text/plain": [
       "<matplotlib.figure.Figure at 0x23509835518>"
      ]
     },
     "metadata": {},
     "output_type": "display_data"
    },
    {
     "data": {
      "text/plain": [
       "<matplotlib.figure.Figure at 0x2350e517048>"
      ]
     },
     "metadata": {},
     "output_type": "display_data"
    },
    {
     "data": {
      "text/plain": [
       "<matplotlib.figure.Figure at 0x235185d9a58>"
      ]
     },
     "metadata": {},
     "output_type": "display_data"
    },
    {
     "data": {
      "text/plain": [
       "<matplotlib.figure.Figure at 0x2351101b550>"
      ]
     },
     "metadata": {},
     "output_type": "display_data"
    },
    {
     "data": {
      "text/plain": [
       "<matplotlib.figure.Figure at 0x23509c40eb8>"
      ]
     },
     "metadata": {},
     "output_type": "display_data"
    },
    {
     "data": {
      "text/plain": [
       "<matplotlib.figure.Figure at 0x235097a1780>"
      ]
     },
     "metadata": {},
     "output_type": "display_data"
    },
    {
     "data": {
      "text/plain": [
       "<matplotlib.figure.Figure at 0x23518844ef0>"
      ]
     },
     "metadata": {},
     "output_type": "display_data"
    },
    {
     "data": {
      "text/plain": [
       "<matplotlib.figure.Figure at 0x23509bb9710>"
      ]
     },
     "metadata": {},
     "output_type": "display_data"
    },
    {
     "data": {
      "text/plain": [
       "<matplotlib.figure.Figure at 0x235098462e8>"
      ]
     },
     "metadata": {},
     "output_type": "display_data"
    },
    {
     "data": {
      "text/plain": [
       "<matplotlib.figure.Figure at 0x235120fff98>"
      ]
     },
     "metadata": {},
     "output_type": "display_data"
    },
    {
     "data": {
      "text/plain": [
       "<matplotlib.figure.Figure at 0x2350954c438>"
      ]
     },
     "metadata": {},
     "output_type": "display_data"
    },
    {
     "data": {
      "text/plain": [
       "<matplotlib.figure.Figure at 0x2350f6888d0>"
      ]
     },
     "metadata": {},
     "output_type": "display_data"
    },
    {
     "data": {
      "text/plain": [
       "<matplotlib.figure.Figure at 0x23509b561d0>"
      ]
     },
     "metadata": {},
     "output_type": "display_data"
    },
    {
     "data": {
      "text/plain": [
       "<matplotlib.figure.Figure at 0x235142c8dd8>"
      ]
     },
     "metadata": {},
     "output_type": "display_data"
    },
    {
     "data": {
      "text/plain": [
       "<matplotlib.figure.Figure at 0x23509aa4e48>"
      ]
     },
     "metadata": {},
     "output_type": "display_data"
    },
    {
     "data": {
      "text/plain": [
       "<matplotlib.figure.Figure at 0x23509849940>"
      ]
     },
     "metadata": {},
     "output_type": "display_data"
    },
    {
     "data": {
      "text/plain": [
       "<matplotlib.figure.Figure at 0x2351296cc50>"
      ]
     },
     "metadata": {},
     "output_type": "display_data"
    },
    {
     "data": {
      "text/plain": [
       "<matplotlib.figure.Figure at 0x235097c69b0>"
      ]
     },
     "metadata": {},
     "output_type": "display_data"
    },
    {
     "data": {
      "text/plain": [
       "<matplotlib.figure.Figure at 0x2351864a6d8>"
      ]
     },
     "metadata": {},
     "output_type": "display_data"
    },
    {
     "data": {
      "text/plain": [
       "<matplotlib.figure.Figure at 0x23509ac9b38>"
      ]
     },
     "metadata": {},
     "output_type": "display_data"
    },
    {
     "data": {
      "text/plain": [
       "<matplotlib.figure.Figure at 0x23518658b38>"
      ]
     },
     "metadata": {},
     "output_type": "display_data"
    },
    {
     "data": {
      "text/plain": [
       "<matplotlib.figure.Figure at 0x23518ad56a0>"
      ]
     },
     "metadata": {},
     "output_type": "display_data"
    },
    {
     "data": {
      "text/plain": [
       "<matplotlib.figure.Figure at 0x23518a7bcf8>"
      ]
     },
     "metadata": {},
     "output_type": "display_data"
    },
    {
     "data": {
      "text/plain": [
       "<matplotlib.figure.Figure at 0x2352c59c630>"
      ]
     },
     "metadata": {},
     "output_type": "display_data"
    },
    {
     "data": {
      "text/plain": [
       "<matplotlib.figure.Figure at 0x23518a99ac8>"
      ]
     },
     "metadata": {},
     "output_type": "display_data"
    },
    {
     "data": {
      "text/plain": [
       "<matplotlib.figure.Figure at 0x23509e16518>"
      ]
     },
     "metadata": {},
     "output_type": "display_data"
    },
    {
     "data": {
      "text/plain": [
       "<matplotlib.figure.Figure at 0x2350e4ef390>"
      ]
     },
     "metadata": {},
     "output_type": "display_data"
    },
    {
     "data": {
      "text/plain": [
       "<matplotlib.figure.Figure at 0x235186082b0>"
      ]
     },
     "metadata": {},
     "output_type": "display_data"
    },
    {
     "data": {
      "text/plain": [
       "<matplotlib.figure.Figure at 0x23509b6ea90>"
      ]
     },
     "metadata": {},
     "output_type": "display_data"
    },
    {
     "data": {
      "text/plain": [
       "<matplotlib.figure.Figure at 0x23527c35940>"
      ]
     },
     "metadata": {},
     "output_type": "display_data"
    },
    {
     "data": {
      "text/plain": [
       "<matplotlib.figure.Figure at 0x23527bfacf8>"
      ]
     },
     "metadata": {},
     "output_type": "display_data"
    },
    {
     "data": {
      "text/plain": [
       "<matplotlib.figure.Figure at 0x23527bb2208>"
      ]
     },
     "metadata": {},
     "output_type": "display_data"
    },
    {
     "data": {
      "text/plain": [
       "<matplotlib.figure.Figure at 0x2351859f5f8>"
      ]
     },
     "metadata": {},
     "output_type": "display_data"
    },
    {
     "data": {
      "text/plain": [
       "<matplotlib.figure.Figure at 0x23518924c18>"
      ]
     },
     "metadata": {},
     "output_type": "display_data"
    },
    {
     "data": {
      "text/plain": [
       "<matplotlib.figure.Figure at 0x23509c5ba90>"
      ]
     },
     "metadata": {},
     "output_type": "display_data"
    },
    {
     "data": {
      "text/plain": [
       "<matplotlib.figure.Figure at 0x235188b1ef0>"
      ]
     },
     "metadata": {},
     "output_type": "display_data"
    },
    {
     "data": {
      "text/plain": [
       "<matplotlib.figure.Figure at 0x23527c88668>"
      ]
     },
     "metadata": {},
     "output_type": "display_data"
    },
    {
     "data": {
      "text/plain": [
       "<matplotlib.figure.Figure at 0x235097d0780>"
      ]
     },
     "metadata": {},
     "output_type": "display_data"
    },
    {
     "data": {
      "text/plain": [
       "<matplotlib.figure.Figure at 0x23527c9a550>"
      ]
     },
     "metadata": {},
     "output_type": "display_data"
    },
    {
     "data": {
      "text/plain": [
       "<matplotlib.figure.Figure at 0x23527e51550>"
      ]
     },
     "metadata": {},
     "output_type": "display_data"
    },
    {
     "data": {
      "text/plain": [
       "<matplotlib.figure.Figure at 0x23527e7ed30>"
      ]
     },
     "metadata": {},
     "output_type": "display_data"
    },
    {
     "data": {
      "text/plain": [
       "<matplotlib.figure.Figure at 0x23527e83588>"
      ]
     },
     "metadata": {},
     "output_type": "display_data"
    },
    {
     "data": {
      "text/plain": [
       "<matplotlib.figure.Figure at 0x23527ebceb8>"
      ]
     },
     "metadata": {},
     "output_type": "display_data"
    },
    {
     "data": {
      "text/plain": [
       "<matplotlib.figure.Figure at 0x23518744128>"
      ]
     },
     "metadata": {},
     "output_type": "display_data"
    },
    {
     "data": {
      "text/plain": [
       "<matplotlib.figure.Figure at 0x23527f1e828>"
      ]
     },
     "metadata": {},
     "output_type": "display_data"
    },
    {
     "data": {
      "text/plain": [
       "<matplotlib.figure.Figure at 0x23527e395c0>"
      ]
     },
     "metadata": {},
     "output_type": "display_data"
    },
    {
     "data": {
      "text/plain": [
       "<matplotlib.figure.Figure at 0x23527e75390>"
      ]
     },
     "metadata": {},
     "output_type": "display_data"
    },
    {
     "data": {
      "text/plain": [
       "<matplotlib.figure.Figure at 0x23527e39a90>"
      ]
     },
     "metadata": {},
     "output_type": "display_data"
    },
    {
     "data": {
      "text/plain": [
       "<matplotlib.figure.Figure at 0x235280018d0>"
      ]
     },
     "metadata": {},
     "output_type": "display_data"
    },
    {
     "data": {
      "text/plain": [
       "<matplotlib.figure.Figure at 0x23527e6bb38>"
      ]
     },
     "metadata": {},
     "output_type": "display_data"
    },
    {
     "data": {
      "text/plain": [
       "<matplotlib.figure.Figure at 0x23527bb2860>"
      ]
     },
     "metadata": {},
     "output_type": "display_data"
    },
    {
     "data": {
      "text/plain": [
       "<matplotlib.figure.Figure at 0x23518a1e9e8>"
      ]
     },
     "metadata": {},
     "output_type": "display_data"
    },
    {
     "data": {
      "text/plain": [
       "<matplotlib.figure.Figure at 0x235099b04a8>"
      ]
     },
     "metadata": {},
     "output_type": "display_data"
    },
    {
     "data": {
      "text/plain": [
       "<matplotlib.figure.Figure at 0x235186b8828>"
      ]
     },
     "metadata": {},
     "output_type": "display_data"
    },
    {
     "data": {
      "text/plain": [
       "<matplotlib.figure.Figure at 0x23509d14c88>"
      ]
     },
     "metadata": {},
     "output_type": "display_data"
    },
    {
     "data": {
      "text/plain": [
       "<matplotlib.figure.Figure at 0x23509d915f8>"
      ]
     },
     "metadata": {},
     "output_type": "display_data"
    },
    {
     "data": {
      "text/plain": [
       "<matplotlib.figure.Figure at 0x23509b2ccc0>"
      ]
     },
     "metadata": {},
     "output_type": "display_data"
    },
    {
     "data": {
      "text/plain": [
       "<matplotlib.figure.Figure at 0x2351879de10>"
      ]
     },
     "metadata": {},
     "output_type": "display_data"
    },
    {
     "data": {
      "text/plain": [
       "<matplotlib.figure.Figure at 0x235188cd438>"
      ]
     },
     "metadata": {},
     "output_type": "display_data"
    },
    {
     "data": {
      "text/plain": [
       "<matplotlib.figure.Figure at 0x235188b3b00>"
      ]
     },
     "metadata": {},
     "output_type": "display_data"
    },
    {
     "data": {
      "text/plain": [
       "<matplotlib.figure.Figure at 0x2351296c940>"
      ]
     },
     "metadata": {},
     "output_type": "display_data"
    },
    {
     "data": {
      "text/plain": [
       "<matplotlib.figure.Figure at 0x235188db828>"
      ]
     },
     "metadata": {},
     "output_type": "display_data"
    },
    {
     "data": {
      "text/plain": [
       "<matplotlib.figure.Figure at 0x23509962588>"
      ]
     },
     "metadata": {},
     "output_type": "display_data"
    },
    {
     "data": {
      "text/plain": [
       "<matplotlib.figure.Figure at 0x235099cf400>"
      ]
     },
     "metadata": {},
     "output_type": "display_data"
    },
    {
     "data": {
      "text/plain": [
       "<matplotlib.figure.Figure at 0x23527e6b898>"
      ]
     },
     "metadata": {},
     "output_type": "display_data"
    },
    {
     "data": {
      "text/plain": [
       "<matplotlib.figure.Figure at 0x23509b33828>"
      ]
     },
     "metadata": {},
     "output_type": "display_data"
    },
    {
     "data": {
      "text/plain": [
       "<matplotlib.figure.Figure at 0x2351893ca58>"
      ]
     },
     "metadata": {},
     "output_type": "display_data"
    },
    {
     "data": {
      "text/plain": [
       "<matplotlib.figure.Figure at 0x235098b8f28>"
      ]
     },
     "metadata": {},
     "output_type": "display_data"
    },
    {
     "data": {
      "text/plain": [
       "<matplotlib.figure.Figure at 0x2350f6aeb38>"
      ]
     },
     "metadata": {},
     "output_type": "display_data"
    },
    {
     "data": {
      "text/plain": [
       "<matplotlib.figure.Figure at 0x23518802fd0>"
      ]
     },
     "metadata": {},
     "output_type": "display_data"
    }
   ],
   "source": [
    "for i in df_tf.index:\n",
    "    tf_name = tf.at[i,'Transcription factor']\n",
    "    family = tf.at[i,\"TF family\"]\n",
    "    values = df_tf.loc[i,order_col]\n",
    "    UniProt_ID = tf.at[i,\"UniProt ID\"]\n",
    "    title = tf_name + \"-\" + UniProt_ID + \" expression\"\n",
    "    output = title+\".png\"\n",
    "    plot_ts(title,\"TPM\",values,output)"
   ]
  },
  {
   "cell_type": "code",
   "execution_count": 91,
   "metadata": {},
   "outputs": [
    {
     "data": {
      "text/plain": [
       "Model                                               EGR2_MOUSE.H11MO.0.A\n",
       "LOGO                                                                 NaN\n",
       "Transcription factor                                                Egr2\n",
       "Model length                                                          14\n",
       "Quality                                                                A\n",
       "TF family               Three-zinc finger Krüppel-related factors{2.3.1}\n",
       "EntrezGene                                                         13654\n",
       "UniProt ID                                                    EGR2_MOUSE\n",
       "ensembleID                      [ENSMUSG00000037868, ENSMUSG00000116458]\n",
       "X46c_43_day0_TPM                                                    0.03\n",
       "X46c_43_day1_TPM                                                    0.13\n",
       "X46c_43_day2_TPM                                                    2.83\n",
       "X46c_43_day3_TPM                                                   36.23\n",
       "X46c_43_day4_TPM                                                    3.91\n",
       "X46c_43_day5_TPM                                                    2.11\n",
       "X46c_43_day6_TPM                                                    0.48\n",
       "X46c_43_day7_TPM                                                    0.58\n",
       "X46c_65_day16_TPM                                                   0.03\n",
       "X46c_50_day30_TPM                                                   0.29\n",
       "Name: 58, dtype: object"
      ]
     },
     "execution_count": 91,
     "metadata": {},
     "output_type": "execute_result"
    }
   ],
   "source": [
    "df_tf.loc[i]"
   ]
  },
  {
   "cell_type": "code",
   "execution_count": 87,
   "metadata": {},
   "outputs": [],
   "source": [
    "def plot_ts(title_name,ylabel_name,values,output):\n",
    "\tf,ax1 = plt.subplots()\n",
    "\tsns_plot=sns.tsplot(values)\n",
    "\tplt.title(title_name)\n",
    "\tsns_plot.set(xticklabels=[x.split(\"_\")[2] for x in values.index.tolist()])\n",
    "\tplt.ylabel(ylabel_name)\n",
    "\tfig = sns_plot.get_figure()\n",
    "\tfig.savefig(output,dpi=300)\n",
    "\tplt.clf()"
   ]
  },
  {
   "cell_type": "code",
   "execution_count": 85,
   "metadata": {},
   "outputs": [
    {
     "name": "stderr",
     "output_type": "stream",
     "text": [
      "E:\\anaconda3\\lib\\site-packages\\seaborn\\timeseries.py:183: UserWarning: The tsplot function is deprecated and will be removed or replaced (in a substantially altered version) in a future release.\n",
      "  warnings.warn(msg, UserWarning)\n"
     ]
    },
    {
     "data": {
      "image/png": "[encoded data removed]",
      "text/plain": [
       "<matplotlib.figure.Figure at 0x23509724978>"
      ]
     },
     "metadata": {},
     "output_type": "display_data"
    }
   ],
   "source": [
    "import seaborn as sns\n",
    "import matplotlib.pyplot as plt\n",
    "%matplotlib inline\n",
    "f,ax1 = plt.subplots()\n",
    "sns_plot=sns.tsplot(values)\n",
    "plt.title(tf_name + \" \" + family)\n",
    "# sns.set_title(tf_name + \" \" + family)\n",
    "sns_plot.set(xticklabels=[x.split(\"_\")[2] for x in values.index.tolist()])\n",
    "plt.ylabel(\"TPM\")\n",
    "fig = sns_plot.get_figure()\n",
    "fig.savefig(\"x.png\",dpi=300)\n",
    "plt.clf()"
   ]
  },
  {
   "cell_type": "code",
   "execution_count": 122,
   "metadata": {},
   "outputs": [],
   "source": [
    "from statsmodels.stats.power import tt_ind_solve_power \n",
    "from statsmodels.stats.power import zt_ind_solve_power  \n",
    "from statsmodels.stats.power import normal_power  "
   ]
  },
  {
   "cell_type": "code",
   "execution_count": 117,
   "metadata": {},
   "outputs": [
    {
     "data": {
      "text/plain": [
       "0.9724367234794028"
      ]
     },
     "execution_count": 117,
     "metadata": {},
     "output_type": "execute_result"
    }
   ],
   "source": [
    "tt_ind_solve_power(effect_size=1, alpha=0.00005, nobs1 =40, ratio=10, alternative='two-sided')"
   ]
  },
  {
   "cell_type": "code",
   "execution_count": 121,
   "metadata": {},
   "outputs": [
    {
     "data": {
      "text/plain": [
       "0.9758432153789557"
      ]
     },
     "execution_count": 121,
     "metadata": {},
     "output_type": "execute_result"
    }
   ],
   "source": [
    "zt_ind_solve_power(effect_size=1, alpha=0.00005, nobs1 =40, ratio=10, alternative='two-sided')"
   ]
  },
  {
   "cell_type": "code",
   "execution_count": 125,
   "metadata": {},
   "outputs": [
    {
     "data": {
      "text/plain": [
       "0.5218421376920418"
      ]
     },
     "execution_count": 125,
     "metadata": {},
     "output_type": "execute_result"
    }
   ],
   "source": [
    "normal_power(effect_size=0.5, nobs=50, alpha=0.0005, alternative='two-sided', sigma=1)"
   ]
  },
  {
   "cell_type": "code",
   "execution_count": null,
   "metadata": {},
   "outputs": [],
   "source": [
    "# mean divided by the standard deviation"
   ]
  },
  {
   "cell_type": "code",
   "execution_count": 129,
   "metadata": {},
   "outputs": [
    {
     "data": {
      "text/plain": [
       "[1, 2, 3, 4]"
      ]
     },
     "execution_count": 129,
     "metadata": {},
     "output_type": "execute_result"
    }
   ],
   "source": [
    "[j for sub in [[1,2],[3,4]] for j in sub]"
   ]
  },
  {
   "cell_type": "code",
   "execution_count": null,
   "metadata": {},
   "outputs": [],
   "source": [
    "from  itertools import combinations\n",
    "df = df.set_index('Dt')\n",
    "\n",
    "cc = list(combinations(df.columns,2))\n",
    "df = pd.concat([df[c[1]].sub(df[c[0]]) for c in cc], axis=1, keys=cc)\n",
    "df.columns = df.columns.map(''.join)\n",
    "print (df)"
   ]
  },
  {
   "cell_type": "code",
   "execution_count": 138,
   "metadata": {},
   "outputs": [
    {
     "data": {
      "text/plain": [
       "1"
      ]
     },
     "execution_count": 138,
     "metadata": {},
     "output_type": "execute_result"
    }
   ],
   "source": [
    "10%3"
   ]
  },
  {
   "cell_type": "code",
   "execution_count": 130,
   "metadata": {},
   "outputs": [],
   "source": [
    "from  itertools import combinations"
   ]
  },
  {
   "cell_type": "code",
   "execution_count": 132,
   "metadata": {},
   "outputs": [
    {
     "data": {
      "text/plain": [
       "[('x', 'y'), ('x', 'z'), ('y', 'z')]"
      ]
     },
     "execution_count": 132,
     "metadata": {},
     "output_type": "execute_result"
    }
   ],
   "source": [
    "df = pd.DataFrame()\n",
    "df['a'] = ['x','y','z']\n",
    "df['b'] = ['a','b','c']\n",
    "list(combinations(df['a'],2))"
   ]
  },
  {
   "cell_type": "code",
   "execution_count": 133,
   "metadata": {},
   "outputs": [
    {
     "data": {
      "text/html": [
       "<div>\n",
       "<style scoped>\n",
       "    .dataframe tbody tr th:only-of-type {\n",
       "        vertical-align: middle;\n",
       "    }\n",
       "\n",
       "    .dataframe tbody tr th {\n",
       "        vertical-align: top;\n",
       "    }\n",
       "\n",
       "    .dataframe thead th {\n",
       "        text-align: right;\n",
       "    }\n",
       "</style>\n",
       "<table border=\"1\" class=\"dataframe\">\n",
       "  <thead>\n",
       "    <tr style=\"text-align: right;\">\n",
       "      <th></th>\n",
       "      <th>a</th>\n",
       "      <th>b</th>\n",
       "    </tr>\n",
       "  </thead>\n",
       "  <tbody>\n",
       "    <tr>\n",
       "      <th>0</th>\n",
       "      <td>x</td>\n",
       "      <td>a</td>\n",
       "    </tr>\n",
       "    <tr>\n",
       "      <th>1</th>\n",
       "      <td>y</td>\n",
       "      <td>b</td>\n",
       "    </tr>\n",
       "    <tr>\n",
       "      <th>2</th>\n",
       "      <td>z</td>\n",
       "      <td>c</td>\n",
       "    </tr>\n",
       "  </tbody>\n",
       "</table>\n",
       "</div>"
      ],
      "text/plain": [
       "   a  b\n",
       "0  x  a\n",
       "1  y  b\n",
       "2  z  c"
      ]
     },
     "execution_count": 133,
     "metadata": {},
     "output_type": "execute_result"
    }
   ],
   "source": [
    "df"
   ]
  },
  {
   "cell_type": "code",
   "execution_count": 134,
   "metadata": {},
   "outputs": [],
   "source": [
    "df.loc['s'] = [3,4]"
   ]
  },
  {
   "cell_type": "code",
   "execution_count": 135,
   "metadata": {},
   "outputs": [
    {
     "data": {
      "text/html": [
       "<div>\n",
       "<style scoped>\n",
       "    .dataframe tbody tr th:only-of-type {\n",
       "        vertical-align: middle;\n",
       "    }\n",
       "\n",
       "    .dataframe tbody tr th {\n",
       "        vertical-align: top;\n",
       "    }\n",
       "\n",
       "    .dataframe thead th {\n",
       "        text-align: right;\n",
       "    }\n",
       "</style>\n",
       "<table border=\"1\" class=\"dataframe\">\n",
       "  <thead>\n",
       "    <tr style=\"text-align: right;\">\n",
       "      <th></th>\n",
       "      <th>a</th>\n",
       "      <th>b</th>\n",
       "    </tr>\n",
       "  </thead>\n",
       "  <tbody>\n",
       "    <tr>\n",
       "      <th>0</th>\n",
       "      <td>x</td>\n",
       "      <td>a</td>\n",
       "    </tr>\n",
       "    <tr>\n",
       "      <th>1</th>\n",
       "      <td>y</td>\n",
       "      <td>b</td>\n",
       "    </tr>\n",
       "    <tr>\n",
       "      <th>2</th>\n",
       "      <td>z</td>\n",
       "      <td>c</td>\n",
       "    </tr>\n",
       "    <tr>\n",
       "      <th>s</th>\n",
       "      <td>3</td>\n",
       "      <td>4</td>\n",
       "    </tr>\n",
       "  </tbody>\n",
       "</table>\n",
       "</div>"
      ],
      "text/plain": [
       "   a  b\n",
       "0  x  a\n",
       "1  y  b\n",
       "2  z  c\n",
       "s  3  4"
      ]
     },
     "execution_count": 135,
     "metadata": {},
     "output_type": "execute_result"
    }
   ],
   "source": [
    "df"
   ]
  },
  {
   "cell_type": "code",
   "execution_count": 127,
   "metadata": {},
   "outputs": [
    {
     "ename": "TypeError",
     "evalue": "Expected int as r",
     "output_type": "error",
     "traceback": [
      "\u001b[1;31m---------------------------------------------------------------------------\u001b[0m",
      "\u001b[1;31mTypeError\u001b[0m                                 Traceback (most recent call last)",
      "\u001b[1;32m<ipython-input-127-548a19459cd8>\u001b[0m in \u001b[0;36m<module>\u001b[1;34m()\u001b[0m\n\u001b[0;32m      3\u001b[0m \u001b[1;31m# Get all permutations of length 2\u001b[0m\u001b[1;33m\u001b[0m\u001b[1;33m\u001b[0m\u001b[0m\n\u001b[0;32m      4\u001b[0m \u001b[1;31m# and length 2\u001b[0m\u001b[1;33m\u001b[0m\u001b[1;33m\u001b[0m\u001b[0m\n\u001b[1;32m----> 5\u001b[1;33m \u001b[0mperm\u001b[0m \u001b[1;33m=\u001b[0m \u001b[0mpermutations\u001b[0m\u001b[1;33m(\u001b[0m\u001b[1;33m[\u001b[0m\u001b[1;36m1\u001b[0m\u001b[1;33m,\u001b[0m \u001b[1;36m2\u001b[0m\u001b[1;33m,\u001b[0m \u001b[1;36m3\u001b[0m\u001b[1;33m]\u001b[0m\u001b[1;33m,\u001b[0m \u001b[1;33m[\u001b[0m\u001b[1;36m4\u001b[0m\u001b[1;33m,\u001b[0m\u001b[1;36m5\u001b[0m\u001b[1;33m]\u001b[0m\u001b[1;33m)\u001b[0m\u001b[1;33m\u001b[0m\u001b[0m\n\u001b[0m\u001b[0;32m      6\u001b[0m \u001b[1;33m\u001b[0m\u001b[0m\n\u001b[0;32m      7\u001b[0m \u001b[1;31m# Print the obtained permutations\u001b[0m\u001b[1;33m\u001b[0m\u001b[1;33m\u001b[0m\u001b[0m\n",
      "\u001b[1;31mTypeError\u001b[0m: Expected int as r"
     ]
    }
   ],
   "source": [
    "from itertools import permutations\n",
    " \n",
    "# Get all permutations of length 2\n",
    "# and length 2\n",
    "perm = permutations([1, 2, 3], [4,5])\n",
    " \n",
    "# Print the obtained permutations\n",
    "for i in list(perm):\n",
    "    print i"
   ]
  },
  {
   "cell_type": "code",
   "execution_count": 128,
   "metadata": {},
   "outputs": [
    {
     "ename": "NameError",
     "evalue": "name 'stats' is not defined",
     "output_type": "error",
     "traceback": [
      "\u001b[1;31m---------------------------------------------------------------------------\u001b[0m",
      "\u001b[1;31mNameError\u001b[0m                                 Traceback (most recent call last)",
      "\u001b[1;32m<ipython-input-128-bf6da880f0f3>\u001b[0m in \u001b[0;36m<module>\u001b[1;34m()\u001b[0m\n\u001b[0;32m      1\u001b[0m \u001b[1;32mfrom\u001b[0m \u001b[0mscipy\u001b[0m\u001b[1;33m.\u001b[0m\u001b[0mstats\u001b[0m \u001b[1;32mimport\u001b[0m \u001b[0mfisher_exact\u001b[0m\u001b[1;33m\u001b[0m\u001b[0m\n\u001b[1;32m----> 2\u001b[1;33m \u001b[0mstats\u001b[0m\u001b[1;33m.\u001b[0m\u001b[0mfisher_exact\u001b[0m\u001b[1;33m(\u001b[0m\u001b[1;33m[\u001b[0m\u001b[1;33m[\u001b[0m\u001b[1;36m8\u001b[0m\u001b[1;33m,\u001b[0m \u001b[1;36m2\u001b[0m\u001b[1;33m]\u001b[0m\u001b[1;33m,\u001b[0m \u001b[1;33m[\u001b[0m\u001b[1;36m1\u001b[0m\u001b[1;33m,\u001b[0m \u001b[1;36m5\u001b[0m\u001b[1;33m]\u001b[0m\u001b[1;33m]\u001b[0m\u001b[1;33m)\u001b[0m\u001b[1;33m\u001b[0m\u001b[0m\n\u001b[0m",
      "\u001b[1;31mNameError\u001b[0m: name 'stats' is not defined"
     ]
    }
   ],
   "source": [
    "from scipy.stats import fisher_exact\n",
    "stats.fisher_exact([[8, 2], [1, 5]])"
   ]
  },
  {
   "cell_type": "code",
   "execution_count": null,
   "metadata": {},
   "outputs": [],
   "source": []
  }
 ],
 "metadata": {
  "kernelspec": {
   "display_name": "Python 3",
   "language": "python",
   "name": "python3"
  },
  "language_info": {
   "codemirror_mode": {
    "name": "ipython",
    "version": 3
   },
   "file_extension": ".py",
   "mimetype": "text/x-python",
   "name": "python",
   "nbconvert_exporter": "python",
   "pygments_lexer": "ipython3",
   "version": "3.6.4"
  }
 },
 "nbformat": 4,
 "nbformat_minor": 2
}
