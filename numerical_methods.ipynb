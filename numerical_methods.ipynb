{
 "metadata": {
  "name": "",
  "signature": "sha256:c23f637b1eba9ffe71dc4fd11c8510d8c7cc1ede8fd118ad9771eed039e971ab"
 },
 "nbformat": 3,
 "nbformat_minor": 0,
 "worksheets": [
  {
   "cells": [
    {
     "cell_type": "code",
     "collapsed": false,
     "input": [
      "import numpy as np\n",
      "import scipy.optimize as sopt\n",
      "import scipy.integrate as sint"
     ],
     "language": "python",
     "metadata": {},
     "outputs": []
    },
    {
     "cell_type": "heading",
     "level": 1,
     "metadata": {},
     "source": [
      "Normal log p.d.f"
     ]
    },
    {
     "cell_type": "code",
     "collapsed": false,
     "input": [
      "def matrix_normal_logpdf(mat, mu, sd):\n",
      "    '''calculate the log likelihood on a matrix of data, each column shares a mean and sd\n",
      "    mat -- an N x J numpy matrix\n",
      "    mu -- an 1xJ numpy matrix for mean\n",
      "    sd -- an 1xJ numpy matrix for standard deviation\n",
      "    '''\n",
      "    sd2 = sd**2\n",
      "    \n",
      "    N = mat.shape[0]; J = mat.shape[1]\n",
      "    A = -0.5 * N * J * np.log(2*np.pi)\n",
      "    \n",
      "    _B = np.log(sd)\n",
      "    B = -N*_B.sum()\n",
      "    \n",
      "    C = -np.sum( (mat**2) / (2.0 * sd2) )\n",
      "    D = np.sum(1.0 * mat * mu / sd2) # in case they are all integers\n",
      "    \n",
      "    _E = mu**2 / (2.0 * sd2)\n",
      "    E = -N * np.sum(_E)\n",
      "    \n",
      "    return A + B + C + D + E"
     ],
     "language": "python",
     "metadata": {},
     "outputs": []
    },
    {
     "cell_type": "code",
     "collapsed": false,
     "input": [
      "def normal_logpdf(x, mu, sd):\n",
      "    '''returns the log of a normal density\n",
      "    mu -- mean of the normal distribution \n",
      "    sd -- standard deviation of the normal distribution\n",
      "    '''\n",
      "    \n",
      "    return -0.5 * np.log(2*np.pi) - np.log(sd) - 0.5 / sd**2 * (x - mu)**2"
     ],
     "language": "python",
     "metadata": {},
     "outputs": []
    },
    {
     "cell_type": "heading",
     "level": 1,
     "metadata": {},
     "source": [
      "Numerical integration"
     ]
    },
    {
     "cell_type": "code",
     "collapsed": false,
     "input": [
      "def calculate_marginal_likelihood_quadature_integration_scalar(integrand_func, bounds, *args):\n",
      "    '''\n",
      "    Calculate the numerical integration of a likelihood function. Returns the log of the marginal likelihood.\n",
      "    \n",
      "    integrand_func -- the integrand to integrate, the first argument should be the variable to integrate. The last three \n",
      "    argument should be \"adjustment\", \"log: True or False\", \"sign\"\n",
      "    \n",
      "    bounds -- the upper and lower bound for integration\n",
      "    '''\n",
      "    \n",
      "    # Find the max value of the integrand_func over the integration bounds\n",
      "    opt_res = sopt.minimize_scalar(\n",
      "                    integrand_func, bounds = bounds, \n",
      "                    args = tuple(list(args) + [0, True, -1]), method = 'bounded')\n",
      "    \n",
      "    \n",
      "    adjustment = -1 * opt_res.fun\n",
      "    \n",
      "    int_res = sint.quad(integrand_func, bounds[0], bounds[1], \n",
      "                        args = tuple(list(args) + [adjustment, False, 1]), \n",
      "                        epsabs = 0, epsrel = 1e-5)\n",
      "    \n",
      "    return np.log(int_res[0]) + adjustment, int_res"
     ],
     "language": "python",
     "metadata": {},
     "outputs": []
    }
   ],
   "metadata": {}
  }
 ]
}