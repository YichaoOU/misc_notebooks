{
 "cells": [
  {
   "cell_type": "code",
   "execution_count": 2,
   "metadata": {},
   "outputs": [],
   "source": [
    "import pandas as pd"
   ]
  },
  {
   "cell_type": "code",
   "execution_count": 3,
   "metadata": {
    "collapsed": true
   },
   "outputs": [],
   "source": [
    "df = pd.read_csv(\"motif_occurrence.csv\")"
   ]
  },
  {
   "cell_type": "code",
   "execution_count": 4,
   "metadata": {},
   "outputs": [
    {
     "data": {
      "text/html": [
       "<div>\n",
       "<style>\n",
       "    .dataframe thead tr:only-child th {\n",
       "        text-align: right;\n",
       "    }\n",
       "\n",
       "    .dataframe thead th {\n",
       "        text-align: left;\n",
       "    }\n",
       "\n",
       "    .dataframe tbody tr th {\n",
       "        vertical-align: top;\n",
       "    }\n",
       "</style>\n",
       "<table border=\"1\" class=\"dataframe\">\n",
       "  <thead>\n",
       "    <tr style=\"text-align: right;\">\n",
       "      <th></th>\n",
       "      <th>seq_name</th>\n",
       "      <th>motif_name</th>\n",
       "      <th>start</th>\n",
       "      <th>end</th>\n",
       "      <th>strand</th>\n",
       "      <th>kmer</th>\n",
       "    </tr>\n",
       "  </thead>\n",
       "  <tbody>\n",
       "    <tr>\n",
       "      <th>0</th>\n",
       "      <td>chr18:60809054-60813854#Enhancer</td>\n",
       "      <td>A|AGT|ACG|A|A|C|A|ACT_AGT|A|T|A|T|T|ACT|ACT_1</td>\n",
       "      <td>4524</td>\n",
       "      <td>4532</td>\n",
       "      <td>+</td>\n",
       "      <td>ATAAACAC</td>\n",
       "    </tr>\n",
       "    <tr>\n",
       "      <th>1</th>\n",
       "      <td>chr18:60809054-60813854#Enhancer</td>\n",
       "      <td>ACG|ACG|A|A|A|AGT|ACG|ACT_T|AGT|AGT|A|T|A|T|T_1</td>\n",
       "      <td>729</td>\n",
       "      <td>737</td>\n",
       "      <td>-</td>\n",
       "      <td>GGAAATCA</td>\n",
       "    </tr>\n",
       "    <tr>\n",
       "      <th>2</th>\n",
       "      <td>chr18:60809054-60813854#Enhancer</td>\n",
       "      <td>A|AGT|ACG|A|A|C|A|ACT_AGT|A|T|A|T|T|ACT|ACT_2</td>\n",
       "      <td>2490</td>\n",
       "      <td>2498</td>\n",
       "      <td>-</td>\n",
       "      <td>AATATTCT</td>\n",
       "    </tr>\n",
       "    <tr>\n",
       "      <th>3</th>\n",
       "      <td>chr18:60809054-60813854#Enhancer</td>\n",
       "      <td>A|ACG|ACG|A|A|C|A|ACG_AGT|A|T|A|T|ACT|CGT|ACT_2</td>\n",
       "      <td>531</td>\n",
       "      <td>539</td>\n",
       "      <td>-</td>\n",
       "      <td>GATATCTT</td>\n",
       "    </tr>\n",
       "    <tr>\n",
       "      <th>4</th>\n",
       "      <td>chr18:60809054-60813854#Enhancer</td>\n",
       "      <td>A|AGT|ACG|A|A|C|A|ACG_AGT|A|T|A|T|T|ACT|ACT_1</td>\n",
       "      <td>510</td>\n",
       "      <td>518</td>\n",
       "      <td>-</td>\n",
       "      <td>AGCAACAG</td>\n",
       "    </tr>\n",
       "  </tbody>\n",
       "</table>\n",
       "</div>"
      ],
      "text/plain": [
       "                           seq_name  \\\n",
       "0  chr18:60809054-60813854#Enhancer   \n",
       "1  chr18:60809054-60813854#Enhancer   \n",
       "2  chr18:60809054-60813854#Enhancer   \n",
       "3  chr18:60809054-60813854#Enhancer   \n",
       "4  chr18:60809054-60813854#Enhancer   \n",
       "\n",
       "                                        motif_name  start   end strand  \\\n",
       "0    A|AGT|ACG|A|A|C|A|ACT_AGT|A|T|A|T|T|ACT|ACT_1   4524  4532      +   \n",
       "1  ACG|ACG|A|A|A|AGT|ACG|ACT_T|AGT|AGT|A|T|A|T|T_1    729   737      -   \n",
       "2    A|AGT|ACG|A|A|C|A|ACT_AGT|A|T|A|T|T|ACT|ACT_2   2490  2498      -   \n",
       "3  A|ACG|ACG|A|A|C|A|ACG_AGT|A|T|A|T|ACT|CGT|ACT_2    531   539      -   \n",
       "4    A|AGT|ACG|A|A|C|A|ACG_AGT|A|T|A|T|T|ACT|ACT_1    510   518      -   \n",
       "\n",
       "       kmer  \n",
       "0  ATAAACAC  \n",
       "1  GGAAATCA  \n",
       "2  AATATTCT  \n",
       "3  GATATCTT  \n",
       "4  AGCAACAG  "
      ]
     },
     "execution_count": 4,
     "metadata": {},
     "output_type": "execute_result"
    }
   ],
   "source": [
    "df.head()"
   ]
  },
  {
   "cell_type": "code",
   "execution_count": 8,
   "metadata": {},
   "outputs": [],
   "source": [
    "res = df.groupby(\"motif_name\")['kmer'].apply(lambda x: x.tolist()).to_dict()"
   ]
  },
  {
   "cell_type": "code",
   "execution_count": 9,
   "metadata": {
    "collapsed": true
   },
   "outputs": [],
   "source": [
    "from Bio import motifs\n",
    "from Bio.Seq import Seq"
   ]
  },
  {
   "cell_type": "code",
   "execution_count": 10,
   "metadata": {
    "collapsed": true
   },
   "outputs": [],
   "source": [
    "for x in res:\n",
    "    ins = map(lambda y:Seq(y),res[x])\n",
    "    m = motifs.create(ins)\n",
    "    break"
   ]
  },
  {
   "cell_type": "code",
   "execution_count": 29,
   "metadata": {},
   "outputs": [],
   "source": [
    "b=m.pwm"
   ]
  },
  {
   "cell_type": "code",
   "execution_count": 33,
   "metadata": {},
   "outputs": [
    {
     "data": {
      "text/plain": [
       "1.0"
      ]
     },
     "execution_count": 33,
     "metadata": {},
     "output_type": "execute_result"
    }
   ],
   "source": [
    "b['A'][0]"
   ]
  },
  {
   "cell_type": "code",
   "execution_count": 36,
   "metadata": {},
   "outputs": [
    {
     "data": {
      "text/plain": [
       "'1.0 0.0 0.0 0.0'"
      ]
     },
     "execution_count": 36,
     "metadata": {},
     "output_type": "execute_result"
    }
   ],
   "source": [
    "\" \".join(map(lambda x:str(b[x][0]),[\"A\",\"C\",\"G\",\"T\"]))"
   ]
  },
  {
   "cell_type": "code",
   "execution_count": 37,
   "metadata": {},
   "outputs": [
    {
     "data": {
      "text/plain": [
       "''"
      ]
     },
     "execution_count": 37,
     "metadata": {},
     "output_type": "execute_result"
    }
   ],
   "source": [
    "m.name"
   ]
  },
  {
   "cell_type": "code",
   "execution_count": null,
   "metadata": {
    "collapsed": true
   },
   "outputs": [],
   "source": []
  },
  {
   "cell_type": "code",
   "execution_count": 20,
   "metadata": {
    "collapsed": true
   },
   "outputs": [],
   "source": [
    "import Bio"
   ]
  },
  {
   "cell_type": "code",
   "execution_count": 21,
   "metadata": {},
   "outputs": [
    {
     "name": "stdout",
     "output_type": "stream",
     "text": [
      "1.65\n"
     ]
    }
   ],
   "source": [
    "print Bio.__version__"
   ]
  },
  {
   "cell_type": "code",
   "execution_count": 38,
   "metadata": {
    "collapsed": true
   },
   "outputs": [],
   "source": [
    "m.weblogo(\"test.svg\",format=\"svg\")"
   ]
  },
  {
   "cell_type": "markdown",
   "metadata": {},
   "source": [
    "![title](\"./test.png\")"
   ]
  },
  {
   "cell_type": "code",
   "execution_count": 26,
   "metadata": {},
   "outputs": [
    {
     "data": {
      "text/plain": [
       "8"
      ]
     },
     "execution_count": 26,
     "metadata": {},
     "output_type": "execute_result"
    }
   ],
   "source": [
    "m.length"
   ]
  },
  {
   "cell_type": "code",
   "execution_count": null,
   "metadata": {
    "collapsed": true
   },
   "outputs": [],
   "source": []
  },
  {
   "cell_type": "code",
   "execution_count": null,
   "metadata": {
    "collapsed": true
   },
   "outputs": [],
   "source": []
  }
 ],
 "metadata": {
  "kernelspec": {
   "display_name": "Python 2",
   "language": "python",
   "name": "python2"
  },
  "language_info": {
   "codemirror_mode": {
    "name": "ipython",
    "version": 2
   },
   "file_extension": ".py",
   "mimetype": "text/x-python",
   "name": "python",
   "nbconvert_exporter": "python",
   "pygments_lexer": "ipython2",
   "version": "2.7.6"
  }
 },
 "nbformat": 4,
 "nbformat_minor": 2
}
