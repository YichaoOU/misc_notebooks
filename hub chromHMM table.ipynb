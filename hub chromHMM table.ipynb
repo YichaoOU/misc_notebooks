{
 "cells": [
  {
   "cell_type": "code",
   "execution_count": 1,
   "metadata": {},
   "outputs": [],
   "source": [
    "import networkx as nx\n",
    "import pandas as pd\n",
    "import seaborn as sns\n",
    "%matplotlib inline"
   ]
  },
  {
   "cell_type": "code",
   "execution_count": 2,
   "metadata": {},
   "outputs": [],
   "source": [
    "df = pd.read_csv(\"HiC_Hist1/HiC_C2/HiC_HIST1_degree_df_annotation.csv\",index_col=0)"
   ]
  },
  {
   "cell_type": "code",
   "execution_count": 3,
   "metadata": {
    "collapsed": true
   },
   "outputs": [
    {
     "data": {
      "text/plain": [
       "['Number of contacts',\n",
       " 'H3K27me3.bases',\n",
       " 'H3K27me3.sum',\n",
       " 'H3K27me3.mean0',\n",
       " 'H3K27me3.mean',\n",
       " 'H3K27me3.min',\n",
       " 'H3K27me3.max',\n",
       " 'GROseq_plus.bases',\n",
       " 'GROseq_plus.sum',\n",
       " 'GROseq_plus.mean0',\n",
       " 'GROseq_plus.mean',\n",
       " 'GROseq_plus.min',\n",
       " 'GROseq_plus.max',\n",
       " 'GROseq_minus.bases',\n",
       " 'GROseq_minus.sum',\n",
       " 'GROseq_minus.mean0',\n",
       " 'GROseq_minus.mean',\n",
       " 'GROseq_minus.min',\n",
       " 'GROseq_minus.max',\n",
       " 'Overlap-Genes',\n",
       " 'Overlap-SE',\n",
       " 'Overlap-LAD',\n",
       " 'Contained-States',\n",
       " 'Contained-States-locations',\n",
       " 'gene_desc',\n",
       " 'promoter_class',\n",
       " 'gene_expression',\n",
       " 'Imotif',\n",
       " 'Hmotif',\n",
       " 'E4motif',\n",
       " 'PCGmotif',\n",
       " 'Pmotif',\n",
       " 'E8motif',\n",
       " 'ID',\n",
       " 'end',\n",
       " 'start']"
      ]
     },
     "execution_count": 3,
     "metadata": {},
     "output_type": "execute_result"
    }
   ],
   "source": [
    "df.columns.tolist()\n",
    " 'Contained-States',\n",
    " 'Contained-States-locations',"
   ]
  },
  {
   "cell_type": "code",
   "execution_count": 4,
   "metadata": {},
   "outputs": [],
   "source": [
    "motif_mapping_df = pd.read_csv('mm9.motif_mapping_table.csv',index_col=0) "
   ]
  },
  {
   "cell_type": "code",
   "execution_count": 6,
   "metadata": {},
   "outputs": [],
   "source": [
    "motif_list = list(map(lambda x:x.strip(),open(\"motif.list\").readlines()))\n",
    "motif_mapping_df = motif_mapping_df[motif_list]\n",
    "motif_mapping_df = motif_mapping_df.T"
   ]
  },
  {
   "cell_type": "code",
   "execution_count": 7,
   "metadata": {},
   "outputs": [],
   "source": [
    "states={}\n",
    "states['E1'] = 'Insulator'\n",
    "states['E2'] = 'Intergenic Region'\n",
    "states['E3'] = 'Heterochromatin'\n",
    "states['E4'] = 'Enhancer'\n",
    "states['E5'] = 'Repressed Region'\n",
    "states['E6'] = 'Bivalent Promoter'\n",
    "states['E7'] = 'Active Promoter'\n",
    "states['E8'] = 'Strong Enhancer'\n",
    "states['E9'] = 'Transcriptional Transition'\n",
    "states['E10'] = 'Transcriptional Elongation'\n",
    "states['E11'] = 'Poised Enhancer'\n"
   ]
  },
  {
   "cell_type": "code",
   "execution_count": 16,
   "metadata": {},
   "outputs": [
    {
     "name": "stdout",
     "output_type": "stream",
     "text": [
      "['E5', 'E6', 'E5', 'E7', 'E8', 'E7', 'E4', 'E2', 'E5', 'E6', 'E7', 'E6', 'E7', 'E2', 'E4', 'E8', 'E7', 'E10', 'E3', 'E9', 'E7', 'E8', 'E7', 'E8', 'E10']\n",
      "['chr13:23482869-23487269', 'chr13:23487269-23489069', 'chr13:23489069-23492469', 'chr13:23492469-23493069', 'chr13:23493069-23493669', 'chr13:23493669-23494469', 'chr13:23494869-23495269', 'chr13:23495269-23497269', 'chr13:23497269-23502069', 'chr13:23502069-23503469', 'chr13:23503469-23504069', 'chr13:23504069-23504669', 'chr13:23504669-23505469', 'chr13:23505469-23506469', 'chr13:23506469-23507669', 'chr13:23507669-23508069', 'chr13:23508069-23508469', 'chr13:23508469-23509069', 'chr13:23509069-23509669', 'chr13:23514669-23514869', 'chr13:23514869-23516069', 'chr13:23516069-23516269', 'chr13:23516269-23518669', 'chr13:23494469-23494869', 'chr13:23509669-23514669']\n",
      "['E1', 'E2', 'E4', 'E8', 'E7', 'E5']\n",
      "['chr13:22136469-22136669', 'chr13:22136669-22139869', 'chr13:22139869-22141869', 'chr13:22141869-22142469', 'chr13:22142469-22143869', 'chr13:22143869-22148069']\n",
      "['E4', 'E8', 'E5', 'E2', 'E1', 'E2']\n",
      "['chr13:23870869-23871069', 'chr13:23871069-23871269', 'chr13:23878869-23882069', 'chr13:23882069-23884269', 'chr13:23884269-23884869', 'chr13:23871269-23878869']\n",
      "['E1']\n",
      "['chr13:23924669-23925269']\n",
      "['E3', 'E2', 'E7', 'E5', 'E2', 'E5', 'E6', 'E7', 'E6', 'E2', 'E4', 'E1', 'E7', 'E6', 'E7', 'E2', 'E5']\n",
      "['chr13:23354069-23355269', 'chr13:23355269-23361869', 'chr13:23361869-23362869', 'chr13:23367069-23367669', 'chr13:23367669-23375869', 'chr13:23375869-23376869', 'chr13:23376869-23377069', 'chr13:23377069-23377669', 'chr13:23377669-23379069', 'chr13:23382069-23389469', 'chr13:23389469-23389669', 'chr13:23389669-23389869', 'chr13:23389869-23392869', 'chr13:23392869-23393069', 'chr13:23393069-23393269', 'chr13:23362869-23367069', 'chr13:23379069-23382069']\n"
     ]
    }
   ],
   "source": [
    "import ast\n",
    "df = pd.read_csv(\"HiC_Hist1/HiC_C2/HiC_HIST1_degree_df_annotation.csv\",index_col=0)\n",
    "label = \"HiC\"\n",
    "for i in range(5):\n",
    "    if df.at[df.index[i],'Contained-States'][0] == \".\":\n",
    "        print (i,'no overlaped states')\n",
    "        continue\n",
    "    lines = []\n",
    "    state_list = ast.literal_eval(df.at[df.index[i],'Contained-States'])\n",
    "    location_list = ast.literal_eval(df.at[df.index[i],'Contained-States-locations'])    \n",
    "    print (state_list)\n",
    "    print (location_list)\n",
    "\n",
    "    for j in range(len(state_list)):\n",
    "        motif_list = motif_mapping_df[motif_mapping_df[location_list[j]] > 0].index.tolist()\n",
    "        motif_list = list(map(lambda x:x.split(\"_\")[0].replace(\"mm9.\",\"\"),motif_list))\n",
    "        lines.append([location_list[j],state_list[j],\", \".join(motif_list)])\n",
    "    temp = pd.DataFrame(lines)\n",
    "    temp.columns = ['Genomic Coordinates','Type','Covered motifs']\n",
    "    temp.to_csv(label+\".hub\"+str(i+1)+\".chromHMM.csv\",index=False)"
   ]
  },
  {
   "cell_type": "code",
   "execution_count": 17,
   "metadata": {},
   "outputs": [
    {
     "name": "stdout",
     "output_type": "stream",
     "text": [
      "['E5']\n",
      "['chr13:23980869-23981469']\n",
      "['E5']\n",
      "['chr13:23958269-23959269']\n",
      "['E6', 'E8', 'E7', 'E8', 'E4', 'E5', 'E2', 'E4', 'E5', 'E2', 'E4']\n",
      "['chr13:24082869-24083469', 'chr13:24085869-24086069', 'chr13:24086069-24086469', 'chr13:24086469-24086669', 'chr13:24086669-24089069', 'chr13:24089069-24090269', 'chr13:24090269-24092469', 'chr13:24092469-24095069', 'chr13:24095069-24097669', 'chr13:24097669-24099669', 'chr13:24083469-24085869']\n",
      "['E6', 'E7', 'E4', 'E2', 'E5', 'E6', 'E7', 'E8', 'E4', 'E5', 'E2', 'E4', 'E8', 'E5', 'E7']\n",
      "['chr13:22105669-22107269', 'chr13:22107269-22107669', 'chr13:22107669-22108469', 'chr13:22108469-22109869', 'chr13:22109869-22111669', 'chr13:22111669-22112469', 'chr13:22112469-22114469', 'chr13:22114469-22114869', 'chr13:22114869-22115469', 'chr13:22115469-22116469', 'chr13:22116469-22117269', 'chr13:22117269-22117669', 'chr13:22117669-22117869', 'chr13:22100469-22105669', 'chr13:22117869-22119069']\n",
      "['E7', 'E8', 'E7', 'E4', 'E2', 'E7', 'E2', 'E7', 'E6', 'E7', 'E2', 'E7', 'E2', 'E8']\n",
      "['chr13:22002469-22002869', 'chr13:22002869-22003069', 'chr13:22003069-22003469', 'chr13:22003869-22004069', 'chr13:22004069-22005669', 'chr13:22005669-22007269', 'chr13:22007269-22008869', 'chr13:22008869-22009869', 'chr13:22009869-22010269', 'chr13:22010269-22013269', 'chr13:22013269-22016669', 'chr13:22016669-22017869', 'chr13:22017869-22019869', 'chr13:22003469-22003869']\n"
     ]
    }
   ],
   "source": [
    "df = pd.read_csv(\"SPRITE_Hist1/SPRITE_C2/SPRITE_HIST1_degree_df_annotation.csv\",index_col=0)\n",
    "label = \"SPRITE\"\n",
    "for i in range(5):\n",
    "    if df.at[df.index[i],'Contained-States'][0] == \".\":\n",
    "        print (i,'no overlaped states')\n",
    "        continue\n",
    "    lines = []\n",
    "    state_list = ast.literal_eval(df.at[df.index[i],'Contained-States'])\n",
    "    location_list = ast.literal_eval(df.at[df.index[i],'Contained-States-locations'])    \n",
    "    print (state_list)\n",
    "    print (location_list)\n",
    "\n",
    "    for j in range(len(state_list)):\n",
    "        motif_list = motif_mapping_df[motif_mapping_df[location_list[j]] > 0].index.tolist()\n",
    "        motif_list = list(map(lambda x:x.split(\"_\")[0].replace(\"mm9.\",\"\"),motif_list))\n",
    "        lines.append([location_list[j],state_list[j],\", \".join(motif_list)])\n",
    "    temp = pd.DataFrame(lines)\n",
    "    temp.columns = ['Genomic Coordinates','Type','Covered motifs']\n",
    "    temp.to_csv(label+\".hub\"+str(i+1)+\".chromHMM.csv\",index=False)"
   ]
  },
  {
   "cell_type": "code",
   "execution_count": 24,
   "metadata": {},
   "outputs": [
    {
     "name": "stdout",
     "output_type": "stream",
     "text": [
      "############## 0 #################\n",
      "['E3']\n",
      "['chr13:22725069-22735869']\n",
      "############## 1 #################\n",
      "['E2', 'E7', 'E8', 'E4', 'E2', 'E7', 'E8', 'E4', 'E1', 'E2', 'E4', 'E8', 'E4', 'E8', 'E2', 'E7']\n",
      "['chr13:23850869-23851869', 'chr13:23851869-23854469', 'chr13:23854469-23854669', 'chr13:23856669-23857469', 'chr13:23857469-23864669', 'chr13:23864669-23864869', 'chr13:23864869-23865269', 'chr13:23865269-23865469', 'chr13:23865469-23865669', 'chr13:23865669-23867869', 'chr13:23867869-23870469', 'chr13:23870469-23870869', 'chr13:23870869-23871069', 'chr13:23871069-23871269', 'chr13:23871269-23878869', 'chr13:23854669-23856669']\n",
      "############## 2 #################\n",
      "['E2', 'E1']\n",
      "['chr13:23882069-23884269', 'chr13:23884269-23884869']\n",
      "############## 3 #################\n",
      "chr13:22320000-22350000 no overlaped states\n",
      "############## 4 #################\n",
      "['E5', 'E7', 'E4', 'E7', 'E8', 'E4', 'E2', 'E3', 'E2', 'E5', 'E6', 'E7', 'E4', 'E8', 'E2']\n",
      "['chr13:23763069-23766469', 'chr13:23774669-23775869', 'chr13:23775869-23776469', 'chr13:23776469-23778069', 'chr13:23778069-23778269', 'chr13:23778269-23779269', 'chr13:23779269-23783869', 'chr13:23783869-23785869', 'chr13:23785869-23786469', 'chr13:23786469-23787669', 'chr13:23787669-23788269', 'chr13:23788269-23788469', 'chr13:23788469-23789269', 'chr13:23789269-23789469', 'chr13:23766469-23774669']\n"
     ]
    }
   ],
   "source": [
    "df = pd.read_csv(\"SLICE_Hist1/SLICE_C2/SLICE_HIST1_degree_df_annotation.csv\",index_col=0)\n",
    "label = \"SLICE\"\n",
    "for i in range(5):\n",
    "    print (\"##############\",i,\"#################\")\n",
    "    if ast.literal_eval(df.at[df.index[i],'Contained-States'])[0] == '.':\n",
    "        print (df.index[i],'no overlaped states')\n",
    "        continue\n",
    "    lines = []\n",
    "    state_list = ast.literal_eval(df.at[df.index[i],'Contained-States'])\n",
    "    location_list = ast.literal_eval(df.at[df.index[i],'Contained-States-locations'])    \n",
    "    print (state_list)\n",
    "    print (location_list)\n",
    "\n",
    "    for j in range(len(state_list)):\n",
    "        if j == \".\":\n",
    "            continue\n",
    "        motif_list = motif_mapping_df[motif_mapping_df[location_list[j]] > 0].index.tolist()\n",
    "        motif_list = list(map(lambda x:x.split(\"_\")[0].replace(\"mm9.\",\"\"),motif_list))\n",
    "        lines.append([location_list[j],state_list[j],\", \".join(motif_list)])\n",
    "    temp = pd.DataFrame(lines)\n",
    "    temp.columns = ['Genomic Coordinates','Type','Covered motifs']\n",
    "    temp.to_csv(label+\".hub\"+str(i+1)+\".chromHMM.csv\",index=False)"
   ]
  },
  {
   "cell_type": "code",
   "execution_count": null,
   "metadata": {},
   "outputs": [],
   "source": []
  }
 ],
 "metadata": {
  "kernelspec": {
   "display_name": "Python 3",
   "language": "python",
   "name": "python3"
  },
  "language_info": {
   "codemirror_mode": {
    "name": "ipython",
    "version": 3
   },
   "file_extension": ".py",
   "mimetype": "text/x-python",
   "name": "python",
   "nbconvert_exporter": "python",
   "pygments_lexer": "ipython3",
   "version": "3.6.4"
  }
 },
 "nbformat": 4,
 "nbformat_minor": 2
}
