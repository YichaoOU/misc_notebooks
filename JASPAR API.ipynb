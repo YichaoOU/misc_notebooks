{
 "cells": [
  {
   "cell_type": "code",
   "execution_count": 1,
   "metadata": {},
   "outputs": [
    {
     "name": "stdout",
     "output_type": "stream",
     "text": [
      "{\"comment\":\"-\",\"pubmed_ids\":[\"7592839\"],\"description\":\"aryl hydrocarbon receptor nuclear translocator\",\"family\":[\"PAS domain factors\"],\"pfm\":{\"A\":[4.0,19.0,0.0,0.0,0.0,0.0],\"C\":[16.0,0.0,20.0,0.0,0.0,0.0],\"T\":[0.0,0.0,0.0,0.0,20.0,0.0],\"G\":[0.0,1.0,0.0,20.0,0.0,20.0]},\"symbol\":\"ARNT\",\"matrix_id\":\"MA0004.1\",\"sequence_logo\":\"http://jaspar.genereg.net/static/logos/svg/MA0004.1.svg\",\"remap_tf_name\":\"ARNT\",\"pazar_tf_ids\":[\"TF0000003\"],\"versions_url\":\"http://jaspar.genereg.net/api/v1/matrix/MA0004/versions\",\"collection\":\"CORE\",\"base_id\":\"MA0004\",\"class\":[\"Basic helix-loop-helix factors (bHLH)\"],\"tffm\":{\"tffm_url\":\"http://jaspar.genereg.net/api/v1/tffm/TFFM0161.1\",\"log_p_1st_order\":-10113.5,\"experiment_name\":\"GSE59935.arnt.t47d_haegin2\",\"version\":1,\"log_p_detailed\":-8010.69,\"base_id\":\"TFFM0161\",\"tffm_id\":\"TFFM0161.1\"},\"tfe_ids\":[\"580\"],\"name\":\"Arnt\",\"tfbs_shape_id\":\"11\",\"uniprot_ids\":[\"P53762\"],\"sites_url\":null,\"species\":[{\"name\":\"Mus musculus\",\"tax_id\":10090}],\"alias\":\"HIF-1beta,bHLHe2\",\"version\":1,\"type\":\"SELEX\",\"tax_group\":\"vertebrates\"}\n"
     ]
    }
   ],
   "source": [
    "import requests, sys\n",
    "\n",
    "requestURL = \"http://jaspar.genereg.net/api/v1/matrix/MA0004.1/\"\n",
    "\n",
    "r = requests.get(requestURL, headers={ \"Accept\" : \"application/json\"})\n",
    "\n",
    "if not r.ok:\n",
    "  r.raise_for_status()\n",
    "  sys.exit()\n",
    "\n",
    "responseBody = r.text\n",
    "print responseBody"
   ]
  },
  {
   "cell_type": "code",
   "execution_count": 2,
   "metadata": {
    "collapsed": true
   },
   "outputs": [],
   "source": [
    "import json\n",
    "my_dict = json.loads(responseBody)"
   ]
  },
  {
   "cell_type": "code",
   "execution_count": 3,
   "metadata": {
    "scrolled": true
   },
   "outputs": [
    {
     "data": {
      "text/plain": [
       "{u'alias': u'HIF-1beta,bHLHe2',\n",
       " u'base_id': u'MA0004',\n",
       " u'class': [u'Basic helix-loop-helix factors (bHLH)'],\n",
       " u'collection': u'CORE',\n",
       " u'comment': u'-',\n",
       " u'description': u'aryl hydrocarbon receptor nuclear translocator',\n",
       " u'family': [u'PAS domain factors'],\n",
       " u'matrix_id': u'MA0004.1',\n",
       " u'name': u'Arnt',\n",
       " u'pazar_tf_ids': [u'TF0000003'],\n",
       " u'pfm': {u'A': [4.0, 19.0, 0.0, 0.0, 0.0, 0.0],\n",
       "  u'C': [16.0, 0.0, 20.0, 0.0, 0.0, 0.0],\n",
       "  u'G': [0.0, 1.0, 0.0, 20.0, 0.0, 20.0],\n",
       "  u'T': [0.0, 0.0, 0.0, 0.0, 20.0, 0.0]},\n",
       " u'pubmed_ids': [u'7592839'],\n",
       " u'remap_tf_name': u'ARNT',\n",
       " u'sequence_logo': u'http://jaspar.genereg.net/static/logos/svg/MA0004.1.svg',\n",
       " u'sites_url': None,\n",
       " u'species': [{u'name': u'Mus musculus', u'tax_id': 10090}],\n",
       " u'symbol': u'ARNT',\n",
       " u'tax_group': u'vertebrates',\n",
       " u'tfbs_shape_id': u'11',\n",
       " u'tfe_ids': [u'580'],\n",
       " u'tffm': {u'base_id': u'TFFM0161',\n",
       "  u'experiment_name': u'GSE59935.arnt.t47d_haegin2',\n",
       "  u'log_p_1st_order': -10113.5,\n",
       "  u'log_p_detailed': -8010.69,\n",
       "  u'tffm_id': u'TFFM0161.1',\n",
       "  u'tffm_url': u'http://jaspar.genereg.net/api/v1/tffm/TFFM0161.1',\n",
       "  u'version': 1},\n",
       " u'type': u'SELEX',\n",
       " u'uniprot_ids': [u'P53762'],\n",
       " u'version': 1,\n",
       " u'versions_url': u'http://jaspar.genereg.net/api/v1/matrix/MA0004/versions'}"
      ]
     },
     "execution_count": 3,
     "metadata": {},
     "output_type": "execute_result"
    }
   ],
   "source": [
    "my_dict"
   ]
  },
  {
   "cell_type": "code",
   "execution_count": 6,
   "metadata": {},
   "outputs": [
    {
     "data": {
      "text/plain": [
       "u'Mus musculus'"
      ]
     },
     "execution_count": 6,
     "metadata": {},
     "output_type": "execute_result"
    }
   ],
   "source": [
    "my_dict['species'][0]['name']"
   ]
  },
  {
   "cell_type": "code",
   "execution_count": 11,
   "metadata": {},
   "outputs": [
    {
     "data": {
      "text/plain": [
       "u'Arnt'"
      ]
     },
     "execution_count": 11,
     "metadata": {},
     "output_type": "execute_result"
    }
   ],
   "source": [
    "my_dict['name']"
   ]
  },
  {
   "cell_type": "code",
   "execution_count": 9,
   "metadata": {},
   "outputs": [
    {
     "data": {
      "text/plain": [
       "u'PAS domain factors'"
      ]
     },
     "execution_count": 9,
     "metadata": {},
     "output_type": "execute_result"
    }
   ],
   "source": [
    "my_dict['family'][0]"
   ]
  }
 ],
 "metadata": {
  "kernelspec": {
   "display_name": "Python 2",
   "language": "python",
   "name": "python2"
  },
  "language_info": {
   "codemirror_mode": {
    "name": "ipython",
    "version": 2
   },
   "file_extension": ".py",
   "mimetype": "text/x-python",
   "name": "python",
   "nbconvert_exporter": "python",
   "pygments_lexer": "ipython2",
   "version": "2.7.6"
  }
 },
 "nbformat": 4,
 "nbformat_minor": 2
}
