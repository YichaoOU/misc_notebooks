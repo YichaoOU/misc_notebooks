{
 "cells": [
  {
   "cell_type": "code",
   "execution_count": 1,
   "metadata": {},
   "outputs": [
    {
     "name": "stderr",
     "output_type": "stream",
     "text": [
      "UsageError: unrecognized arguments: # for jupyter notebook to show the figures\n"
     ]
    }
   ],
   "source": [
    "import seaborn as sns # for visualization\n",
    "import matplotlib.pyplot as plt # for visualization\n",
    "%matplotlib inline # for jupyter notebook to show the figures"
   ]
  },
  {
   "cell_type": "code",
   "execution_count": 2,
   "metadata": {},
   "outputs": [],
   "source": [
    "import pandas as pd"
   ]
  },
  {
   "cell_type": "code",
   "execution_count": 3,
   "metadata": {},
   "outputs": [],
   "source": [
    "a=pd.read_csv(\"for_plot.csv\",index_col=0)\n"
   ]
  },
  {
   "cell_type": "code",
   "execution_count": 4,
   "metadata": {},
   "outputs": [
    {
     "data": {
      "text/html": [
       "<div>\n",
       "<style scoped>\n",
       "    .dataframe tbody tr th:only-of-type {\n",
       "        vertical-align: middle;\n",
       "    }\n",
       "\n",
       "    .dataframe tbody tr th {\n",
       "        vertical-align: top;\n",
       "    }\n",
       "\n",
       "    .dataframe thead th {\n",
       "        text-align: right;\n",
       "    }\n",
       "</style>\n",
       "<table border=\"1\" class=\"dataframe\">\n",
       "  <thead>\n",
       "    <tr style=\"text-align: right;\">\n",
       "      <th></th>\n",
       "      <th>0</th>\n",
       "      <th>1</th>\n",
       "      <th>2</th>\n",
       "      <th>3</th>\n",
       "      <th>4</th>\n",
       "      <th>5</th>\n",
       "      <th>6</th>\n",
       "      <th>7</th>\n",
       "      <th>8</th>\n",
       "      <th>9</th>\n",
       "      <th>...</th>\n",
       "      <th>990</th>\n",
       "      <th>991</th>\n",
       "      <th>992</th>\n",
       "      <th>993</th>\n",
       "      <th>994</th>\n",
       "      <th>995</th>\n",
       "      <th>996</th>\n",
       "      <th>997</th>\n",
       "      <th>998</th>\n",
       "      <th>999</th>\n",
       "    </tr>\n",
       "  </thead>\n",
       "  <tbody>\n",
       "    <tr>\n",
       "      <th>mm9.FOXJ2_MOUSE.H11MO.0.C-mm9.STAT1_MOUSE.H11MO.0.A</th>\n",
       "      <td>0.398190</td>\n",
       "      <td>0.336323</td>\n",
       "      <td>0.350000</td>\n",
       "      <td>0.395455</td>\n",
       "      <td>0.384259</td>\n",
       "      <td>0.409910</td>\n",
       "      <td>0.408889</td>\n",
       "      <td>0.375566</td>\n",
       "      <td>0.345455</td>\n",
       "      <td>0.377778</td>\n",
       "      <td>...</td>\n",
       "      <td>0.400000</td>\n",
       "      <td>0.376682</td>\n",
       "      <td>0.361111</td>\n",
       "      <td>0.377273</td>\n",
       "      <td>0.394737</td>\n",
       "      <td>0.381166</td>\n",
       "      <td>0.377880</td>\n",
       "      <td>0.364865</td>\n",
       "      <td>0.372727</td>\n",
       "      <td>0.362445</td>\n",
       "    </tr>\n",
       "    <tr>\n",
       "      <th>mm9.IRF3_MOUSE.H11MO.0.A-mm9.FOXO4_MOUSE.H11MO.0.C</th>\n",
       "      <td>0.366516</td>\n",
       "      <td>0.331839</td>\n",
       "      <td>0.345455</td>\n",
       "      <td>0.359091</td>\n",
       "      <td>0.333333</td>\n",
       "      <td>0.378378</td>\n",
       "      <td>0.355556</td>\n",
       "      <td>0.375566</td>\n",
       "      <td>0.340909</td>\n",
       "      <td>0.337778</td>\n",
       "      <td>...</td>\n",
       "      <td>0.372727</td>\n",
       "      <td>0.340807</td>\n",
       "      <td>0.300926</td>\n",
       "      <td>0.336364</td>\n",
       "      <td>0.350877</td>\n",
       "      <td>0.354260</td>\n",
       "      <td>0.345622</td>\n",
       "      <td>0.333333</td>\n",
       "      <td>0.409091</td>\n",
       "      <td>0.371179</td>\n",
       "    </tr>\n",
       "    <tr>\n",
       "      <th>mm9.MEF2A_MOUSE.H11MO.0.A-mm9.IRF3_MOUSE.H11MO.0.A</th>\n",
       "      <td>0.343891</td>\n",
       "      <td>0.309417</td>\n",
       "      <td>0.336364</td>\n",
       "      <td>0.350000</td>\n",
       "      <td>0.305556</td>\n",
       "      <td>0.333333</td>\n",
       "      <td>0.320000</td>\n",
       "      <td>0.330317</td>\n",
       "      <td>0.295455</td>\n",
       "      <td>0.320000</td>\n",
       "      <td>...</td>\n",
       "      <td>0.318182</td>\n",
       "      <td>0.331839</td>\n",
       "      <td>0.305556</td>\n",
       "      <td>0.318182</td>\n",
       "      <td>0.315789</td>\n",
       "      <td>0.336323</td>\n",
       "      <td>0.308756</td>\n",
       "      <td>0.297297</td>\n",
       "      <td>0.345455</td>\n",
       "      <td>0.301310</td>\n",
       "    </tr>\n",
       "    <tr>\n",
       "      <th>mm9.STAT1_MOUSE.H11MO.0.A-mm9.FOXJ3_MOUSE.H11MO.0.A</th>\n",
       "      <td>0.484163</td>\n",
       "      <td>0.421525</td>\n",
       "      <td>0.436364</td>\n",
       "      <td>0.427273</td>\n",
       "      <td>0.453704</td>\n",
       "      <td>0.441441</td>\n",
       "      <td>0.435556</td>\n",
       "      <td>0.434389</td>\n",
       "      <td>0.409091</td>\n",
       "      <td>0.440000</td>\n",
       "      <td>...</td>\n",
       "      <td>0.431818</td>\n",
       "      <td>0.430493</td>\n",
       "      <td>0.388889</td>\n",
       "      <td>0.418182</td>\n",
       "      <td>0.451754</td>\n",
       "      <td>0.394619</td>\n",
       "      <td>0.414747</td>\n",
       "      <td>0.423423</td>\n",
       "      <td>0.445455</td>\n",
       "      <td>0.427948</td>\n",
       "    </tr>\n",
       "    <tr>\n",
       "      <th>mm9.IRF3_MOUSE.H11MO.0.A-mm9.FOXJ3_MOUSE.H11MO.0.A</th>\n",
       "      <td>0.479638</td>\n",
       "      <td>0.443946</td>\n",
       "      <td>0.436364</td>\n",
       "      <td>0.450000</td>\n",
       "      <td>0.449074</td>\n",
       "      <td>0.441441</td>\n",
       "      <td>0.435556</td>\n",
       "      <td>0.443439</td>\n",
       "      <td>0.440909</td>\n",
       "      <td>0.453333</td>\n",
       "      <td>...</td>\n",
       "      <td>0.445455</td>\n",
       "      <td>0.439462</td>\n",
       "      <td>0.388889</td>\n",
       "      <td>0.427273</td>\n",
       "      <td>0.473684</td>\n",
       "      <td>0.426009</td>\n",
       "      <td>0.423963</td>\n",
       "      <td>0.432432</td>\n",
       "      <td>0.477273</td>\n",
       "      <td>0.441048</td>\n",
       "    </tr>\n",
       "  </tbody>\n",
       "</table>\n",
       "<p>5 rows × 1000 columns</p>\n",
       "</div>"
      ],
      "text/plain": [
       "                                                           0         1  \\\n",
       "mm9.FOXJ2_MOUSE.H11MO.0.C-mm9.STAT1_MOUSE.H11MO...  0.398190  0.336323   \n",
       "mm9.IRF3_MOUSE.H11MO.0.A-mm9.FOXO4_MOUSE.H11MO.0.C  0.366516  0.331839   \n",
       "mm9.MEF2A_MOUSE.H11MO.0.A-mm9.IRF3_MOUSE.H11MO.0.A  0.343891  0.309417   \n",
       "mm9.STAT1_MOUSE.H11MO.0.A-mm9.FOXJ3_MOUSE.H11MO...  0.484163  0.421525   \n",
       "mm9.IRF3_MOUSE.H11MO.0.A-mm9.FOXJ3_MOUSE.H11MO.0.A  0.479638  0.443946   \n",
       "\n",
       "                                                           2         3  \\\n",
       "mm9.FOXJ2_MOUSE.H11MO.0.C-mm9.STAT1_MOUSE.H11MO...  0.350000  0.395455   \n",
       "mm9.IRF3_MOUSE.H11MO.0.A-mm9.FOXO4_MOUSE.H11MO.0.C  0.345455  0.359091   \n",
       "mm9.MEF2A_MOUSE.H11MO.0.A-mm9.IRF3_MOUSE.H11MO.0.A  0.336364  0.350000   \n",
       "mm9.STAT1_MOUSE.H11MO.0.A-mm9.FOXJ3_MOUSE.H11MO...  0.436364  0.427273   \n",
       "mm9.IRF3_MOUSE.H11MO.0.A-mm9.FOXJ3_MOUSE.H11MO.0.A  0.436364  0.450000   \n",
       "\n",
       "                                                           4         5  \\\n",
       "mm9.FOXJ2_MOUSE.H11MO.0.C-mm9.STAT1_MOUSE.H11MO...  0.384259  0.409910   \n",
       "mm9.IRF3_MOUSE.H11MO.0.A-mm9.FOXO4_MOUSE.H11MO.0.C  0.333333  0.378378   \n",
       "mm9.MEF2A_MOUSE.H11MO.0.A-mm9.IRF3_MOUSE.H11MO.0.A  0.305556  0.333333   \n",
       "mm9.STAT1_MOUSE.H11MO.0.A-mm9.FOXJ3_MOUSE.H11MO...  0.453704  0.441441   \n",
       "mm9.IRF3_MOUSE.H11MO.0.A-mm9.FOXJ3_MOUSE.H11MO.0.A  0.449074  0.441441   \n",
       "\n",
       "                                                           6         7  \\\n",
       "mm9.FOXJ2_MOUSE.H11MO.0.C-mm9.STAT1_MOUSE.H11MO...  0.408889  0.375566   \n",
       "mm9.IRF3_MOUSE.H11MO.0.A-mm9.FOXO4_MOUSE.H11MO.0.C  0.355556  0.375566   \n",
       "mm9.MEF2A_MOUSE.H11MO.0.A-mm9.IRF3_MOUSE.H11MO.0.A  0.320000  0.330317   \n",
       "mm9.STAT1_MOUSE.H11MO.0.A-mm9.FOXJ3_MOUSE.H11MO...  0.435556  0.434389   \n",
       "mm9.IRF3_MOUSE.H11MO.0.A-mm9.FOXJ3_MOUSE.H11MO.0.A  0.435556  0.443439   \n",
       "\n",
       "                                                           8         9  \\\n",
       "mm9.FOXJ2_MOUSE.H11MO.0.C-mm9.STAT1_MOUSE.H11MO...  0.345455  0.377778   \n",
       "mm9.IRF3_MOUSE.H11MO.0.A-mm9.FOXO4_MOUSE.H11MO.0.C  0.340909  0.337778   \n",
       "mm9.MEF2A_MOUSE.H11MO.0.A-mm9.IRF3_MOUSE.H11MO.0.A  0.295455  0.320000   \n",
       "mm9.STAT1_MOUSE.H11MO.0.A-mm9.FOXJ3_MOUSE.H11MO...  0.409091  0.440000   \n",
       "mm9.IRF3_MOUSE.H11MO.0.A-mm9.FOXJ3_MOUSE.H11MO.0.A  0.440909  0.453333   \n",
       "\n",
       "                                                      ...          990  \\\n",
       "mm9.FOXJ2_MOUSE.H11MO.0.C-mm9.STAT1_MOUSE.H11MO...    ...     0.400000   \n",
       "mm9.IRF3_MOUSE.H11MO.0.A-mm9.FOXO4_MOUSE.H11MO.0.C    ...     0.372727   \n",
       "mm9.MEF2A_MOUSE.H11MO.0.A-mm9.IRF3_MOUSE.H11MO.0.A    ...     0.318182   \n",
       "mm9.STAT1_MOUSE.H11MO.0.A-mm9.FOXJ3_MOUSE.H11MO...    ...     0.431818   \n",
       "mm9.IRF3_MOUSE.H11MO.0.A-mm9.FOXJ3_MOUSE.H11MO.0.A    ...     0.445455   \n",
       "\n",
       "                                                         991       992  \\\n",
       "mm9.FOXJ2_MOUSE.H11MO.0.C-mm9.STAT1_MOUSE.H11MO...  0.376682  0.361111   \n",
       "mm9.IRF3_MOUSE.H11MO.0.A-mm9.FOXO4_MOUSE.H11MO.0.C  0.340807  0.300926   \n",
       "mm9.MEF2A_MOUSE.H11MO.0.A-mm9.IRF3_MOUSE.H11MO.0.A  0.331839  0.305556   \n",
       "mm9.STAT1_MOUSE.H11MO.0.A-mm9.FOXJ3_MOUSE.H11MO...  0.430493  0.388889   \n",
       "mm9.IRF3_MOUSE.H11MO.0.A-mm9.FOXJ3_MOUSE.H11MO.0.A  0.439462  0.388889   \n",
       "\n",
       "                                                         993       994  \\\n",
       "mm9.FOXJ2_MOUSE.H11MO.0.C-mm9.STAT1_MOUSE.H11MO...  0.377273  0.394737   \n",
       "mm9.IRF3_MOUSE.H11MO.0.A-mm9.FOXO4_MOUSE.H11MO.0.C  0.336364  0.350877   \n",
       "mm9.MEF2A_MOUSE.H11MO.0.A-mm9.IRF3_MOUSE.H11MO.0.A  0.318182  0.315789   \n",
       "mm9.STAT1_MOUSE.H11MO.0.A-mm9.FOXJ3_MOUSE.H11MO...  0.418182  0.451754   \n",
       "mm9.IRF3_MOUSE.H11MO.0.A-mm9.FOXJ3_MOUSE.H11MO.0.A  0.427273  0.473684   \n",
       "\n",
       "                                                         995       996  \\\n",
       "mm9.FOXJ2_MOUSE.H11MO.0.C-mm9.STAT1_MOUSE.H11MO...  0.381166  0.377880   \n",
       "mm9.IRF3_MOUSE.H11MO.0.A-mm9.FOXO4_MOUSE.H11MO.0.C  0.354260  0.345622   \n",
       "mm9.MEF2A_MOUSE.H11MO.0.A-mm9.IRF3_MOUSE.H11MO.0.A  0.336323  0.308756   \n",
       "mm9.STAT1_MOUSE.H11MO.0.A-mm9.FOXJ3_MOUSE.H11MO...  0.394619  0.414747   \n",
       "mm9.IRF3_MOUSE.H11MO.0.A-mm9.FOXJ3_MOUSE.H11MO.0.A  0.426009  0.423963   \n",
       "\n",
       "                                                         997       998  \\\n",
       "mm9.FOXJ2_MOUSE.H11MO.0.C-mm9.STAT1_MOUSE.H11MO...  0.364865  0.372727   \n",
       "mm9.IRF3_MOUSE.H11MO.0.A-mm9.FOXO4_MOUSE.H11MO.0.C  0.333333  0.409091   \n",
       "mm9.MEF2A_MOUSE.H11MO.0.A-mm9.IRF3_MOUSE.H11MO.0.A  0.297297  0.345455   \n",
       "mm9.STAT1_MOUSE.H11MO.0.A-mm9.FOXJ3_MOUSE.H11MO...  0.423423  0.445455   \n",
       "mm9.IRF3_MOUSE.H11MO.0.A-mm9.FOXJ3_MOUSE.H11MO.0.A  0.432432  0.477273   \n",
       "\n",
       "                                                         999  \n",
       "mm9.FOXJ2_MOUSE.H11MO.0.C-mm9.STAT1_MOUSE.H11MO...  0.362445  \n",
       "mm9.IRF3_MOUSE.H11MO.0.A-mm9.FOXO4_MOUSE.H11MO.0.C  0.371179  \n",
       "mm9.MEF2A_MOUSE.H11MO.0.A-mm9.IRF3_MOUSE.H11MO.0.A  0.301310  \n",
       "mm9.STAT1_MOUSE.H11MO.0.A-mm9.FOXJ3_MOUSE.H11MO...  0.427948  \n",
       "mm9.IRF3_MOUSE.H11MO.0.A-mm9.FOXJ3_MOUSE.H11MO.0.A  0.441048  \n",
       "\n",
       "[5 rows x 1000 columns]"
      ]
     },
     "execution_count": 4,
     "metadata": {},
     "output_type": "execute_result"
    }
   ],
   "source": [
    "a.head()"
   ]
  },
  {
   "cell_type": "code",
   "execution_count": 5,
   "metadata": {},
   "outputs": [],
   "source": [
    "a=a.T"
   ]
  },
  {
   "cell_type": "code",
   "execution_count": 6,
   "metadata": {},
   "outputs": [],
   "source": [
    "b=pd.melt(a,value_vars=a.columns)"
   ]
  },
  {
   "cell_type": "code",
   "execution_count": 7,
   "metadata": {},
   "outputs": [
    {
     "data": {
      "text/plain": [
       "<matplotlib.axes._subplots.AxesSubplot at 0x25fb68fa9e8>"
      ]
     },
     "execution_count": 7,
     "metadata": {},
     "output_type": "execute_result"
    },
    {
     "data": {
      "image/png": "[encoded data removed]",
      "text/plain": [
       "<matplotlib.figure.Figure at 0x25fb68fa898>"
      ]
     },
     "metadata": {},
     "output_type": "display_data"
    }
   ],
   "source": [
    "sns.boxplot(y='value',x='variable',data=b)"
   ]
  },
  {
   "cell_type": "code",
   "execution_count": 21,
   "metadata": {},
   "outputs": [
    {
     "name": "stdout",
     "output_type": "stream",
     "text": [
      "(6, 1000)\n"
     ]
    },
    {
     "data": {
      "image/png": "[encoded data removed]",
      "text/plain": [
       "<matplotlib.figure.Figure at 0x25fba609978>"
      ]
     },
     "metadata": {},
     "output_type": "display_data"
    }
   ],
   "source": [
    "def plot_df(file):\n",
    "    f,ax1 = plt.subplots()\n",
    "    a=pd.read_csv(file,index_col=0)\n",
    "    print (a.shape)\n",
    "    a=a.T\n",
    "    columns_name = []\n",
    "    for x in a.columns:\n",
    "        [m1,m2] = x.split(\"-\")\n",
    "        m1 = m1.split(\".\")[1].replace(\"_MOUSE\",'')\n",
    "        m2 = m2.split(\".\")[1].replace(\"_MOUSE\",'')\n",
    "        columns_name.append(m1+\"-\"+m2)\n",
    "    a.columns = columns_name\n",
    "#     print (a.shape)\n",
    "    b=pd.melt(a,value_vars=a.columns)\n",
    "    sns.boxplot(y='value',x='variable',data=b)\n",
    "    ax1.set_ylabel('Foreground Coverage')\n",
    "    ax1.set_xlabel('feature sets')\n",
    "    plt.xticks(rotation=45)\n",
    "plot_df('for_plot.csv')"
   ]
  },
  {
   "cell_type": "code",
   "execution_count": 22,
   "metadata": {},
   "outputs": [
    {
     "name": "stdout",
     "output_type": "stream",
     "text": [
      "(6, 1000)\n"
     ]
    },
    {
     "data": {
      "image/png": "[encoded data removed]",
      "text/plain": [
       "<matplotlib.figure.Figure at 0x25fba73bc88>"
      ]
     },
     "metadata": {},
     "output_type": "display_data"
    }
   ],
   "source": [
    "plot_df('random_sampling_for_plot.csv')"
   ]
  }
 ],
 "metadata": {
  "kernelspec": {
   "display_name": "Python 3",
   "language": "python",
   "name": "python3"
  },
  "language_info": {
   "codemirror_mode": {
    "name": "ipython",
    "version": 3
   },
   "file_extension": ".py",
   "mimetype": "text/x-python",
   "name": "python",
   "nbconvert_exporter": "python",
   "pygments_lexer": "ipython3",
   "version": "3.6.4"
  }
 },
 "nbformat": 4,
 "nbformat_minor": 2
}
