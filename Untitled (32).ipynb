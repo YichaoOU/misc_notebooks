{
 "cells": [
  {
   "cell_type": "code",
   "execution_count": 1,
   "metadata": {
    "collapsed": true
   },
   "outputs": [],
   "source": [
    "\n",
    "import sys\n",
    "import pandas as pd\n",
    "\n",
    "from itertools import combinations as combo\n"
   ]
  },
  {
   "cell_type": "code",
   "execution_count": 11,
   "metadata": {
    "collapsed": true
   },
   "outputs": [],
   "source": [
    "def count_pattern2(selected_motifs_name,csv_file,k):\n",
    "\n",
    "\n",
    "\tdf = pd.read_csv(csv_file,index_col=0)\n",
    "\n",
    "\tdf = df[selected_motifs_name+[df.columns[-1]]]\n",
    "\n",
    "\ttemp = df[df[df.columns[-1]] == 1]\n",
    "\tmy_result = []\n",
    "\tfor subset in combo(selected_motifs_name,k):\n",
    "\t\tsubset = list(subset)\n",
    "\t\t# print tf,subset\n",
    "\t\toutline1 = map(lambda x:\"Motif_\"+str(selected_motifs_name.index(x)+1),list(subset))\n",
    "\t\t# print map(lambda x:temp.index[temp[x] == 1].tolist()[1],subset[1:])\n",
    "\t\toutline2 = set(temp.index[temp[subset[0]] == 1]).intersection(*map(lambda x:temp.index[temp[x] == 1].tolist(),subset[1:]))\n",
    "\t\tmy_result.append([outline1,list(outline2),len(outline2),outline2])\n",
    "\t\t\n",
    "\ttemp = df[df[df.columns[-1]] == -1]\n",
    "\tmy_result2 = {}\n",
    "\tfor subset in combo(selected_motifs_name,k):\n",
    "\t\tsubset = list(subset)\n",
    "\t\t# print tf,subset\n",
    "\t\toutline1 = map(lambda x:\"Motif_\"+str(selected_motifs_name.index(x)+1),list(subset))\n",
    "\t\t# print map(lambda x:temp.index[temp[x] == 1].tolist()[1],subset[1:])\n",
    "\t\toutline2 = set(temp.index[temp[subset[0]] == 1]).intersection(*map(lambda x:temp.index[temp[x] == 1].tolist(),subset[1:]))\n",
    "\t\tmy_result2[\"\\t\".join(outline1)] = len(outline2)\n",
    "\t\t\n",
    "\t\t\n",
    "\t\t\n",
    "\tout = open(\"HRGP_selected_motif.patterns2\",\"wb\")\t\n",
    "\tcum_cov = 0\n",
    "\tmy_list = []\n",
    "\tfor elems in sorted(my_result,key=lambda x:x[2],reverse=True):\n",
    "\t\t\n",
    "\t\tmy_list += list(elems[-1])\n",
    "\t\tmy_list = list(set(my_list))\n",
    "\t\t# print >>out,outline2\n",
    "\t\tprint >>out,\"\\t\".join(elems[0]+[str(elems[2]/13.0),str(len(my_list)/13.0)])\n",
    "\t\t# print >>out,len(my_list)/13.0\n",
    "\n",
    "\t\t# print >>out,\"\\n\".join(elems[1])\n",
    "\tout.close()\n",
    "\treturn 1"
   ]
  },
  {
   "cell_type": "code",
   "execution_count": 12,
   "metadata": {},
   "outputs": [
    {
     "data": {
      "text/plain": [
       "1"
      ]
     },
     "execution_count": 12,
     "metadata": {},
     "output_type": "execute_result"
    }
   ],
   "source": [
    "count_pattern2(selected_motifs_name,'HRGP_raw_both_strand.csv',3)"
   ]
  },
  {
   "cell_type": "code",
   "execution_count": 2,
   "metadata": {
    "collapsed": true
   },
   "outputs": [],
   "source": [
    "selected_motifs_name = map(lambda x:x.strip(),open(\"greedy_pnpskc_2_result.list\").readlines())"
   ]
  },
  {
   "cell_type": "code",
   "execution_count": 3,
   "metadata": {
    "collapsed": true
   },
   "outputs": [],
   "source": [
    "df = pd.read_csv('HRGP_raw_both_strand.csv',index_col=0)"
   ]
  },
  {
   "cell_type": "code",
   "execution_count": 4,
   "metadata": {
    "collapsed": true
   },
   "outputs": [],
   "source": [
    "df = df[selected_motifs_name+[df.columns[-1]]]"
   ]
  },
  {
   "cell_type": "code",
   "execution_count": 7,
   "metadata": {
    "collapsed": true
   },
   "outputs": [
    {
     "name": "stdout",
     "output_type": "stream",
     "text": [
      "                                                    gimme_41_Homer_8_2  \\\n",
      "AT3G57690|AT3G57690.1|AGP23|3|21384146|21384605                    0.0   \n",
      "AT2G18470|AT2G18470.3;AT2G18470.1;AT2G18470.2;A...                 1.0   \n",
      "AT4G33970|AT4G33970.1|PEX4|4|16278941|16282048                     0.0   \n",
      "AT3G18810|AT3G18810.1|PERK6|3|6480484|6483774                      0.0   \n",
      "AT3G01700|AT3G01700.1|AGP11|3|258879|259631                        1.0   \n",
      "AT1G24520|AT1G24520.1|BCP1|1|8688563|8689268                       0.0   \n",
      "AT1G23540|AT1G23540.1;AT1G23540.2|PERK12|1|8346...                 1.0   \n",
      "AT1G10620|AT1G10620.1|PERK11|1|3509001|3512321                     0.0   \n",
      "AT1G49270|AT1G49270.1|PERK7|1|18227122|18230330                    1.0   \n",
      "AT4G34440|AT4G34440.2;AT4G34440.1|PERK5|4|16465...                 0.0   \n",
      "AT2G24450|AT2G24450.1|FLA3|2|10392787|10393976                     1.0   \n",
      "AT1G54215|AT1G54215.1||1|20242878|20243730                         1.0   \n",
      "AT5G14380|AT5G14380.1|AGP6|5|4635644|4636676                       0.0   \n",
      "\n",
      "                                                    gimme_43_Homer_8_4  \\\n",
      "AT3G57690|AT3G57690.1|AGP23|3|21384146|21384605                    0.0   \n",
      "AT2G18470|AT2G18470.3;AT2G18470.1;AT2G18470.2;A...                 0.0   \n",
      "AT4G33970|AT4G33970.1|PEX4|4|16278941|16282048                     0.0   \n",
      "AT3G18810|AT3G18810.1|PERK6|3|6480484|6483774                      1.0   \n",
      "AT3G01700|AT3G01700.1|AGP11|3|258879|259631                        0.0   \n",
      "AT1G24520|AT1G24520.1|BCP1|1|8688563|8689268                       0.0   \n",
      "AT1G23540|AT1G23540.1;AT1G23540.2|PERK12|1|8346...                 0.0   \n",
      "AT1G10620|AT1G10620.1|PERK11|1|3509001|3512321                     1.0   \n",
      "AT1G49270|AT1G49270.1|PERK7|1|18227122|18230330                    1.0   \n",
      "AT4G34440|AT4G34440.2;AT4G34440.1|PERK5|4|16465...                 1.0   \n",
      "AT2G24450|AT2G24450.1|FLA3|2|10392787|10393976                     0.0   \n",
      "AT1G54215|AT1G54215.1||1|20242878|20243730                         0.0   \n",
      "AT5G14380|AT5G14380.1|AGP6|5|4635644|4636676                       1.0   \n",
      "\n",
      "                                                    gimme_42_Homer_8_3  \\\n",
      "AT3G57690|AT3G57690.1|AGP23|3|21384146|21384605                    1.0   \n",
      "AT2G18470|AT2G18470.3;AT2G18470.1;AT2G18470.2;A...                 1.0   \n",
      "AT4G33970|AT4G33970.1|PEX4|4|16278941|16282048                     1.0   \n",
      "AT3G18810|AT3G18810.1|PERK6|3|6480484|6483774                      0.0   \n",
      "AT3G01700|AT3G01700.1|AGP11|3|258879|259631                        1.0   \n",
      "AT1G24520|AT1G24520.1|BCP1|1|8688563|8689268                       0.0   \n",
      "AT1G23540|AT1G23540.1;AT1G23540.2|PERK12|1|8346...                 1.0   \n",
      "AT1G10620|AT1G10620.1|PERK11|1|3509001|3512321                     0.0   \n",
      "AT1G49270|AT1G49270.1|PERK7|1|18227122|18230330                    0.0   \n",
      "AT4G34440|AT4G34440.2;AT4G34440.1|PERK5|4|16465...                 0.0   \n",
      "AT2G24450|AT2G24450.1|FLA3|2|10392787|10393976                     0.0   \n",
      "AT1G54215|AT1G54215.1||1|20242878|20243730                         0.0   \n",
      "AT5G14380|AT5G14380.1|AGP6|5|4635644|4636676                       0.0   \n",
      "\n",
      "                                                    DME_TCACCGGGGAGAAG  \\\n",
      "AT3G57690|AT3G57690.1|AGP23|3|21384146|21384605                    0.0   \n",
      "AT2G18470|AT2G18470.3;AT2G18470.1;AT2G18470.2;A...                 0.0   \n",
      "AT4G33970|AT4G33970.1|PEX4|4|16278941|16282048                     0.0   \n",
      "AT3G18810|AT3G18810.1|PERK6|3|6480484|6483774                      0.0   \n",
      "AT3G01700|AT3G01700.1|AGP11|3|258879|259631                        1.0   \n",
      "AT1G24520|AT1G24520.1|BCP1|1|8688563|8689268                       0.0   \n",
      "AT1G23540|AT1G23540.1;AT1G23540.2|PERK12|1|8346...                 0.0   \n",
      "AT1G10620|AT1G10620.1|PERK11|1|3509001|3512321                     0.0   \n",
      "AT1G49270|AT1G49270.1|PERK7|1|18227122|18230330                    1.0   \n",
      "AT4G34440|AT4G34440.2;AT4G34440.1|PERK5|4|16465...                 1.0   \n",
      "AT2G24450|AT2G24450.1|FLA3|2|10392787|10393976                     0.0   \n",
      "AT1G54215|AT1G54215.1||1|20242878|20243730                         0.0   \n",
      "AT5G14380|AT5G14380.1|AGP6|5|4635644|4636676                       1.0   \n",
      "\n",
      "                                                    DME_CTGSRRGWW  \\\n",
      "AT3G57690|AT3G57690.1|AGP23|3|21384146|21384605               1.0   \n",
      "AT2G18470|AT2G18470.3;AT2G18470.1;AT2G18470.2;A...            0.0   \n",
      "AT4G33970|AT4G33970.1|PEX4|4|16278941|16282048                1.0   \n",
      "AT3G18810|AT3G18810.1|PERK6|3|6480484|6483774                 0.0   \n",
      "AT3G01700|AT3G01700.1|AGP11|3|258879|259631                   0.0   \n",
      "AT1G24520|AT1G24520.1|BCP1|1|8688563|8689268                  1.0   \n",
      "AT1G23540|AT1G23540.1;AT1G23540.2|PERK12|1|8346...            0.0   \n",
      "AT1G10620|AT1G10620.1|PERK11|1|3509001|3512321                1.0   \n",
      "AT1G49270|AT1G49270.1|PERK7|1|18227122|18230330               1.0   \n",
      "AT4G34440|AT4G34440.2;AT4G34440.1|PERK5|4|16465...            0.0   \n",
      "AT2G24450|AT2G24450.1|FLA3|2|10392787|10393976                1.0   \n",
      "AT1G54215|AT1G54215.1||1|20242878|20243730                    1.0   \n",
      "AT5G14380|AT5G14380.1|AGP6|5|4635644|4636676                  0.0   \n",
      "\n",
      "                                                    DME_CGAGAGCTGCTTGC  class  \n",
      "AT3G57690|AT3G57690.1|AGP23|3|21384146|21384605                    0.0    1.0  \n",
      "AT2G18470|AT2G18470.3;AT2G18470.1;AT2G18470.2;A...                 0.0    1.0  \n",
      "AT4G33970|AT4G33970.1|PEX4|4|16278941|16282048                     0.0    1.0  \n",
      "AT3G18810|AT3G18810.1|PERK6|3|6480484|6483774                      1.0    1.0  \n",
      "AT3G01700|AT3G01700.1|AGP11|3|258879|259631                        0.0    1.0  \n",
      "AT1G24520|AT1G24520.1|BCP1|1|8688563|8689268                       1.0    1.0  \n",
      "AT1G23540|AT1G23540.1;AT1G23540.2|PERK12|1|8346...                 0.0    1.0  \n",
      "AT1G10620|AT1G10620.1|PERK11|1|3509001|3512321                     0.0    1.0  \n",
      "AT1G49270|AT1G49270.1|PERK7|1|18227122|18230330                    1.0    1.0  \n",
      "AT4G34440|AT4G34440.2;AT4G34440.1|PERK5|4|16465...                 0.0    1.0  \n",
      "AT2G24450|AT2G24450.1|FLA3|2|10392787|10393976                     0.0    1.0  \n",
      "AT1G54215|AT1G54215.1||1|20242878|20243730                         1.0    1.0  \n",
      "AT5G14380|AT5G14380.1|AGP6|5|4635644|4636676                       0.0    1.0  \n"
     ]
    }
   ],
   "source": [
    "print "
   ]
  },
  {
   "cell_type": "code",
   "execution_count": 25,
   "metadata": {},
   "outputs": [
    {
     "name": "stdout",
     "output_type": "stream",
     "text": [
      "Motif_1 Motif_2 1\n",
      "Motif_1 Motif_3 3\n",
      "Motif_1 Motif_4 2\n",
      "Motif_1 Motif_5 3\n",
      "Motif_1 Motif_6 2\n",
      "Motif_2 Motif_3 0\n",
      "Motif_2 Motif_4 3\n",
      "Motif_2 Motif_5 2\n",
      "Motif_2 Motif_6 2\n",
      "Motif_3 Motif_4 1\n",
      "Motif_3 Motif_5 2\n",
      "Motif_3 Motif_6 0\n",
      "Motif_4 Motif_5 1\n",
      "Motif_4 Motif_6 1\n",
      "Motif_5 Motif_6 3\n"
     ]
    }
   ],
   "source": [
    "temp = df[df[df.columns[-1]] == 1]\n",
    "for subset in combo(selected_motifs_name,2):\n",
    "    print \"Motif_\"+str(selected_motifs_name.index(subset[0])+1),\"Motif_\"+str(selected_motifs_name.index(subset[1])+1),len(set(temp.index[temp[subset[0]] == 1]).intersection(temp.index[temp[subset[1]] == 1]))"
   ]
  },
  {
   "cell_type": "code",
   "execution_count": 14,
   "metadata": {
    "collapsed": true
   },
   "outputs": [
    {
     "data": {
      "text/plain": [
       "AT3G57690|AT3G57690.1|AGP23|3|21384146|21384605                                      0.0\n",
       "AT2G18470|AT2G18470.3;AT2G18470.1;AT2G18470.2;AT2G18470.4|PERK4|2|8005003|8008681    0.0\n",
       "AT4G33970|AT4G33970.1|PEX4|4|16278941|16282048                                       0.0\n",
       "AT3G18810|AT3G18810.1|PERK6|3|6480484|6483774                                        0.0\n",
       "AT3G01700|AT3G01700.1|AGP11|3|258879|259631                                          1.0\n",
       "AT1G24520|AT1G24520.1|BCP1|1|8688563|8689268                                         0.0\n",
       "AT1G23540|AT1G23540.1;AT1G23540.2|PERK12|1|8346827|8350068                           0.0\n",
       "AT1G10620|AT1G10620.1|PERK11|1|3509001|3512321                                       0.0\n",
       "AT1G49270|AT1G49270.1|PERK7|1|18227122|18230330                                      1.0\n",
       "AT4G34440|AT4G34440.2;AT4G34440.1|PERK5|4|16465730|16469039                          1.0\n",
       "AT2G24450|AT2G24450.1|FLA3|2|10392787|10393976                                       0.0\n",
       "AT1G54215|AT1G54215.1||1|20242878|20243730                                           0.0\n",
       "AT5G14380|AT5G14380.1|AGP6|5|4635644|4636676                                         1.0\n",
       "Name: DME_TCACCGGGGAGAAG, dtype: float64"
      ]
     },
     "execution_count": 14,
     "metadata": {},
     "output_type": "execute_result"
    }
   ],
   "source": [
    "temp['DME_TCACCGGGGAGAAG']"
   ]
  },
  {
   "cell_type": "code",
   "execution_count": 15,
   "metadata": {
    "collapsed": true
   },
   "outputs": [
    {
     "data": {
      "text/plain": [
       "AT3G57690|AT3G57690.1|AGP23|3|21384146|21384605                                      0.0\n",
       "AT2G18470|AT2G18470.3;AT2G18470.1;AT2G18470.2;AT2G18470.4|PERK4|2|8005003|8008681    0.0\n",
       "AT4G33970|AT4G33970.1|PEX4|4|16278941|16282048                                       0.0\n",
       "AT3G18810|AT3G18810.1|PERK6|3|6480484|6483774                                        1.0\n",
       "AT3G01700|AT3G01700.1|AGP11|3|258879|259631                                          0.0\n",
       "AT1G24520|AT1G24520.1|BCP1|1|8688563|8689268                                         0.0\n",
       "AT1G23540|AT1G23540.1;AT1G23540.2|PERK12|1|8346827|8350068                           0.0\n",
       "AT1G10620|AT1G10620.1|PERK11|1|3509001|3512321                                       1.0\n",
       "AT1G49270|AT1G49270.1|PERK7|1|18227122|18230330                                      1.0\n",
       "AT4G34440|AT4G34440.2;AT4G34440.1|PERK5|4|16465730|16469039                          1.0\n",
       "AT2G24450|AT2G24450.1|FLA3|2|10392787|10393976                                       0.0\n",
       "AT1G54215|AT1G54215.1||1|20242878|20243730                                           0.0\n",
       "AT5G14380|AT5G14380.1|AGP6|5|4635644|4636676                                         1.0\n",
       "Name: gimme_43_Homer_8_4, dtype: float64"
      ]
     },
     "execution_count": 15,
     "metadata": {},
     "output_type": "execute_result"
    }
   ],
   "source": [
    "temp['gimme_43_Homer_8_4']"
   ]
  },
  {
   "cell_type": "code",
   "execution_count": 20,
   "metadata": {},
   "outputs": [
    {
     "data": {
      "text/plain": [
       "{'AT1G49270|AT1G49270.1|PERK7|1|18227122|18230330',\n",
       " 'AT3G01700|AT3G01700.1|AGP11|3|258879|259631',\n",
       " 'AT4G34440|AT4G34440.2;AT4G34440.1|PERK5|4|16465730|16469039',\n",
       " 'AT5G14380|AT5G14380.1|AGP6|5|4635644|4636676'}"
      ]
     },
     "execution_count": 20,
     "metadata": {},
     "output_type": "execute_result"
    }
   ],
   "source": [
    "set(temp.index[temp['DME_TCACCGGGGAGAAG'] == 1])"
   ]
  },
  {
   "cell_type": "code",
   "execution_count": 26,
   "metadata": {
    "collapsed": true
   },
   "outputs": [],
   "source": [
    "import math\n",
    "\n",
    "def nCr(n,r):\n",
    "    f = math.factorial\n",
    "    return f(n) / f(r) / f(n-r)"
   ]
  },
  {
   "cell_type": "code",
   "execution_count": 40,
   "metadata": {
    "collapsed": true
   },
   "outputs": [],
   "source": [
    "def hyper_p(k,P,A,B):\n",
    "    item1 = nCr(B,k)\n",
    "    item2 = nCr((P-B),A-k)\n",
    "    item3 = nCr(P,A)\n",
    "    return float(item1*item2)/item3\n",
    "def p_value(k,P,A,B):\n",
    "    return sum(map(lambda x:hyper_p(x,P,A,B),range(k,A+1)))\n"
   ]
  },
  {
   "cell_type": "code",
   "execution_count": 48,
   "metadata": {},
   "outputs": [
    {
     "data": {
      "text/plain": [
       "0.34265734265734266"
      ]
     },
     "execution_count": 48,
     "metadata": {},
     "output_type": "execute_result"
    }
   ],
   "source": [
    "p_value(3,13,4,7)"
   ]
  },
  {
   "cell_type": "code",
   "execution_count": 36,
   "metadata": {},
   "outputs": [
    {
     "data": {
      "text/plain": [
       "0.40792540792540793"
      ]
     },
     "execution_count": 36,
     "metadata": {},
     "output_type": "execute_result"
    }
   ],
   "source": [
    "hyper_p(2,13,5,6)"
   ]
  },
  {
   "cell_type": "code",
   "execution_count": 37,
   "metadata": {},
   "outputs": [
    {
     "data": {
      "text/plain": [
       "0.32634032634032634"
      ]
     },
     "execution_count": 37,
     "metadata": {},
     "output_type": "execute_result"
    }
   ],
   "source": [
    "hyper_p(3,13,5,6)"
   ]
  },
  {
   "cell_type": "code",
   "execution_count": 38,
   "metadata": {},
   "outputs": [
    {
     "data": {
      "text/plain": [
       "0.08158508158508158"
      ]
     },
     "execution_count": 38,
     "metadata": {},
     "output_type": "execute_result"
    }
   ],
   "source": [
    "hyper_p(4,13,5,6)"
   ]
  },
  {
   "cell_type": "code",
   "execution_count": 39,
   "metadata": {},
   "outputs": [
    {
     "data": {
      "text/plain": [
       "0.004662004662004662"
      ]
     },
     "execution_count": 39,
     "metadata": {},
     "output_type": "execute_result"
    }
   ],
   "source": [
    "hyper_p(5,13,5,6)"
   ]
  }
 ],
 "metadata": {
  "kernelspec": {
   "display_name": "Python 2",
   "language": "python",
   "name": "python2"
  },
  "language_info": {
   "codemirror_mode": {
    "name": "ipython",
    "version": 2
   },
   "file_extension": ".py",
   "mimetype": "text/x-python",
   "name": "python",
   "nbconvert_exporter": "python",
   "pygments_lexer": "ipython2",
   "version": "2.7.6"
  }
 },
 "nbformat": 4,
 "nbformat_minor": 2
}
