{
 "cells": [
  {
   "cell_type": "code",
   "execution_count": 2,
   "metadata": {},
   "outputs": [
    {
     "name": "stdout",
     "output_type": "stream",
     "text": [
      "ENSMUSG00000096730 ENSMUSG00000096730\n"
     ]
    }
   ],
   "source": [
    "mapping = {}\n",
    "import pickle\n",
    "with open(\"stringtie_merged.gtf\") as f:\n",
    "    for line in f:\n",
    "        if not \"ref_gene_id\" in line:\n",
    "            continue\n",
    "        if not 'gene_id' in line:\n",
    "            continue\n",
    "        line = line.strip().split()\n",
    "        for i in range(len(line)):\n",
    "            if line[i] == \"gene_id\":\n",
    "                stringID = line[i+1].replace('\"','')\n",
    "                stringID = stringID.replace(';','')\n",
    "            if line[i] == \"ref_gene_id\":\n",
    "                ensemble_id = line[i+1].replace('\"','')\n",
    "                ensemble_id = ensemble_id.replace(';','')\n",
    "        mapping[stringID] = ensemble_id\n",
    "print stringID,ensemble_id"
   ]
  },
  {
   "cell_type": "code",
   "execution_count": 6,
   "metadata": {
    "collapsed": true
   },
   "outputs": [],
   "source": [
    "# read ballgown\n",
    "flag = True\n",
    "cutoff = 0.05\n",
    "out = open(\"ballgown_diff_known_gene.tsv\",\"wb\")\n",
    "with open(\"./stringTie_merged_TPM_count/ballgown_result_with_gene_name.csv\") as f:\n",
    "    for line in f:\n",
    "        if flag:\n",
    "            flag = False\n",
    "            line = line.strip()\n",
    "            line = line.replace('\"','')\n",
    "            line = line.split(\",\")\n",
    "            print >>out,\"\\t\".join(line)\n",
    "            continue\n",
    "        line = line.strip()\n",
    "        line = line.replace('\"','')\n",
    "        line = line.split(\",\")\n",
    "        gene_name = line[0]\n",
    "        p_value = float(line[-2])\n",
    "        gene_id = line[1]\n",
    "        fc = line[2]\n",
    "        if gene_name == '-' or gene_name == \".\":\n",
    "            continue\n",
    "        if p_value <= cutoff:\n",
    "            line[1] = mapping[line[1]]\n",
    "            print >>out,\"\\t\".join(line)\n",
    "out.close()"
   ]
  },
  {
   "cell_type": "code",
   "execution_count": 8,
   "metadata": {
    "collapsed": true
   },
   "outputs": [],
   "source": [
    "# read DESeq\n",
    "flag = True\n",
    "cutoff = 0.05\n",
    "out = open(\"DESeq2_diff_known_gene.tsv\",\"wb\")\n",
    "with open(\"./stringTie_merged_TPM_count/DESeq_result_with_gene_name.csv\") as f:\n",
    "    for line in f:\n",
    "        if flag:\n",
    "            flag = False\n",
    "            line = line.strip()\n",
    "            line = line.replace('\"','')\n",
    "            line = line.split(\",\")\n",
    "            print >>out,\"\\t\".join(line)\n",
    "            continue\n",
    "        line = line.strip()\n",
    "        line = line.replace('\"','')\n",
    "        line = line.split(\",\")\n",
    "        gene_name = line[0]\n",
    "        if line[-2] == \"NA\":\n",
    "            continue\n",
    "        p_value = float(line[-2])\n",
    "        gene_id = line[1]\n",
    "        fc = line[2]\n",
    "        if gene_name == '-' or gene_name == \".\":\n",
    "            continue\n",
    "        \n",
    "        if p_value <= cutoff:\n",
    "            line[1] = mapping[line[1]]\n",
    "            print >>out,\"\\t\".join(line)\n",
    "out.close()"
   ]
  },
  {
   "cell_type": "code",
   "execution_count": 9,
   "metadata": {
    "collapsed": true
   },
   "outputs": [],
   "source": [
    "# read EdgeR\n",
    "flag = True\n",
    "cutoff = 0.05\n",
    "out = open(\"EdgeR_diff_known_gene.tsv\",\"wb\")\n",
    "with open(\"./stringTie_merged_TPM_count/EdgeR_result_with_gene_name.csv\") as f:\n",
    "    for line in f:\n",
    "        if flag:\n",
    "            flag = False\n",
    "            line = line.strip()\n",
    "            line = line.replace('\"','')\n",
    "            line = line.split(\",\")\n",
    "            print >>out,\"\\t\".join(line)\n",
    "            continue\n",
    "        line = line.strip()\n",
    "        line = line.replace('\"','')\n",
    "        line = line.split(\",\")\n",
    "        gene_name = line[0]\n",
    "        if line[-2] == \"NA\":\n",
    "            continue\n",
    "        p_value = float(line[-2])\n",
    "        gene_id = line[1]\n",
    "        fc = line[2]\n",
    "        if gene_name == '-' or gene_name == \".\":\n",
    "            continue\n",
    "        \n",
    "        if p_value <= cutoff:\n",
    "            line[1] = mapping[line[1]]\n",
    "            print >>out,\"\\t\".join(line)\n",
    "out.close()"
   ]
  },
  {
   "cell_type": "code",
   "execution_count": 10,
   "metadata": {
    "collapsed": true
   },
   "outputs": [],
   "source": [
    "# read Voom\n",
    "flag = True\n",
    "cutoff = 0.05\n",
    "out = open(\"Voom_diff_known_gene.tsv\",\"wb\")\n",
    "with open(\"./stringTie_merged_TPM_count/Voom_result_with_gene_name.csv\") as f:\n",
    "    for line in f:\n",
    "        if flag:\n",
    "            flag = False\n",
    "            line = line.strip()\n",
    "            line = line.replace('\"','')\n",
    "            line = line.split(\",\")\n",
    "            print >>out,\"\\t\".join(line)\n",
    "            continue\n",
    "        line = line.strip()\n",
    "        line = line.replace('\"','')\n",
    "        line = line.split(\",\")\n",
    "        gene_name = line[0]\n",
    "        if line[-3] == \"NA\":\n",
    "            continue\n",
    "        p_value = float(line[-3])\n",
    "        gene_id = line[1]\n",
    "        fc = line[2]\n",
    "        if gene_name == '-' or gene_name == \".\":\n",
    "            continue\n",
    "        \n",
    "        if p_value <= cutoff:\n",
    "            line[1] = mapping[line[1]]\n",
    "            print >>out,\"\\t\".join(line)\n",
    "out.close()"
   ]
  },
  {
   "cell_type": "code",
   "execution_count": 43,
   "metadata": {},
   "outputs": [
    {
     "name": "stdout",
     "output_type": "stream",
     "text": [
      "12341\n"
     ]
    }
   ],
   "source": [
    "import numpy as np\n",
    "a=np.arange(0.05,0.97,0.02)\n",
    "result = []\n",
    "for i in a:\n",
    "    for j in a:\n",
    "        for x in a:\n",
    "            for y in a:\n",
    "                \n",
    "                if (x+y+i+j) > 0.9999 and (x+y+i+j) < 1.0001:\n",
    "                    result.append([i,j,x,y])\n",
    "print len(result)"
   ]
  },
  {
   "cell_type": "code",
   "execution_count": 44,
   "metadata": {},
   "outputs": [
    {
     "data": {
      "text/plain": [
       "0.95000000000000018"
      ]
     },
     "execution_count": 44,
     "metadata": {},
     "output_type": "execute_result"
    }
   ],
   "source": [
    "a[-1]"
   ]
  }
 ],
 "metadata": {
  "kernelspec": {
   "display_name": "Python 3",
   "language": "python",
   "name": "python3"
  },
  "language_info": {
   "codemirror_mode": {
    "name": "ipython",
    "version": 3
   },
   "file_extension": ".py",
   "mimetype": "text/x-python",
   "name": "python",
   "nbconvert_exporter": "python",
   "pygments_lexer": "ipython3",
   "version": "3.6.4"
  }
 },
 "nbformat": 4,
 "nbformat_minor": 2
}
