{
 "cells": [
  {
   "cell_type": "code",
   "execution_count": 1,
   "metadata": {
    "collapsed": true
   },
   "outputs": [],
   "source": [
    "import pandas as pd\n",
    "import networkx as nx\n",
    "import sys"
   ]
  },
  {
   "cell_type": "code",
   "execution_count": 2,
   "metadata": {
    "collapsed": true
   },
   "outputs": [],
   "source": [
    "df = pd.read_csv(\"Mouse_Hist1_interaction_features.csv\")"
   ]
  },
  {
   "cell_type": "code",
   "execution_count": 17,
   "metadata": {
    "collapsed": true
   },
   "outputs": [],
   "source": [
    "df['distance'] = abs(df.name.str.split('-',expand=True)[1].astype(int) - df.variable.str.split('-',expand=True)[1].astype(int))/30000\n",
    "G=nx.from_pandas_edgelist(df, 'name', 'variable', ['value', 'distance'])\n",
    "subG = nx.connected_component_subgraphs(G)\n"
   ]
  },
  {
   "cell_type": "code",
   "execution_count": 18,
   "metadata": {},
   "outputs": [],
   "source": [
    "my_list = {}\n",
    "count = 1\n",
    "for i in list(subG):\n",
    "\tmy_list[count] = list(i.nodes())\n",
    "\tcount += 1\n"
   ]
  },
  {
   "cell_type": "code",
   "execution_count": 21,
   "metadata": {},
   "outputs": [
    {
     "data": {
      "text/plain": [
       "[1, 2, 3, 4, 5, 6]"
      ]
     },
     "execution_count": 21,
     "metadata": {},
     "output_type": "execute_result"
    }
   ],
   "source": [
    "sorted(my_list,key=lambda x:len(my_list[x]),reverse=True)"
   ]
  },
  {
   "cell_type": "code",
   "execution_count": 27,
   "metadata": {
    "collapsed": true
   },
   "outputs": [],
   "source": [
    "degrees = G.degree()"
   ]
  },
  {
   "cell_type": "code",
   "execution_count": 29,
   "metadata": {},
   "outputs": [
    {
     "data": {
      "text/plain": [
       "2"
      ]
     },
     "execution_count": 29,
     "metadata": {},
     "output_type": "execute_result"
    }
   ],
   "source": [
    "degrees['chr13:23280000-23310000']"
   ]
  },
  {
   "cell_type": "code",
   "execution_count": 26,
   "metadata": {
    "collapsed": true
   },
   "outputs": [
    {
     "data": {
      "text/plain": [
       "{'chr13:21450000-21480000': 0,\n",
       " 'chr13:21570000-21600000': 0,\n",
       " 'chr13:21630000-21660000': 0,\n",
       " 'chr13:21660000-21690000': 0,\n",
       " 'chr13:21690000-21720000': 0,\n",
       " 'chr13:21720000-21750000': 0,\n",
       " 'chr13:21750000-21780000': 0,\n",
       " 'chr13:21780000-21810000': 0,\n",
       " 'chr13:21810000-21840000': 0.5,\n",
       " 'chr13:21990000-22020000': 0,\n",
       " 'chr13:22020000-22050000': 0,\n",
       " 'chr13:22080000-22110000': 0,\n",
       " 'chr13:22110000-22140000': 0,\n",
       " 'chr13:22140000-22170000': 0.4,\n",
       " 'chr13:22260000-22290000': 0.2,\n",
       " 'chr13:22320000-22350000': 0.6,\n",
       " 'chr13:22350000-22380000': 1.0,\n",
       " 'chr13:22380000-22410000': 0.6666666666666666,\n",
       " 'chr13:22410000-22440000': 0,\n",
       " 'chr13:22440000-22470000': 0.6666666666666666,\n",
       " 'chr13:22500000-22530000': 0,\n",
       " 'chr13:22560000-22590000': 0,\n",
       " 'chr13:22590000-22620000': 0.3333333333333333,\n",
       " 'chr13:22620000-22650000': 0,\n",
       " 'chr13:22650000-22680000': 0.19230769230769232,\n",
       " 'chr13:22680000-22710000': 0,\n",
       " 'chr13:22710000-22740000': 1.0,\n",
       " 'chr13:22740000-22770000': 0.3,\n",
       " 'chr13:22770000-22800000': 1.0,\n",
       " 'chr13:22800000-22830000': 0.26666666666666666,\n",
       " 'chr13:22830000-22860000': 0.3333333333333333,\n",
       " 'chr13:22920000-22950000': 0.3333333333333333,\n",
       " 'chr13:22950000-22980000': 0.3333333333333333,\n",
       " 'chr13:23070000-23100000': 0,\n",
       " 'chr13:23100000-23130000': 0.25757575757575757,\n",
       " 'chr13:23130000-23160000': 0.2727272727272727,\n",
       " 'chr13:23160000-23190000': 0.6666666666666666,\n",
       " 'chr13:23190000-23220000': 1.0,\n",
       " 'chr13:23250000-23280000': 0,\n",
       " 'chr13:23280000-23310000': 0,\n",
       " 'chr13:23310000-23340000': 0.4,\n",
       " 'chr13:23370000-23400000': 0,\n",
       " 'chr13:23400000-23430000': 0,\n",
       " 'chr13:23460000-23490000': 0,\n",
       " 'chr13:23520000-23550000': 0.3333333333333333,\n",
       " 'chr13:23550000-23580000': 1.0,\n",
       " 'chr13:23580000-23610000': 0,\n",
       " 'chr13:23610000-23640000': 0.3333333333333333,\n",
       " 'chr13:23700000-23730000': 0,\n",
       " 'chr13:23820000-23850000': 0,\n",
       " 'chr13:23880000-23910000': 0.2222222222222222,\n",
       " 'chr13:23910000-23940000': 0.3333333333333333,\n",
       " 'chr13:23940000-23970000': 0,\n",
       " 'chr13:23970000-24000000': 0,\n",
       " 'chr13:24000000-24030000': 0.42857142857142855,\n",
       " 'chr13:24030000-24060000': 1.0,\n",
       " 'chr13:24060000-24090000': 0,\n",
       " 'chr13:24090000-24120000': 0.6,\n",
       " 'chr13:24150000-24180000': 1.0,\n",
       " 'chr13:24180000-24210000': 0,\n",
       " 'chr13:24210000-24240000': 0.1388888888888889,\n",
       " 'chr13:24240000-24270000': 0.2,\n",
       " 'chr13:24270000-24300000': 0,\n",
       " 'chr13:24360000-24390000': 0.3,\n",
       " 'chr13:24390000-24420000': 1.0,\n",
       " 'chr13:24540000-24570000': 0}"
      ]
     },
     "execution_count": 26,
     "metadata": {},
     "output_type": "execute_result"
    }
   ],
   "source": [
    "nx.clustering(G)"
   ]
  }
 ],
 "metadata": {
  "kernelspec": {
   "display_name": "Python 2",
   "language": "python",
   "name": "python2"
  },
  "language_info": {
   "codemirror_mode": {
    "name": "ipython",
    "version": 2
   },
   "file_extension": ".py",
   "mimetype": "text/x-python",
   "name": "python",
   "nbconvert_exporter": "python",
   "pygments_lexer": "ipython2",
   "version": "2.7.6"
  }
 },
 "nbformat": 4,
 "nbformat_minor": 2
}
