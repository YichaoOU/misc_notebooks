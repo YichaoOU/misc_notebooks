{
 "cells": [
  {
   "cell_type": "code",
   "execution_count": 1,
   "metadata": {},
   "outputs": [],
   "source": [
    "import numpy as np\n",
    "from scipy.stats import binom_test\n",
    "from scipy.stats import hypergeom\n",
    "from scipy.stats import bernoulli \n"
   ]
  },
  {
   "cell_type": "markdown",
   "metadata": {},
   "source": [
    "### Number of possible motif pairs can be very large. To reduce computing time, a filtering process is needed"
   ]
  },
  {
   "cell_type": "markdown",
   "metadata": {},
   "source": [
    "select a random 100 foreground interactions and 100 background interactions. Using 8 cores, tested on the OSC, the speed is 2.7M values per 1 minute. With 64K motif pairs and 200 interactions, the whole process can be finished within 5 minutes."
   ]
  },
  {
   "cell_type": "markdown",
   "metadata": {},
   "source": [
    "### filter based on foreground coverage"
   ]
  },
  {
   "cell_type": "markdown",
   "metadata": {},
   "source": [
    "### We hope final motif pairs have foreCov > 30%\n",
    "We don't need to inspect every MP on the total 30k foreground interactions, that's too slow. \n"
   ]
  },
  {
   "cell_type": "code",
   "execution_count": 28,
   "metadata": {},
   "outputs": [
    {
     "data": {
      "text/plain": [
       "0.999845875362735"
      ]
     },
     "execution_count": 28,
     "metadata": {},
     "output_type": "execute_result"
    }
   ],
   "source": [
    "hypergeom.sf(15-1, 30000, 9000, 100)"
   ]
  },
  {
   "cell_type": "markdown",
   "metadata": {},
   "source": [
    "The above formulation indicates that, we used a small fraction to filter motif pairs, one of the goal is to select MP foreCov >= 30%. Since we take a 100 small samples, if the orignal sample size is as large as 30k, using a threshold=10, we still have 0.999 chance that we kept the MP where its foreCOV > 30%.\n",
    "\n",
    "### We hope final motif pairs have foreCov - backCov > 10%"
   ]
  },
  {
   "cell_type": "code",
   "execution_count": 7,
   "metadata": {},
   "outputs": [],
   "source": [
    "def simulation(k,x,y):\n",
    "    P = np.random.binomial(1, x, k)\n",
    "    N = np.random.binomial(1, y, k)\n",
    "    P_cov = float(sum(P))/k\n",
    "    N_cov = float(sum(N))/k\n",
    "    return P_cov-N_cov"
   ]
  },
  {
   "cell_type": "code",
   "execution_count": 13,
   "metadata": {},
   "outputs": [
    {
     "data": {
      "text/plain": [
       "array([0, 1, 0, 0, 1, 1, 0, 0, 0, 0, 0, 0, 0, 0, 0, 0, 0, 1, 0, 0, 0, 0,\n",
       "       0, 0, 1, 1, 1, 0, 0, 0, 0, 0, 1, 0, 1, 0, 1, 0, 0, 0, 0, 0, 0, 0,\n",
       "       0, 0, 0, 0, 0, 0, 0, 1, 0, 1, 0, 1, 0, 0, 0, 0, 0, 1, 1, 1, 1, 0,\n",
       "       0, 0, 0, 0, 1, 0, 0, 0, 1, 1, 0, 1, 1, 0, 1, 1, 0, 1, 0, 0, 0, 0,\n",
       "       1, 0, 0, 1, 0, 0, 1, 0, 0, 0, 1, 0])"
      ]
     },
     "execution_count": 13,
     "metadata": {},
     "output_type": "execute_result"
    }
   ],
   "source": [
    "np.random.binomial(1, 0.3, 100)"
   ]
  },
  {
   "cell_type": "code",
   "execution_count": 9,
   "metadata": {},
   "outputs": [
    {
     "name": "stdout",
     "output_type": "stream",
     "text": [
      "0.061604307118541285\n"
     ]
    },
    {
     "data": {
      "text/plain": [
       "<matplotlib.axes._subplots.AxesSubplot at 0x23b80041588>"
      ]
     },
     "execution_count": 9,
     "metadata": {},
     "output_type": "execute_result"
    },
    {
     "data": {
      "image/png": "[encoded data removed]",
      "text/plain": [
       "<matplotlib.figure.Figure at 0x23bfd7f6630>"
      ]
     },
     "metadata": {},
     "output_type": "display_data"
    }
   ],
   "source": [
    "import matplotlib\n",
    "%matplotlib inline\n",
    "import seaborn as sns\n",
    "samples = list(map(lambda x:simulation(100,0.3,0.2),range(3000)))\n",
    "print (np.std(samples))\n",
    "sns.distplot(samples)"
   ]
  },
  {
   "cell_type": "code",
   "execution_count": 10,
   "metadata": {},
   "outputs": [],
   "source": [
    "from scipy.stats import norm "
   ]
  },
  {
   "cell_type": "markdown",
   "metadata": {},
   "source": [
    "### By the CLT, the diff value is normally distributed"
   ]
  },
  {
   "cell_type": "code",
   "execution_count": 24,
   "metadata": {},
   "outputs": [
    {
     "name": "stdout",
     "output_type": "stream",
     "text": [
      "0.3 0.1 0.19999999999999998 0.9999999856631749\n",
      "0.3 0.2 0.09999999999999998 0.9994754275057627\n",
      "0.3 0.3 0.0 0.9403402409114583\n",
      "0.3 0.4 -0.10000000000000003 0.5043035802364136\n",
      "0.3 0.5 -0.2 0.06920605186581552\n",
      "0.3 0.6 -0.3 0.0013718685929063998\n",
      "0.3 0.7 -0.39999999999999997 2.0914494650800905e-06\n",
      "0.3 0.8 -0.5 2.2835525141875867e-11\n",
      "0.3 0.9 -0.6000000000000001 1.8632300175805536e-20\n",
      "0.4 0.1 0.30000000000000004 0.9999999999987884\n",
      "0.4 0.2 0.2 0.999997897367799\n",
      "0.4 0.3 0.10000000000000003 0.998416373700431\n",
      "0.4 0.4 0.0 0.930750114870647\n",
      "0.4 0.5 -0.09999999999999998 0.5032093622781317\n",
      "0.4 0.6 -0.19999999999999996 0.07715773439541784\n",
      "0.4 0.7 -0.29999999999999993 0.001395809700858149\n",
      "0.4 0.8 -0.4 1.2300487886069512e-06\n",
      "0.4 0.9 -0.5 2.202238715385786e-12\n",
      "0.5 0.1 0.4 1.0\n",
      "0.5 0.2 0.3 0.9999999997680307\n",
      "0.5 0.3 0.2 0.9999943772010853\n",
      "0.5 0.4 0.09999999999999998 0.9977828337335161\n",
      "0.5 0.5 0.0 0.9180215423043754\n",
      "0.5 0.6 -0.09999999999999998 0.5110425263783788\n",
      "0.5 0.7 -0.19999999999999996 0.07479922186910519\n",
      "0.5 0.8 -0.30000000000000004 0.0009569632047127369\n",
      "0.5 0.9 -0.4 1.3128311387223547e-07\n",
      "0.6 0.1 0.5 1.0\n",
      "0.6 0.2 0.39999999999999997 0.9999999999999956\n",
      "0.6 0.3 0.3 0.9999999980154028\n",
      "0.6 0.4 0.19999999999999996 0.999992501692463\n",
      "0.6 0.5 0.09999999999999998 0.9981131419663459\n",
      "0.6 0.6 0.0 0.9272960921754823\n",
      "0.6 0.7 -0.09999999999999998 0.4973902324144201\n",
      "0.6 0.8 -0.20000000000000007 0.055423984607180024\n",
      "0.6 0.9 -0.30000000000000004 0.00029602609781027286\n",
      "0.7 0.1 0.6 1.0\n",
      "0.7 0.2 0.49999999999999994 1.0\n",
      "0.7 0.3 0.39999999999999997 0.9999999999999704\n",
      "0.7 0.4 0.29999999999999993 0.9999999958330265\n",
      "0.7 0.5 0.19999999999999996 0.9999951500443454\n",
      "0.7 0.6 0.09999999999999998 0.9980447013536499\n",
      "0.7 0.7 0.0 0.9388035913056665\n",
      "0.7 0.8 -0.10000000000000009 0.4949437272939273\n",
      "0.7 0.9 -0.20000000000000007 0.034489728001752616\n",
      "0.8 0.1 0.7000000000000001 1.0\n",
      "0.8 0.2 0.6000000000000001 1.0\n",
      "0.8 0.3 0.5 1.0\n",
      "0.8 0.4 0.4 0.9999999999999986\n",
      "0.8 0.5 0.30000000000000004 0.9999999998325906\n",
      "0.8 0.6 0.20000000000000007 0.999999392468611\n",
      "0.8 0.7 0.10000000000000009 0.9993120524554828\n",
      "0.8 0.8 0.0 0.959693324954778\n",
      "0.8 0.9 -0.09999999999999998 0.4950163623937629\n",
      "0.9 0.1 0.8 1.0\n",
      "0.9 0.2 0.7 1.0\n",
      "0.9 0.3 0.6000000000000001 1.0\n",
      "0.9 0.4 0.5 1.0\n",
      "0.9 0.5 0.4 1.0\n",
      "0.9 0.6 0.30000000000000004 0.9999999999965337\n",
      "0.9 0.7 0.20000000000000007 0.9999999754900427\n",
      "0.9 0.8 0.09999999999999998 0.9999774566156321\n",
      "0.9 0.9 0.0 0.9897704996647685\n"
     ]
    }
   ],
   "source": [
    "import pandas as pd\n",
    "result_list = []\n",
    "for x in [0.3,0.4,0.5,0.6,0.7,0.8,0.9]:\n",
    "    for y in [0.1,0.2,0.3,0.4,0.5,0.6,0.7,0.8,0.9]:\n",
    "        samples = list(map(lambda xx:simulation(100,x,y),range(3000)))\n",
    "        sf = norm(np.mean(samples),np.std(samples)).sf(-0.1)\n",
    "        diff = x-y\n",
    "        result_list.append([x,y,diff,sf])\n",
    "        print (x,y,diff,sf)"
   ]
  },
  {
   "cell_type": "code",
   "execution_count": 25,
   "metadata": {},
   "outputs": [],
   "source": [
    "df = pd.DataFrame(result_list)"
   ]
  },
  {
   "cell_type": "code",
   "execution_count": 26,
   "metadata": {},
   "outputs": [],
   "source": [
    "df.columns = ['x','y','diff','prob']"
   ]
  },
  {
   "cell_type": "code",
   "execution_count": 23,
   "metadata": {},
   "outputs": [
    {
     "data": {
      "text/plain": [
       "<matplotlib.axes._subplots.AxesSubplot at 0x23b821ee128>"
      ]
     },
     "execution_count": 23,
     "metadata": {},
     "output_type": "execute_result"
    },
    {
     "data": {
      "image/png": "[encoded data removed]",
      "text/plain": [
       "<matplotlib.figure.Figure at 0x23b82247048>"
      ]
     },
     "metadata": {},
     "output_type": "display_data"
    }
   ],
   "source": [
    "sns.regplot('diff','prob',df,fit_reg = False)"
   ]
  },
  {
   "cell_type": "code",
   "execution_count": 27,
   "metadata": {},
   "outputs": [
    {
     "data": {
      "text/plain": [
       "<matplotlib.axes._subplots.AxesSubplot at 0x23b82426128>"
      ]
     },
     "execution_count": 27,
     "metadata": {},
     "output_type": "execute_result"
    },
    {
     "data": {
      "image/png": "[encoded data removed]",
      "text/plain": [
       "<matplotlib.figure.Figure at 0x23b823d5780>"
      ]
     },
     "metadata": {},
     "output_type": "display_data"
    }
   ],
   "source": [
    "sns.regplot('diff','prob',df,fit_reg = False)"
   ]
  },
  {
   "cell_type": "code",
   "execution_count": 33,
   "metadata": {},
   "outputs": [
    {
     "data": {
      "text/plain": [
       "x       0.680000\n",
       "y       0.340000\n",
       "diff    0.340000\n",
       "prob    0.999746\n",
       "dtype: float64"
      ]
     },
     "execution_count": 33,
     "metadata": {},
     "output_type": "execute_result"
    }
   ],
   "source": [
    "df[df['diff']>0].mean()"
   ]
  },
  {
   "cell_type": "markdown",
   "metadata": {},
   "source": [
    "The above formulation indicates that, we used a small fraction to filter motif pairs, one of the goal is to select MP foreCov-backCov >= 10%. Since we take a 100 small samples for each fore and back, if we use a threshold -1, we still have 0.999 chance that we kept the MP where its diff > 10%."
   ]
  },
  {
   "cell_type": "code",
   "execution_count": null,
   "metadata": {},
   "outputs": [],
   "source": []
  }
 ],
 "metadata": {
  "kernelspec": {
   "display_name": "Python 3",
   "language": "python",
   "name": "python3"
  },
  "language_info": {
   "codemirror_mode": {
    "name": "ipython",
    "version": 3
   },
   "file_extension": ".py",
   "mimetype": "text/x-python",
   "name": "python",
   "nbconvert_exporter": "python",
   "pygments_lexer": "ipython3",
   "version": "3.6.4"
  }
 },
 "nbformat": 4,
 "nbformat_minor": 2
}
